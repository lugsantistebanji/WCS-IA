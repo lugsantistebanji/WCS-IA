{
  "cells": [
    {
      "cell_type": "markdown",
      "metadata": {
        "id": "view-in-github",
        "colab_type": "text"
      },
      "source": [
        "<a href=\"https://colab.research.google.com/github/lugsantistebanji/WCS-IA/blob/main/WCS_IA_Quetes_Python_Modules.ipynb\" target=\"_parent\"><img src=\"https://colab.research.google.com/assets/colab-badge.svg\" alt=\"Open In Colab\"/></a>"
      ]
    },
    {
      "cell_type": "markdown",
      "source": [
        "# Partie 1 : Création du module, développement des fonctions, importation et tests du module."
      ],
      "metadata": {
        "id": "ojRTTTo5KcUO"
      },
      "id": "ojRTTTo5KcUO"
    },
    {
      "cell_type": "markdown",
      "source": [
        "## Étape 1 : Créez votre module `data_utils.py`\n",
        "\n",
        "1.   Créez un fichier data_utils.py sur votre ordinateur en utilisant un éditeur de texte (comme Notepad, VS Code, ou autre). **C'est tout à fait possible aussi en utilisant Google collab, en mettant tout votre code dans une cellule de code et en le téléchargant avec l'extension `.py`.**\n",
        "\n",
        "2.   Dans ce fichier, ajoutez les variables et fonctions suivantes :\n",
        "- Variables : `PI`, `E` (nombre d'Euler)\n",
        "- Fonctions : `carre(x)`, `cube(x)`, `factorielle(n)`, `valeur_absolue(x)`, `maximum(liste)`, `minimum(liste)`, `moyenne(liste)`, `ecart_type(liste)`, `mediane(liste)`\n",
        "\n",
        "3. Enregistrez le fichier et assurez-vous qu'il est bien nommé data_utils.py."
      ],
      "metadata": {
        "id": "e1x1tQSLK-vG"
      },
      "id": "e1x1tQSLK-vG"
    },
    {
      "cell_type": "markdown",
      "source": [
        "[DOWNLOAD -> data_utils.py](https://colab.research.google.com/drive/17w5dboT-AY29PZLDFSEH4dt4pqR3pDnF?usp=sharing)"
      ],
      "metadata": {
        "id": "UEa7gHmiRjUh"
      },
      "id": "UEa7gHmiRjUh"
    },
    {
      "cell_type": "markdown",
      "source": [
        "## Étape 2 : Importez votre module sur Google Colab\n",
        "Ouvrez un nouveau notebook Google Colab.\n",
        "\n",
        "Téléversez votre fichier `data_utils.py` dans le notebook en utilisant l'option \"Importer un fichier\" dans Colab ou en utilisant les lignes de code suivantes :"
      ],
      "metadata": {
        "id": "I3FsIh2oIkdz"
      },
      "id": "I3FsIh2oIkdz"
    },
    {
      "cell_type": "code",
      "source": [
        "from google.colab import files\n",
        "files.upload()"
      ],
      "metadata": {
        "id": "bOLnOccgJOKW",
        "colab": {
          "base_uri": "https://localhost:8080/",
          "height": 255
        },
        "outputId": "1cd28c7d-b456-48e6-e5f9-fad30a12d5ef"
      },
      "id": "bOLnOccgJOKW",
      "execution_count": null,
      "outputs": [
        {
          "output_type": "display_data",
          "data": {
            "text/plain": [
              "<IPython.core.display.HTML object>"
            ],
            "text/html": [
              "\n",
              "     <input type=\"file\" id=\"files-cab8ecf9-477c-4bfe-94c6-a9759ff807e6\" name=\"files[]\" multiple disabled\n",
              "        style=\"border:none\" />\n",
              "     <output id=\"result-cab8ecf9-477c-4bfe-94c6-a9759ff807e6\">\n",
              "      Upload widget is only available when the cell has been executed in the\n",
              "      current browser session. Please rerun this cell to enable.\n",
              "      </output>\n",
              "      <script>// Copyright 2017 Google LLC\n",
              "//\n",
              "// Licensed under the Apache License, Version 2.0 (the \"License\");\n",
              "// you may not use this file except in compliance with the License.\n",
              "// You may obtain a copy of the License at\n",
              "//\n",
              "//      http://www.apache.org/licenses/LICENSE-2.0\n",
              "//\n",
              "// Unless required by applicable law or agreed to in writing, software\n",
              "// distributed under the License is distributed on an \"AS IS\" BASIS,\n",
              "// WITHOUT WARRANTIES OR CONDITIONS OF ANY KIND, either express or implied.\n",
              "// See the License for the specific language governing permissions and\n",
              "// limitations under the License.\n",
              "\n",
              "/**\n",
              " * @fileoverview Helpers for google.colab Python module.\n",
              " */\n",
              "(function(scope) {\n",
              "function span(text, styleAttributes = {}) {\n",
              "  const element = document.createElement('span');\n",
              "  element.textContent = text;\n",
              "  for (const key of Object.keys(styleAttributes)) {\n",
              "    element.style[key] = styleAttributes[key];\n",
              "  }\n",
              "  return element;\n",
              "}\n",
              "\n",
              "// Max number of bytes which will be uploaded at a time.\n",
              "const MAX_PAYLOAD_SIZE = 100 * 1024;\n",
              "\n",
              "function _uploadFiles(inputId, outputId) {\n",
              "  const steps = uploadFilesStep(inputId, outputId);\n",
              "  const outputElement = document.getElementById(outputId);\n",
              "  // Cache steps on the outputElement to make it available for the next call\n",
              "  // to uploadFilesContinue from Python.\n",
              "  outputElement.steps = steps;\n",
              "\n",
              "  return _uploadFilesContinue(outputId);\n",
              "}\n",
              "\n",
              "// This is roughly an async generator (not supported in the browser yet),\n",
              "// where there are multiple asynchronous steps and the Python side is going\n",
              "// to poll for completion of each step.\n",
              "// This uses a Promise to block the python side on completion of each step,\n",
              "// then passes the result of the previous step as the input to the next step.\n",
              "function _uploadFilesContinue(outputId) {\n",
              "  const outputElement = document.getElementById(outputId);\n",
              "  const steps = outputElement.steps;\n",
              "\n",
              "  const next = steps.next(outputElement.lastPromiseValue);\n",
              "  return Promise.resolve(next.value.promise).then((value) => {\n",
              "    // Cache the last promise value to make it available to the next\n",
              "    // step of the generator.\n",
              "    outputElement.lastPromiseValue = value;\n",
              "    return next.value.response;\n",
              "  });\n",
              "}\n",
              "\n",
              "/**\n",
              " * Generator function which is called between each async step of the upload\n",
              " * process.\n",
              " * @param {string} inputId Element ID of the input file picker element.\n",
              " * @param {string} outputId Element ID of the output display.\n",
              " * @return {!Iterable<!Object>} Iterable of next steps.\n",
              " */\n",
              "function* uploadFilesStep(inputId, outputId) {\n",
              "  const inputElement = document.getElementById(inputId);\n",
              "  inputElement.disabled = false;\n",
              "\n",
              "  const outputElement = document.getElementById(outputId);\n",
              "  outputElement.innerHTML = '';\n",
              "\n",
              "  const pickedPromise = new Promise((resolve) => {\n",
              "    inputElement.addEventListener('change', (e) => {\n",
              "      resolve(e.target.files);\n",
              "    });\n",
              "  });\n",
              "\n",
              "  const cancel = document.createElement('button');\n",
              "  inputElement.parentElement.appendChild(cancel);\n",
              "  cancel.textContent = 'Cancel upload';\n",
              "  const cancelPromise = new Promise((resolve) => {\n",
              "    cancel.onclick = () => {\n",
              "      resolve(null);\n",
              "    };\n",
              "  });\n",
              "\n",
              "  // Wait for the user to pick the files.\n",
              "  const files = yield {\n",
              "    promise: Promise.race([pickedPromise, cancelPromise]),\n",
              "    response: {\n",
              "      action: 'starting',\n",
              "    }\n",
              "  };\n",
              "\n",
              "  cancel.remove();\n",
              "\n",
              "  // Disable the input element since further picks are not allowed.\n",
              "  inputElement.disabled = true;\n",
              "\n",
              "  if (!files) {\n",
              "    return {\n",
              "      response: {\n",
              "        action: 'complete',\n",
              "      }\n",
              "    };\n",
              "  }\n",
              "\n",
              "  for (const file of files) {\n",
              "    const li = document.createElement('li');\n",
              "    li.append(span(file.name, {fontWeight: 'bold'}));\n",
              "    li.append(span(\n",
              "        `(${file.type || 'n/a'}) - ${file.size} bytes, ` +\n",
              "        `last modified: ${\n",
              "            file.lastModifiedDate ? file.lastModifiedDate.toLocaleDateString() :\n",
              "                                    'n/a'} - `));\n",
              "    const percent = span('0% done');\n",
              "    li.appendChild(percent);\n",
              "\n",
              "    outputElement.appendChild(li);\n",
              "\n",
              "    const fileDataPromise = new Promise((resolve) => {\n",
              "      const reader = new FileReader();\n",
              "      reader.onload = (e) => {\n",
              "        resolve(e.target.result);\n",
              "      };\n",
              "      reader.readAsArrayBuffer(file);\n",
              "    });\n",
              "    // Wait for the data to be ready.\n",
              "    let fileData = yield {\n",
              "      promise: fileDataPromise,\n",
              "      response: {\n",
              "        action: 'continue',\n",
              "      }\n",
              "    };\n",
              "\n",
              "    // Use a chunked sending to avoid message size limits. See b/62115660.\n",
              "    let position = 0;\n",
              "    do {\n",
              "      const length = Math.min(fileData.byteLength - position, MAX_PAYLOAD_SIZE);\n",
              "      const chunk = new Uint8Array(fileData, position, length);\n",
              "      position += length;\n",
              "\n",
              "      const base64 = btoa(String.fromCharCode.apply(null, chunk));\n",
              "      yield {\n",
              "        response: {\n",
              "          action: 'append',\n",
              "          file: file.name,\n",
              "          data: base64,\n",
              "        },\n",
              "      };\n",
              "\n",
              "      let percentDone = fileData.byteLength === 0 ?\n",
              "          100 :\n",
              "          Math.round((position / fileData.byteLength) * 100);\n",
              "      percent.textContent = `${percentDone}% done`;\n",
              "\n",
              "    } while (position < fileData.byteLength);\n",
              "  }\n",
              "\n",
              "  // All done.\n",
              "  yield {\n",
              "    response: {\n",
              "      action: 'complete',\n",
              "    }\n",
              "  };\n",
              "}\n",
              "\n",
              "scope.google = scope.google || {};\n",
              "scope.google.colab = scope.google.colab || {};\n",
              "scope.google.colab._files = {\n",
              "  _uploadFiles,\n",
              "  _uploadFilesContinue,\n",
              "};\n",
              "})(self);\n",
              "</script> "
            ]
          },
          "metadata": {}
        },
        {
          "output_type": "stream",
          "name": "stdout",
          "text": [
            "Saving data_utils.py to data_utils (1).py\n"
          ]
        },
        {
          "output_type": "execute_result",
          "data": {
            "text/plain": [
              "{'data_utils (1).py': b'# -*- coding: utf-8 -*-\\n\"\"\"data_utils.py\\n\\nAutomatically generated by Colab.\\n\\nOriginal file is located at\\n    https://colab.research.google.com/drive/1snOJcmXXQvaSugoLSWUU1bZ_ZwyBXhyv\\n\"\"\"\\n\\nimport math\\nimport statistics\\n\\n\\nPI = math.pi\\nE = math.e\\n\\n\\ndef carre(x: float) -> float:\\n    return math.pow(x, 2)\\n\\n\\ndef cube(x: float) -> float:\\n    return math.pow(x, 3)\\n\\n\\ndef factorielle(n: int) -> int:\\n    return math.factorial(n)\\n\\n\\ndef valeur_absolue(x: float) -> float:\\n    return abs(x)\\n\\n\\ndef maximum(liste: list) -> float:\\n    return max(liste)\\n\\n\\ndef minimum(liste: list) -> float:\\n    return min(liste)\\n\\n\\ndef moyenne(liste: list) -> float:\\n    return statistics.mean(liste)\\n\\n\\ndef ecart_type(liste: list) -> float:\\n    return statistics.stdev()\\n\\n\\ndef mediane(liste: list) -> float:\\n    return statistics.median()'}"
            ]
          },
          "metadata": {},
          "execution_count": 4
        }
      ]
    },
    {
      "cell_type": "markdown",
      "source": [
        "Importez les fonctions dans le module en utilisant la ligne de code :"
      ],
      "metadata": {
        "id": "_ch-S1EjJR9w"
      },
      "id": "_ch-S1EjJR9w"
    },
    {
      "cell_type": "code",
      "source": [
        "from data_utils import *"
      ],
      "metadata": {
        "id": "lV0vnVYFJ6WP"
      },
      "id": "lV0vnVYFJ6WP",
      "execution_count": null,
      "outputs": []
    },
    {
      "cell_type": "markdown",
      "source": [
        "## Étape 3 : Testez les fonctions de votre module"
      ],
      "metadata": {
        "id": "vFCY6mbDJvwS"
      },
      "id": "vFCY6mbDJvwS"
    },
    {
      "cell_type": "markdown",
      "id": "3804e91f",
      "metadata": {
        "id": "3804e91f"
      },
      "source": [
        "### Test des fonctions basiques du module:\n",
        "\n",
        "Utilisez les fonctions existantes de votre module pour calculer :\n",
        "\n",
        "(carré de 42) + (3 au cube) + (factorielle de 5) / (valeur absolue de -15) - (maximum d'une liste) * (minimum d'une liste) où la liste est [10, 5, 8, 12, 3, 7]."
      ]
    },
    {
      "cell_type": "code",
      "source": [
        "from data_utils import *\n",
        "\n",
        "\n",
        "print(\"Carre : \", carre(42))\n",
        "print(\"Cube : \", cube(3))\n",
        "print(\"Factorielle : \", factorielle(5))\n",
        "print(\"Valeur absoule : \", valeur_absolue(-15))\n",
        "print(\"Maximum d'une liste : \", maximum([10, 5, 8, 12, 3, 7]))\n",
        "print(\"Minimum d'une liste : \", minimum([10, 5, 8, 12, 3, 7]))\n",
        "\n",
        "liste = [10, 5, 8, 12, 3, 7]\n",
        "result = carre(42) + cube(3) + factorielle(5)/valeur_absolue(-15) - maximum(liste) * minimum(liste)\n",
        "\n",
        "print(\"\\n(carré de 42) + (3 au cube) + (factorielle de 5) / (valeur absolue de -15) - (maximum d'une liste) * (minimum d'une liste) où la liste est [10, 5, 8, 12, 3, 7] = \", result)\n"
      ],
      "metadata": {
        "id": "NeO3jaLUKGZM",
        "colab": {
          "base_uri": "https://localhost:8080/"
        },
        "outputId": "944c1914-c3ac-416c-a45d-e36b56170d88"
      },
      "id": "NeO3jaLUKGZM",
      "execution_count": null,
      "outputs": [
        {
          "output_type": "stream",
          "name": "stdout",
          "text": [
            "Carre :  1764.0\n",
            "Cube :  27.0\n",
            "Factorielle :  120\n",
            "Valeur absoule :  15\n",
            "Maximum d'une liste :  12\n",
            "Minimum d'une liste :  3\n",
            "\n",
            "(carré de 42) + (3 au cube) + (factorielle de 5) / (valeur absolue de -15) - (maximum d'une liste) * (minimum d'une liste) où la liste est [10, 5, 8, 12, 3, 7] =  1763.0\n"
          ]
        }
      ]
    },
    {
      "cell_type": "markdown",
      "source": [
        "\n",
        "\n",
        "---\n",
        "\n",
        "\n",
        "\n",
        "---\n",
        "\n"
      ],
      "metadata": {
        "id": "NV5jaSF5QswM"
      },
      "id": "NV5jaSF5QswM"
    },
    {
      "cell_type": "markdown",
      "source": [
        "# Partie 2 : Création d'un nouveau module, développement des fonctions et test de tâches demandées"
      ],
      "metadata": {
        "id": "yzzTjW8WKp5K"
      },
      "id": "yzzTjW8WKp5K"
    },
    {
      "cell_type": "markdown",
      "source": [
        "#### Pour chaque nouvelle fonction que vous créez, assurez-vous de l'ajouter à votre module `data_utils.py` et de la documenter avec un docstring expliquant son fonctionnement, ses paramètres et sa valeur de retour.\n",
        "\n",
        "\n"
      ],
      "metadata": {
        "id": "Ub0Y-ym6MRyN"
      },
      "id": "Ub0Y-ym6MRyN"
    },
    {
      "cell_type": "markdown",
      "source": [
        "## Etape 1 : Refaites le process qu'on a vu ensemble dans les quêtes et au début du challenge pour créer une nouvelle version du module `data_utils_V2.py` en rajoutant de nouvelles fonctions.\n",
        "\n",
        "\n",
        "*   Création du fichier `data_utils_V2.py`\n",
        "*   Ajout et développement de nouvelles fonctions :\n",
        "  * `somme_cumulee(liste)`: calcule la somme cumulée d'une liste et retourne une liste. Par exemple, pour la liste [1, 2, 3, 4], la somme cumulée serait [1, 3, 6, 10].\n",
        "\n",
        "  * `compter_occurrences(liste)`: retourne un dictionnaire contenant le nombre d'occurrences de chaque élément de la liste. Par exemple, pour la liste [1, 2, 2, 3], le résultat serait {1: 1, 2: 2, 3: 1}.\n",
        "  \n",
        "  * `inverser_dict(dictionnaire)`: inverse les clés et les valeurs d'un dictionnaire. Par exemple, pour le dictionnaire {'a': 1, 'b': 2}, le résultat serait {1: 'a', 2: 'b'}.\n",
        "\n",
        "  * `filtrer_pairs(liste)`: retourne une nouvelle liste contenant uniquement les nombres pairs de la liste d'entrée. Par exemple, pour la liste [1, 2, 3, 4], le résultat serait [2, 4].\n",
        "\n",
        "  * `celsius_to_fahrenheit(celsius)`: convertit une température de Celsius en Fahrenheit et retourne un nombre. Par exemple, pour une température de 0°C, le résultat serait 32°F. *Rappel : la formule est F = (C * 9/5) + 32*\n",
        "\n",
        "  * `trouver_doublons(liste)`: retourne une liste des éléments qui apparaissent plus d'une fois dans la liste d'entrée. Par exemple, pour la liste [1, 2, 2, 3, 3], le résultat serait [2, 3].\n",
        "\n",
        "  * `calculer_moyenne_ponderee(valeurs, poids)`: calcule la moyenne pondérée d'une liste de valeurs avec une liste de poids correspondante et retourne un nombre. Par exemple, pour les valeurs [3, 5] et les poids [1, 2], le résultat serait 4.33.\n",
        "\n",
        "\n",
        "\n"
      ],
      "metadata": {
        "id": "wkXeYntgLwsF"
      },
      "id": "wkXeYntgLwsF"
    },
    {
      "cell_type": "markdown",
      "source": [
        "## Étape 2 : Importez le module et testez les fonctions de votre module"
      ],
      "metadata": {
        "id": "Xo_GcVvcPXCc"
      },
      "id": "Xo_GcVvcPXCc"
    },
    {
      "cell_type": "markdown",
      "source": [
        "[DOWNLOAD -> data_utils_v2.py](https://colab.research.google.com/drive/17w5dboT-AY29PZLDFSEH4dt4pqR3pDnF?usp=sharing)"
      ],
      "metadata": {
        "id": "NL3acDD_RNI5"
      },
      "id": "NL3acDD_RNI5"
    },
    {
      "cell_type": "code",
      "source": [
        "from google.colab import files\n",
        "files.upload()"
      ],
      "metadata": {
        "colab": {
          "base_uri": "https://localhost:8080/",
          "height": 451
        },
        "id": "sM80lkpvIG8b",
        "outputId": "071ea39c-9894-4831-aa19-8faa9ce6ad12"
      },
      "id": "sM80lkpvIG8b",
      "execution_count": 1,
      "outputs": [
        {
          "output_type": "display_data",
          "data": {
            "text/plain": [
              "<IPython.core.display.HTML object>"
            ],
            "text/html": [
              "\n",
              "     <input type=\"file\" id=\"files-a414b17a-cfc4-4e12-bda2-41ae1255257b\" name=\"files[]\" multiple disabled\n",
              "        style=\"border:none\" />\n",
              "     <output id=\"result-a414b17a-cfc4-4e12-bda2-41ae1255257b\">\n",
              "      Upload widget is only available when the cell has been executed in the\n",
              "      current browser session. Please rerun this cell to enable.\n",
              "      </output>\n",
              "      <script>// Copyright 2017 Google LLC\n",
              "//\n",
              "// Licensed under the Apache License, Version 2.0 (the \"License\");\n",
              "// you may not use this file except in compliance with the License.\n",
              "// You may obtain a copy of the License at\n",
              "//\n",
              "//      http://www.apache.org/licenses/LICENSE-2.0\n",
              "//\n",
              "// Unless required by applicable law or agreed to in writing, software\n",
              "// distributed under the License is distributed on an \"AS IS\" BASIS,\n",
              "// WITHOUT WARRANTIES OR CONDITIONS OF ANY KIND, either express or implied.\n",
              "// See the License for the specific language governing permissions and\n",
              "// limitations under the License.\n",
              "\n",
              "/**\n",
              " * @fileoverview Helpers for google.colab Python module.\n",
              " */\n",
              "(function(scope) {\n",
              "function span(text, styleAttributes = {}) {\n",
              "  const element = document.createElement('span');\n",
              "  element.textContent = text;\n",
              "  for (const key of Object.keys(styleAttributes)) {\n",
              "    element.style[key] = styleAttributes[key];\n",
              "  }\n",
              "  return element;\n",
              "}\n",
              "\n",
              "// Max number of bytes which will be uploaded at a time.\n",
              "const MAX_PAYLOAD_SIZE = 100 * 1024;\n",
              "\n",
              "function _uploadFiles(inputId, outputId) {\n",
              "  const steps = uploadFilesStep(inputId, outputId);\n",
              "  const outputElement = document.getElementById(outputId);\n",
              "  // Cache steps on the outputElement to make it available for the next call\n",
              "  // to uploadFilesContinue from Python.\n",
              "  outputElement.steps = steps;\n",
              "\n",
              "  return _uploadFilesContinue(outputId);\n",
              "}\n",
              "\n",
              "// This is roughly an async generator (not supported in the browser yet),\n",
              "// where there are multiple asynchronous steps and the Python side is going\n",
              "// to poll for completion of each step.\n",
              "// This uses a Promise to block the python side on completion of each step,\n",
              "// then passes the result of the previous step as the input to the next step.\n",
              "function _uploadFilesContinue(outputId) {\n",
              "  const outputElement = document.getElementById(outputId);\n",
              "  const steps = outputElement.steps;\n",
              "\n",
              "  const next = steps.next(outputElement.lastPromiseValue);\n",
              "  return Promise.resolve(next.value.promise).then((value) => {\n",
              "    // Cache the last promise value to make it available to the next\n",
              "    // step of the generator.\n",
              "    outputElement.lastPromiseValue = value;\n",
              "    return next.value.response;\n",
              "  });\n",
              "}\n",
              "\n",
              "/**\n",
              " * Generator function which is called between each async step of the upload\n",
              " * process.\n",
              " * @param {string} inputId Element ID of the input file picker element.\n",
              " * @param {string} outputId Element ID of the output display.\n",
              " * @return {!Iterable<!Object>} Iterable of next steps.\n",
              " */\n",
              "function* uploadFilesStep(inputId, outputId) {\n",
              "  const inputElement = document.getElementById(inputId);\n",
              "  inputElement.disabled = false;\n",
              "\n",
              "  const outputElement = document.getElementById(outputId);\n",
              "  outputElement.innerHTML = '';\n",
              "\n",
              "  const pickedPromise = new Promise((resolve) => {\n",
              "    inputElement.addEventListener('change', (e) => {\n",
              "      resolve(e.target.files);\n",
              "    });\n",
              "  });\n",
              "\n",
              "  const cancel = document.createElement('button');\n",
              "  inputElement.parentElement.appendChild(cancel);\n",
              "  cancel.textContent = 'Cancel upload';\n",
              "  const cancelPromise = new Promise((resolve) => {\n",
              "    cancel.onclick = () => {\n",
              "      resolve(null);\n",
              "    };\n",
              "  });\n",
              "\n",
              "  // Wait for the user to pick the files.\n",
              "  const files = yield {\n",
              "    promise: Promise.race([pickedPromise, cancelPromise]),\n",
              "    response: {\n",
              "      action: 'starting',\n",
              "    }\n",
              "  };\n",
              "\n",
              "  cancel.remove();\n",
              "\n",
              "  // Disable the input element since further picks are not allowed.\n",
              "  inputElement.disabled = true;\n",
              "\n",
              "  if (!files) {\n",
              "    return {\n",
              "      response: {\n",
              "        action: 'complete',\n",
              "      }\n",
              "    };\n",
              "  }\n",
              "\n",
              "  for (const file of files) {\n",
              "    const li = document.createElement('li');\n",
              "    li.append(span(file.name, {fontWeight: 'bold'}));\n",
              "    li.append(span(\n",
              "        `(${file.type || 'n/a'}) - ${file.size} bytes, ` +\n",
              "        `last modified: ${\n",
              "            file.lastModifiedDate ? file.lastModifiedDate.toLocaleDateString() :\n",
              "                                    'n/a'} - `));\n",
              "    const percent = span('0% done');\n",
              "    li.appendChild(percent);\n",
              "\n",
              "    outputElement.appendChild(li);\n",
              "\n",
              "    const fileDataPromise = new Promise((resolve) => {\n",
              "      const reader = new FileReader();\n",
              "      reader.onload = (e) => {\n",
              "        resolve(e.target.result);\n",
              "      };\n",
              "      reader.readAsArrayBuffer(file);\n",
              "    });\n",
              "    // Wait for the data to be ready.\n",
              "    let fileData = yield {\n",
              "      promise: fileDataPromise,\n",
              "      response: {\n",
              "        action: 'continue',\n",
              "      }\n",
              "    };\n",
              "\n",
              "    // Use a chunked sending to avoid message size limits. See b/62115660.\n",
              "    let position = 0;\n",
              "    do {\n",
              "      const length = Math.min(fileData.byteLength - position, MAX_PAYLOAD_SIZE);\n",
              "      const chunk = new Uint8Array(fileData, position, length);\n",
              "      position += length;\n",
              "\n",
              "      const base64 = btoa(String.fromCharCode.apply(null, chunk));\n",
              "      yield {\n",
              "        response: {\n",
              "          action: 'append',\n",
              "          file: file.name,\n",
              "          data: base64,\n",
              "        },\n",
              "      };\n",
              "\n",
              "      let percentDone = fileData.byteLength === 0 ?\n",
              "          100 :\n",
              "          Math.round((position / fileData.byteLength) * 100);\n",
              "      percent.textContent = `${percentDone}% done`;\n",
              "\n",
              "    } while (position < fileData.byteLength);\n",
              "  }\n",
              "\n",
              "  // All done.\n",
              "  yield {\n",
              "    response: {\n",
              "      action: 'complete',\n",
              "    }\n",
              "  };\n",
              "}\n",
              "\n",
              "scope.google = scope.google || {};\n",
              "scope.google.colab = scope.google.colab || {};\n",
              "scope.google.colab._files = {\n",
              "  _uploadFiles,\n",
              "  _uploadFilesContinue,\n",
              "};\n",
              "})(self);\n",
              "</script> "
            ]
          },
          "metadata": {}
        },
        {
          "output_type": "stream",
          "name": "stdout",
          "text": [
            "Saving data_utils_v2.py to data_utils_v2.py\n"
          ]
        },
        {
          "output_type": "execute_result",
          "data": {
            "text/plain": [
              "{'data_utils_v2.py': b'# -*- coding: utf-8 -*-\\n\"\"\"data_utils_V2.py\\n\\nAutomatically generated by Colab.\\n\\nOriginal file is located at\\n    https://colab.research.google.com/drive/17w5dboT-AY29PZLDFSEH4dt4pqR3pDnF\\n\"\"\"\\n\\nimport math\\nimport statistics\\n\\n\\nPI = math.pi\\nE = math.e\\n\\n\\ndef carre(x: float) -> float:\\n    return math.pow(x, 2)\\n\\n\\ndef cube(x: float) -> float:\\n    return math.pow(x, 3)\\n\\n\\ndef factorielle(n: int) -> int:\\n    return math.factorial(n)\\n\\n\\ndef valeur_absolue(x: float) -> float:\\n    return abs(x)\\n\\n\\ndef maximum(liste: list) -> float:\\n    return max(liste)\\n\\n\\ndef minimum(liste: list) -> float:\\n    return min(liste)\\n\\n\\ndef moyenne(liste: list) -> float:\\n    return statistics.mean(liste)\\n\\n\\ndef ecart_type(liste: list) -> float:\\n    return statistics.stdev()\\n\\n\\ndef mediane(liste: list) -> float:\\n    return statistics.median()\\n\\n\\ndef somme_cumulee(liste: list) -> list:\\n    return [sum(liste[:i+1]) for i in range(len(liste))]\\n\\n\\ndef compter_ocurrences(liste: list) -> dict:\\n    return {element:liste.count(element) for  element in set(liste)}\\n\\n\\ndef inverser_dict(dictionnaire: dict) -> dict:\\n    new_dict = {}\\n    for key, value in dictionnaire.items():\\n        if value not in new_dict.keys():\\n            new_dict[value] = key\\n        else:\\n            print(f\"The \\'key:value\\' = \\'{key}:{value}\\' cannot inverser because there exist an other \\'key:value\\' with the same \\'value\\'={value}\")\\n    return new_dict\\n\\n\\ndef filtrer_pairs(liste: list) -> list:\\n    return [x for x in liste if not x % 2]\\n\\n\\ndef celsius_to_fahrenheit(celsius: float) -> float:\\n    return (celsius * 9/5) + 32\\n\\n\\ndef trouver_doublons(liste: list) -> list:\\n    return [x for x in set(liste) if liste.count(x) > 1]\\n\\n\\ndef calculer_moyenne_ponderee(valeurs: list, poids: list) -> float:\\n    return round(sum(x*y for x, y in zip(valeurs, poids))/sum(poids), 2)'}"
            ]
          },
          "metadata": {},
          "execution_count": 1
        }
      ]
    },
    {
      "cell_type": "code",
      "source": [
        "from data_utils_v2 import *"
      ],
      "metadata": {
        "id": "LtwB9XwSITX6"
      },
      "id": "LtwB9XwSITX6",
      "execution_count": 2,
      "outputs": []
    },
    {
      "cell_type": "markdown",
      "id": "e303fbd6",
      "metadata": {
        "id": "e303fbd6"
      },
      "source": [
        "### Tâche 1: Test de la fonction `somme_cumulee(liste)`\n",
        "\n",
        "Testez cette fonction avec la liste [5, 10, 15, 20, 25]."
      ]
    },
    {
      "cell_type": "code",
      "execution_count": 3,
      "id": "9b1b8d62",
      "metadata": {
        "id": "9b1b8d62",
        "colab": {
          "base_uri": "https://localhost:8080/"
        },
        "outputId": "fe104980-d317-4000-a0d1-5fc9715e9ff8"
      },
      "outputs": [
        {
          "output_type": "execute_result",
          "data": {
            "text/plain": [
              "[5, 15, 30, 50, 75]"
            ]
          },
          "metadata": {},
          "execution_count": 3
        }
      ],
      "source": [
        "liste = [5, 10, 15, 20, 25]\n",
        "somme_cumulee(liste)"
      ]
    },
    {
      "cell_type": "markdown",
      "id": "8370062d",
      "metadata": {
        "id": "8370062d"
      },
      "source": [
        "### Tâche 2: Test de la fonction `compter_occurrences(liste)\n",
        "\n",
        "Testez cette fonction avec la liste ['a', 'b', 'a', 'c', 'b', 'a', 'd']."
      ]
    },
    {
      "cell_type": "code",
      "execution_count": 4,
      "id": "6b4a74bd",
      "metadata": {
        "id": "6b4a74bd",
        "colab": {
          "base_uri": "https://localhost:8080/"
        },
        "outputId": "5fa9894d-79d1-49c4-b1b1-84540f3ff99d"
      },
      "outputs": [
        {
          "output_type": "execute_result",
          "data": {
            "text/plain": [
              "{'b': 2, 'd': 1, 'c': 1, 'a': 3}"
            ]
          },
          "metadata": {},
          "execution_count": 4
        }
      ],
      "source": [
        "liste = ['a', 'b', 'a', 'c', 'b', 'a', 'd']\n",
        "compter_ocurrences(liste)"
      ]
    },
    {
      "cell_type": "markdown",
      "id": "a0faf5d0",
      "metadata": {
        "id": "a0faf5d0"
      },
      "source": [
        "### Tâche 4: Test de la fonction `inverser_dict(dictionnaire)`\n",
        "\n",
        " Testez cette fonction avec le dictionnaire {'a': 1, 'b': 2, 'c': 3}."
      ]
    },
    {
      "cell_type": "code",
      "execution_count": 5,
      "id": "3ef8df19",
      "metadata": {
        "id": "3ef8df19",
        "colab": {
          "base_uri": "https://localhost:8080/"
        },
        "outputId": "3a7deb0a-b524-4afd-8446-45f4b1ac062b"
      },
      "outputs": [
        {
          "output_type": "execute_result",
          "data": {
            "text/plain": [
              "{1: 'a', 2: 'b', 3: 'c'}"
            ]
          },
          "metadata": {},
          "execution_count": 5
        }
      ],
      "source": [
        "dictionnaire = {'a': 1, 'b': 2, 'c': 3}\n",
        "inverser_dict(dictionnaire)"
      ]
    },
    {
      "cell_type": "markdown",
      "id": "1248f3ee",
      "metadata": {
        "id": "1248f3ee"
      },
      "source": [
        "### Tâche 5: Test de la fonction `filtrer_pairs(liste)`\n",
        "\n",
        "Testez cette fonction avec la liste [1, 2, 3, 4, 5, 6, 7, 8, 9, 10]."
      ]
    },
    {
      "cell_type": "code",
      "execution_count": 7,
      "id": "97a77bba",
      "metadata": {
        "id": "97a77bba",
        "colab": {
          "base_uri": "https://localhost:8080/"
        },
        "outputId": "6daee33d-3aff-4963-cdf9-9c632570a0eb"
      },
      "outputs": [
        {
          "output_type": "execute_result",
          "data": {
            "text/plain": [
              "[2, 4, 6, 8, 10]"
            ]
          },
          "metadata": {},
          "execution_count": 7
        }
      ],
      "source": [
        "liste = [1, 2, 3, 4, 5, 6, 7, 8, 9, 10]\n",
        "filtrer_pairs(liste)"
      ]
    },
    {
      "cell_type": "markdown",
      "id": "1a4f448e",
      "metadata": {
        "id": "1a4f448e"
      },
      "source": [
        "### Tâche 6: Test de la fonction `celsius_to_fahrenheit(celsius)`\n",
        "\n",
        "Utilisez cette fonction pour convertir les températures suivantes : 0°C, 20°C, 37°C, 100°C."
      ]
    },
    {
      "cell_type": "code",
      "execution_count": 9,
      "id": "b4fb0382",
      "metadata": {
        "id": "b4fb0382",
        "colab": {
          "base_uri": "https://localhost:8080/"
        },
        "outputId": "bad278d3-bd37-4810-9d91-0986f5e3abd2"
      },
      "outputs": [
        {
          "output_type": "stream",
          "name": "stdout",
          "text": [
            "La température de 0ºC est equivalant à 32.0F\n",
            "La température de 20ºC est equivalant à 68.0F\n",
            "La température de 37ºC est equivalant à 98.6F\n",
            "La température de 100ºC est equivalant à 212.0F\n"
          ]
        }
      ],
      "source": [
        "temperatures_celsius = [0, 20, 37, 100]\n",
        "\n",
        "for temp in temperatures_celsius:\n",
        "    print(f\"La température de {temp}ºC est equivalant à {celsius_to_fahrenheit(temp)}F\")"
      ]
    },
    {
      "cell_type": "markdown",
      "id": "10894fca",
      "metadata": {
        "id": "10894fca"
      },
      "source": [
        "### Tâche 7: Test de la fonction `trouver_doublons(liste)`\n",
        "\n",
        " Testez cette fonction avec la liste [1, 2, 3, 2, 4, 4, 5, 5, 5]."
      ]
    },
    {
      "cell_type": "code",
      "execution_count": 10,
      "id": "8e071f92",
      "metadata": {
        "id": "8e071f92",
        "colab": {
          "base_uri": "https://localhost:8080/"
        },
        "outputId": "99ead182-3d81-474b-a343-553612f94c36"
      },
      "outputs": [
        {
          "output_type": "execute_result",
          "data": {
            "text/plain": [
              "[2, 4, 5]"
            ]
          },
          "metadata": {},
          "execution_count": 10
        }
      ],
      "source": [
        "liste = [1, 2, 3, 2, 4, 4, 5, 5, 5]\n",
        "trouver_doublons(liste)"
      ]
    },
    {
      "cell_type": "markdown",
      "id": "b189426e",
      "metadata": {
        "id": "b189426e"
      },
      "source": [
        "### Tâche 8: Test de la fonction `calculer_moyenne_ponderee(valeurs, poids)`\n",
        "\n",
        "Testez cette fonction avec les listes de valeurs [80, 90, 85, 95] et de poids [0.2, 0.3, 0.3, 0.2]."
      ]
    },
    {
      "cell_type": "code",
      "execution_count": 11,
      "id": "b588497e",
      "metadata": {
        "id": "b588497e",
        "colab": {
          "base_uri": "https://localhost:8080/"
        },
        "outputId": "7026011a-87a2-4701-f145-72ac74fc1da9"
      },
      "outputs": [
        {
          "output_type": "execute_result",
          "data": {
            "text/plain": [
              "87.5"
            ]
          },
          "metadata": {},
          "execution_count": 11
        }
      ],
      "source": [
        "valeurs =  [80, 90, 85, 95]\n",
        "poids = [0.2, 0.3, 0.3, 0.2]\n",
        "\n",
        "calculer_moyenne_ponderee(valeurs, poids)"
      ]
    },
    {
      "cell_type": "markdown",
      "source": [
        "\n",
        "\n",
        "---\n",
        "\n",
        "\n",
        "\n",
        "---\n",
        "\n"
      ],
      "metadata": {
        "id": "INpsnQ_RQv6H"
      },
      "id": "INpsnQ_RQv6H"
    },
    {
      "cell_type": "markdown",
      "source": [
        "# Partie Bonus"
      ],
      "metadata": {
        "id": "IFoEWpI_Qz80"
      },
      "id": "IFoEWpI_Qz80"
    },
    {
      "cell_type": "markdown",
      "source": [
        "Créez une fonction `analyser_texte(texte)` qui prend une chaîne de caractères en entrée et retourne un dictionnaire contenant les informations suivantes :\n",
        "\n",
        "- Nombre total de mots\n",
        "- Nombre de caractères (espaces inclus)\n",
        "- Nombre de caractères (espaces exclus)\n",
        "- Mot le plus long\n",
        "- Longueur moyenne des mots\n",
        "\n",
        "Testez cette fonction avec le texte suivant :\n",
        "\"Python est un langage de programmation puissant et facile à apprendre. Il dispose de structures de données de haut niveau efficaces et d'une approche simple mais efficace de la programmation orientée objet.\""
      ],
      "metadata": {
        "id": "w5UTQAtVMV8T"
      },
      "id": "w5UTQAtVMV8T"
    },
    {
      "cell_type": "code",
      "source": [
        "import re\n",
        "import statistics\n",
        "\n",
        "\n",
        "def analyser_texte(texte: str) -> dict:\n",
        "    total_mots = len(texte.split())\n",
        "    total_caracteres_avec_espaces = len(texte)\n",
        "    texte_sans_ponctuation = re.sub(\"[\\.,;\\:!\\?]\", \"\", texte)\n",
        "    total_caracteres_sans_espaces = sum(len(mot) for mot in texte.split())\n",
        "    mot_plus_long = max(texte_sans_ponctuation.split(), key=len)\n",
        "    longueur_moyenne_des_mots = statistics.mean(len(w) for w in texte_sans_ponctuation.split())\n",
        "\n",
        "    analyse = {\n",
        "        \"Total mots\" : total_mots,\n",
        "        \"Total caracteres(espaces inclus)\" : total_caracteres_avec_espaces,\n",
        "        \"Total caracteres (espaces exclus)\" : total_caracteres_sans_espaces,\n",
        "        \"Mot le plus long\" : mot_plus_long,\n",
        "        \"Longueur moyenne des mots\" : longueur_moyenne_des_mots\n",
        "    }\n",
        "\n",
        "    return analyse\n",
        "\n",
        "\n",
        "texte_to_analyse = \"Python est un langage de programmation puissant et facile à apprendre. Il dispose de structures de données de haut niveau efficaces et d'une approche simple mais efficace de la programmation orientée objet.\"\n",
        "\n",
        "analyser_texte(texte_to_analyse)"
      ],
      "metadata": {
        "colab": {
          "base_uri": "https://localhost:8080/"
        },
        "id": "tMFYf6CrLE9E",
        "outputId": "f7d16d43-17e4-4148-bb15-0fd7c6fee9d4"
      },
      "id": "tMFYf6CrLE9E",
      "execution_count": 18,
      "outputs": [
        {
          "output_type": "execute_result",
          "data": {
            "text/plain": [
              "{'Total mots': 32,\n",
              " 'Total caracteres(espaces inclus)': 206,\n",
              " 'Total caracteres (espaces exclus)': 175,\n",
              " 'Mot le plus long': 'programmation',\n",
              " 'Longueur moyenne des mots': 5.40625}"
            ]
          },
          "metadata": {},
          "execution_count": 18
        }
      ]
    }
  ],
  "metadata": {
    "colab": {
      "provenance": [],
      "include_colab_link": true
    },
    "language_info": {
      "name": "python"
    },
    "kernelspec": {
      "name": "python3",
      "display_name": "Python 3"
    }
  },
  "nbformat": 4,
  "nbformat_minor": 5
}