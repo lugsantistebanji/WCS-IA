{
  "nbformat": 4,
  "nbformat_minor": 0,
  "metadata": {
    "colab": {
      "provenance": [],
      "authorship_tag": "ABX9TyMbBeuLaG9x13AXliGdIrz2",
      "include_colab_link": true
    },
    "kernelspec": {
      "name": "python3",
      "display_name": "Python 3"
    },
    "language_info": {
      "name": "python"
    }
  },
  "cells": [
    {
      "cell_type": "markdown",
      "metadata": {
        "id": "view-in-github",
        "colab_type": "text"
      },
      "source": [
        "<a href=\"https://colab.research.google.com/github/lugsantistebanji/WCS-IA/blob/main/WCS_IA_Quetes_Python_Caesar_Cipher.ipynb\" target=\"_parent\"><img src=\"https://colab.research.google.com/assets/colab-badge.svg\" alt=\"Open In Colab\"/></a>"
      ]
    },
    {
      "cell_type": "markdown",
      "source": [
        "#Caesar Cipher\n",
        "\n",
        "Dans ce challenge tu vas devoir déchiffrer un message. Dans la phrase à modifier ci-dessous, les lettres normales ont été remplacées par la 7ème lettre suivante (h remplace a, i remplace b etc).\n",
        "\n",
        "Voici le message à décrypter :\n",
        "\n",
        "    mlspjpahapvuz, jlzhy zlyhpa mply kl avp, zp zlbsltlua ps jvuuhpzzhpa wfaovu."
      ],
      "metadata": {
        "id": "0LONuSASArdG"
      }
    },
    {
      "cell_type": "code",
      "execution_count": 7,
      "metadata": {
        "colab": {
          "base_uri": "https://localhost:8080/"
        },
        "id": "pvuXYPDJ_6Lq",
        "outputId": "343d5f3a-9acf-4d66-cc3c-0bec5ac781fc"
      },
      "outputs": [
        {
          "output_type": "stream",
          "name": "stdout",
          "text": [
            "felicitations, cesar serait fier de toi, si seulement il connaissait python.\n"
          ]
        }
      ],
      "source": [
        "def get_decrypted_message(message: str, number_located: int = 7) -> str:\n",
        "    decrypted_message = \"\"\n",
        "    total_abc = ord(\"Z\") - ord(\"A\") + 1\n",
        "\n",
        "    for char in message:\n",
        "        new_char = char\n",
        "        if char.isalpha():\n",
        "            ord_base = ord(\"a\") if char.islower() else ord(\"A\")\n",
        "            new_ord = ord_base + (ord(char) - ord_base+ number_located) % total_abc\n",
        "            new_char = chr(new_ord)\n",
        "        decrypted_message += new_char\n",
        "\n",
        "    return decrypted_message\n",
        "\n",
        "\n",
        "message = \"mlspjpahapvuz, jlzhy zlyhpa mply kl avp, zp zlbsltlua ps jvuuhpzzhpa wfaovu.\"\n",
        "number_located = -7\n",
        "print(get_decrypted_message(message, -7))"
      ]
    }
  ]
}