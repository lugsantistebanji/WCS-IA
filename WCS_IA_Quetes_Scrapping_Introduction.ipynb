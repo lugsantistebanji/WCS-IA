{
  "nbformat": 4,
  "nbformat_minor": 0,
  "metadata": {
    "colab": {
      "provenance": [],
      "authorship_tag": "ABX9TyMd6pSPtvEvF/FkbUnn8gHk",
      "include_colab_link": true
    },
    "kernelspec": {
      "name": "python3",
      "display_name": "Python 3"
    },
    "language_info": {
      "name": "python"
    }
  },
  "cells": [
    {
      "cell_type": "markdown",
      "metadata": {
        "id": "view-in-github",
        "colab_type": "text"
      },
      "source": [
        "<a href=\"https://colab.research.google.com/github/lugsantistebanji/WCS-IA/blob/main/WCS_IA_Quetes_Scrapping_Introduction.ipynb\" target=\"_parent\"><img src=\"https://colab.research.google.com/assets/colab-badge.svg\" alt=\"Open In Colab\"/></a>"
      ]
    },
    {
      "cell_type": "markdown",
      "source": [
        "# Challenge - Scraper Chuck Norris\n",
        "\n",
        "Avant de te lancer dans ton projet de robot-chasseur-d'annonces-pour-juniors, ton objectif pour cette quête sera de scraper des Chuck Norris facts à partir de cette adresse : Chuck Norris facts ou de cette autre adresse Chuck Norris facts FR."
      ],
      "metadata": {
        "id": "sltUAz_GTc8-"
      }
    },
    {
      "cell_type": "code",
      "source": [
        "import requests\n",
        "from bs4 import BeautifulSoup\n",
        "import re\n",
        "import pandas as pd"
      ],
      "metadata": {
        "id": "nVbN3FgrVlJ7"
      },
      "execution_count": 80,
      "outputs": []
    },
    {
      "cell_type": "markdown",
      "source": [
        "___"
      ],
      "metadata": {
        "id": "ZfappkL6UwDj"
      }
    },
    {
      "cell_type": "markdown",
      "source": [
        "1. __Lance une requête sur la page web indiquée ci-dessus.__"
      ],
      "metadata": {
        "id": "CF_LQCpzUZuO"
      }
    },
    {
      "cell_type": "code",
      "source": [
        "url = \"http://www.chucknorrisfacts.fr/facts/top/1\""
      ],
      "metadata": {
        "id": "U7AmqAi5V4oX"
      },
      "execution_count": 47,
      "outputs": []
    },
    {
      "cell_type": "code",
      "source": [
        "html = requests.get(url)\n",
        "print(html)"
      ],
      "metadata": {
        "colab": {
          "base_uri": "https://localhost:8080/"
        },
        "id": "AUn8xoO6WBQm",
        "outputId": "78eac813-3ca6-4634-ee47-fa3fb53d605a"
      },
      "execution_count": 48,
      "outputs": [
        {
          "output_type": "stream",
          "name": "stdout",
          "text": [
            "<Response [200]>\n"
          ]
        }
      ]
    },
    {
      "cell_type": "markdown",
      "source": [
        "___"
      ],
      "metadata": {
        "id": "DSxtOf-4Uzzo"
      }
    },
    {
      "cell_type": "markdown",
      "source": [
        "2. __Quel est le response code ? A quoi correspond cette erreur ? Chuck t'a grillé ? Contourne alors la protection en indiquant un navigateur existant. Et relance ta requête.__"
      ],
      "metadata": {
        "id": "1xEITdLqUivw"
      }
    },
    {
      "cell_type": "code",
      "source": [
        "navigator = 'Mozilla/5.0 (Macintosh; Intel Mac OS X 10_10_1)'\n",
        "html = requests.get(url, headers={'User-Agent': navigator})\n",
        "html"
      ],
      "metadata": {
        "colab": {
          "base_uri": "https://localhost:8080/"
        },
        "id": "kcSDsVZOV7Ik",
        "outputId": "ac33e170-1f7a-450b-8be8-da11f3cdced1"
      },
      "execution_count": 49,
      "outputs": [
        {
          "output_type": "execute_result",
          "data": {
            "text/plain": [
              "<Response [200]>"
            ]
          },
          "metadata": {},
          "execution_count": 49
        }
      ]
    },
    {
      "cell_type": "markdown",
      "source": [
        "___"
      ],
      "metadata": {
        "id": "ovhU0gyUU0V4"
      }
    },
    {
      "cell_type": "markdown",
      "source": [
        "3. __Trouve la balise permettant d'identifier le bloc contenant une blague. Combien y en a-t-il ? (il devrait y en avoir 20). Affiche le 8e bloc de blague grâce à l'attribut .text.__\n",
        "\n",
        "    Attention, prends bien le bloc, et non uniquement la blague. La blague devrait s'afficher, mais également d'autres éléments comme la note et le nombre de votes."
      ],
      "metadata": {
        "id": "La_vgb9TUlKE"
      }
    },
    {
      "cell_type": "code",
      "source": [
        "soup = BeautifulSoup(html.text, 'html.parser')"
      ],
      "metadata": {
        "id": "v7nzSFywXlxc"
      },
      "execution_count": 66,
      "outputs": []
    },
    {
      "cell_type": "code",
      "source": [
        "blocs_blagues = soup.find_all('div', {'class': 'card'})"
      ],
      "metadata": {
        "id": "vXmU0s0-Xo_0"
      },
      "execution_count": 67,
      "outputs": []
    },
    {
      "cell_type": "code",
      "source": [
        "print(f\"Il y a {len(blocs_blagues)} blocs des blagues.\")"
      ],
      "metadata": {
        "colab": {
          "base_uri": "https://localhost:8080/"
        },
        "id": "qqpG-RW-X65t",
        "outputId": "a3150f95-f16c-4246-970c-0ae5564fac9f"
      },
      "execution_count": 68,
      "outputs": [
        {
          "output_type": "stream",
          "name": "stdout",
          "text": [
            "Il y a 20 blocs des blagues.\n"
          ]
        }
      ]
    },
    {
      "cell_type": "code",
      "source": [
        "bloc_blague_8 = blocs_blagues[7]\n",
        "print(bloc_blague_8)"
      ],
      "metadata": {
        "colab": {
          "base_uri": "https://localhost:8080/"
        },
        "id": "dvgoCpx3YWYB",
        "outputId": "b60dce21-aad0-4d30-a623-17f8808e97bb"
      },
      "execution_count": 69,
      "outputs": [
        {
          "output_type": "stream",
          "name": "stdout",
          "text": [
            "<div class=\"card\">\n",
            "<div class=\"card-body bg-light rounded\">\n",
            "<p class=\"card-text\">Les samouraïs tuent des mouches avec leurs sabres...<br/>Chuck Norris, lui, tue des samouraïs avec des mouches</p>\n",
            "</div>\n",
            "<div class=\"card-footer\">\n",
            "<div class=\"row\">\n",
            "<div class=\"col-md-8 card-footer-left smaller\">\n",
            "<a href=\"/voir_fact/100410\">#100410</a>\n",
            "<span id=\"moyenne_100410\">(8.32/10)</span>\n",
            "</div>\n",
            "<!-- <div class=\"col-md-4\">\n",
            "                <a href=\"#\"><i class=\"bi-twitter smaller\" style=\"color:#5C4202;\"></i></a> \n",
            "                <a href=\"#\"><i class=\"bi-facebook smaller\" style=\"color:#5C4202;\"></i></a>                \n",
            "            </div> -->\n",
            "<div class=\"col-md-4 bold\" id=\"vote_100410\">\n",
            "<a class=\"votelink bold smaller\" data-factid=\"100410\" data-note=\"1\" role=\"button\">[+]</a>\n",
            "<a class=\"votelink bold smaller\" data-factid=\"100410\" data-note=\"2\" role=\"button\">[++]</a>\n",
            "<a class=\"votelink bold smaller\" data-factid=\"100410\" data-note=\"3\" role=\"button\">[+++]</a>\n",
            "</div>\n",
            "</div>\n",
            "</div>\n",
            "</div>\n"
          ]
        }
      ]
    },
    {
      "cell_type": "markdown",
      "source": [
        "___"
      ],
      "metadata": {
        "id": "mpOiVn_xU01v"
      }
    },
    {
      "cell_type": "markdown",
      "source": [
        "4. __Chacun des éléments de ton itérable est lui-même une mini-soupe. Utilise la méthode .find avec la balise appropriée pour isoler uniquement la 8e blague, sans les autres éléments (donc sans la note, etc...)__"
      ],
      "metadata": {
        "id": "VEur1LYlUncq"
      }
    },
    {
      "cell_type": "code",
      "source": [
        "p_blague = bloc_blague_8.find_all('p', {'class': 'card-text'})[0]\n",
        "p_blague"
      ],
      "metadata": {
        "colab": {
          "base_uri": "https://localhost:8080/"
        },
        "id": "KV6nBF3_Yye9",
        "outputId": "cd21f761-e3a0-4c70-aa61-df761f97b70f"
      },
      "execution_count": 54,
      "outputs": [
        {
          "output_type": "execute_result",
          "data": {
            "text/plain": [
              "<p class=\"card-text\">Les samouraïs tuent des mouches avec leurs sabres...<br/>Chuck Norris, lui, tue des samouraïs avec des mouches</p>"
            ]
          },
          "metadata": {},
          "execution_count": 54
        }
      ]
    },
    {
      "cell_type": "code",
      "source": [
        "blague = p_blague.string\n",
        "print(blague)"
      ],
      "metadata": {
        "colab": {
          "base_uri": "https://localhost:8080/"
        },
        "id": "SGyIlx-NZlLy",
        "outputId": "84bd8e04-5cb9-4960-cb5a-3272bf54f429"
      },
      "execution_count": 55,
      "outputs": [
        {
          "output_type": "stream",
          "name": "stdout",
          "text": [
            "None\n"
          ]
        }
      ]
    },
    {
      "cell_type": "markdown",
      "source": [
        "___"
      ],
      "metadata": {
        "id": "nq-nUmopU1Mn"
      }
    },
    {
      "cell_type": "markdown",
      "source": [
        "5. __Fais de même pour isoler uniquement la note de la 8e blague__"
      ],
      "metadata": {
        "id": "0j2ZUEjlUp5A"
      }
    },
    {
      "cell_type": "code",
      "source": [
        "p_note = bloc_blague_8.find_all('span')[0]\n",
        "p_note"
      ],
      "metadata": {
        "colab": {
          "base_uri": "https://localhost:8080/"
        },
        "id": "ofnHfVa9bE1S",
        "outputId": "2218f32c-2b17-45df-ca29-08f87e47538d"
      },
      "execution_count": 56,
      "outputs": [
        {
          "output_type": "execute_result",
          "data": {
            "text/plain": [
              "<span id=\"moyenne_100410\">(8.32/10)</span>"
            ]
          },
          "metadata": {},
          "execution_count": 56
        }
      ]
    },
    {
      "cell_type": "code",
      "source": [
        "note = re.sub(r'[\\(\\)]+', '', p_note.string)\n",
        "note"
      ],
      "metadata": {
        "colab": {
          "base_uri": "https://localhost:8080/",
          "height": 35
        },
        "id": "0-kcD94ebnC7",
        "outputId": "965e7f66-8f55-4527-a6bf-bd633fb97033"
      },
      "execution_count": 65,
      "outputs": [
        {
          "output_type": "execute_result",
          "data": {
            "text/plain": [
              "'8.32/10'"
            ],
            "application/vnd.google.colaboratory.intrinsic+json": {
              "type": "string"
            }
          },
          "metadata": {},
          "execution_count": 65
        }
      ]
    },
    {
      "cell_type": "markdown",
      "source": [
        "___"
      ],
      "metadata": {
        "id": "43CStyLaU1jw"
      }
    },
    {
      "cell_type": "markdown",
      "source": [
        "6. __Crée un dictionnaire vide, puis crée une boucle qui viendra enregistrer dans ce dictionnaire chaque blague en clé et chaque note correspondante en valeur.__"
      ],
      "metadata": {
        "id": "hGWycMBrUsF6"
      }
    },
    {
      "cell_type": "code",
      "source": [
        "blagues = {}\n",
        "for bloc in blocs_blagues:\n",
        "    blague = bloc.find_all('p', {'class': 'card-text'})[0].string\n",
        "    note = re.search(r'(\\d\\.\\d+)\\/', bloc.find_all('span')[0].string).group(1)\n",
        "    blagues[blague] = note"
      ],
      "metadata": {
        "id": "_MvlGubOcvwN"
      },
      "execution_count": 78,
      "outputs": []
    },
    {
      "cell_type": "code",
      "source": [
        "print(blagues)"
      ],
      "metadata": {
        "colab": {
          "base_uri": "https://localhost:8080/"
        },
        "id": "hmXjBu86dxNH",
        "outputId": "951bb17e-1efc-4256-b84c-47adcbd18318"
      },
      "execution_count": 79,
      "outputs": [
        {
          "output_type": "stream",
          "name": "stdout",
          "text": [
            "{\"Les ennemis des amis de Chuck Norris sont ses amis. Et oui! Les ennemis de Chuck Norris n'existent plus.\": '8.85', \"Un jour Chuck Norris a eu un zero en latin, depuis c'est une langue morte.\": '8.43', \"L'avenir se demande parfois ce que Chuck Norris lui réserve.\": '8.42', 'Chuck Norris ne sait pas à quoi ressemble Nicolas Sarkozy,  en effet Chuck Norris ne baisse jamais les yeux.': '8.41', None: '8.30', \"Chuck Norris n'a pas de père. On ne nique pas la mère de Chuck Norris.\": '8.34', \"Chuck Norris ne ment pas, c'est la vérité qui se trompe.\": '8.33', \"Les ennemis de Chuck Norris lui disent souvent d'aller au diable. Le Diable aimerait bien qu'ils arrêtent.\": '8.30', 'Chuck Norris peut ressusciter un angle mort.': '8.30', 'Chuck Norris est le seul homme à posséder une bible dédicacée.': '8.29', \"Chuck Norris n'est pas égal à lui-même, il est meilleur.\": '8.29', 'Un jour, les PowerRangers ont rencontré Chuck Norris. Maintenant on les appelle les Télétubbies.': '8.29', 'Quand Chuck Norris lance une pièce, elle fait toujours pile: personne ne fait face à Chuck Norris!': '8.28', 'Chuck Norris ne se masturbe jamais. Chuck Norris est inébranlable.': '8.28', 'Chuck Norris peut se souvenir du futur.': '8.28', 'Hercule est un demi-dieu, Dieu est un demi-Chuck Norris': '8.27', \"Un jour, Chuck Norris a courru si vite qu'il a failli se rentrer dedans.\": '8.25', \"Chuck Norris peut faire rentrer 3 litres d'eau dans une bouteille d'un litre. En tassant bien.\": '8.25'}\n"
          ]
        }
      ]
    },
    {
      "cell_type": "markdown",
      "source": [
        "___"
      ],
      "metadata": {
        "id": "IJqhrXH0U1_X"
      }
    },
    {
      "cell_type": "markdown",
      "source": [
        "7. __Transforme ce dictionnaire en DataFrame de 2 colonnes : blague et note. Il doit avoir 20 lignes : une par blague.__"
      ],
      "metadata": {
        "id": "9R8yHJp8UuLr"
      }
    },
    {
      "cell_type": "code",
      "source": [
        "df = pd.DataFrame({'blague': blagues.keys(), 'note': blagues.values()})"
      ],
      "metadata": {
        "id": "VIlDeImifVMP"
      },
      "execution_count": 91,
      "outputs": []
    },
    {
      "cell_type": "code",
      "source": [
        "df"
      ],
      "metadata": {
        "colab": {
          "base_uri": "https://localhost:8080/",
          "height": 614
        },
        "id": "z5cHjqtNg5uI",
        "outputId": "5adf570f-0cc7-4d2f-9ee5-adb62dedb020"
      },
      "execution_count": 92,
      "outputs": [
        {
          "output_type": "execute_result",
          "data": {
            "text/plain": [
              "                                               blague  note\n",
              "0   Les ennemis des amis de Chuck Norris sont ses ...  8.85\n",
              "1   Un jour Chuck Norris a eu un zero en latin, de...  8.43\n",
              "2   L'avenir se demande parfois ce que Chuck Norri...  8.42\n",
              "3   Chuck Norris ne sait pas à quoi ressemble Nico...  8.41\n",
              "4                                                None  8.30\n",
              "5   Chuck Norris n'a pas de père. On ne nique pas ...  8.34\n",
              "6   Chuck Norris ne ment pas, c'est la vérité qui ...  8.33\n",
              "7   Les ennemis de Chuck Norris lui disent souvent...  8.30\n",
              "8        Chuck Norris peut ressusciter un angle mort.  8.30\n",
              "9   Chuck Norris est le seul homme à posséder une ...  8.29\n",
              "10  Chuck Norris n'est pas égal à lui-même, il est...  8.29\n",
              "11  Un jour, les PowerRangers ont rencontré Chuck ...  8.29\n",
              "12  Quand Chuck Norris lance une pièce, elle fait ...  8.28\n",
              "13  Chuck Norris ne se masturbe jamais. Chuck Norr...  8.28\n",
              "14            Chuck Norris peut se souvenir du futur.  8.28\n",
              "15  Hercule est un demi-dieu, Dieu est un demi-Chu...  8.27\n",
              "16  Un jour, Chuck Norris a courru si vite qu'il a...  8.25\n",
              "17  Chuck Norris peut faire rentrer 3 litres d'eau...  8.25"
            ],
            "text/html": [
              "\n",
              "  <div id=\"df-7943554d-b7fd-4ee5-8251-83adafb3f3cb\" class=\"colab-df-container\">\n",
              "    <div>\n",
              "<style scoped>\n",
              "    .dataframe tbody tr th:only-of-type {\n",
              "        vertical-align: middle;\n",
              "    }\n",
              "\n",
              "    .dataframe tbody tr th {\n",
              "        vertical-align: top;\n",
              "    }\n",
              "\n",
              "    .dataframe thead th {\n",
              "        text-align: right;\n",
              "    }\n",
              "</style>\n",
              "<table border=\"1\" class=\"dataframe\">\n",
              "  <thead>\n",
              "    <tr style=\"text-align: right;\">\n",
              "      <th></th>\n",
              "      <th>blague</th>\n",
              "      <th>note</th>\n",
              "    </tr>\n",
              "  </thead>\n",
              "  <tbody>\n",
              "    <tr>\n",
              "      <th>0</th>\n",
              "      <td>Les ennemis des amis de Chuck Norris sont ses ...</td>\n",
              "      <td>8.85</td>\n",
              "    </tr>\n",
              "    <tr>\n",
              "      <th>1</th>\n",
              "      <td>Un jour Chuck Norris a eu un zero en latin, de...</td>\n",
              "      <td>8.43</td>\n",
              "    </tr>\n",
              "    <tr>\n",
              "      <th>2</th>\n",
              "      <td>L'avenir se demande parfois ce que Chuck Norri...</td>\n",
              "      <td>8.42</td>\n",
              "    </tr>\n",
              "    <tr>\n",
              "      <th>3</th>\n",
              "      <td>Chuck Norris ne sait pas à quoi ressemble Nico...</td>\n",
              "      <td>8.41</td>\n",
              "    </tr>\n",
              "    <tr>\n",
              "      <th>4</th>\n",
              "      <td>None</td>\n",
              "      <td>8.30</td>\n",
              "    </tr>\n",
              "    <tr>\n",
              "      <th>5</th>\n",
              "      <td>Chuck Norris n'a pas de père. On ne nique pas ...</td>\n",
              "      <td>8.34</td>\n",
              "    </tr>\n",
              "    <tr>\n",
              "      <th>6</th>\n",
              "      <td>Chuck Norris ne ment pas, c'est la vérité qui ...</td>\n",
              "      <td>8.33</td>\n",
              "    </tr>\n",
              "    <tr>\n",
              "      <th>7</th>\n",
              "      <td>Les ennemis de Chuck Norris lui disent souvent...</td>\n",
              "      <td>8.30</td>\n",
              "    </tr>\n",
              "    <tr>\n",
              "      <th>8</th>\n",
              "      <td>Chuck Norris peut ressusciter un angle mort.</td>\n",
              "      <td>8.30</td>\n",
              "    </tr>\n",
              "    <tr>\n",
              "      <th>9</th>\n",
              "      <td>Chuck Norris est le seul homme à posséder une ...</td>\n",
              "      <td>8.29</td>\n",
              "    </tr>\n",
              "    <tr>\n",
              "      <th>10</th>\n",
              "      <td>Chuck Norris n'est pas égal à lui-même, il est...</td>\n",
              "      <td>8.29</td>\n",
              "    </tr>\n",
              "    <tr>\n",
              "      <th>11</th>\n",
              "      <td>Un jour, les PowerRangers ont rencontré Chuck ...</td>\n",
              "      <td>8.29</td>\n",
              "    </tr>\n",
              "    <tr>\n",
              "      <th>12</th>\n",
              "      <td>Quand Chuck Norris lance une pièce, elle fait ...</td>\n",
              "      <td>8.28</td>\n",
              "    </tr>\n",
              "    <tr>\n",
              "      <th>13</th>\n",
              "      <td>Chuck Norris ne se masturbe jamais. Chuck Norr...</td>\n",
              "      <td>8.28</td>\n",
              "    </tr>\n",
              "    <tr>\n",
              "      <th>14</th>\n",
              "      <td>Chuck Norris peut se souvenir du futur.</td>\n",
              "      <td>8.28</td>\n",
              "    </tr>\n",
              "    <tr>\n",
              "      <th>15</th>\n",
              "      <td>Hercule est un demi-dieu, Dieu est un demi-Chu...</td>\n",
              "      <td>8.27</td>\n",
              "    </tr>\n",
              "    <tr>\n",
              "      <th>16</th>\n",
              "      <td>Un jour, Chuck Norris a courru si vite qu'il a...</td>\n",
              "      <td>8.25</td>\n",
              "    </tr>\n",
              "    <tr>\n",
              "      <th>17</th>\n",
              "      <td>Chuck Norris peut faire rentrer 3 litres d'eau...</td>\n",
              "      <td>8.25</td>\n",
              "    </tr>\n",
              "  </tbody>\n",
              "</table>\n",
              "</div>\n",
              "    <div class=\"colab-df-buttons\">\n",
              "\n",
              "  <div class=\"colab-df-container\">\n",
              "    <button class=\"colab-df-convert\" onclick=\"convertToInteractive('df-7943554d-b7fd-4ee5-8251-83adafb3f3cb')\"\n",
              "            title=\"Convert this dataframe to an interactive table.\"\n",
              "            style=\"display:none;\">\n",
              "\n",
              "  <svg xmlns=\"http://www.w3.org/2000/svg\" height=\"24px\" viewBox=\"0 -960 960 960\">\n",
              "    <path d=\"M120-120v-720h720v720H120Zm60-500h600v-160H180v160Zm220 220h160v-160H400v160Zm0 220h160v-160H400v160ZM180-400h160v-160H180v160Zm440 0h160v-160H620v160ZM180-180h160v-160H180v160Zm440 0h160v-160H620v160Z\"/>\n",
              "  </svg>\n",
              "    </button>\n",
              "\n",
              "  <style>\n",
              "    .colab-df-container {\n",
              "      display:flex;\n",
              "      gap: 12px;\n",
              "    }\n",
              "\n",
              "    .colab-df-convert {\n",
              "      background-color: #E8F0FE;\n",
              "      border: none;\n",
              "      border-radius: 50%;\n",
              "      cursor: pointer;\n",
              "      display: none;\n",
              "      fill: #1967D2;\n",
              "      height: 32px;\n",
              "      padding: 0 0 0 0;\n",
              "      width: 32px;\n",
              "    }\n",
              "\n",
              "    .colab-df-convert:hover {\n",
              "      background-color: #E2EBFA;\n",
              "      box-shadow: 0px 1px 2px rgba(60, 64, 67, 0.3), 0px 1px 3px 1px rgba(60, 64, 67, 0.15);\n",
              "      fill: #174EA6;\n",
              "    }\n",
              "\n",
              "    .colab-df-buttons div {\n",
              "      margin-bottom: 4px;\n",
              "    }\n",
              "\n",
              "    [theme=dark] .colab-df-convert {\n",
              "      background-color: #3B4455;\n",
              "      fill: #D2E3FC;\n",
              "    }\n",
              "\n",
              "    [theme=dark] .colab-df-convert:hover {\n",
              "      background-color: #434B5C;\n",
              "      box-shadow: 0px 1px 3px 1px rgba(0, 0, 0, 0.15);\n",
              "      filter: drop-shadow(0px 1px 2px rgba(0, 0, 0, 0.3));\n",
              "      fill: #FFFFFF;\n",
              "    }\n",
              "  </style>\n",
              "\n",
              "    <script>\n",
              "      const buttonEl =\n",
              "        document.querySelector('#df-7943554d-b7fd-4ee5-8251-83adafb3f3cb button.colab-df-convert');\n",
              "      buttonEl.style.display =\n",
              "        google.colab.kernel.accessAllowed ? 'block' : 'none';\n",
              "\n",
              "      async function convertToInteractive(key) {\n",
              "        const element = document.querySelector('#df-7943554d-b7fd-4ee5-8251-83adafb3f3cb');\n",
              "        const dataTable =\n",
              "          await google.colab.kernel.invokeFunction('convertToInteractive',\n",
              "                                                    [key], {});\n",
              "        if (!dataTable) return;\n",
              "\n",
              "        const docLinkHtml = 'Like what you see? Visit the ' +\n",
              "          '<a target=\"_blank\" href=https://colab.research.google.com/notebooks/data_table.ipynb>data table notebook</a>'\n",
              "          + ' to learn more about interactive tables.';\n",
              "        element.innerHTML = '';\n",
              "        dataTable['output_type'] = 'display_data';\n",
              "        await google.colab.output.renderOutput(dataTable, element);\n",
              "        const docLink = document.createElement('div');\n",
              "        docLink.innerHTML = docLinkHtml;\n",
              "        element.appendChild(docLink);\n",
              "      }\n",
              "    </script>\n",
              "  </div>\n",
              "\n",
              "\n",
              "<div id=\"df-098572b4-ffb1-46fc-adfa-92bfaec90e1f\">\n",
              "  <button class=\"colab-df-quickchart\" onclick=\"quickchart('df-098572b4-ffb1-46fc-adfa-92bfaec90e1f')\"\n",
              "            title=\"Suggest charts\"\n",
              "            style=\"display:none;\">\n",
              "\n",
              "<svg xmlns=\"http://www.w3.org/2000/svg\" height=\"24px\"viewBox=\"0 0 24 24\"\n",
              "     width=\"24px\">\n",
              "    <g>\n",
              "        <path d=\"M19 3H5c-1.1 0-2 .9-2 2v14c0 1.1.9 2 2 2h14c1.1 0 2-.9 2-2V5c0-1.1-.9-2-2-2zM9 17H7v-7h2v7zm4 0h-2V7h2v10zm4 0h-2v-4h2v4z\"/>\n",
              "    </g>\n",
              "</svg>\n",
              "  </button>\n",
              "\n",
              "<style>\n",
              "  .colab-df-quickchart {\n",
              "      --bg-color: #E8F0FE;\n",
              "      --fill-color: #1967D2;\n",
              "      --hover-bg-color: #E2EBFA;\n",
              "      --hover-fill-color: #174EA6;\n",
              "      --disabled-fill-color: #AAA;\n",
              "      --disabled-bg-color: #DDD;\n",
              "  }\n",
              "\n",
              "  [theme=dark] .colab-df-quickchart {\n",
              "      --bg-color: #3B4455;\n",
              "      --fill-color: #D2E3FC;\n",
              "      --hover-bg-color: #434B5C;\n",
              "      --hover-fill-color: #FFFFFF;\n",
              "      --disabled-bg-color: #3B4455;\n",
              "      --disabled-fill-color: #666;\n",
              "  }\n",
              "\n",
              "  .colab-df-quickchart {\n",
              "    background-color: var(--bg-color);\n",
              "    border: none;\n",
              "    border-radius: 50%;\n",
              "    cursor: pointer;\n",
              "    display: none;\n",
              "    fill: var(--fill-color);\n",
              "    height: 32px;\n",
              "    padding: 0;\n",
              "    width: 32px;\n",
              "  }\n",
              "\n",
              "  .colab-df-quickchart:hover {\n",
              "    background-color: var(--hover-bg-color);\n",
              "    box-shadow: 0 1px 2px rgba(60, 64, 67, 0.3), 0 1px 3px 1px rgba(60, 64, 67, 0.15);\n",
              "    fill: var(--button-hover-fill-color);\n",
              "  }\n",
              "\n",
              "  .colab-df-quickchart-complete:disabled,\n",
              "  .colab-df-quickchart-complete:disabled:hover {\n",
              "    background-color: var(--disabled-bg-color);\n",
              "    fill: var(--disabled-fill-color);\n",
              "    box-shadow: none;\n",
              "  }\n",
              "\n",
              "  .colab-df-spinner {\n",
              "    border: 2px solid var(--fill-color);\n",
              "    border-color: transparent;\n",
              "    border-bottom-color: var(--fill-color);\n",
              "    animation:\n",
              "      spin 1s steps(1) infinite;\n",
              "  }\n",
              "\n",
              "  @keyframes spin {\n",
              "    0% {\n",
              "      border-color: transparent;\n",
              "      border-bottom-color: var(--fill-color);\n",
              "      border-left-color: var(--fill-color);\n",
              "    }\n",
              "    20% {\n",
              "      border-color: transparent;\n",
              "      border-left-color: var(--fill-color);\n",
              "      border-top-color: var(--fill-color);\n",
              "    }\n",
              "    30% {\n",
              "      border-color: transparent;\n",
              "      border-left-color: var(--fill-color);\n",
              "      border-top-color: var(--fill-color);\n",
              "      border-right-color: var(--fill-color);\n",
              "    }\n",
              "    40% {\n",
              "      border-color: transparent;\n",
              "      border-right-color: var(--fill-color);\n",
              "      border-top-color: var(--fill-color);\n",
              "    }\n",
              "    60% {\n",
              "      border-color: transparent;\n",
              "      border-right-color: var(--fill-color);\n",
              "    }\n",
              "    80% {\n",
              "      border-color: transparent;\n",
              "      border-right-color: var(--fill-color);\n",
              "      border-bottom-color: var(--fill-color);\n",
              "    }\n",
              "    90% {\n",
              "      border-color: transparent;\n",
              "      border-bottom-color: var(--fill-color);\n",
              "    }\n",
              "  }\n",
              "</style>\n",
              "\n",
              "  <script>\n",
              "    async function quickchart(key) {\n",
              "      const quickchartButtonEl =\n",
              "        document.querySelector('#' + key + ' button');\n",
              "      quickchartButtonEl.disabled = true;  // To prevent multiple clicks.\n",
              "      quickchartButtonEl.classList.add('colab-df-spinner');\n",
              "      try {\n",
              "        const charts = await google.colab.kernel.invokeFunction(\n",
              "            'suggestCharts', [key], {});\n",
              "      } catch (error) {\n",
              "        console.error('Error during call to suggestCharts:', error);\n",
              "      }\n",
              "      quickchartButtonEl.classList.remove('colab-df-spinner');\n",
              "      quickchartButtonEl.classList.add('colab-df-quickchart-complete');\n",
              "    }\n",
              "    (() => {\n",
              "      let quickchartButtonEl =\n",
              "        document.querySelector('#df-098572b4-ffb1-46fc-adfa-92bfaec90e1f button');\n",
              "      quickchartButtonEl.style.display =\n",
              "        google.colab.kernel.accessAllowed ? 'block' : 'none';\n",
              "    })();\n",
              "  </script>\n",
              "</div>\n",
              "\n",
              "  <div id=\"id_f6d50ea7-7d07-4495-9ecc-9d4597c2eb68\">\n",
              "    <style>\n",
              "      .colab-df-generate {\n",
              "        background-color: #E8F0FE;\n",
              "        border: none;\n",
              "        border-radius: 50%;\n",
              "        cursor: pointer;\n",
              "        display: none;\n",
              "        fill: #1967D2;\n",
              "        height: 32px;\n",
              "        padding: 0 0 0 0;\n",
              "        width: 32px;\n",
              "      }\n",
              "\n",
              "      .colab-df-generate:hover {\n",
              "        background-color: #E2EBFA;\n",
              "        box-shadow: 0px 1px 2px rgba(60, 64, 67, 0.3), 0px 1px 3px 1px rgba(60, 64, 67, 0.15);\n",
              "        fill: #174EA6;\n",
              "      }\n",
              "\n",
              "      [theme=dark] .colab-df-generate {\n",
              "        background-color: #3B4455;\n",
              "        fill: #D2E3FC;\n",
              "      }\n",
              "\n",
              "      [theme=dark] .colab-df-generate:hover {\n",
              "        background-color: #434B5C;\n",
              "        box-shadow: 0px 1px 3px 1px rgba(0, 0, 0, 0.15);\n",
              "        filter: drop-shadow(0px 1px 2px rgba(0, 0, 0, 0.3));\n",
              "        fill: #FFFFFF;\n",
              "      }\n",
              "    </style>\n",
              "    <button class=\"colab-df-generate\" onclick=\"generateWithVariable('df')\"\n",
              "            title=\"Generate code using this dataframe.\"\n",
              "            style=\"display:none;\">\n",
              "\n",
              "  <svg xmlns=\"http://www.w3.org/2000/svg\" height=\"24px\"viewBox=\"0 0 24 24\"\n",
              "       width=\"24px\">\n",
              "    <path d=\"M7,19H8.4L18.45,9,17,7.55,7,17.6ZM5,21V16.75L18.45,3.32a2,2,0,0,1,2.83,0l1.4,1.43a1.91,1.91,0,0,1,.58,1.4,1.91,1.91,0,0,1-.58,1.4L9.25,21ZM18.45,9,17,7.55Zm-12,3A5.31,5.31,0,0,0,4.9,8.1,5.31,5.31,0,0,0,1,6.5,5.31,5.31,0,0,0,4.9,4.9,5.31,5.31,0,0,0,6.5,1,5.31,5.31,0,0,0,8.1,4.9,5.31,5.31,0,0,0,12,6.5,5.46,5.46,0,0,0,6.5,12Z\"/>\n",
              "  </svg>\n",
              "    </button>\n",
              "    <script>\n",
              "      (() => {\n",
              "      const buttonEl =\n",
              "        document.querySelector('#id_f6d50ea7-7d07-4495-9ecc-9d4597c2eb68 button.colab-df-generate');\n",
              "      buttonEl.style.display =\n",
              "        google.colab.kernel.accessAllowed ? 'block' : 'none';\n",
              "\n",
              "      buttonEl.onclick = () => {\n",
              "        google.colab.notebook.generateWithVariable('df');\n",
              "      }\n",
              "      })();\n",
              "    </script>\n",
              "  </div>\n",
              "\n",
              "    </div>\n",
              "  </div>\n"
            ],
            "application/vnd.google.colaboratory.intrinsic+json": {
              "type": "dataframe",
              "variable_name": "df",
              "summary": "{\n  \"name\": \"df\",\n  \"rows\": 18,\n  \"fields\": [\n    {\n      \"column\": \"blague\",\n      \"properties\": {\n        \"dtype\": \"string\",\n        \"num_unique_values\": 17,\n        \"samples\": [\n          \"Les ennemis des amis de Chuck Norris sont ses amis. Et oui! Les ennemis de Chuck Norris n'existent plus.\",\n          \"Un jour Chuck Norris a eu un zero en latin, depuis c'est une langue morte.\",\n          \"Chuck Norris ne ment pas, c'est la v\\u00e9rit\\u00e9 qui se trompe.\"\n        ],\n        \"semantic_type\": \"\",\n        \"description\": \"\"\n      }\n    },\n    {\n      \"column\": \"note\",\n      \"properties\": {\n        \"dtype\": \"string\",\n        \"num_unique_values\": 11,\n        \"samples\": [\n          \"8.34\",\n          \"8.85\",\n          \"8.27\"\n        ],\n        \"semantic_type\": \"\",\n        \"description\": \"\"\n      }\n    }\n  ]\n}"
            }
          },
          "metadata": {},
          "execution_count": 92
        }
      ]
    },
    {
      "cell_type": "markdown",
      "source": [
        "___"
      ],
      "metadata": {
        "id": "xJHsqd_tU2W_"
      }
    }
  ]
}