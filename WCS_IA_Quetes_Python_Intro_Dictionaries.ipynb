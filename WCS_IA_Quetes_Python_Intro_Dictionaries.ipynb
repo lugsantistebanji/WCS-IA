{
  "nbformat": 4,
  "nbformat_minor": 0,
  "metadata": {
    "colab": {
      "provenance": [],
      "include_colab_link": true
    },
    "kernelspec": {
      "name": "python3",
      "display_name": "Python 3"
    },
    "language_info": {
      "name": "python"
    }
  },
  "cells": [
    {
      "cell_type": "markdown",
      "metadata": {
        "id": "view-in-github",
        "colab_type": "text"
      },
      "source": [
        "<a href=\"https://colab.research.google.com/github/lugsantistebanji/WCS-IA/blob/main/WCS_IA_Quetes_Python_Intro_Dictionaries.ipynb\" target=\"_parent\"><img src=\"https://colab.research.google.com/assets/colab-badge.svg\" alt=\"Open In Colab\"/></a>"
      ]
    },
    {
      "cell_type": "markdown",
      "source": [
        "# Mission 1"
      ],
      "metadata": {
        "id": "GnOC-cJNPhqT"
      }
    },
    {
      "cell_type": "markdown",
      "source": [
        "For each cell, execute the code and answer the question before moving on to the next.\n",
        "\n",
        "---"
      ],
      "metadata": {
        "id": "6pev7z8cPjQm"
      }
    },
    {
      "cell_type": "code",
      "execution_count": 2,
      "metadata": {
        "id": "379gShMVPCPq",
        "colab": {
          "base_uri": "https://localhost:8080/"
        },
        "outputId": "35021e76-2eeb-44d3-e0b4-f4bdc983cec6"
      },
      "outputs": [
        {
          "output_type": "stream",
          "name": "stdout",
          "text": [
            "Gontran\n",
            "Jason\n",
            "Ayoub\n"
          ]
        }
      ],
      "source": [
        "people = {\"Gontran\": 23,\n",
        "          \"Jason\": 42,\n",
        "          \"Ayoub\": 27}\n",
        "\n",
        "\n",
        "for i in people:\n",
        "  print(i)"
      ]
    },
    {
      "cell_type": "markdown",
      "source": [
        "**1. What does `i` correspond to ?**\n",
        "\n",
        "        To answer, you must use the terms \"keys\" and \"values\".\n",
        "**Answer :**\n",
        "**The \"`i`\"** corresponds to the `key` of the current item, and not to the `value`, in the `people` dictionary.\n"
      ],
      "metadata": {
        "id": "vw8yuf7tQDbq"
      }
    },
    {
      "cell_type": "markdown",
      "source": [
        "---"
      ],
      "metadata": {
        "id": "k3yOMRGst17X"
      }
    },
    {
      "cell_type": "code",
      "source": [
        "for i in people.keys():\n",
        "  print(i)\n",
        "\n",
        "print(type(people.keys()))"
      ],
      "metadata": {
        "colab": {
          "base_uri": "https://localhost:8080/"
        },
        "id": "CloGcYxOP4oO",
        "outputId": "fbb498b6-6376-45df-efca-a4e8ad98fe71"
      },
      "execution_count": 3,
      "outputs": [
        {
          "output_type": "stream",
          "name": "stdout",
          "text": [
            "Gontran\n",
            "Jason\n",
            "Ayoub\n",
            "<class 'dict_keys'>\n"
          ]
        }
      ]
    },
    {
      "cell_type": "code",
      "source": [
        "for i in people.values():\n",
        "  print(i)"
      ],
      "metadata": {
        "colab": {
          "base_uri": "https://localhost:8080/"
        },
        "id": "BhZZfzsPQUAd",
        "outputId": "648fdfe6-865a-4c0e-e6e6-d3a68dafcabb"
      },
      "execution_count": null,
      "outputs": [
        {
          "output_type": "stream",
          "name": "stdout",
          "text": [
            "23\n",
            "42\n",
            "27\n"
          ]
        }
      ]
    },
    {
      "cell_type": "markdown",
      "source": [
        "**2.**\n",
        "\n",
        "- **What does `i` correspond to in the second last cell? **\n",
        "\n",
        "    **Answer :**\n",
        "    The \"`i`\" corresponds to the current item (which is a `key` of the `people` dictionary) from the `keys()` iterator (which is essentially a view of all the keys in the dictionary, similar to a list of all the keys).\n",
        "\n",
        "- **What does `i` in the last cell correspond to? **\n",
        "    \n",
        "    **Answer :**\n",
        "    The \"`i`\" corresponds to the current item (which is a `value` of the `people` dictionary) from the `values()` iterator (which is essentially a view of all the values in the dictionary, similar to a list containing all the values)."
      ],
      "metadata": {
        "id": "DHwSkjFHQdwS"
      }
    },
    {
      "cell_type": "markdown",
      "source": [
        "---"
      ],
      "metadata": {
        "id": "4l2U2pjoRW5u"
      }
    },
    {
      "cell_type": "code",
      "source": [
        "for i in people.items():\n",
        "  print(i)"
      ],
      "metadata": {
        "colab": {
          "base_uri": "https://localhost:8080/"
        },
        "id": "8Mb2vDh0QXn7",
        "outputId": "4cdd38b2-ebf2-40df-e45d-7e9f1bb5e627"
      },
      "execution_count": null,
      "outputs": [
        {
          "output_type": "stream",
          "name": "stdout",
          "text": [
            "('Gontran', 23)\n",
            "('Jason', 42)\n",
            "('Ayoub', 27)\n"
          ]
        }
      ]
    },
    {
      "cell_type": "markdown",
      "source": [
        "**3. What is the type of object returned here called?**\n",
        "\n",
        "**Answer :**\n",
        "The object returned by the `items()` method is a view of all the `key:value` pairs in the `people` dictionary, represented as tuples in the form of `(key, value)`."
      ],
      "metadata": {
        "id": "UKrfp8bCQtVn"
      }
    },
    {
      "cell_type": "markdown",
      "source": [
        "---"
      ],
      "metadata": {
        "id": "6kDQ8bFdRZRE"
      }
    },
    {
      "cell_type": "code",
      "source": [
        "for i, age in people.items():\n",
        "  print(age)\n",
        "\n",
        "print(people.items())"
      ],
      "metadata": {
        "colab": {
          "base_uri": "https://localhost:8080/"
        },
        "id": "_iYs9W16RGWp",
        "outputId": "e4eba54a-27c0-4481-95a6-feb9395bd4ae"
      },
      "execution_count": 4,
      "outputs": [
        {
          "output_type": "stream",
          "name": "stdout",
          "text": [
            "23\n",
            "42\n",
            "27\n",
            "dict_items([('Gontran', 23), ('Jason', 42), ('Ayoub', 27)])\n"
          ]
        }
      ]
    },
    {
      "cell_type": "markdown",
      "source": [
        "**4. Here I can recover the age of the people. How could I retrieve their names?**\n",
        "\n",
        "**Answer :**\n",
        "To retrieve their names, you can use the variable `i`, which contains the key in the tuple `(key, value)`. In this particular case, the tuple is `(name, age)`.\n"
      ],
      "metadata": {
        "id": "KQpdCOebRNJK"
      }
    },
    {
      "cell_type": "markdown",
      "source": [
        "---\n",
        "---"
      ],
      "metadata": {
        "id": "x8nO6JzBRalQ"
      }
    },
    {
      "cell_type": "markdown",
      "source": [
        "# Mission 2\n",
        "\n",
        "---"
      ],
      "metadata": {
        "id": "RtvppsDKR5hb"
      }
    },
    {
      "cell_type": "code",
      "source": [
        "people = {\"Gontran\": 23,\n",
        "          \"Jason\": 42,\n",
        "          \"Ayoub\": \"27\",\n",
        "          \"Léo\": [10,20,30],\n",
        "          \"Rosario\": {\"Juan\": 3,\n",
        "                      \"Camelia\": 6}}\n",
        "\n",
        "\n",
        "for i in people.values():\n",
        "  print(type(i))"
      ],
      "metadata": {
        "colab": {
          "base_uri": "https://localhost:8080/"
        },
        "id": "TcMSZ21vQbVg",
        "outputId": "3290662d-bf6b-49a2-b67a-7a58348040aa"
      },
      "execution_count": null,
      "outputs": [
        {
          "output_type": "stream",
          "name": "stdout",
          "text": [
            "<class 'int'>\n",
            "<class 'int'>\n",
            "<class 'str'>\n",
            "<class 'list'>\n",
            "<class 'dict'>\n"
          ]
        }
      ]
    },
    {
      "cell_type": "markdown",
      "source": [
        "**1. Does the above code allow me to confirm that I can have values of different types within a dictionary ?**\n",
        "\n",
        "**Answer :**\n",
        "Yes, you can have values of different types. In this particular case, the types can include integer, float, string, list, and dictionary, but you can also have values with types such as boolean, tuple, or other Python objects.\n",
        "\n",
        "\n",
        "**2. Can I have keys of different types within a dictionary ?**\n",
        "\n",
        "**Answer :**\n",
        "Yes, we can have `keys` of different types, but only immutable types. In other words, objects that cannot change their internal composition, such as integers, floats, strings, or booleans. Types like dictionaries, lists, or other mutable objects are not valid as dictionary keys.\n",
        "\n"
      ],
      "metadata": {
        "id": "A4iiS6uISakz"
      }
    },
    {
      "cell_type": "markdown",
      "source": [
        "---\n"
      ],
      "metadata": {
        "id": "zKPh5-cSSvWU"
      }
    },
    {
      "cell_type": "code",
      "source": [
        "people[\"Ayoub\"] = int(people[\"Ayoub\"])\n",
        "\n",
        "for i in people.values():\n",
        "  print(type(i))"
      ],
      "metadata": {
        "colab": {
          "base_uri": "https://localhost:8080/"
        },
        "id": "kuyirBaJSUjc",
        "outputId": "9eff9e3b-b074-4fed-dace-e28cf42c32d4"
      },
      "execution_count": null,
      "outputs": [
        {
          "output_type": "stream",
          "name": "stdout",
          "text": [
            "<class 'int'>\n",
            "<class 'int'>\n",
            "<class 'int'>\n",
            "<class 'list'>\n",
            "<class 'dict'>\n"
          ]
        }
      ]
    },
    {
      "cell_type": "markdown",
      "source": [
        "**# 3. What did the above code allow me to do?**\n",
        "\n",
        "**Answer :**\n",
        "In the first line, you transform the \"value\" for the \"key\" `\"Ayoub\"` in the `people` dictionary into an integer. In the `for` loop, you print the type of each value in the `people` dictionary.\n"
      ],
      "metadata": {
        "id": "kT7N2rbNTTQn"
      }
    },
    {
      "cell_type": "markdown",
      "source": [
        "---\n",
        "---"
      ],
      "metadata": {
        "id": "wgqE52glTXCQ"
      }
    },
    {
      "cell_type": "markdown",
      "source": [
        "# Mission 3\n",
        "\n",
        "---"
      ],
      "metadata": {
        "id": "4EqIZsMMUJGz"
      }
    },
    {
      "cell_type": "code",
      "source": [
        "groups = {\"groupe_1\": [\"Lam\", \"Ghizlaine\", \"Khaled\", \"Florian\"],\n",
        "          \"groupe_2\": [\"Lucile\", \"Mbaye\", \"Cécile\", \"Rohan\"],\n",
        "          \"groupe_3\": [\"Agathe\", \"Charlotte\", \"Charles\", \"Maxime\"],\n",
        "          \"groupe_4\": [\"Gaelle\", \"Linh\", \"Meral\"]}\n",
        "\n",
        "\n",
        "for i in groups.values():\n",
        "  print(i)"
      ],
      "metadata": {
        "colab": {
          "base_uri": "https://localhost:8080/"
        },
        "id": "5MhipD7vUJ-C",
        "outputId": "4c246a35-9d83-4d33-8cae-ccb72d191e1b"
      },
      "execution_count": null,
      "outputs": [
        {
          "output_type": "stream",
          "name": "stdout",
          "text": [
            "['Lam', 'Ghizlaine', 'Khaled', 'Florian']\n",
            "['Lucile', 'Mbaye', 'Cécile', 'Rohan']\n",
            "['Agathe', 'Charlotte', 'Charles', 'Maxime']\n",
            "['Gaelle', 'Linh', 'Meral']\n"
          ]
        }
      ]
    },
    {
      "cell_type": "markdown",
      "source": [
        "**1.**\n",
        "\n",
        "- **What is the type of each value ?**\n",
        "\n",
        "    **Answer :**\n",
        "    The type of each value is the same, the `list` type.\n",
        "\n",
        "    \n",
        "\n",
        "- **How do I get into each list ?**\n",
        "\n",
        "    **Answer :**\n",
        "    We can use a **`for`** loop to iterate through each list. Something like:\n",
        "\n",
        "    \n",
        "    ```python\n",
        "    for i in group.values():\n",
        "        for name in i:\n",
        "            print(name)\n",
        "    ```"
      ],
      "metadata": {
        "id": "icbZnQreUcgu"
      }
    },
    {
      "cell_type": "markdown",
      "source": [
        "---"
      ],
      "metadata": {
        "id": "Pu4q1UrAYrFT"
      }
    },
    {
      "cell_type": "code",
      "source": [
        "for i in groups.values():\n",
        "  for v in i:\n",
        "    print(v)"
      ],
      "metadata": {
        "colab": {
          "base_uri": "https://localhost:8080/"
        },
        "id": "3OZb9do4UWp7",
        "outputId": "93d2057a-0a57-49ef-8f6f-4ae0d30cb971"
      },
      "execution_count": null,
      "outputs": [
        {
          "output_type": "stream",
          "name": "stdout",
          "text": [
            "Lam\n",
            "Ghizlaine\n",
            "Khaled\n",
            "Florian\n",
            "Lucile\n",
            "Mbaye\n",
            "Cécile\n",
            "Rohan\n",
            "Agathe\n",
            "Charlotte\n",
            "Charles\n",
            "Maxime\n",
            "Gaelle\n",
            "Linh\n",
            "Meral\n"
          ]
        }
      ]
    },
    {
      "cell_type": "markdown",
      "source": [
        "**2. How did I get into each list ?**\n",
        "\n",
        "        Take the time to explain your reasoning for answering this question.\n",
        "\n",
        "**Answer :**\n",
        "In the first `for` loop, we iterate through each value of the dictionary, which is a list (represented by the variable `i`). The `values()` method returns a view of all the values in the dictionary, and in this case, those values are lists. In the inner `for` loop, we iterate through each element of the list `i`, which is represented by the variable `v`. Then, we print the content of `v`.\n"
      ],
      "metadata": {
        "id": "M31rg5ryV0Hc"
      }
    }
  ]
}