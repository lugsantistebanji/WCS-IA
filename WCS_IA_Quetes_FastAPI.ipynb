{
  "nbformat": 4,
  "nbformat_minor": 0,
  "metadata": {
    "colab": {
      "provenance": [],
      "authorship_tag": "ABX9TyMWy3rzbckkjVZEiWsmhOaB",
      "include_colab_link": true
    },
    "kernelspec": {
      "name": "python3",
      "display_name": "Python 3"
    },
    "language_info": {
      "name": "python"
    }
  },
  "cells": [
    {
      "cell_type": "markdown",
      "metadata": {
        "id": "view-in-github",
        "colab_type": "text"
      },
      "source": [
        "<a href=\"https://colab.research.google.com/github/lugsantistebanji/WCS-IA/blob/main/WCS_IA_Quetes_FastAPI.ipynb\" target=\"_parent\"><img src=\"https://colab.research.google.com/assets/colab-badge.svg\" alt=\"Open In Colab\"/></a>"
      ]
    },
    {
      "cell_type": "markdown",
      "source": [
        "# FastAPI"
      ],
      "metadata": {
        "id": "TxEmcd9fQgLx"
      }
    },
    {
      "cell_type": "markdown",
      "source": [
        "Dans ce challenge, tu vas créer une API sur les communes de France. Tout d'abord, commence par télécharger ce [fichier](https://drive.google.com/file/d/1TMcP8ENPRakdqpqBNqtNPitIhbb_8kYC/view?usp=drive_link) qui contient les données dont nous avons besoin."
      ],
      "metadata": {
        "id": "1lDEbz49QlWO"
      }
    },
    {
      "cell_type": "markdown",
      "source": [
        "1. __Install `fastapi` and `uvicorn`__"
      ],
      "metadata": {
        "id": "lo5A14PmQx9l"
      }
    },
    {
      "cell_type": "code",
      "source": [
        "!pip install fastapi uvicorn pyngrok"
      ],
      "metadata": {
        "colab": {
          "base_uri": "https://localhost:8080/"
        },
        "id": "Bm8mR1N4RhnL",
        "outputId": "283988b1-2e95-462a-8d20-a44af9a73a01"
      },
      "execution_count": 5,
      "outputs": [
        {
          "output_type": "stream",
          "name": "stdout",
          "text": [
            "Requirement already satisfied: fastapi in /usr/local/lib/python3.11/dist-packages (0.115.8)\n",
            "Requirement already satisfied: uvicorn in /usr/local/lib/python3.11/dist-packages (0.34.0)\n",
            "Requirement already satisfied: pyngrok in /usr/local/lib/python3.11/dist-packages (7.2.3)\n",
            "Requirement already satisfied: starlette<0.46.0,>=0.40.0 in /usr/local/lib/python3.11/dist-packages (from fastapi) (0.45.3)\n",
            "Requirement already satisfied: pydantic!=1.8,!=1.8.1,!=2.0.0,!=2.0.1,!=2.1.0,<3.0.0,>=1.7.4 in /usr/local/lib/python3.11/dist-packages (from fastapi) (2.10.6)\n",
            "Requirement already satisfied: typing-extensions>=4.8.0 in /usr/local/lib/python3.11/dist-packages (from fastapi) (4.12.2)\n",
            "Requirement already satisfied: click>=7.0 in /usr/local/lib/python3.11/dist-packages (from uvicorn) (8.1.8)\n",
            "Requirement already satisfied: h11>=0.8 in /usr/local/lib/python3.11/dist-packages (from uvicorn) (0.14.0)\n",
            "Requirement already satisfied: PyYAML>=5.1 in /usr/local/lib/python3.11/dist-packages (from pyngrok) (6.0.2)\n",
            "Requirement already satisfied: annotated-types>=0.6.0 in /usr/local/lib/python3.11/dist-packages (from pydantic!=1.8,!=1.8.1,!=2.0.0,!=2.0.1,!=2.1.0,<3.0.0,>=1.7.4->fastapi) (0.7.0)\n",
            "Requirement already satisfied: pydantic-core==2.27.2 in /usr/local/lib/python3.11/dist-packages (from pydantic!=1.8,!=1.8.1,!=2.0.0,!=2.0.1,!=2.1.0,<3.0.0,>=1.7.4->fastapi) (2.27.2)\n",
            "Requirement already satisfied: anyio<5,>=3.6.2 in /usr/local/lib/python3.11/dist-packages (from starlette<0.46.0,>=0.40.0->fastapi) (3.7.1)\n",
            "Requirement already satisfied: idna>=2.8 in /usr/local/lib/python3.11/dist-packages (from anyio<5,>=3.6.2->starlette<0.46.0,>=0.40.0->fastapi) (3.10)\n",
            "Requirement already satisfied: sniffio>=1.1 in /usr/local/lib/python3.11/dist-packages (from anyio<5,>=3.6.2->starlette<0.46.0,>=0.40.0->fastapi) (1.3.1)\n"
          ]
        }
      ]
    },
    {
      "cell_type": "markdown",
      "source": [
        "2. __imports__"
      ],
      "metadata": {
        "id": "LJoLPoFNS_x2"
      }
    },
    {
      "cell_type": "code",
      "source": [
        "from fastapi import FastAPI\n",
        "import pandas as pd\n",
        "from IPython.display import Javascript"
      ],
      "metadata": {
        "id": "Jr8VS8qDQuPj"
      },
      "execution_count": 6,
      "outputs": []
    },
    {
      "cell_type": "code",
      "source": [
        "display(Javascript('''google.colab.output.setIframeHeight(0, true, {maxHeight: 300})'''))"
      ],
      "metadata": {
        "colab": {
          "base_uri": "https://localhost:8080/",
          "height": 17
        },
        "id": "AZ3XL3JTZrlj",
        "outputId": "9fdcbc9f-f328-4e46-c74e-81e3a197b054"
      },
      "execution_count": 7,
      "outputs": [
        {
          "output_type": "display_data",
          "data": {
            "text/plain": [
              "<IPython.core.display.Javascript object>"
            ],
            "application/javascript": [
              "google.colab.output.setIframeHeight(0, true, {maxHeight: 300})"
            ]
          },
          "metadata": {}
        }
      ]
    },
    {
      "cell_type": "markdown",
      "source": [
        "3. __Import data and transform in DataFrame__"
      ],
      "metadata": {
        "id": "xDlAeuItTFTI"
      }
    },
    {
      "cell_type": "code",
      "source": [
        "link_csv = \"https://drive.google.com/uc?export=download&id=1TMcP8ENPRakdqpqBNqtNPitIhbb_8kYC\"\n",
        "\n",
        "communes = pd.read_csv(link_csv, index_col=\"Unnamed: 0\")\n",
        "communes.head()"
      ],
      "metadata": {
        "colab": {
          "base_uri": "https://localhost:8080/",
          "height": 206
        },
        "id": "UGJJjTpJSyj7",
        "outputId": "a4c61f4a-0916-4351-c133-bc6d1e9c21b5"
      },
      "execution_count": 8,
      "outputs": [
        {
          "output_type": "execute_result",
          "data": {
            "text/plain": [
              "  code_commune_INSEE  code_postal   latitude  longitude  \\\n",
              "0               1001         1400  46.153426   4.926114   \n",
              "1               1002         1640  46.009188   5.428017   \n",
              "2               1004         1500  45.960848   5.372926   \n",
              "3               1005         1330  45.996180   4.912273   \n",
              "4               1006         1300  45.749499   5.594320   \n",
              "\n",
              "       nom_commune_complet nom_departement            nom_region  \n",
              "0  L'Abergement-Clémenciat             Ain  Auvergne-Rhône-Alpes  \n",
              "1    L'Abergement-de-Varey             Ain  Auvergne-Rhône-Alpes  \n",
              "2        Ambérieu-en-Bugey             Ain  Auvergne-Rhône-Alpes  \n",
              "3      Ambérieux-en-Dombes             Ain  Auvergne-Rhône-Alpes  \n",
              "4                  Ambléon             Ain  Auvergne-Rhône-Alpes  "
            ],
            "text/html": [
              "\n",
              "  <div id=\"df-9ff1589e-5f23-4eb0-bda4-10a7144ea457\" class=\"colab-df-container\">\n",
              "    <div>\n",
              "<style scoped>\n",
              "    .dataframe tbody tr th:only-of-type {\n",
              "        vertical-align: middle;\n",
              "    }\n",
              "\n",
              "    .dataframe tbody tr th {\n",
              "        vertical-align: top;\n",
              "    }\n",
              "\n",
              "    .dataframe thead th {\n",
              "        text-align: right;\n",
              "    }\n",
              "</style>\n",
              "<table border=\"1\" class=\"dataframe\">\n",
              "  <thead>\n",
              "    <tr style=\"text-align: right;\">\n",
              "      <th></th>\n",
              "      <th>code_commune_INSEE</th>\n",
              "      <th>code_postal</th>\n",
              "      <th>latitude</th>\n",
              "      <th>longitude</th>\n",
              "      <th>nom_commune_complet</th>\n",
              "      <th>nom_departement</th>\n",
              "      <th>nom_region</th>\n",
              "    </tr>\n",
              "  </thead>\n",
              "  <tbody>\n",
              "    <tr>\n",
              "      <th>0</th>\n",
              "      <td>1001</td>\n",
              "      <td>1400</td>\n",
              "      <td>46.153426</td>\n",
              "      <td>4.926114</td>\n",
              "      <td>L'Abergement-Clémenciat</td>\n",
              "      <td>Ain</td>\n",
              "      <td>Auvergne-Rhône-Alpes</td>\n",
              "    </tr>\n",
              "    <tr>\n",
              "      <th>1</th>\n",
              "      <td>1002</td>\n",
              "      <td>1640</td>\n",
              "      <td>46.009188</td>\n",
              "      <td>5.428017</td>\n",
              "      <td>L'Abergement-de-Varey</td>\n",
              "      <td>Ain</td>\n",
              "      <td>Auvergne-Rhône-Alpes</td>\n",
              "    </tr>\n",
              "    <tr>\n",
              "      <th>2</th>\n",
              "      <td>1004</td>\n",
              "      <td>1500</td>\n",
              "      <td>45.960848</td>\n",
              "      <td>5.372926</td>\n",
              "      <td>Ambérieu-en-Bugey</td>\n",
              "      <td>Ain</td>\n",
              "      <td>Auvergne-Rhône-Alpes</td>\n",
              "    </tr>\n",
              "    <tr>\n",
              "      <th>3</th>\n",
              "      <td>1005</td>\n",
              "      <td>1330</td>\n",
              "      <td>45.996180</td>\n",
              "      <td>4.912273</td>\n",
              "      <td>Ambérieux-en-Dombes</td>\n",
              "      <td>Ain</td>\n",
              "      <td>Auvergne-Rhône-Alpes</td>\n",
              "    </tr>\n",
              "    <tr>\n",
              "      <th>4</th>\n",
              "      <td>1006</td>\n",
              "      <td>1300</td>\n",
              "      <td>45.749499</td>\n",
              "      <td>5.594320</td>\n",
              "      <td>Ambléon</td>\n",
              "      <td>Ain</td>\n",
              "      <td>Auvergne-Rhône-Alpes</td>\n",
              "    </tr>\n",
              "  </tbody>\n",
              "</table>\n",
              "</div>\n",
              "    <div class=\"colab-df-buttons\">\n",
              "\n",
              "  <div class=\"colab-df-container\">\n",
              "    <button class=\"colab-df-convert\" onclick=\"convertToInteractive('df-9ff1589e-5f23-4eb0-bda4-10a7144ea457')\"\n",
              "            title=\"Convert this dataframe to an interactive table.\"\n",
              "            style=\"display:none;\">\n",
              "\n",
              "  <svg xmlns=\"http://www.w3.org/2000/svg\" height=\"24px\" viewBox=\"0 -960 960 960\">\n",
              "    <path d=\"M120-120v-720h720v720H120Zm60-500h600v-160H180v160Zm220 220h160v-160H400v160Zm0 220h160v-160H400v160ZM180-400h160v-160H180v160Zm440 0h160v-160H620v160ZM180-180h160v-160H180v160Zm440 0h160v-160H620v160Z\"/>\n",
              "  </svg>\n",
              "    </button>\n",
              "\n",
              "  <style>\n",
              "    .colab-df-container {\n",
              "      display:flex;\n",
              "      gap: 12px;\n",
              "    }\n",
              "\n",
              "    .colab-df-convert {\n",
              "      background-color: #E8F0FE;\n",
              "      border: none;\n",
              "      border-radius: 50%;\n",
              "      cursor: pointer;\n",
              "      display: none;\n",
              "      fill: #1967D2;\n",
              "      height: 32px;\n",
              "      padding: 0 0 0 0;\n",
              "      width: 32px;\n",
              "    }\n",
              "\n",
              "    .colab-df-convert:hover {\n",
              "      background-color: #E2EBFA;\n",
              "      box-shadow: 0px 1px 2px rgba(60, 64, 67, 0.3), 0px 1px 3px 1px rgba(60, 64, 67, 0.15);\n",
              "      fill: #174EA6;\n",
              "    }\n",
              "\n",
              "    .colab-df-buttons div {\n",
              "      margin-bottom: 4px;\n",
              "    }\n",
              "\n",
              "    [theme=dark] .colab-df-convert {\n",
              "      background-color: #3B4455;\n",
              "      fill: #D2E3FC;\n",
              "    }\n",
              "\n",
              "    [theme=dark] .colab-df-convert:hover {\n",
              "      background-color: #434B5C;\n",
              "      box-shadow: 0px 1px 3px 1px rgba(0, 0, 0, 0.15);\n",
              "      filter: drop-shadow(0px 1px 2px rgba(0, 0, 0, 0.3));\n",
              "      fill: #FFFFFF;\n",
              "    }\n",
              "  </style>\n",
              "\n",
              "    <script>\n",
              "      const buttonEl =\n",
              "        document.querySelector('#df-9ff1589e-5f23-4eb0-bda4-10a7144ea457 button.colab-df-convert');\n",
              "      buttonEl.style.display =\n",
              "        google.colab.kernel.accessAllowed ? 'block' : 'none';\n",
              "\n",
              "      async function convertToInteractive(key) {\n",
              "        const element = document.querySelector('#df-9ff1589e-5f23-4eb0-bda4-10a7144ea457');\n",
              "        const dataTable =\n",
              "          await google.colab.kernel.invokeFunction('convertToInteractive',\n",
              "                                                    [key], {});\n",
              "        if (!dataTable) return;\n",
              "\n",
              "        const docLinkHtml = 'Like what you see? Visit the ' +\n",
              "          '<a target=\"_blank\" href=https://colab.research.google.com/notebooks/data_table.ipynb>data table notebook</a>'\n",
              "          + ' to learn more about interactive tables.';\n",
              "        element.innerHTML = '';\n",
              "        dataTable['output_type'] = 'display_data';\n",
              "        await google.colab.output.renderOutput(dataTable, element);\n",
              "        const docLink = document.createElement('div');\n",
              "        docLink.innerHTML = docLinkHtml;\n",
              "        element.appendChild(docLink);\n",
              "      }\n",
              "    </script>\n",
              "  </div>\n",
              "\n",
              "\n",
              "<div id=\"df-9aab74e6-771a-46b2-b02b-4c29605f9d9d\">\n",
              "  <button class=\"colab-df-quickchart\" onclick=\"quickchart('df-9aab74e6-771a-46b2-b02b-4c29605f9d9d')\"\n",
              "            title=\"Suggest charts\"\n",
              "            style=\"display:none;\">\n",
              "\n",
              "<svg xmlns=\"http://www.w3.org/2000/svg\" height=\"24px\"viewBox=\"0 0 24 24\"\n",
              "     width=\"24px\">\n",
              "    <g>\n",
              "        <path d=\"M19 3H5c-1.1 0-2 .9-2 2v14c0 1.1.9 2 2 2h14c1.1 0 2-.9 2-2V5c0-1.1-.9-2-2-2zM9 17H7v-7h2v7zm4 0h-2V7h2v10zm4 0h-2v-4h2v4z\"/>\n",
              "    </g>\n",
              "</svg>\n",
              "  </button>\n",
              "\n",
              "<style>\n",
              "  .colab-df-quickchart {\n",
              "      --bg-color: #E8F0FE;\n",
              "      --fill-color: #1967D2;\n",
              "      --hover-bg-color: #E2EBFA;\n",
              "      --hover-fill-color: #174EA6;\n",
              "      --disabled-fill-color: #AAA;\n",
              "      --disabled-bg-color: #DDD;\n",
              "  }\n",
              "\n",
              "  [theme=dark] .colab-df-quickchart {\n",
              "      --bg-color: #3B4455;\n",
              "      --fill-color: #D2E3FC;\n",
              "      --hover-bg-color: #434B5C;\n",
              "      --hover-fill-color: #FFFFFF;\n",
              "      --disabled-bg-color: #3B4455;\n",
              "      --disabled-fill-color: #666;\n",
              "  }\n",
              "\n",
              "  .colab-df-quickchart {\n",
              "    background-color: var(--bg-color);\n",
              "    border: none;\n",
              "    border-radius: 50%;\n",
              "    cursor: pointer;\n",
              "    display: none;\n",
              "    fill: var(--fill-color);\n",
              "    height: 32px;\n",
              "    padding: 0;\n",
              "    width: 32px;\n",
              "  }\n",
              "\n",
              "  .colab-df-quickchart:hover {\n",
              "    background-color: var(--hover-bg-color);\n",
              "    box-shadow: 0 1px 2px rgba(60, 64, 67, 0.3), 0 1px 3px 1px rgba(60, 64, 67, 0.15);\n",
              "    fill: var(--button-hover-fill-color);\n",
              "  }\n",
              "\n",
              "  .colab-df-quickchart-complete:disabled,\n",
              "  .colab-df-quickchart-complete:disabled:hover {\n",
              "    background-color: var(--disabled-bg-color);\n",
              "    fill: var(--disabled-fill-color);\n",
              "    box-shadow: none;\n",
              "  }\n",
              "\n",
              "  .colab-df-spinner {\n",
              "    border: 2px solid var(--fill-color);\n",
              "    border-color: transparent;\n",
              "    border-bottom-color: var(--fill-color);\n",
              "    animation:\n",
              "      spin 1s steps(1) infinite;\n",
              "  }\n",
              "\n",
              "  @keyframes spin {\n",
              "    0% {\n",
              "      border-color: transparent;\n",
              "      border-bottom-color: var(--fill-color);\n",
              "      border-left-color: var(--fill-color);\n",
              "    }\n",
              "    20% {\n",
              "      border-color: transparent;\n",
              "      border-left-color: var(--fill-color);\n",
              "      border-top-color: var(--fill-color);\n",
              "    }\n",
              "    30% {\n",
              "      border-color: transparent;\n",
              "      border-left-color: var(--fill-color);\n",
              "      border-top-color: var(--fill-color);\n",
              "      border-right-color: var(--fill-color);\n",
              "    }\n",
              "    40% {\n",
              "      border-color: transparent;\n",
              "      border-right-color: var(--fill-color);\n",
              "      border-top-color: var(--fill-color);\n",
              "    }\n",
              "    60% {\n",
              "      border-color: transparent;\n",
              "      border-right-color: var(--fill-color);\n",
              "    }\n",
              "    80% {\n",
              "      border-color: transparent;\n",
              "      border-right-color: var(--fill-color);\n",
              "      border-bottom-color: var(--fill-color);\n",
              "    }\n",
              "    90% {\n",
              "      border-color: transparent;\n",
              "      border-bottom-color: var(--fill-color);\n",
              "    }\n",
              "  }\n",
              "</style>\n",
              "\n",
              "  <script>\n",
              "    async function quickchart(key) {\n",
              "      const quickchartButtonEl =\n",
              "        document.querySelector('#' + key + ' button');\n",
              "      quickchartButtonEl.disabled = true;  // To prevent multiple clicks.\n",
              "      quickchartButtonEl.classList.add('colab-df-spinner');\n",
              "      try {\n",
              "        const charts = await google.colab.kernel.invokeFunction(\n",
              "            'suggestCharts', [key], {});\n",
              "      } catch (error) {\n",
              "        console.error('Error during call to suggestCharts:', error);\n",
              "      }\n",
              "      quickchartButtonEl.classList.remove('colab-df-spinner');\n",
              "      quickchartButtonEl.classList.add('colab-df-quickchart-complete');\n",
              "    }\n",
              "    (() => {\n",
              "      let quickchartButtonEl =\n",
              "        document.querySelector('#df-9aab74e6-771a-46b2-b02b-4c29605f9d9d button');\n",
              "      quickchartButtonEl.style.display =\n",
              "        google.colab.kernel.accessAllowed ? 'block' : 'none';\n",
              "    })();\n",
              "  </script>\n",
              "</div>\n",
              "\n",
              "    </div>\n",
              "  </div>\n"
            ],
            "application/vnd.google.colaboratory.intrinsic+json": {
              "type": "dataframe",
              "variable_name": "communes",
              "summary": "{\n  \"name\": \"communes\",\n  \"rows\": 38932,\n  \"fields\": [\n    {\n      \"column\": \"code_commune_INSEE\",\n      \"properties\": {\n        \"dtype\": \"string\",\n        \"num_unique_values\": 35921,\n        \"samples\": [\n          \"36141\",\n          \"21566\",\n          \"59389\"\n        ],\n        \"semantic_type\": \"\",\n        \"description\": \"\"\n      }\n    },\n    {\n      \"column\": \"code_postal\",\n      \"properties\": {\n        \"dtype\": \"number\",\n        \"std\": 25630,\n        \"min\": 1000,\n        \"max\": 97680,\n        \"num_unique_values\": 6187,\n        \"samples\": [\n          82440,\n          17810,\n          17470\n        ],\n        \"semantic_type\": \"\",\n        \"description\": \"\"\n      }\n    },\n    {\n      \"column\": \"latitude\",\n      \"properties\": {\n        \"dtype\": \"number\",\n        \"std\": 4.4845314979355155,\n        \"min\": -21.3401068981,\n        \"max\": 51.0730436867,\n        \"num_unique_values\": 35921,\n        \"samples\": [\n          46.5924338706,\n          47.0569877471,\n          50.104659247\n        ],\n        \"semantic_type\": \"\",\n        \"description\": \"\"\n      }\n    },\n    {\n      \"column\": \"longitude\",\n      \"properties\": {\n        \"dtype\": \"number\",\n        \"std\": 4.932593391324884,\n        \"min\": -61.7795787226,\n        \"max\": 55.7545224725,\n        \"num_unique_values\": 35921,\n        \"samples\": [\n          1.81276111894,\n          4.52938380841,\n          3.20208772877\n        ],\n        \"semantic_type\": \"\",\n        \"description\": \"\"\n      }\n    },\n    {\n      \"column\": \"nom_commune_complet\",\n      \"properties\": {\n        \"dtype\": \"string\",\n        \"num_unique_values\": 33519,\n        \"samples\": [\n          \"Moutiers-Saint-Jean\",\n          \"Rouz\\u00e8de\",\n          \"Givors\"\n        ],\n        \"semantic_type\": \"\",\n        \"description\": \"\"\n      }\n    },\n    {\n      \"column\": \"nom_departement\",\n      \"properties\": {\n        \"dtype\": \"category\",\n        \"num_unique_values\": 101,\n        \"samples\": [\n          \"Vaucluse\",\n          \"Meuse\",\n          \"Pyr\\u00e9n\\u00e9es-Orientales\"\n        ],\n        \"semantic_type\": \"\",\n        \"description\": \"\"\n      }\n    },\n    {\n      \"column\": \"nom_region\",\n      \"properties\": {\n        \"dtype\": \"category\",\n        \"num_unique_values\": 18,\n        \"samples\": [\n          \"Auvergne-Rh\\u00f4ne-Alpes\",\n          \"Hauts-de-France\",\n          \"Bourgogne-Franche-Comt\\u00e9\"\n        ],\n        \"semantic_type\": \"\",\n        \"description\": \"\"\n      }\n    }\n  ]\n}"
            }
          },
          "metadata": {},
          "execution_count": 8
        }
      ]
    },
    {
      "cell_type": "markdown",
      "source": [
        "4. __Nombre de Villes par région__"
      ],
      "metadata": {
        "id": "E5XuYkJKTOcC"
      }
    },
    {
      "cell_type": "code",
      "source": [
        "nb_towns_by_region = communes.groupby('nom_region')['code_commune_INSEE'].count().rename('nb_towns')\n",
        "nb_towns_by_region"
      ],
      "metadata": {
        "colab": {
          "base_uri": "https://localhost:8080/",
          "height": 680
        },
        "id": "1v1BZ7x3S3Rx",
        "outputId": "8249efa1-87be-4170-9a5a-eacf2b87ca17"
      },
      "execution_count": 9,
      "outputs": [
        {
          "output_type": "execute_result",
          "data": {
            "text/plain": [
              "nom_region\n",
              "Auvergne-Rhône-Alpes          4467\n",
              "Bourgogne-Franche-Comté       4031\n",
              "Bretagne                      1362\n",
              "Centre-Val de Loire           1892\n",
              "Corse                          418\n",
              "Grand Est                     5672\n",
              "Guadeloupe                      38\n",
              "Guyane                          25\n",
              "Hauts-de-France               3947\n",
              "La Réunion                      85\n",
              "Martinique                      38\n",
              "Mayotte                         23\n",
              "Normandie                     3375\n",
              "Nouvelle-Aquitaine            4719\n",
              "Occitanie                     4699\n",
              "Pays de la Loire              1603\n",
              "Provence-Alpes-Côte d'Azur    1155\n",
              "Île-de-France                 1383\n",
              "Name: nb_towns, dtype: int64"
            ],
            "text/html": [
              "<div>\n",
              "<style scoped>\n",
              "    .dataframe tbody tr th:only-of-type {\n",
              "        vertical-align: middle;\n",
              "    }\n",
              "\n",
              "    .dataframe tbody tr th {\n",
              "        vertical-align: top;\n",
              "    }\n",
              "\n",
              "    .dataframe thead th {\n",
              "        text-align: right;\n",
              "    }\n",
              "</style>\n",
              "<table border=\"1\" class=\"dataframe\">\n",
              "  <thead>\n",
              "    <tr style=\"text-align: right;\">\n",
              "      <th></th>\n",
              "      <th>nb_towns</th>\n",
              "    </tr>\n",
              "    <tr>\n",
              "      <th>nom_region</th>\n",
              "      <th></th>\n",
              "    </tr>\n",
              "  </thead>\n",
              "  <tbody>\n",
              "    <tr>\n",
              "      <th>Auvergne-Rhône-Alpes</th>\n",
              "      <td>4467</td>\n",
              "    </tr>\n",
              "    <tr>\n",
              "      <th>Bourgogne-Franche-Comté</th>\n",
              "      <td>4031</td>\n",
              "    </tr>\n",
              "    <tr>\n",
              "      <th>Bretagne</th>\n",
              "      <td>1362</td>\n",
              "    </tr>\n",
              "    <tr>\n",
              "      <th>Centre-Val de Loire</th>\n",
              "      <td>1892</td>\n",
              "    </tr>\n",
              "    <tr>\n",
              "      <th>Corse</th>\n",
              "      <td>418</td>\n",
              "    </tr>\n",
              "    <tr>\n",
              "      <th>Grand Est</th>\n",
              "      <td>5672</td>\n",
              "    </tr>\n",
              "    <tr>\n",
              "      <th>Guadeloupe</th>\n",
              "      <td>38</td>\n",
              "    </tr>\n",
              "    <tr>\n",
              "      <th>Guyane</th>\n",
              "      <td>25</td>\n",
              "    </tr>\n",
              "    <tr>\n",
              "      <th>Hauts-de-France</th>\n",
              "      <td>3947</td>\n",
              "    </tr>\n",
              "    <tr>\n",
              "      <th>La Réunion</th>\n",
              "      <td>85</td>\n",
              "    </tr>\n",
              "    <tr>\n",
              "      <th>Martinique</th>\n",
              "      <td>38</td>\n",
              "    </tr>\n",
              "    <tr>\n",
              "      <th>Mayotte</th>\n",
              "      <td>23</td>\n",
              "    </tr>\n",
              "    <tr>\n",
              "      <th>Normandie</th>\n",
              "      <td>3375</td>\n",
              "    </tr>\n",
              "    <tr>\n",
              "      <th>Nouvelle-Aquitaine</th>\n",
              "      <td>4719</td>\n",
              "    </tr>\n",
              "    <tr>\n",
              "      <th>Occitanie</th>\n",
              "      <td>4699</td>\n",
              "    </tr>\n",
              "    <tr>\n",
              "      <th>Pays de la Loire</th>\n",
              "      <td>1603</td>\n",
              "    </tr>\n",
              "    <tr>\n",
              "      <th>Provence-Alpes-Côte d'Azur</th>\n",
              "      <td>1155</td>\n",
              "    </tr>\n",
              "    <tr>\n",
              "      <th>Île-de-France</th>\n",
              "      <td>1383</td>\n",
              "    </tr>\n",
              "  </tbody>\n",
              "</table>\n",
              "</div><br><label><b>dtype:</b> int64</label>"
            ]
          },
          "metadata": {},
          "execution_count": 9
        }
      ]
    },
    {
      "cell_type": "markdown",
      "source": [
        "5. __Départements by region avec leur nombre de communes__"
      ],
      "metadata": {
        "id": "6cDHq9fTV5e0"
      }
    },
    {
      "cell_type": "code",
      "source": [
        "regions = communes['nom_region'].unique()\n",
        "regions"
      ],
      "metadata": {
        "colab": {
          "base_uri": "https://localhost:8080/"
        },
        "id": "MCRfc2YJWJWq",
        "outputId": "a335adb7-f92f-49c5-dc58-ffc163628c6a"
      },
      "execution_count": 10,
      "outputs": [
        {
          "output_type": "execute_result",
          "data": {
            "text/plain": [
              "array(['Auvergne-Rhône-Alpes', 'Hauts-de-France',\n",
              "       \"Provence-Alpes-Côte d'Azur\", 'Grand Est', 'Occitanie',\n",
              "       'Normandie', 'Nouvelle-Aquitaine', 'Centre-Val de Loire',\n",
              "       'Bourgogne-Franche-Comté', 'Bretagne', 'Corse', 'Pays de la Loire',\n",
              "       'Île-de-France', 'Guadeloupe', 'Martinique', 'Guyane',\n",
              "       'La Réunion', 'Mayotte'], dtype=object)"
            ]
          },
          "metadata": {},
          "execution_count": 10
        }
      ]
    },
    {
      "cell_type": "code",
      "source": [
        "for region in regions[:3]:\n",
        "    print(f\"--------------------region: {region}---------------------------\")\n",
        "    towns_by_department = communes.loc[communes['nom_region'] == region].groupby('nom_departement')['code_commune_INSEE'].count().rename('nb_towns').to_dict()\n",
        "\n",
        "    print(towns_by_department, end=\"\\n\\n\")"
      ],
      "metadata": {
        "colab": {
          "base_uri": "https://localhost:8080/"
        },
        "id": "6my4AvUEWqBF",
        "outputId": "73857b54-c86e-458c-d469-e5792a249ee6"
      },
      "execution_count": 26,
      "outputs": [
        {
          "output_type": "stream",
          "name": "stdout",
          "text": [
            "--------------------region: Auvergne-Rhône-Alpes---------------------------\n",
            "{'Ain': 457, 'Allier': 321, 'Ardèche': 354, 'Cantal': 272, 'Drôme': 393, 'Haute-Loire': 267, 'Haute-Savoie': 330, 'Isère': 570, 'Loire': 340, 'Puy-de-Dôme': 491, 'Rhône': 341, 'Savoie': 331}\n",
            "\n",
            "--------------------region: Hauts-de-France---------------------------\n",
            "{'Aisne': 830, 'Nord': 683, 'Oise': 698, 'Pas-de-Calais': 915, 'Somme': 821}\n",
            "\n",
            "--------------------region: Provence-Alpes-Côte d'Azur---------------------------\n",
            "{'Alpes-Maritimes': 193, 'Alpes-de-Haute-Provence': 244, 'Bouches-du-Rhône': 193, 'Hautes-Alpes': 183, 'Var': 189, 'Vaucluse': 153}\n",
            "\n"
          ]
        }
      ]
    },
    {
      "cell_type": "markdown",
      "source": [
        "6. __Communes par département avec leur code commune INSEE__"
      ],
      "metadata": {
        "id": "ZJdkB79HYz_T"
      }
    },
    {
      "cell_type": "code",
      "source": [
        "departements = communes['nom_departement'].unique()\n",
        "departements"
      ],
      "metadata": {
        "colab": {
          "base_uri": "https://localhost:8080/"
        },
        "id": "VTLa1idcXFCK",
        "outputId": "9e5561c9-9dd3-4441-ea99-e53fbb9ee972"
      },
      "execution_count": 12,
      "outputs": [
        {
          "output_type": "execute_result",
          "data": {
            "text/plain": [
              "array(['Ain', 'Aisne', 'Allier', 'Alpes-de-Haute-Provence',\n",
              "       'Hautes-Alpes', 'Alpes-Maritimes', 'Ardèche', 'Ardennes', 'Ariège',\n",
              "       'Aube', 'Aude', 'Aveyron', 'Bouches-du-Rhône', 'Calvados',\n",
              "       'Cantal', 'Charente', 'Charente-Maritime', 'Cher', 'Corrèze',\n",
              "       \"Côte-d'Or\", \"Côtes-d'Armor\", 'Creuse', 'Dordogne', 'Doubs',\n",
              "       'Drôme', 'Eure', 'Eure-et-Loir', 'Finistère', 'Corse-du-Sud',\n",
              "       'Haute-Corse', 'Gard', 'Haute-Garonne', 'Gers', 'Gironde',\n",
              "       'Hérault', 'Ille-et-Vilaine', 'Indre', 'Indre-et-Loire', 'Isère',\n",
              "       'Jura', 'Landes', 'Loir-et-Cher', 'Loire', 'Haute-Loire',\n",
              "       'Loire-Atlantique', 'Loiret', 'Lot', 'Lot-et-Garonne', 'Lozère',\n",
              "       'Maine-et-Loire', 'Manche', 'Marne', 'Haute-Marne', 'Mayenne',\n",
              "       'Meurthe-et-Moselle', 'Meuse', 'Morbihan', 'Moselle', 'Nièvre',\n",
              "       'Nord', 'Oise', 'Orne', 'Pas-de-Calais', 'Puy-de-Dôme',\n",
              "       'Pyrénées-Atlantiques', 'Hautes-Pyrénées', 'Pyrénées-Orientales',\n",
              "       'Bas-Rhin', 'Haut-Rhin', 'Rhône', 'Haute-Saône', 'Saône-et-Loire',\n",
              "       'Sarthe', 'Savoie', 'Haute-Savoie', 'Paris', 'Seine-Maritime',\n",
              "       'Seine-et-Marne', 'Yvelines', 'Deux-Sèvres', 'Somme', 'Tarn',\n",
              "       'Tarn-et-Garonne', 'Var', 'Vaucluse', 'Vendée', 'Vienne',\n",
              "       'Haute-Vienne', 'Vosges', 'Yonne', 'Territoire de Belfort',\n",
              "       'Essonne', 'Hauts-de-Seine', 'Seine-Saint-Denis', 'Val-de-Marne',\n",
              "       \"Val-d'Oise\", 'Guadeloupe', 'Martinique', 'Guyane', 'La Réunion',\n",
              "       'Mayotte'], dtype=object)"
            ]
          },
          "metadata": {},
          "execution_count": 12
        }
      ]
    },
    {
      "cell_type": "code",
      "source": [
        "for departement in departements[:3]:\n",
        "    print(f\"---------------departement: {departement}------------------------\")\n",
        "    communes_by_department = communes.loc[communes['nom_departement'] == departement][['nom_commune_complet', 'code_commune_INSEE']].set_index('nom_commune_complet').squeeze().to_dict()\n",
        "\n",
        "    print(communes_by_department, end=\"\\n\\n\")"
      ],
      "metadata": {
        "colab": {
          "base_uri": "https://localhost:8080/"
        },
        "id": "IiD3mz5SZYrW",
        "outputId": "00b402fd-b04f-42dc-8877-7d33879d16e8"
      },
      "execution_count": 42,
      "outputs": [
        {
          "output_type": "stream",
          "name": "stdout",
          "text": [
            "---------------departement: Ain------------------------\n",
            "{\"L'Abergement-Clémenciat\": '1001', \"L'Abergement-de-Varey\": '1002', 'Ambérieu-en-Bugey': '1004', 'Ambérieux-en-Dombes': '1005', 'Ambléon': '1006', 'Ambronay': '1007', 'Ambutrix': '1008', 'Andert-et-Condon': '1009', 'Anglefort': '1010', 'Apremont': '1011', 'Aranc': '1012', 'Arandas': '1013', 'Arbent': '1014', 'Arboys en Bugey': '1015', 'Arbigny': '1016', 'Argis': '1017', 'Armix': '1019', 'Ars-sur-Formans': '1021', 'Artemare': '1022', 'Asnières-sur-Saône': '1023', 'Attignat': '1024', 'Bâgé-Dommartin': '1025', 'Bâgé-le-Châtel': '1026', 'Balan': '1027', 'Baneins': '1028', 'Beaupont': '1029', 'Beauregard': '1030', 'Bellignat': '1031', 'Béligneux': '1032', 'Bellegarde-sur-Valserine': '1033', 'Belley': '1034', 'Belleydoux': '1035', 'Belmont-Luthézieu': '1036', 'Bénonces': '1037', 'Bény': '1038', 'Béon': '1039', 'Béréziat': '1040', 'Bettant': '1041', 'Bey': '1042', 'Beynost': '1043', 'Billiat': '1044', 'Birieux': '1045', 'Biziat': '1046', 'Blyes': '1047', 'La Boisse': '1049', 'Boissey': '1050', 'Bolozon': '1051', 'Bouligneux': '1052', 'Bourg-en-Bresse': '1053', 'Bourg-Saint-Christophe': '1054', 'Boyeux-Saint-Jérôme': '1056', 'Boz': '1057', 'Brégnier-Cordon': '1058', 'Brénaz': '1059', 'Brénod': '1060', 'Brens': '1061', 'Bressolles': '1062', 'Brion': '1063', 'Briord': '1064', 'Buellas': '1065', 'La Burbanche': '1066', 'Ceignes': '1067', 'Cerdon': '1068', 'Certines': '1069', 'Cessy': '1071', 'Ceyzériat': '1072', 'Ceyzérieu': '1073', 'Chalamont': '1074', 'Chaleins': '1075', 'Chaley': '1076', 'Challes-la-Montagne': '1077', 'Challex': '1078', 'Champagne-en-Valromey': '1079', 'Champdor-Corcelles': '1080', 'Champfromier': '1081', 'Chanay': '1082', 'Chaneins': '1083', 'Chanoz-Châtenay': '1084', 'La Chapelle-du-Châtelard': '1085', 'Charix': '1087', 'Charnoz-sur-Ain': '1088', 'Château-Gaillard': '1089', 'Châtenay': '1090', 'Châtillon-en-Michaille': '1091', 'Châtillon-la-Palud': '1092', 'Châtillon-sur-Chalaronne': '1093', 'Chavannes-sur-Reyssouze': '1094', 'Nivigne et Suran': '1095', 'Chaveyriat': '1096', 'Chavornay': '1097', 'Chazey-Bons': '1098', 'Chazey-sur-Ain': '1099', 'Cheignieu-la-Balme': '1100', 'Chevillard': '1101', 'Chevroux': '1102', 'Chevry': '1103', 'Chézery-Forens': '1104', 'Civrieux': '1105', 'Cize': '1106', 'Cleyzieu': '1107', 'Coligny': '1108', 'Collonges': '1109', 'Colomieu': '1110', 'Conand': '1111', 'Condamine': '1112', 'Condeissiat': '1113', 'Confort': '1114', 'Confrançon': '1115', 'Contrevoz': '1116', 'Conzieu': '1117', 'Corbonod': '1118', 'Corlier': '1121', 'Cormaranche-en-Bugey': '1122', 'Cormoranche-sur-Saône': '1123', 'Cormoz': '1124', 'Corveissiat': '1125', 'Courmangoux': '1127', 'Courtes': '1128', 'Crans': '1129', 'Cras-sur-Reyssouze': '1130', 'Cressin-Rochefort': '1133', 'Crottet': '1134', 'Crozet': '1135', 'Cruzilles-lès-Mépillat': '1136', 'Culoz': '1138', 'Curciat-Dongalon': '1139', 'Curtafond': '1140', 'Cuzieu': '1141', 'Dagneux': '1142', 'Divonne-les-Bains': '1143', 'Dommartin': '1144', 'Dompierre-sur-Veyle': '1145', 'Dompierre-sur-Chalaronne': '1146', 'Domsure': '1147', 'Dortan': '1148', 'Douvres': '1149', 'Drom': '1150', 'Druillat': '1151', 'Échallon': '1152', 'Échenevex': '1153', 'Étrez': '1154', 'Évosges': '1155', 'Faramans': '1156', 'Fareins': '1157', 'Farges': '1158', 'Feillens': '1159', 'Ferney-Voltaire': '1160', 'Flaxieu': '1162', 'Foissiat': '1163', 'Francheleins': '1165', 'Frans': '1166', 'Garnerans': '1167', 'Genouilleux': '1169', 'Béard-Géovreissiat': '1170', 'Géovreisset': '1171', 'Germagnat': '1172', 'Gex': '1173', 'Giron': '1174', 'Gorrevod': '1175', 'Grand-Corent': '1177', 'Grièges': '1179', 'Grilly': '1180', 'Groissiat': '1181', 'Guéreins': '1183', 'Hautecourt-Romanèche': '1184', 'Hauteville-Lompnes': '1185', 'Hostiaz': '1186', 'Haut Valromey': '1187', 'Illiat': '1188', 'Injoux-Génissiat': '1189', 'Innimond': '1190', 'Izenave': '1191', 'Izernore': '1192', 'Izieu': '1193', 'Jassans-Riottier': '1194', 'Jasseron': '1195', 'Jayat': '1196', 'Journans': '1197', 'Joyeux': '1198', 'Jujurieux': '1199', 'Labalme': '1200', 'Lagnieu': '1202', 'Laiz': '1203', 'Le Poizat-Lalleyriat': '1204', 'Lancrans': '1205', 'Lantenay': '1206', 'Lapeyrouse': '1207', 'Lavours': '1208', 'Léaz': '1209', 'Lélex': '1210', 'Lent': '1211', 'Lescheroux': '1212', 'Leyment': '1213', 'Leyssard': '1214', 'Lhôpital': '1215', 'Lhuis': '1216', 'Lochieu': '1218', 'Lompnas': '1219', 'Lompnieu': '1221', 'Loyettes': '1224', 'Lurcy': '1225', 'Magnieu': '1227', 'Maillat': '1228', 'Malafretaz': '1229', 'Mantenay-Montlin': '1230', 'Manziat': '1231', 'Marboz': '1232', 'Marchamp': '1233', 'Marignieu': '1234', 'Marlieux': '1235', 'Marsonnas': '1236', 'Martignat': '1237', 'Massieux': '1238', 'Massignieu-de-Rives': '1239', 'Matafelon-Granges': '1240', 'Meillonnas': '1241', 'Mérignat': '1242', 'Messimy-sur-Saône': '1243', 'Meximieux': '1244', 'Bohas-Meyriat-Rignat': '1245', 'Mézériat': '1246', 'Mijoux': '1247', 'Mionnay': '1248', 'Miribel': '1249', 'Misérieux': '1250', 'Mogneneins': '1252', 'Montagnat': '1254', 'Montagnieu': '1255', 'Montanges': '1257', 'Montceaux': '1258', 'Montcet': '1259', 'Le Montellier': '1260', 'Monthieux': '1261', 'Montluel': '1262', 'Montmerle-sur-Saône': '1263', 'Montracol': '1264', 'Montréal-la-Cluse': '1265', 'Montrevel-en-Bresse': '1266', 'Nurieux-Volognat': '1267', 'Murs-et-Gélignieux': '1268', 'Nantua': '1269', 'Neuville-les-Dames': '1272', 'Neuville-sur-Ain': '1273', 'Les Neyrolles': '1274', 'Neyron': '1275', 'Niévroz': '1276', 'Nivollet-Montgriffon': '1277', 'Oncieu': '1279', 'Ordonnaz': '1280', 'Ornex': '1281', 'Outriaz': '1282', 'Oyonnax': '1283', 'Ozan': '1284', 'Parcieux': '1285', 'Parves et Nattages': '1286', 'Péron': '1288', 'Péronnas': '1289', 'Pérouges': '1290', 'Perrex': '1291', 'Peyriat': '1293', 'Peyrieu': '1294', 'Peyzieux-sur-Saône': '1295', 'Pirajoux': '1296', 'Pizay': '1297', 'Plagne': '1298', 'Le Plantay': '1299', 'Polliat': '1301', 'Pollieu': '1302', 'Poncin': '1303', \"Pont-d'Ain\": '1304', 'Pont-de-Vaux': '1305', 'Pont-de-Veyle': '1306', 'Port': '1307', 'Pougny': '1308', 'Pouillat': '1309', 'Prémeyzel': '1310', 'Prémillieu': '1311', 'Prévessin-Moëns': '1313', 'Priay': '1314', 'Pugieu': '1316', 'Ramasse': '1317', 'Rancé': '1318', 'Relevant': '1319', 'Replonges': '1320', 'Revonnas': '1321', 'Reyrieux': '1322', 'Reyssouze': '1323', 'Rignieux-le-Franc': '1325', 'Romans': '1328', 'Rossillon': '1329', 'Ruffieu': '1330', 'Saint-Alban': '1331', 'Saint-André-de-Bâgé': '1332', 'Saint-André-de-Corcy': '1333', \"Saint-André-d'Huiriat\": '1334', 'Saint-André-le-Bouchoux': '1335', 'Saint-André-sur-Vieux-Jonc': '1336', 'Saint-Bénigne': '1337', 'Groslée-Saint-Benoit': '1338', 'Saint-Bernard': '1339', 'Saint-Champ': '1341', 'Sainte-Croix': '1342', 'Saint-Cyr-sur-Menthon': '1343', 'Saint-Denis-lès-Bourg': '1344', 'Saint-Denis-en-Bugey': '1345', \"Saint-Didier-d'Aussiat\": '1346', 'Saint-Didier-de-Formans': '1347', 'Saint-Didier-sur-Chalaronne': '1348', 'Saint-Éloi': '1349', 'Saint-Étienne-du-Bois': '1350', 'Saint-Étienne-sur-Chalaronne': '1351', 'Saint-Étienne-sur-Reyssouze': '1352', 'Sainte-Euphémie': '1353', 'Saint-Genis-Pouilly': '1354', 'Saint-Genis-sur-Menthon': '1355', 'Saint-Georges-sur-Renon': '1356', 'Saint-Germain-de-Joux': '1357', 'Saint-Germain-les-Paroisses': '1358', 'Saint-Germain-sur-Renon': '1359', 'Saint-Jean-de-Gonville': '1360', 'Saint-Jean-de-Niost': '1361', 'Saint-Jean-de-Thurigneux': '1362', 'Saint-Jean-le-Vieux': '1363', 'Saint-Jean-sur-Reyssouze': '1364', 'Saint-Jean-sur-Veyle': '1365', 'Sainte-Julie': '1366', 'Saint-Julien-sur-Reyssouze': '1367', 'Saint-Julien-sur-Veyle': '1368', 'Saint-Just': '1369', 'Saint-Laurent-sur-Saône': '1370', 'Saint-Marcel': '1371', 'Saint-Martin-de-Bavel': '1372', 'Saint-Martin-du-Frêne': '1373', 'Saint-Martin-du-Mont': '1374', 'Saint-Martin-le-Châtel': '1375', 'Saint-Maurice-de-Beynost': '1376', 'Saint-Maurice-de-Gourdans': '1378', 'Saint-Maurice-de-Rémens': '1379', 'Saint-Nizier-le-Bouchoux': '1380', 'Saint-Nizier-le-Désert': '1381', 'Sainte-Olive': '1382', 'Saint-Paul-de-Varax': '1383', 'Saint-Rambert-en-Bugey': '1384', 'Saint-Rémy': '1385', 'Saint-Sorlin-en-Bugey': '1386', 'Saint-Sulpice': '1387', 'Saint-Trivier-de-Courtes': '1388', 'Saint-Trivier-sur-Moignans': '1389', 'Saint-Vulbas': '1390', 'Salavre': '1391', 'Samognat': '1392', 'Sandrans': '1393', 'Sault-Brénaz': '1396', 'Sauverny': '1397', 'Savigneux': '1398', 'Ségny': '1399', 'Seillonnaz': '1400', 'Sergy': '1401', 'Sermoyer': '1402', 'Serrières-de-Briord': '1403', 'Serrières-sur-Ain': '1404', 'Servas': '1405', 'Servignat': '1406', 'Seyssel': '1407', 'Simandre-sur-Suran': '1408', 'Sonthonnax-la-Montagne': '1410', 'Souclin': '1411', 'Sulignat': '1412', 'Surjoux': '1413', 'Sutrieu': '1414', 'Talissieu': '1415', 'Tenay': '1416', 'Thézillieu': '1417', 'Thil': '1418', 'Thoiry': '1419', 'Thoissey': '1420', 'Torcieu': '1421', 'Tossiat': '1422', 'Toussieux': '1423', 'Tramoyes': '1424', 'La Tranclière': '1425', 'Val-Revermont': '1426', 'Trévoux': '1427', 'Valeins': '1428', 'Vandeins': '1429', 'Varambon': '1430', 'Vaux-en-Bugey': '1431', 'Verjon': '1432', 'Vernoux': '1433', 'Versailleux': '1434', 'Versonnex': '1435', 'Vesancy': '1436', 'Vescours': '1437', 'Vésines': '1439', \"Vieu-d'Izenave\": '1441', 'Vieu': '1442', 'Villars-les-Dombes': '1443', 'Villebois': '1444', 'Villemotier': '1445', 'Villeneuve': '1446', 'Villereversure': '1447', 'Villes': '1448', 'Villette-sur-Ain': '1449', 'Villieu-Loyes-Mollon': '1450', 'Viriat': '1451', 'Virieu-le-Grand': '1452', 'Virieu-le-Petit': '1453', 'Virignin': '1454', 'Vongnes': '1456', 'Vonnas': '1457'}\n",
            "\n",
            "---------------departement: Aisne------------------------\n",
            "{'Abbécourt': '2001', 'Achery': '2002', 'Acy': '2003', 'Agnicourt-et-Séchelles': '2004', 'Aguilcourt': '2005', 'Aisonville-et-Bernoville': '2006', 'Aizelles': '2007', 'Aizy-Jouy': '2008', 'Alaincourt': '2009', 'Allemant': '2010', 'Ambleny': '2011', 'Ambrief': '2012', 'Amifontaine': '2013', 'Amigny-Rouy': '2014', 'Ancienville': '2015', 'Andelain': '2016', 'Anguilcourt-le-Sart': '2017', 'Anizy-le-Château': '2018', 'Annois': '2019', 'Any-Martin-Rieux': '2020', 'Archon': '2021', 'Arcy-Sainte-Restitue': '2022', 'Armentières-sur-Ourcq': '2023', 'Arrancy': '2024', 'Artemps': '2025', 'Assis-sur-Serre': '2027', 'Athies-sous-Laon': '2028', 'Attilly': '2029', 'Aubencheul-aux-Bois': '2030', 'Aubenton': '2031', 'Aubigny-aux-Kaisnes': '2032', 'Aubigny-en-Laonnois': '2033', 'Audignicourt': '2034', 'Audigny': '2035', 'Augy': '2036', 'Aulnois-sous-Laon': '2037', 'Les Autels': '2038', 'Autremencourt': '2039', 'Autreppes': '2040', 'Autreville': '2041', 'Azy-sur-Marne': '2042', 'Bagneux': '2043', 'Bancigny': '2044', 'Barenton-Bugny': '2046', 'Barenton-Cel': '2047', 'Barenton-sur-Serre': '2048', 'Barisis-aux-Bois': '2049', 'Barzy-en-Thiérache': '2050', 'Barzy-sur-Marne': '2051', 'Bassoles-Aulers': '2052', 'Vallées en Champagne': '2053', 'Bazoches-sur-Vesles': '2054', 'Beaumé': '2055', 'Beaumont-en-Beine': '2056', 'Beaurevoir': '2057', 'Beaurieux': '2058', 'Beautor': '2059', 'Beauvois-en-Vermandois': '2060', 'Becquigny': '2061', 'Belleau': '2062', 'Bellenglise': '2063', 'Belleu': '2064', 'Bellicourt': '2065', 'Benay': '2066', 'Bergues-sur-Sambre': '2067', 'Berlancourt': '2068', 'Berlise': '2069', 'Bernot': '2070', 'Berny-Rivière': '2071', 'Berrieux': '2072', 'Berry-au-Bac': '2073', 'Bertaucourt-Epourdon': '2074', 'Berthenicourt': '2075', 'Bertricourt': '2076', 'Berzy-le-Sec': '2077', 'Besmé': '2078', 'Besmont': '2079', 'Besny-et-Loizy': '2080', 'Béthancourt-en-Vaux': '2081', 'Beugneux': '2082', 'Beuvardes': '2083', 'Bézu-le-Guéry': '2084', 'Bézu-Saint-Germain': '2085', 'Bichancourt': '2086', 'Bieuxy': '2087', 'Bièvres': '2088', 'Billy-sur-Aisne': '2089', 'Billy-sur-Ourcq': '2090', 'Blanzy-lès-Fismes': '2091', 'Blérancourt': '2093', 'Blesmes': '2094', 'Bohain-en-Vermandois': '2095', 'Bois-lès-Pargny': '2096', 'Boncourt': '2097', 'Bonneil': '2098', 'Bonnesvalyn': '2099', 'Bony': '2100', 'Bosmont-sur-Serre': '2101', 'Bouconville-Vauclair': '2102', 'Boué': '2103', 'Bouffignereux': '2104', 'Bouresches': '2105', 'Bourg-et-Comin': '2106', 'Bourguignon-sous-Coucy': '2107', 'Bourguignon-sous-Montbavin': '2108', 'La Bouteille': '2109', 'Braine': '2110', 'Brancourt-en-Laonnois': '2111', 'Brancourt-le-Grand': '2112', 'Brasles': '2114', 'Braye-en-Laonnois': '2115', 'Braye-en-Thiérache': '2116', 'Bray-Saint-Christophe': '2117', 'Braye': '2118', 'Brécy': '2119', 'Brenelle': '2120', 'Breny': '2121', 'Brie': '2122', 'Brissay-Choigny': '2123', 'Brissy-Hamégicourt': '2124', 'Brumetz': '2125', 'Brunehamel': '2126', 'Bruyères-sur-Fère': '2127', 'Bruyères-et-Montbérault': '2128', 'Bruys': '2129', 'Bucilly': '2130', 'Bucy-le-Long': '2131', 'Bucy-lès-Cerny': '2132', 'Bucy-lès-Pierrepont': '2133', 'Buire': '2134', 'Buironfosse': '2135', 'Burelles': '2136', 'Bussiares': '2137', 'Buzancy': '2138', 'Caillouël-Crépigny': '2139', 'Camelin': '2140', 'La Capelle': '2141', 'Castres': '2142', 'Le Catelet': '2143', 'Caulaincourt': '2144', 'Caumont': '2145', 'Celles-lès-Condé': '2146', 'Celles-sur-Aisne': '2148', 'Cerizy': '2149', 'Cerny-en-Laonnois': '2150', 'Cerny-lès-Bucy': '2151', 'Cerseuil': '2152', 'Cessières': '2153', 'Chacrise': '2154', 'Chaillevois': '2155', 'Chalandry': '2156', 'Chambry': '2157', 'Chamouille': '2158', 'Champs': '2159', 'Chaourse': '2160', 'La Chapelle-sur-Chézy': '2162', 'Charly-sur-Marne': '2163', 'Le Charmel': '2164', 'Charmes': '2165', 'Chartèves': '2166', 'Chassemy': '2167', 'Château-Thierry': '2168', 'Châtillon-lès-Sons': '2169', 'Châtillon-sur-Oise': '2170', 'Chaudardes': '2171', 'Chaudun': '2172', 'Chauny': '2173', 'Chavignon': '2174', 'Chavigny': '2175', 'Chavonne': '2176', 'Chérêt': '2177', 'Chermizy-Ailles': '2178', 'Chéry-Chartreuve': '2179', 'Chéry-lès-Pouilly': '2180', 'Chéry-lès-Rozoy': '2181', 'Chevennes': '2182', 'Chevregny': '2183', 'Chevresis-Monceau': '2184', 'Chézy-en-Orxois': '2185', 'Chézy-sur-Marne': '2186', 'Chierry': '2187', 'Chigny': '2188', 'Chivres-en-Laonnois': '2189', 'Chivres-Val': '2190', 'Chivy-lès-Étouvelles': '2191', 'Chouy': '2192', 'Cierges': '2193', 'Cilly': '2194', 'Ciry-Salsogne': '2195', 'Clacy-et-Thierret': '2196', 'Clairfontaine': '2197', 'Clamecy': '2198', 'Clastres': '2199', 'Clermont-les-Fermes': '2200', 'Cœuvres-et-Valsery': '2201', 'Coincy': '2203', 'Coingt': '2204', 'Colligis-Crandelain': '2205', 'Colonfay': '2206', 'Commenchon': '2207', 'Concevreux': '2208', 'Condé-en-Brie': '2209', 'Condé-sur-Aisne': '2210', 'Condé-sur-Suippe': '2211', 'Condren': '2212', 'Connigis': '2213', 'Contescourt': '2214', 'Corbeny': '2215', 'Corcy': '2216', 'Coucy-le-Château-Auffrique': '2217', 'Coucy-lès-Eppes': '2218', 'Coucy-la-Ville': '2219', 'Coulonges-Cohan': '2220', 'Coupru': '2221', 'Courbes': '2222', 'Courboin': '2223', 'Courcelles-sur-Vesle': '2224', 'Courchamps': '2225', 'Courmelles': '2226', 'Courmont': '2227', 'Courtemont-Varennes': '2228', 'Courtrizy-et-Fussigny': '2229', 'Couvrelles': '2230', 'Couvron-et-Aumencourt': '2231', 'Coyolles': '2232', 'Cramaille': '2233', 'Craonne': '2234', 'Craonnelle': '2235', 'Crécy-au-Mont': '2236', 'Crécy-sur-Serre': '2237', 'Crépy': '2238', 'Crézancy': '2239', 'Croix-Fonsomme': '2240', 'La Croix-sur-Ourcq': '2241', 'Crouttes-sur-Marne': '2242', 'Crouy': '2243', 'Crupilly': '2244', 'Cuffies': '2245', 'Cugny': '2246', 'Cuirieux': '2248', 'Cuiry-Housse': '2249', 'Cuiry-lès-Chaudardes': '2250', 'Cuiry-lès-Iviers': '2251', 'Cuissy-et-Geny': '2252', 'Cuisy-en-Almont': '2253', 'Cutry': '2254', 'Cys-la-Commune': '2255', 'Dagny-Lambercy': '2256', 'Dallon': '2257', 'Dammard': '2258', 'Dampleux': '2259', 'Danizy': '2260', 'Dercy': '2261', 'Deuillet': '2262', 'Dhuizel': '2263', 'Dizy-le-Gros': '2264', 'Dohis': '2265', 'Dolignon': '2266', 'Dommiers': '2267', 'Domptin': '2268', 'Dorengt': '2269', 'Douchy': '2270', 'Dravegny': '2271', 'Droizy': '2272', 'Dury': '2273', 'Ébouleau': '2274', 'Effry': '2275', 'Englancourt': '2276', 'Épagny': '2277', 'Éparcy': '2278', 'Épaux-Bézu': '2279', 'Épieds': '2280', \"L'Épine-aux-Bois\": '2281', 'Eppes': '2282', 'Erlon': '2283', 'Erloy': '2284', 'Esquéhéries': '2286', 'Essigny-le-Grand': '2287', 'Essigny-le-Petit': '2288', 'Essises': '2289', 'Essômes-sur-Marne': '2290', 'Estrées': '2291', 'Étampes-sur-Marne': '2292', 'Étaves-et-Bocquiaux': '2293', 'Étouvelles': '2294', 'Étréaupont': '2295', 'Étreillers': '2296', 'Étrépilly': '2297', 'Étreux': '2298', 'Évergnicourt': '2299', 'Faucoucourt': '2301', 'Faverolles': '2302', 'Fayet': '2303', 'La Fère': '2304', 'Fère-en-Tardenois': '2305', 'La Ferté-Chevresis': '2306', 'La Ferté-Milon': '2307', 'Fesmy-le-Sart': '2308', 'Festieux': '2309', 'Fieulaine': '2310', 'Filain': '2311', 'La Flamengrie': '2312', 'Flavigny-le-Grand-et-Beaurain': '2313', 'Flavy-le-Martel': '2315', 'Fleury': '2316', 'Fluquières': '2317', 'Folembray': '2318', 'Fonsomme': '2319', 'Fontaine-lès-Clercs': '2320', 'Fontaine-lès-Vervins': '2321', 'Fontaine-Notre-Dame': '2322', 'Fontaine-Uterte': '2323', 'Fontenelle': '2324', 'Fontenoy': '2326', 'Foreste': '2327', 'Fossoy': '2328', 'Fourdrain': '2329', 'Francilly-Selency': '2330', 'Franqueville': '2331', 'Fresnes-en-Tardenois': '2332', 'Fresnes-sous-Coucy': '2333', 'Fresnoy-le-Grand': '2334', 'Fressancourt': '2335', 'Frières-Faillouël': '2336', 'Froidestrées': '2337', 'Froidmont-Cohartille': '2338', 'Gandelu': '2339', 'Gauchy': '2340', 'Gercy': '2341', 'Gergny': '2342', 'Germaine': '2343', 'Gernicourt': '2344', 'Gibercourt': '2345', 'Gizy': '2346', 'Gland': '2347', 'Goudelancourt-lès-Berrieux': '2349', 'Goudelancourt-lès-Pierrepont': '2350', 'Goussancourt': '2351', 'Gouy': '2352', 'Grandlup-et-Fay': '2353', 'Grandrieux': '2354', 'Gricourt': '2355', 'Grisolles': '2356', 'Gronard': '2357', 'Grougis': '2358', 'Grugies': '2359', 'Guignicourt': '2360', 'Guise': '2361', 'Guivry': '2362', 'Guny': '2363', 'Guyencourt': '2364', 'Hannapes': '2366', 'Happencourt': '2367', 'Haramont': '2368', 'Harcigny': '2369', 'Hargicourt': '2370', 'Harly': '2371', 'Hartennes-et-Taux': '2372', 'Hary': '2373', 'Lehaucourt': '2374', 'Hautevesnes': '2375', 'Hauteville': '2376', 'Haution': '2377', 'La Hérie': '2378', 'Le Hérie-la-Viéville': '2379', 'Hinacourt': '2380', 'Hirson': '2381', 'Holnon': '2382', 'Homblières': '2383', 'Houry': '2384', 'Housset': '2385', 'Iron': '2386', 'Itancourt': '2387', 'Iviers': '2388', 'Jaulgonne': '2389', 'Jeancourt': '2390', 'Jeantes': '2391', 'Joncourt': '2392', 'Jouaignes': '2393', 'Jumencourt': '2395', 'Jumigny': '2396', 'Jussy': '2397', 'Juvigny': '2398', 'Juvincourt-et-Damary': '2399', 'Laffaux': '2400', 'Laigny': '2401', 'Lanchy': '2402', 'Landifay-et-Bertaignemont': '2403', 'Landouzy-la-Cour': '2404', 'Landouzy-la-Ville': '2405', 'Landricourt': '2406', 'Laniscourt': '2407', 'Laon': '2408', 'Lappion': '2409', 'Largny-sur-Automne': '2410', 'Latilly': '2411', 'Launoy': '2412', 'Laval-en-Laonnois': '2413', 'Lavaqueresse': '2414', 'Laversine': '2415', 'Lemé': '2416', 'Lempire': '2417', 'Lerzy': '2418', 'Leschelle': '2419', 'Lesdins': '2420', 'Lesges': '2421', 'Lesquielles-Saint-Germain': '2422', 'Leuilly-sous-Coucy': '2423', 'Leury': '2424', 'Leuze': '2425', 'Levergies': '2426', 'Lhuys': '2427', 'Licy-Clignon': '2428', 'Lierval': '2429', 'Liesse-Notre-Dame': '2430', 'Liez': '2431', 'Limé': '2432', 'Lislet': '2433', 'Lizy': '2434', 'Logny-lès-Aubenton': '2435', 'Longpont': '2438', 'Les Septvallons': '2439', 'Lor': '2440', 'Louâtre': '2441', 'Loupeigne': '2442', 'Lucy-le-Bocage': '2443', 'Lugny': '2444', 'Luzoir': '2445', 'Ly-Fontaine': '2446', 'Maast-et-Violaine': '2447', 'Mâchecourt': '2448', 'Macogny': '2449', 'Macquigny': '2450', 'Magny-la-Fosse': '2451', 'Maissemy': '2452', 'Maizy': '2453', 'La Malmaison': '2454', 'Malzy': '2455', 'Manicamp': '2456', 'Marchais': '2457', 'Dhuys et Morin-en-Brie': '2458', 'Marcy': '2459', 'Marcy-sous-Marle': '2460', 'Marest-Dampcourt': '2461', 'Mareuil-en-Dôle': '2462', 'Marfontaine': '2463', 'Margival': '2464', 'Marigny-en-Orxois': '2465', 'Marizy-Sainte-Geneviève': '2466', 'Marizy-Saint-Mard': '2467', 'Marle': '2468', 'Marly-Gomont': '2469', 'Martigny': '2470', 'Martigny-Courpierre': '2471', 'Mauregny-en-Haye': '2472', 'Mayot': '2473', 'Mennessis': '2474', 'Menneville': '2475', 'Mennevret': '2476', 'Mercin-et-Vaux': '2477', 'Merlieux-et-Fouquerolles': '2478', 'Mesbrecourt-Richecourt': '2480', 'Mesnil-Saint-Laurent': '2481', 'Meurival': '2482', 'Mézières-sur-Oise': '2483', 'Mézy-Moulins': '2484', 'Missy-aux-Bois': '2485', 'Missy-lès-Pierrepont': '2486', 'Missy-sur-Aisne': '2487', 'Molain': '2488', 'Molinchart': '2489', 'Monampteuil': '2490', 'Monceau-le-Neuf-et-Faucouzy': '2491', 'Monceau-lès-Leups': '2492', 'Monceau-le-Waast': '2493', 'Monceau-sur-Oise': '2494', 'Mondrepuis': '2495', 'Monnes': '2496', 'Mons-en-Laonnois': '2497', 'Montaigu': '2498', 'Montbavin': '2499', 'Montbrehain': '2500', 'Montchâlons': '2501', 'Montcornet': '2502', \"Mont-d'Origny\": '2503', 'Montescourt-Lizerolles': '2504', 'Montfaucon': '2505', 'Montgobert': '2506', 'Montgru-Saint-Hilaire': '2507', 'Monthenault': '2508', 'Monthiers': '2509', 'Monthurel': '2510', 'Montigny-en-Arrouaise': '2511', \"Montigny-l'Allier\": '2512', 'Montigny-le-Franc': '2513', 'Montigny-Lengrain': '2514', 'Montigny-lès-Condé': '2515', 'Montigny-sous-Marle': '2516', 'Montigny-sur-Crécy': '2517', 'Montlevon': '2518', 'Montloué': '2519', 'Mont-Notre-Dame': '2520', 'Montreuil-aux-Lions': '2521', 'Mont-Saint-Jean': '2522', 'Mont-Saint-Martin': '2523', 'Mont-Saint-Père': '2524', 'Morcourt': '2525', 'Morgny-en-Thiérache': '2526', 'Morsain': '2527', 'Mortefontaine': '2528', 'Mortiers': '2529', 'Moulins': '2530', 'Moussy-Verneuil': '2531', \"Moÿ-de-l'Aisne\": '2532', 'Muret-et-Crouttes': '2533', 'Muscourt': '2534', 'Nampcelles-la-Cour': '2535', 'Nampteuil-sous-Muret': '2536', 'Nanteuil-la-Fosse': '2537', 'Nanteuil-Notre-Dame': '2538', 'Nauroy': '2539', 'Nesles-la-Montagne': '2540', 'Neufchâtel-sur-Aisne': '2541', 'Neuflieux': '2542', 'Neuilly-Saint-Front': '2543', 'Neuve-Maison': '2544', 'La Neuville-Bosmont': '2545', 'La Neuville-en-Beine': '2546', 'La Neuville-Housset': '2547', 'La Neuville-lès-Dorengt': '2548', 'Neuville-Saint-Amand': '2549', 'Neuville-sur-Ailette': '2550', 'Neuville-sur-Margival': '2551', 'Neuvillette': '2552', 'Nizy-le-Comte': '2553', 'Nogentel': '2554', \"Nogent-l'Artaud\": '2555', 'Noircourt': '2556', 'Noroy-sur-Ourcq': '2557', 'Le Nouvion-en-Thiérache': '2558', 'Nouvion-et-Catillon': '2559', 'Nouvion-le-Comte': '2560', 'Nouvion-le-Vineux': '2561', 'Nouvron-Vingré': '2562', 'Noyales': '2563', 'Noyant-et-Aconin': '2564', 'Œuilly': '2565', 'Ognes': '2566', 'Ohis': '2567', 'Oigny-en-Valois': '2568', 'Oisy': '2569', 'Ollezy': '2570', 'Omissy': '2571', 'Orainville': '2572', 'Orgeval': '2573', 'Origny-en-Thiérache': '2574', 'Origny-Sainte-Benoite': '2575', 'Osly-Courtil': '2576', 'Ostel': '2577', 'Oulches-la-Vallée-Foulon': '2578', 'Oulchy-la-Ville': '2579', 'Oulchy-le-Château': '2580', 'Paars': '2581', 'Paissy': '2582', 'Pancy-Courtecon': '2583', 'Papleux': '2584', 'Parcy-et-Tigny': '2585', 'Parfondeval': '2586', 'Parfondru': '2587', 'Pargnan': '2588', 'Pargny-Filain': '2589', 'Pargny-la-Dhuys': '2590', 'Pargny-les-Bois': '2591', 'Parpeville': '2592', 'Pasly': '2593', 'Passy-en-Valois': '2594', 'Passy-sur-Marne': '2595', 'Pavant': '2596', 'Pernant': '2598', 'Pierremande': '2599', 'Pierrepont': '2600', 'Pignicourt': '2601', 'Pinon': '2602', 'Pithon': '2604', 'Pleine-Selve': '2605', 'Le Plessier-Huleu': '2606', 'Ploisy': '2607', 'Plomion': '2608', 'Ployart-et-Vaurseine': '2609', 'Pommiers': '2610', 'Pont-Arcy': '2612', 'Pontavert': '2613', 'Pontru': '2614', 'Pontruet': '2615', 'Pont-Saint-Mard': '2616', 'Pouilly-sur-Serre': '2617', 'Prémont': '2618', 'Prémontré': '2619', 'Presles-et-Boves': '2620', 'Presles-et-Thierny': '2621', 'Priez': '2622', 'Prisces': '2623', 'Proisy': '2624', 'Proix': '2625', 'Prouvais': '2626', 'Proviseux-et-Plesnoy': '2627', 'Puiseux-en-Retz': '2628', 'Puisieux-et-Clanlieu': '2629', 'Quierzy': '2631', 'Quincy-Basse': '2632', 'Quincy-sous-le-Mont': '2633', 'Raillimont': '2634', 'Ramicourt': '2635', 'Regny': '2636', 'Remaucourt': '2637', 'Remies': '2638', 'Remigny': '2639', 'Renansart': '2640', 'Renneval': '2641', 'Résigny': '2642', 'Ressons-le-Long': '2643', 'Retheuil': '2644', 'Reuilly-Sauvigny': '2645', 'Ribeauville': '2647', 'Ribemont': '2648', 'Rocourt-Saint-Martin': '2649', 'Rocquigny': '2650', 'Rogécourt': '2651', 'Rogny': '2652', 'Romeny-sur-Marne': '2653', 'Romery': '2654', 'Ronchères': '2655', 'Roucy': '2656', 'Rougeries': '2657', 'Roupy': '2658', 'Rouvroy': '2659', 'Rouvroy-sur-Serre': '2660', 'Royaucourt-et-Chailvet': '2661', 'Rozet-Saint-Albin': '2662', 'Rozières-sur-Crise': '2663', 'Rozoy-Bellevalle': '2664', 'Grand-Rozoy': '2665', 'Rozoy-sur-Serre': '2666', 'Saconin-et-Breuil': '2667', 'Sains-Richaumont': '2668', 'Saint-Algis': '2670', 'Saint-Aubin': '2671', 'Saint-Bandry': '2672', 'Saint-Christophe-à-Berry': '2673', 'Saint-Clément': '2674', 'Sainte-Croix': '2675', 'Saint-Erme-Outre-et-Ramecourt': '2676', 'Saint-Eugène': '2677', 'Sainte-Geneviève': '2678', 'Saint-Gengoulph': '2679', 'Saint-Gobain': '2680', 'Saint-Gobert': '2681', 'Saint-Mard': '2682', 'Saint-Martin-Rivière': '2683', 'Saint-Michel': '2684', 'Saint-Nicolas-aux-Bois': '2685', 'Saint-Paul-aux-Bois': '2686', 'Saint-Pierre-Aigle': '2687', 'Saint-Pierre-lès-Franqueville': '2688', 'Saint-Pierremont': '2689', 'Sainte-Preuve': '2690', 'Saint-Quentin': '2691', 'Saint-Rémy-Blanzy': '2693', 'Saint-Simon': '2694', 'Saint-Thibaut': '2695', 'Saint-Thomas': '2696', 'Samoussy': '2697', 'Sancy-les-Cheminots': '2698', 'Saponay': '2699', 'Saulchery': '2701', 'Savy': '2702', 'Seboncourt': '2703', 'Selens': '2704', 'La Selve': '2705', 'Septmonts': '2706', 'Septvaux': '2707', 'Sequehart': '2708', 'Serain': '2709', 'Seraucourt-le-Grand': '2710', 'Serches': '2711', 'Sergy': '2712', 'Seringes-et-Nesles': '2713', 'Sermoise': '2714', 'Serval': '2715', 'Servais': '2716', 'Séry-lès-Mézières': '2717', 'Silly-la-Poterie': '2718', 'Sinceny': '2719', 'Sissonne': '2720', 'Sissy': '2721', 'Soissons': '2722', 'Soize': '2723', 'Sommelans': '2724', 'Sommeron': '2725', 'Sommette-Eaucourt': '2726', 'Sons-et-Ronchères': '2727', 'Sorbais': '2728', 'Soucy': '2729', 'Soupir': '2730', 'Le Sourd': '2731', 'Surfontaine': '2732', 'Suzy': '2733', 'Taillefontaine': '2734', 'Tannières': '2735', 'Tartiers': '2736', 'Tavaux-et-Pontséricourt': '2737', 'Tergnier': '2738', 'Terny-Sorny': '2739', 'Thenailles': '2740', 'Thenelles': '2741', 'Thiernu': '2742', 'Le Thuel': '2743', 'Torcy-en-Valois': '2744', 'Toulis-et-Attencourt': '2745', 'Travecy': '2746', 'Trefcon': '2747', 'Trélou-sur-Marne': '2748', 'Troësnes': '2749', 'Trosly-Loire': '2750', 'Trucy': '2751', 'Tugny-et-Pont': '2752', 'Tupigny': '2753', 'Ugny-le-Gay': '2754', 'Urcel': '2755', 'Urvillers': '2756', 'Vadencourt': '2757', 'Vailly-sur-Aisne': '2758', 'La Vallée-au-Blé': '2759', 'La Vallée-Mulâtre': '2760', 'Variscourt': '2761', 'Vassens': '2762', 'Vasseny': '2763', 'Vassogne': '2764', 'Vaucelles-et-Beffecourt': '2765', 'Vaudesson': '2766', 'Vauxrezis': '2767', 'Vauxaillon': '2768', 'Vaux-Andigny': '2769', 'Vauxbuin': '2770', 'Vaux-en-Vermandois': '2772', 'Vauxtin': '2773', 'Vendelles': '2774', 'Vendeuil': '2775', 'Vendhuile': '2776', 'Vendières': '2777', 'Vendresse-Beaulne': '2778', 'Vénérolles': '2779', 'Venizel': '2780', 'Verdilly': '2781', 'Le Verguier': '2782', 'Grand-Verly': '2783', 'Petit-Verly': '2784', 'Vermand': '2785', 'Verneuil-sous-Coucy': '2786', 'Verneuil-sur-Serre': '2787', 'Versigny': '2788', 'Vervins': '2789', 'Vesles-et-Caumont': '2790', 'Veslud': '2791', 'Veuilly-la-Poterie': '2792', 'Vézaponin': '2793', 'Vézilly': '2794', 'Vic-sur-Aisne': '2795', 'Vichel-Nanteuil': '2796', 'Viel-Arcy': '2797', 'Viels-Maisons': '2798', 'Vierzy': '2799', 'Viffort': '2800', 'Vigneux-Hocquet': '2801', 'La Ville-aux-Bois-lès-Dizy': '2802', 'La Ville-aux-Bois-lès-Pontavert': '2803', 'Villemontoire': '2804', 'Villeneuve-Saint-Germain': '2805', 'Villeneuve-sur-Fère': '2806', 'Villequier-Aumont': '2807', 'Villeret': '2808', 'Villers-Agron-Aiguizy': '2809', 'Villers-Cotterêts': '2810', 'Villers-Hélon': '2812', 'Villers-le-Sec': '2813', 'Villers-lès-Guise': '2814', 'Villers-Saint-Christophe': '2815', 'Villers-sur-Fère': '2816', 'Ville-Savoye': '2817', 'Villiers-Saint-Denis': '2818', 'Vincy-Reuil-et-Magny': '2819', 'Viry-Noureuil': '2820', 'Vivaise': '2821', 'Vivières': '2822', 'Voharies': '2823', 'Vorges': '2824', 'Voulpaix': '2826', 'Voyenne': '2827', 'Vregny': '2828', 'Vuillery': '2829', 'Wassigny': '2830', 'Watigny': '2831', 'Wiège-Faty': '2832', 'Wimy': '2833', 'Wissignicourt': '2834'}\n",
            "\n",
            "---------------departement: Allier------------------------\n",
            "{'Abrest': '3001', 'Agonges': '3002', 'Ainay-le-Château': '3003', 'Andelaroche': '3004', 'Archignat': '3005', 'Arfeuilles': '3006', 'Arpheuilles-Saint-Priest': '3007', 'Arronnes': '3008', 'Aubigny': '3009', 'Audes': '3010', 'Aurouër': '3011', 'Autry-Issards': '3012', 'Avermes': '3013', 'Avrilly': '3014', 'Bagneux': '3015', 'Barberier': '3016', 'Barrais-Bussolles': '3017', 'Bayet': '3018', 'Beaulon': '3019', \"Beaune-d'Allier\": '3020', 'Bègues': '3021', 'Bellenaves': '3022', 'Bellerive-sur-Allier': '3023', 'Bert': '3024', 'Bessay-sur-Allier': '3025', 'Besson': '3026', 'Bézenet': '3027', 'Billezois': '3028', 'Billy': '3029', 'Biozat': '3030', 'Bizeneuille': '3031', 'Blomard': '3032', 'Bost': '3033', 'Boucé': '3034', 'Le Bouchaud': '3035', \"Bourbon-l'Archambault\": '3036', 'Braize': '3037', 'Bransat': '3038', 'Bresnay': '3039', 'Bressolles': '3040', 'Le Brethon': '3041', 'Le Breuil': '3042', 'Broût-Vernet': '3043', 'Brugheas': '3044', 'Busset': '3045', 'Buxières-les-Mines': '3046', 'La Celle': '3047', 'Cérilly': '3048', 'Cesset': '3049', 'La Chabanne': '3050', 'Chambérat': '3051', 'Chamblet': '3052', 'Chantelle': '3053', 'Chapeau': '3054', 'La Chapelaude': '3055', 'La Chapelle': '3056', 'La Chapelle-aux-Chasses': '3057', 'Chappes': '3058', 'Chareil-Cintrat': '3059', 'Charmeil': '3060', 'Charmes': '3061', 'Charroux': '3062', 'Chassenard': '3063', 'Château-sur-Allier': '3064', 'Châtel-de-Neuvre': '3065', 'Châtel-Montagne': '3066', 'Châtelperron': '3067', 'Châtelus': '3068', 'Châtillon': '3069', 'Chavenon': '3070', 'Chavroches': '3071', 'Chazemais': '3072', 'Chemilly': '3073', 'Chevagnes': '3074', 'Chezelle': '3075', 'Chézy': '3076', \"Chirat-l'Église\": '3077', 'Chouvigny': '3078', 'Cindré': '3079', 'Cognat-Lyonne': '3080', 'Colombier': '3081', 'Commentry': '3082', 'Contigny': '3083', \"Cosne-d'Allier\": '3084', 'Coulandon': '3085', 'Coulanges': '3086', 'Couleuvre': '3087', 'Courçais': '3088', 'Coutansouze': '3089', 'Couzon': '3090', 'Créchy': '3091', 'Cressanges': '3092', 'Creuzier-le-Neuf': '3093', 'Creuzier-le-Vieux': '3094', 'Cusset': '3095', 'Deneuille-lès-Chantelle': '3096', 'Deneuille-les-Mines': '3097', 'Désertines': '3098', 'Deux-Chaises': '3099', 'Diou': '3100', 'Domérat': '3101', 'Dompierre-sur-Besbre': '3102', 'Le Donjon': '3103', 'Doyet': '3104', 'Droiturier': '3105', 'Durdat-Larequille': '3106', 'Ébreuil': '3107', 'Échassières': '3108', 'Escurolles': '3109', 'Espinasse-Vozelle': '3110', 'Estivareilles': '3111', 'Étroussat': '3112', 'Ferrières-sur-Sichon': '3113', 'La Ferté-Hauterive': '3114', 'Fleuriel': '3115', 'Fourilles': '3116', 'Franchesse': '3117', 'Gannat': '3118', 'Gannay-sur-Loire': '3119', 'Garnat-sur-Engièvre': '3120', 'Gennetines': '3121', 'Gipcy': '3122', 'Gouise': '3124', 'La Guillermie': '3125', 'Hauterive': '3126', 'Hérisson': '3127', 'Huriel': '3128', 'Hyds': '3129', 'Isle-et-Bardais': '3130', 'Isserpent': '3131', 'Jaligny-sur-Besbre': '3132', 'Jenzat': '3133', 'Laféline': '3134', 'Lalizolle': '3135', 'Lamaids': '3136', 'Langy': '3137', 'Lapalisse': '3138', 'Laprugne': '3139', 'Lavault-Sainte-Anne': '3140', 'Lavoine': '3141', 'Lenax': '3142', 'Lételon': '3143', 'Liernolles': '3144', 'Lignerolles': '3145', 'Limoise': '3146', 'Loddes': '3147', 'Loriges': '3148', 'Louchy-Montfand': '3149', 'Louroux-Bourbonnais': '3150', 'Louroux-de-Beaune': '3151', 'Louroux-de-Bouble': '3152', 'Luneau': '3154', 'Lurcy-Lévis': '3155', 'Lusigny': '3156', 'Magnet': '3157', 'Haut-Bocage': '3158', 'Malicorne': '3159', 'Marcenat': '3160', 'Marcillat-en-Combraille': '3161', 'Marigny': '3162', 'Mariol': '3163', \"Le Mayet-d'École\": '3164', 'Le Mayet-de-Montagne': '3165', 'Mazerier': '3166', 'Mazirat': '3167', 'Meaulne-Vitray': '3168', 'Meillard': '3169', 'Meillers': '3170', 'Mercy': '3171', 'Mesples': '3172', 'Molinet': '3173', 'Molles': '3174', 'Monestier': '3175', 'Monétay-sur-Allier': '3176', 'Monétay-sur-Loire': '3177', 'Montaiguët-en-Forez': '3178', 'Montaigu-le-Blin': '3179', 'Montbeugny': '3180', 'Montcombroux-les-Mines': '3181', \"Monteignet-sur-l'Andelot\": '3182', 'Le Montet': '3183', 'Montilly': '3184', 'Montluçon': '3185', 'Montmarault': '3186', 'Montoldre': '3187', 'Montord': '3188', 'Montvicq': '3189', 'Moulins': '3190', 'Murat': '3191', 'Nades': '3192', 'Nassigny': '3193', 'Naves': '3194', 'Néris-les-Bains': '3195', 'Neuilly-en-Donjon': '3196', 'Neuilly-le-Réal': '3197', 'Neure': '3198', 'Neuvy': '3200', 'Nizerolles': '3201', \"Noyant-d'Allier\": '3202', 'Paray-le-Frésil': '3203', 'Paray-sous-Briailles': '3204', 'Périgny': '3205', 'La Petite-Marche': '3206', 'Pierrefitte-sur-Loire': '3207', 'Le Pin': '3208', 'Poëzat': '3209', 'Pouzy-Mésangy': '3210', 'Prémilhat': '3211', 'Quinssaines': '3212', 'Reugny': '3213', 'Rocles': '3214', 'Rongères': '3215', 'Ronnet': '3216', 'Saint-Angel': '3217', 'Saint-Aubin-le-Monial': '3218', 'Saint-Bonnet-de-Four': '3219', 'Saint-Bonnet-de-Rochefort': '3220', 'Saint-Bonnet-Tronçais': '3221', 'Saint-Caprais': '3222', 'Saint-Christophe': '3223', 'Saint-Clément': '3224', 'Saint-Désiré': '3225', 'Saint-Didier-en-Donjon': '3226', 'Saint-Didier-la-Forêt': '3227', \"Saint-Éloy-d'Allier\": '3228', 'Saint-Ennemond': '3229', 'Saint-Étienne-de-Vicq': '3230', 'Saint-Fargeol': '3231', 'Saint-Félix': '3232', 'Saint-Genest': '3233', 'Saint-Gérand-de-Vaux': '3234', 'Saint-Gérand-le-Puy': '3235', 'Saint-Germain-des-Fossés': '3236', 'Saint-Germain-de-Salles': '3237', 'Saint-Hilaire': '3238', 'Saint-Léger-sur-Vouzance': '3239', 'Saint-Léon': '3240', \"Saint-Léopardin-d'Augy\": '3241', 'Saint-Loup': '3242', 'Saint-Marcel-en-Murat': '3243', 'Saint-Marcel-en-Marcillat': '3244', 'Saint-Martin-des-Lais': '3245', 'Saint-Martinien': '3246', 'Saint-Menoux': '3247', 'Saint-Nicolas-des-Biefs': '3248', 'Saint-Palais': '3249', 'Saint-Pierre-Laval': '3250', 'Saint-Plaisir': '3251', 'Saint-Pont': '3252', 'Saint-Pourçain-sur-Besbre': '3253', 'Saint-Pourçain-sur-Sioule': '3254', \"Saint-Priest-d'Andelot\": '3255', 'Saint-Priest-en-Murat': '3256', 'Saint-Prix': '3257', 'Saint-Rémy-en-Rollat': '3258', 'Saint-Sauvier': '3259', 'Saint-Sornin': '3260', 'Sainte-Thérence': '3261', 'Saint-Victor': '3262', 'Saint-Voir': '3263', 'Saint-Yorre': '3264', 'Saligny-sur-Roudon': '3265', 'Sanssat': '3266', 'Saulcet': '3267', 'Saulzet': '3268', 'Sauvagny': '3269', 'Sazeret': '3270', 'Serbannes': '3271', 'Servilly': '3272', 'Seuillet': '3273', 'Sorbier': '3274', 'Souvigny': '3275', 'Sussat': '3276', 'Target': '3277', 'Taxat-Senat': '3278', 'Teillet-Argenty': '3279', 'Terjat': '3280', 'Le Theil': '3281', 'Theneuille': '3282', 'Thiel-sur-Acolin': '3283', 'Thionne': '3284', 'Tortezais': '3285', 'Toulon-sur-Allier': '3286', 'Treban': '3287', 'Treignat': '3288', 'Treteau': '3289', 'Trévol': '3290', 'Trézelles': '3291', 'Tronget': '3292', 'Urçay': '3293', \"Ussel-d'Allier\": '3294', 'Valignat': '3295', 'Valigny': '3296', 'Vallon-en-Sully': '3297', 'Varennes-sur-Allier': '3298', 'Varennes-sur-Tèche': '3299', 'Vaumas': '3300', 'Vaux': '3301', 'Veauce': '3302', 'Venas': '3303', 'Vendat': '3304', 'Verneix': '3305', 'Le Vernet': '3306', 'Verneuil-en-Bourbonnais': '3307', 'Vernusse': '3308', 'Le Veurdre': '3309', 'Vichy': '3310', 'Vicq': '3311', 'Vieure': '3312', 'Le Vilhain': '3313', 'Villebret': '3314', \"Villefranche-d'Allier\": '3315', 'Villeneuve-sur-Allier': '3316', 'Viplaix': '3317', 'Vitray': '3318', 'Voussac': '3319', 'Ygrande': '3320', 'Yzeure': '3321'}\n",
            "\n"
          ]
        }
      ]
    },
    {
      "cell_type": "markdown",
      "source": [
        "7. __Informations d'un code Insee__"
      ],
      "metadata": {
        "id": "AIE3pVitcbby"
      }
    },
    {
      "cell_type": "code",
      "source": [
        "code_insee = '1001'\n",
        "inf_by_code = communes.assign(new_index=lambda x: x.code_commune_INSEE).set_index('new_index')\n",
        "inf_by_code.loc[code_insee].to_dict()"
      ],
      "metadata": {
        "colab": {
          "base_uri": "https://localhost:8080/"
        },
        "id": "oRN75m2mclZe",
        "outputId": "c8d0d445-a367-44da-d336-1a231db02ea6"
      },
      "execution_count": 14,
      "outputs": [
        {
          "output_type": "execute_result",
          "data": {
            "text/plain": [
              "{'code_commune_INSEE': '1001',\n",
              " 'code_postal': 1400,\n",
              " 'latitude': 46.1534255214,\n",
              " 'longitude': 4.92611354223,\n",
              " 'nom_commune_complet': \"L'Abergement-Clémenciat\",\n",
              " 'nom_departement': 'Ain',\n",
              " 'nom_region': 'Auvergne-Rhône-Alpes'}"
            ]
          },
          "metadata": {},
          "execution_count": 14
        }
      ]
    },
    {
      "cell_type": "markdown",
      "source": [
        "8. __API__"
      ],
      "metadata": {
        "id": "Fh6qap3mev4H"
      }
    },
    {
      "cell_type": "code",
      "source": [
        "from fastapi import FastAPI\n",
        "from typing import Dict\n",
        "import pandas as pd\n",
        "import nest_asyncio\n",
        "import uvicorn\n",
        "from pyngrok import ngrok\n",
        "from fastapi.middleware.cors import CORSMiddleware\n",
        "\n",
        "link_csv = \"https://drive.google.com/uc?export=download&id=1TMcP8ENPRakdqpqBNqtNPitIhbb_8kYC\"\n",
        "\n",
        "communes = pd.read_csv(link_csv, index_col=\"Unnamed: 0\")\n",
        "\n",
        "app = FastAPI()\n",
        "\n",
        "app.add_middleware(\n",
        "    CORSMiddleware,\n",
        "    allow_origins=['*'],\n",
        "    allow_credentials=True,\n",
        "    allow_methods=['*'],\n",
        "    allow_headers=['*'],\n",
        ")\n",
        "\n",
        "\n",
        "@app.get(\"/regions\")\n",
        "async def get_regions() -> Dict[str, int]:\n",
        "    nb_towns_by_region = communes.groupby('nom_region')['code_commune_INSEE'].count().rename('nb_towns').to_dict()\n",
        "\n",
        "    return nb_towns_by_region\n",
        "\n",
        "\n",
        "@app.get(\"/regions/{region_name}\")\n",
        "async def get_departments_by_region(region_name: str) -> Dict[str, int]:\n",
        "    towns_by_department_by_region = communes.loc[communes['nom_region'] == region_name].groupby('nom_departement')['code_commune_INSEE'].count().to_dict()\n",
        "\n",
        "    return towns_by_department_by_region\n",
        "\n",
        "\n",
        "@app.get(\"/departments/{department_name}\")\n",
        "async def get_towns_by_departement(department_name: str)-> Dict[str, str]:\n",
        "    towns_by_department = communes.loc[communes['nom_departement'] == department_name][['nom_commune_complet', 'code_commune_INSEE']].set_index('nom_commune_complet').squeeze().to_dict()\n",
        "\n",
        "    return towns_by_department\n",
        "\n",
        "\n",
        "@app.get(\"/towns/{town_code_insee}\")\n",
        "async def get_info_town_with_insee(town_code_insee: str) -> Dict:\n",
        "    info_by_insee = communes.assign(new_index=lambda x: x.code_commune_INSEE).set_index('new_index').loc[town_code_insee].to_dict()\n",
        "\n",
        "    return info_by_insee\n",
        "\n",
        "\n",
        "\n",
        "if __name__ == \"__main__\":\n",
        "    # Get your authtoken from https://dashboard.ngrok.com/get-started/your-authtoken\n",
        "    auth_token = input(\"Please, enter your Auth token : \")\n",
        "\n",
        "    # Set the authtoken\n",
        "    ngrok.set_auth_token(auth_token)\n",
        "    ngrok_tunnel = ngrok.connect(8000)\n",
        "    print('Public URL:', ngrok_tunnel.public_url)\n",
        "    nest_asyncio.apply()\n",
        "    uvicorn.run(app, port=8000)"
      ],
      "metadata": {
        "id": "bAD2kYo1eyCl"
      },
      "execution_count": null,
      "outputs": []
    }
  ]
}