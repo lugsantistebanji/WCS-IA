{
  "nbformat": 4,
  "nbformat_minor": 0,
  "metadata": {
    "colab": {
      "provenance": [],
      "authorship_tag": "ABX9TyNh4yQfnvlmxGh00C09E9v9",
      "include_colab_link": true
    },
    "kernelspec": {
      "name": "python3",
      "display_name": "Python 3"
    },
    "language_info": {
      "name": "python"
    }
  },
  "cells": [
    {
      "cell_type": "markdown",
      "metadata": {
        "id": "view-in-github",
        "colab_type": "text"
      },
      "source": [
        "<a href=\"https://colab.research.google.com/github/lugsantistebanji/WCS-IA/blob/main/WCS_IA_04_11_2024.ipynb\" target=\"_parent\"><img src=\"https://colab.research.google.com/assets/colab-badge.svg\" alt=\"Open In Colab\"/></a>"
      ]
    },
    {
      "cell_type": "markdown",
      "source": [],
      "metadata": {
        "id": "8niNRPipnpuG"
      }
    },
    {
      "cell_type": "markdown",
      "source": [
        "### Exercice example : Pair ou Impair\n",
        "\n",
        "\n",
        "**Objectif :**\n",
        "\n",
        "Écrire un programme qui demande à l'utilisateur un nombre et indique si ce nombre est pair ou impair.\n",
        "\n",
        "**Étapes :**\n",
        "\n",
        "- Demander un nombre à l'utilisateur.\n",
        "Utiliser l'opérateur modulo % pour vérifier la parité.\n",
        "\n",
        "- Afficher si le nombre est pair ou impair."
      ],
      "metadata": {
        "id": "FYuQMI1Zns_M"
      }
    },
    {
      "cell_type": "markdown",
      "source": [
        "**Code Exemple :**"
      ],
      "metadata": {
        "id": "VSXjSJwSojya"
      }
    },
    {
      "cell_type": "code",
      "source": [
        "nombre = int(input(\"Entrez un nombre : \"))\n",
        "if nombre % 2 == 0:\n",
        "    print(\"Le nombre est pair.\")\n",
        "else:\n",
        "    print(\"Le nombre est impair.\")"
      ],
      "metadata": {
        "colab": {
          "base_uri": "https://localhost:8080/"
        },
        "id": "izrzBPwnoTSh",
        "outputId": "89843e91-8835-4fef-9419-5b942d6637fe"
      },
      "execution_count": 2,
      "outputs": [
        {
          "output_type": "stream",
          "name": "stdout",
          "text": [
            "Entrez un nombre : 25\n",
            "Le nombre est impair.\n"
          ]
        }
      ]
    },
    {
      "cell_type": "markdown",
      "source": [
        "**Une solution**:"
      ],
      "metadata": {
        "id": "tN1hVJ6hoylW"
      }
    },
    {
      "cell_type": "code",
      "source": [
        "def odd_or_even(number: int)->None:\n",
        "  if number % 2 == 0:\n",
        "    print(f\"{number} is an even number.\")\n",
        "  else:\n",
        "    print(f\"{number} is an odd number\")\n",
        "\n",
        "number = int(input(\"Enter a number, please : \"))\n",
        "odd_or_even(number)"
      ],
      "metadata": {
        "colab": {
          "base_uri": "https://localhost:8080/"
        },
        "id": "clUnNUSRpK3f",
        "outputId": "62c36140-e50f-45c9-be5a-40aaceac689b"
      },
      "execution_count": 4,
      "outputs": [
        {
          "output_type": "stream",
          "name": "stdout",
          "text": [
            "Enter a number, please : 37\n",
            "37 is an odd number\n"
          ]
        }
      ]
    },
    {
      "cell_type": "markdown",
      "source": [
        "### Exercice 1 : Afficher les nombres de 1 à 10\n",
        "\n",
        "\n",
        "**Objectif :**\n",
        "\n",
        "Écrire une fonction qui utilise une boucle for pour afficher les nombres de 1 à 10.\n",
        "\n",
        "**Étapes :**\n",
        "- Créez une fonction qui ne prend pas de paramètre.\n",
        "- Utilisez une boucle for pour parcourir les nombres de 1 à 10.\n",
        "- Affichez chaque nombre.\n",
        "\n",
        "**Pense-bête :**\n",
        "\n",
        "Utilisez range(1, 11) pour générer les nombres de 1 à 10.\n"
      ],
      "metadata": {
        "id": "gmQySN6rqu0C"
      }
    },
    {
      "cell_type": "markdown",
      "source": [
        "**Une solution :**"
      ],
      "metadata": {
        "id": "drqrNikkr6-N"
      }
    },
    {
      "cell_type": "code",
      "source": [
        "def list_1_to_10() -> None:\n",
        "  for number in range(1, 11):\n",
        "    print(number)\n",
        "\n",
        "list_1_to_10()"
      ],
      "metadata": {
        "colab": {
          "base_uri": "https://localhost:8080/"
        },
        "collapsed": true,
        "id": "qLK5KWH4rgFd",
        "outputId": "6883b6d5-c5a5-4e2b-9e04-65de6586f0ae"
      },
      "execution_count": 6,
      "outputs": [
        {
          "output_type": "stream",
          "name": "stdout",
          "text": [
            "1\n",
            "2\n",
            "3\n",
            "4\n",
            "5\n",
            "6\n",
            "7\n",
            "8\n",
            "9\n",
            "10\n"
          ]
        }
      ]
    },
    {
      "cell_type": "markdown",
      "source": [
        "### Exercice 2 : Compter le nombre de voyelles dans une phrase\n",
        "\n",
        "**Objectif : **\n",
        "\n",
        "Créer une fonction qui prend une phrase en argument et compte le nombre de voyelles dans la phrase.\n",
        "\n",
        "**Étapes :**\n",
        "\n",
        "- Créez une fonction qui prend une chaîne de caractères en paramètre.\n",
        "\n",
        "- Utilisez une boucle for pour parcourir chaque caractère de la phrase.\n",
        "\n",
        "- Utilisez une condition if pour vérifier si le caractère est une voyelle.\n",
        "\n",
        "- Affichez le nombre total de voyelles.\n",
        "\n",
        "**Pense-bête :**\n",
        "\n",
        "Les voyelles sont a, e, i, o, u et leurs majuscules.\n",
        "\n",
        "\n"
      ],
      "metadata": {
        "id": "Q8dpxTNusHVV"
      }
    },
    {
      "cell_type": "markdown",
      "source": [
        "**Une première solution :**"
      ],
      "metadata": {
        "id": "FbgCJLyTsjb2"
      }
    },
    {
      "cell_type": "code",
      "source": [
        "def count_vowels(text: str) -> int:\n",
        "  vowels = \"aeiouAEIOU\"\n",
        "  count = 0\n",
        "  for char in text:\n",
        "    if char in vowels:\n",
        "      count += 1\n",
        "  return count\n",
        "\n",
        "text1 = \"This is an example\"\n",
        "text2 = \"HELLO WORLD\"\n",
        "print(f\"\\'{text1}\\' contains {count_vowels(text1)} vowels.\")\n",
        "print(f\"\\'{text2}\\' contains {count_vowels(text2)} vowels.\")"
      ],
      "metadata": {
        "id": "jFofb2vFvbVN"
      },
      "execution_count": null,
      "outputs": []
    },
    {
      "cell_type": "markdown",
      "source": [
        "**Une autre solution :**"
      ],
      "metadata": {
        "id": "ISRG_26yvXfE"
      }
    },
    {
      "cell_type": "code",
      "source": [
        "def count_vowels(text: str) -> int:\n",
        "  vowels = \"aeiou\"\n",
        "  count = 0\n",
        "  for char in text:\n",
        "    if char in vowels or char.lower() in vowels:\n",
        "      count += 1\n",
        "  return count\n",
        "\n",
        "def print_count_vowels(text: str) -> None:\n",
        "    print(f\"\\'{text}\\' contains {count_vowels(text)} vowels.\")\n",
        "\n",
        "text1 = \"This is an example\"\n",
        "text2 = \"HELLO WORLD\"\n",
        "\n",
        "print_count_vowels(text1)\n",
        "print_count_vowels(text2)"
      ],
      "metadata": {
        "colab": {
          "base_uri": "https://localhost:8080/"
        },
        "id": "AM0TxSZNssKK",
        "outputId": "b4a27ff1-5707-4e05-b595-1399fc345c92"
      },
      "execution_count": 11,
      "outputs": [
        {
          "output_type": "stream",
          "name": "stdout",
          "text": [
            "'This is an example' contains 6 vowels.\n",
            "'HELLO WORLD' contains 3 vowels.\n"
          ]
        }
      ]
    },
    {
      "cell_type": "markdown",
      "source": [
        "### Exercice 3 : Table de multiplication\n",
        "\n",
        "**Objectif :**\n",
        "\n",
        "Écrire une fonction qui prend un nombre comme argument et affiche sa table de multiplication de 1 à 10.\n",
        "\n",
        "**Étapes :**\n",
        "\n",
        "- Créez une fonction qui prend un nombre en paramètre.\n",
        "\n",
        "- Utilisez une boucle for pour multiplier ce nombre par les entiers de 1 à 10.\n",
        "\n",
        "- Affichez chaque ligne de la table de multiplication.\n",
        "\n",
        "**Pense-bête :**\n",
        "\n",
        "Utilisez f\"{nombre} x {i} = {nombre * i}\" pour le formatage de l'affichage.\n"
      ],
      "metadata": {
        "id": "1xplIWNFsSxK"
      }
    },
    {
      "cell_type": "markdown",
      "source": [
        "**Une solution :**"
      ],
      "metadata": {
        "id": "oeqRTR1TxUdU"
      }
    },
    {
      "cell_type": "code",
      "source": [
        "def multiplication_table_of(number: int) -> None:\n",
        "  for n in range(1, 11):\n",
        "    print(f\"{number} x {n} = {number * n}\")\n",
        "\n",
        "multiplication_table_of(9)"
      ],
      "metadata": {
        "colab": {
          "base_uri": "https://localhost:8080/"
        },
        "id": "jEjZSqzdwc6Z",
        "outputId": "f3402c33-d49c-4fcd-fb56-2fffa73d51cc"
      },
      "execution_count": 13,
      "outputs": [
        {
          "output_type": "stream",
          "name": "stdout",
          "text": [
            "9 x 1 = 9\n",
            "9 x 2 = 18\n",
            "9 x 3 = 27\n",
            "9 x 4 = 36\n",
            "9 x 5 = 45\n",
            "9 x 6 = 54\n",
            "9 x 7 = 63\n",
            "9 x 8 = 72\n",
            "9 x 9 = 81\n",
            "9 x 10 = 90\n"
          ]
        }
      ]
    }
  ]
}