{
  "nbformat": 4,
  "nbformat_minor": 0,
  "metadata": {
    "colab": {
      "provenance": [],
      "authorship_tag": "ABX9TyPd+Wy5trBQ+SmiQnkX6ohF",
      "include_colab_link": true
    },
    "kernelspec": {
      "name": "python3",
      "display_name": "Python 3"
    },
    "language_info": {
      "name": "python"
    }
  },
  "cells": [
    {
      "cell_type": "markdown",
      "metadata": {
        "id": "view-in-github",
        "colab_type": "text"
      },
      "source": [
        "<a href=\"https://colab.research.google.com/github/lugsantistebanji/WCS-IA/blob/main/WCS_IA_Exercice_Pandas_Parc_d_attractions.ipynb\" target=\"_parent\"><img src=\"https://colab.research.google.com/assets/colab-badge.svg\" alt=\"Open In Colab\"/></a>"
      ]
    },
    {
      "cell_type": "markdown",
      "source": [
        "# Exercice: Analyse des Données d'un Parc d'Attractions\n",
        "\n",
        "Tu es embauché comme analyste de données pour un célèbre parc d’attractions : \"Adventure World\". Le parc souhaite analyser les performances de ses attractions, les préférences des visiteurs, et optimiser son fonctionnement.\n",
        "\n",
        "Voici un gros DataFrame que tu vas manipuler pour répondre à plusieurs questions\n",
        "amusantes.\n",
        "\n",
        "\n"
      ],
      "metadata": {
        "id": "kRIrz8oG59d2"
      }
    },
    {
      "cell_type": "markdown",
      "source": [
        "---"
      ],
      "metadata": {
        "id": "QVaHvsFf7eiQ"
      }
    },
    {
      "cell_type": "markdown",
      "source": [
        "## 1. Le DataFrame : Données du parc\n",
        "\n",
        "### Copie ce code pour créer le DataFrame :\n",
        "\n",
        "```python\n",
        "\n",
        "import pandas as pd\n",
        "import numpy as np\n",
        "# Données fictives du parc d'attractions\n",
        "data = {\n",
        "\"Attraction\": [\n",
        "\"Montagnes Russes\", \"Grande Roue\", \"Maison Hantée\", \"Toboggans\n",
        "Aquatiques\",\n",
        "\"Circuit de Karting\", \"Zoo Interactif\", \"Tour de Chute\",\n",
        "\"Labyrinthe Magique\",\n",
        "\"Cinéma 5D\", \"Aire de Jeux\", \"Manège Classique\", \"Train Fantôme\"\n",
        "],\n",
        "\"Type\": [\n",
        "\"Sensations Fortes\", \"Familiale\", \"Émotions\", \"Aquatique\",\n",
        "\"Sportive\", \"Animaux\", \"Sensations Fortes\", \"Familiale\",\n",
        "\"Émotions\", \"Familiale\", \"Familiale\", \"Émotions\"\n",
        "],\n",
        "\"Visiteurs Moyens/Jour\": np.random.randint(50, 500, 12),\n",
        "\"Satisfaction (%)\": np.random.randint(60, 100, 12),\n",
        "\"Durée Moyenne (min)\": np.random.randint(5, 30, 12),\n",
        "\"Capacité Max/Heure\": np.random.randint(100, 1000, 12),\n",
        "\"Incidents Signalés\": np.random.randint(0, 10, 12),\n",
        "\"Coût Maintenance (€)\": np.random.randint(1000, 10000, 12),\n",
        "}\n",
        "\n",
        "# Création du DataFrame\n",
        "parc_df = pd.DataFrame(data)\n",
        "# Affiche le DataFrame pour vérifier\n",
        "print(parc_df)\n",
        "```\n",
        "### Ce DataFrame contient des informations sur :\n",
        "\n",
        "- Attraction : le nom des attractions.\n",
        "- Type : la catégorie de l'attraction.\n",
        "- Visiteurs Moyens/Jour : nombre moyen de visiteurs par jour.\n",
        "- Satisfaction (%) : satisfaction moyenne des visiteurs.\n",
        "- Durée Moyenne (min) : temps moyen passé par les visiteurs.\n",
        "- Capacité Max/Heure : nombre maximum de visiteurs pouvant être accueillis par\n",
        "heure.\n",
        "- Incidents Signalés : nombre d’incidents enregistrés dans l’attraction.\n",
        "- Coût Maintenance (€) : coût mensuel moyen de la maintenance.\n",
        "\n"
      ],
      "metadata": {
        "id": "DWBCEHIN6ZvI"
      }
    },
    {
      "cell_type": "code",
      "source": [
        "import pandas as pd\n",
        "import numpy as np\n",
        "# Données fictives du parc d'attractions\n",
        "data = {\n",
        "    \"Attraction\": [\n",
        "        \"Montagnes Russes\", \"Grande Roue\", \"Maison Hantée\", \"Toboggans,Aquatiques\", \"Circuit de Karting\", \"Zoo Interactif\", \"Tour de Chute\",\"Labyrinthe Magique\", \"Cinéma 5D\", \"Aire de Jeux\", \"Manège Classique\", \"Train Fantôme\"\n",
        "        ],\n",
        "    \"Type\": [\n",
        "        \"Sensations Fortes\", \"Familiale\", \"Émotions\", \"Aquatique\", \"Sportive\",\"Animaux\", \"Sensations Fortes\", \"Familiale\", \"Émotions\", \"Familiale\",\"Familiale\", \"Émotions\"\n",
        "    ],\n",
        "    \"Visiteurs Moyens/Jour\": np.random.randint(50, 500, 12),\n",
        "    \"Satisfaction (%)\": np.random.randint(60, 100, 12),\n",
        "    \"Durée Moyenne (min)\": np.random.randint(5, 30, 12),\n",
        "    \"Capacité Max/Heure\": np.random.randint(100, 1000, 12),\n",
        "    \"Incidents Signalés\": np.random.randint(0, 10, 12),\n",
        "    \"Coût Maintenance (€)\": np.random.randint(1000, 10000, 12)\n",
        "}\n",
        "\n",
        "# Création du DataFrame\n",
        "parc_df = pd.DataFrame(data)\n",
        "# Affiche le DataFrame pour vérifier\n",
        "parc_df"
      ],
      "metadata": {
        "colab": {
          "base_uri": "https://localhost:8080/",
          "height": 515
        },
        "id": "jrtzGQq87cJr",
        "outputId": "20903f86-f372-47c9-e71e-d0659a308679"
      },
      "execution_count": 104,
      "outputs": [
        {
          "output_type": "execute_result",
          "data": {
            "text/plain": [
              "              Attraction               Type  Visiteurs Moyens/Jour  \\\n",
              "0       Montagnes Russes  Sensations Fortes                    251   \n",
              "1            Grande Roue          Familiale                    400   \n",
              "2          Maison Hantée           Émotions                    250   \n",
              "3   Toboggans,Aquatiques          Aquatique                    228   \n",
              "4     Circuit de Karting           Sportive                    353   \n",
              "5         Zoo Interactif            Animaux                     55   \n",
              "6          Tour de Chute  Sensations Fortes                    115   \n",
              "7     Labyrinthe Magique          Familiale                    491   \n",
              "8              Cinéma 5D           Émotions                    200   \n",
              "9           Aire de Jeux          Familiale                    491   \n",
              "10      Manège Classique          Familiale                    491   \n",
              "11         Train Fantôme           Émotions                     60   \n",
              "\n",
              "    Satisfaction (%)  Durée Moyenne (min)  Capacité Max/Heure  \\\n",
              "0                 84                   11                 878   \n",
              "1                 81                   11                 836   \n",
              "2                 66                   20                 238   \n",
              "3                 68                   13                 939   \n",
              "4                 80                   19                 627   \n",
              "5                 99                    6                 769   \n",
              "6                 95                    7                 590   \n",
              "7                 92                   26                 945   \n",
              "8                 86                   19                 423   \n",
              "9                 83                    8                 688   \n",
              "10                72                   28                 751   \n",
              "11                64                    9                 570   \n",
              "\n",
              "    Incidents Signalés  Coût Maintenance (€)  \n",
              "0                    9                  1996  \n",
              "1                    4                  4322  \n",
              "2                    7                  3440  \n",
              "3                    3                  4603  \n",
              "4                    6                  8404  \n",
              "5                    2                  1490  \n",
              "6                    4                  7643  \n",
              "7                    1                  9621  \n",
              "8                    3                  6950  \n",
              "9                    4                  6785  \n",
              "10                   1                  9683  \n",
              "11                   5                  4837  "
            ],
            "text/html": [
              "\n",
              "  <div id=\"df-da2b5394-f9ea-48d4-a274-bdb5fc6d4157\" class=\"colab-df-container\">\n",
              "    <div>\n",
              "<style scoped>\n",
              "    .dataframe tbody tr th:only-of-type {\n",
              "        vertical-align: middle;\n",
              "    }\n",
              "\n",
              "    .dataframe tbody tr th {\n",
              "        vertical-align: top;\n",
              "    }\n",
              "\n",
              "    .dataframe thead th {\n",
              "        text-align: right;\n",
              "    }\n",
              "</style>\n",
              "<table border=\"1\" class=\"dataframe\">\n",
              "  <thead>\n",
              "    <tr style=\"text-align: right;\">\n",
              "      <th></th>\n",
              "      <th>Attraction</th>\n",
              "      <th>Type</th>\n",
              "      <th>Visiteurs Moyens/Jour</th>\n",
              "      <th>Satisfaction (%)</th>\n",
              "      <th>Durée Moyenne (min)</th>\n",
              "      <th>Capacité Max/Heure</th>\n",
              "      <th>Incidents Signalés</th>\n",
              "      <th>Coût Maintenance (€)</th>\n",
              "    </tr>\n",
              "  </thead>\n",
              "  <tbody>\n",
              "    <tr>\n",
              "      <th>0</th>\n",
              "      <td>Montagnes Russes</td>\n",
              "      <td>Sensations Fortes</td>\n",
              "      <td>251</td>\n",
              "      <td>84</td>\n",
              "      <td>11</td>\n",
              "      <td>878</td>\n",
              "      <td>9</td>\n",
              "      <td>1996</td>\n",
              "    </tr>\n",
              "    <tr>\n",
              "      <th>1</th>\n",
              "      <td>Grande Roue</td>\n",
              "      <td>Familiale</td>\n",
              "      <td>400</td>\n",
              "      <td>81</td>\n",
              "      <td>11</td>\n",
              "      <td>836</td>\n",
              "      <td>4</td>\n",
              "      <td>4322</td>\n",
              "    </tr>\n",
              "    <tr>\n",
              "      <th>2</th>\n",
              "      <td>Maison Hantée</td>\n",
              "      <td>Émotions</td>\n",
              "      <td>250</td>\n",
              "      <td>66</td>\n",
              "      <td>20</td>\n",
              "      <td>238</td>\n",
              "      <td>7</td>\n",
              "      <td>3440</td>\n",
              "    </tr>\n",
              "    <tr>\n",
              "      <th>3</th>\n",
              "      <td>Toboggans,Aquatiques</td>\n",
              "      <td>Aquatique</td>\n",
              "      <td>228</td>\n",
              "      <td>68</td>\n",
              "      <td>13</td>\n",
              "      <td>939</td>\n",
              "      <td>3</td>\n",
              "      <td>4603</td>\n",
              "    </tr>\n",
              "    <tr>\n",
              "      <th>4</th>\n",
              "      <td>Circuit de Karting</td>\n",
              "      <td>Sportive</td>\n",
              "      <td>353</td>\n",
              "      <td>80</td>\n",
              "      <td>19</td>\n",
              "      <td>627</td>\n",
              "      <td>6</td>\n",
              "      <td>8404</td>\n",
              "    </tr>\n",
              "    <tr>\n",
              "      <th>5</th>\n",
              "      <td>Zoo Interactif</td>\n",
              "      <td>Animaux</td>\n",
              "      <td>55</td>\n",
              "      <td>99</td>\n",
              "      <td>6</td>\n",
              "      <td>769</td>\n",
              "      <td>2</td>\n",
              "      <td>1490</td>\n",
              "    </tr>\n",
              "    <tr>\n",
              "      <th>6</th>\n",
              "      <td>Tour de Chute</td>\n",
              "      <td>Sensations Fortes</td>\n",
              "      <td>115</td>\n",
              "      <td>95</td>\n",
              "      <td>7</td>\n",
              "      <td>590</td>\n",
              "      <td>4</td>\n",
              "      <td>7643</td>\n",
              "    </tr>\n",
              "    <tr>\n",
              "      <th>7</th>\n",
              "      <td>Labyrinthe Magique</td>\n",
              "      <td>Familiale</td>\n",
              "      <td>491</td>\n",
              "      <td>92</td>\n",
              "      <td>26</td>\n",
              "      <td>945</td>\n",
              "      <td>1</td>\n",
              "      <td>9621</td>\n",
              "    </tr>\n",
              "    <tr>\n",
              "      <th>8</th>\n",
              "      <td>Cinéma 5D</td>\n",
              "      <td>Émotions</td>\n",
              "      <td>200</td>\n",
              "      <td>86</td>\n",
              "      <td>19</td>\n",
              "      <td>423</td>\n",
              "      <td>3</td>\n",
              "      <td>6950</td>\n",
              "    </tr>\n",
              "    <tr>\n",
              "      <th>9</th>\n",
              "      <td>Aire de Jeux</td>\n",
              "      <td>Familiale</td>\n",
              "      <td>491</td>\n",
              "      <td>83</td>\n",
              "      <td>8</td>\n",
              "      <td>688</td>\n",
              "      <td>4</td>\n",
              "      <td>6785</td>\n",
              "    </tr>\n",
              "    <tr>\n",
              "      <th>10</th>\n",
              "      <td>Manège Classique</td>\n",
              "      <td>Familiale</td>\n",
              "      <td>491</td>\n",
              "      <td>72</td>\n",
              "      <td>28</td>\n",
              "      <td>751</td>\n",
              "      <td>1</td>\n",
              "      <td>9683</td>\n",
              "    </tr>\n",
              "    <tr>\n",
              "      <th>11</th>\n",
              "      <td>Train Fantôme</td>\n",
              "      <td>Émotions</td>\n",
              "      <td>60</td>\n",
              "      <td>64</td>\n",
              "      <td>9</td>\n",
              "      <td>570</td>\n",
              "      <td>5</td>\n",
              "      <td>4837</td>\n",
              "    </tr>\n",
              "  </tbody>\n",
              "</table>\n",
              "</div>\n",
              "    <div class=\"colab-df-buttons\">\n",
              "\n",
              "  <div class=\"colab-df-container\">\n",
              "    <button class=\"colab-df-convert\" onclick=\"convertToInteractive('df-da2b5394-f9ea-48d4-a274-bdb5fc6d4157')\"\n",
              "            title=\"Convert this dataframe to an interactive table.\"\n",
              "            style=\"display:none;\">\n",
              "\n",
              "  <svg xmlns=\"http://www.w3.org/2000/svg\" height=\"24px\" viewBox=\"0 -960 960 960\">\n",
              "    <path d=\"M120-120v-720h720v720H120Zm60-500h600v-160H180v160Zm220 220h160v-160H400v160Zm0 220h160v-160H400v160ZM180-400h160v-160H180v160Zm440 0h160v-160H620v160ZM180-180h160v-160H180v160Zm440 0h160v-160H620v160Z\"/>\n",
              "  </svg>\n",
              "    </button>\n",
              "\n",
              "  <style>\n",
              "    .colab-df-container {\n",
              "      display:flex;\n",
              "      gap: 12px;\n",
              "    }\n",
              "\n",
              "    .colab-df-convert {\n",
              "      background-color: #E8F0FE;\n",
              "      border: none;\n",
              "      border-radius: 50%;\n",
              "      cursor: pointer;\n",
              "      display: none;\n",
              "      fill: #1967D2;\n",
              "      height: 32px;\n",
              "      padding: 0 0 0 0;\n",
              "      width: 32px;\n",
              "    }\n",
              "\n",
              "    .colab-df-convert:hover {\n",
              "      background-color: #E2EBFA;\n",
              "      box-shadow: 0px 1px 2px rgba(60, 64, 67, 0.3), 0px 1px 3px 1px rgba(60, 64, 67, 0.15);\n",
              "      fill: #174EA6;\n",
              "    }\n",
              "\n",
              "    .colab-df-buttons div {\n",
              "      margin-bottom: 4px;\n",
              "    }\n",
              "\n",
              "    [theme=dark] .colab-df-convert {\n",
              "      background-color: #3B4455;\n",
              "      fill: #D2E3FC;\n",
              "    }\n",
              "\n",
              "    [theme=dark] .colab-df-convert:hover {\n",
              "      background-color: #434B5C;\n",
              "      box-shadow: 0px 1px 3px 1px rgba(0, 0, 0, 0.15);\n",
              "      filter: drop-shadow(0px 1px 2px rgba(0, 0, 0, 0.3));\n",
              "      fill: #FFFFFF;\n",
              "    }\n",
              "  </style>\n",
              "\n",
              "    <script>\n",
              "      const buttonEl =\n",
              "        document.querySelector('#df-da2b5394-f9ea-48d4-a274-bdb5fc6d4157 button.colab-df-convert');\n",
              "      buttonEl.style.display =\n",
              "        google.colab.kernel.accessAllowed ? 'block' : 'none';\n",
              "\n",
              "      async function convertToInteractive(key) {\n",
              "        const element = document.querySelector('#df-da2b5394-f9ea-48d4-a274-bdb5fc6d4157');\n",
              "        const dataTable =\n",
              "          await google.colab.kernel.invokeFunction('convertToInteractive',\n",
              "                                                    [key], {});\n",
              "        if (!dataTable) return;\n",
              "\n",
              "        const docLinkHtml = 'Like what you see? Visit the ' +\n",
              "          '<a target=\"_blank\" href=https://colab.research.google.com/notebooks/data_table.ipynb>data table notebook</a>'\n",
              "          + ' to learn more about interactive tables.';\n",
              "        element.innerHTML = '';\n",
              "        dataTable['output_type'] = 'display_data';\n",
              "        await google.colab.output.renderOutput(dataTable, element);\n",
              "        const docLink = document.createElement('div');\n",
              "        docLink.innerHTML = docLinkHtml;\n",
              "        element.appendChild(docLink);\n",
              "      }\n",
              "    </script>\n",
              "  </div>\n",
              "\n",
              "\n",
              "<div id=\"df-5132c04f-f9fb-4b06-bf8b-6f50c931a410\">\n",
              "  <button class=\"colab-df-quickchart\" onclick=\"quickchart('df-5132c04f-f9fb-4b06-bf8b-6f50c931a410')\"\n",
              "            title=\"Suggest charts\"\n",
              "            style=\"display:none;\">\n",
              "\n",
              "<svg xmlns=\"http://www.w3.org/2000/svg\" height=\"24px\"viewBox=\"0 0 24 24\"\n",
              "     width=\"24px\">\n",
              "    <g>\n",
              "        <path d=\"M19 3H5c-1.1 0-2 .9-2 2v14c0 1.1.9 2 2 2h14c1.1 0 2-.9 2-2V5c0-1.1-.9-2-2-2zM9 17H7v-7h2v7zm4 0h-2V7h2v10zm4 0h-2v-4h2v4z\"/>\n",
              "    </g>\n",
              "</svg>\n",
              "  </button>\n",
              "\n",
              "<style>\n",
              "  .colab-df-quickchart {\n",
              "      --bg-color: #E8F0FE;\n",
              "      --fill-color: #1967D2;\n",
              "      --hover-bg-color: #E2EBFA;\n",
              "      --hover-fill-color: #174EA6;\n",
              "      --disabled-fill-color: #AAA;\n",
              "      --disabled-bg-color: #DDD;\n",
              "  }\n",
              "\n",
              "  [theme=dark] .colab-df-quickchart {\n",
              "      --bg-color: #3B4455;\n",
              "      --fill-color: #D2E3FC;\n",
              "      --hover-bg-color: #434B5C;\n",
              "      --hover-fill-color: #FFFFFF;\n",
              "      --disabled-bg-color: #3B4455;\n",
              "      --disabled-fill-color: #666;\n",
              "  }\n",
              "\n",
              "  .colab-df-quickchart {\n",
              "    background-color: var(--bg-color);\n",
              "    border: none;\n",
              "    border-radius: 50%;\n",
              "    cursor: pointer;\n",
              "    display: none;\n",
              "    fill: var(--fill-color);\n",
              "    height: 32px;\n",
              "    padding: 0;\n",
              "    width: 32px;\n",
              "  }\n",
              "\n",
              "  .colab-df-quickchart:hover {\n",
              "    background-color: var(--hover-bg-color);\n",
              "    box-shadow: 0 1px 2px rgba(60, 64, 67, 0.3), 0 1px 3px 1px rgba(60, 64, 67, 0.15);\n",
              "    fill: var(--button-hover-fill-color);\n",
              "  }\n",
              "\n",
              "  .colab-df-quickchart-complete:disabled,\n",
              "  .colab-df-quickchart-complete:disabled:hover {\n",
              "    background-color: var(--disabled-bg-color);\n",
              "    fill: var(--disabled-fill-color);\n",
              "    box-shadow: none;\n",
              "  }\n",
              "\n",
              "  .colab-df-spinner {\n",
              "    border: 2px solid var(--fill-color);\n",
              "    border-color: transparent;\n",
              "    border-bottom-color: var(--fill-color);\n",
              "    animation:\n",
              "      spin 1s steps(1) infinite;\n",
              "  }\n",
              "\n",
              "  @keyframes spin {\n",
              "    0% {\n",
              "      border-color: transparent;\n",
              "      border-bottom-color: var(--fill-color);\n",
              "      border-left-color: var(--fill-color);\n",
              "    }\n",
              "    20% {\n",
              "      border-color: transparent;\n",
              "      border-left-color: var(--fill-color);\n",
              "      border-top-color: var(--fill-color);\n",
              "    }\n",
              "    30% {\n",
              "      border-color: transparent;\n",
              "      border-left-color: var(--fill-color);\n",
              "      border-top-color: var(--fill-color);\n",
              "      border-right-color: var(--fill-color);\n",
              "    }\n",
              "    40% {\n",
              "      border-color: transparent;\n",
              "      border-right-color: var(--fill-color);\n",
              "      border-top-color: var(--fill-color);\n",
              "    }\n",
              "    60% {\n",
              "      border-color: transparent;\n",
              "      border-right-color: var(--fill-color);\n",
              "    }\n",
              "    80% {\n",
              "      border-color: transparent;\n",
              "      border-right-color: var(--fill-color);\n",
              "      border-bottom-color: var(--fill-color);\n",
              "    }\n",
              "    90% {\n",
              "      border-color: transparent;\n",
              "      border-bottom-color: var(--fill-color);\n",
              "    }\n",
              "  }\n",
              "</style>\n",
              "\n",
              "  <script>\n",
              "    async function quickchart(key) {\n",
              "      const quickchartButtonEl =\n",
              "        document.querySelector('#' + key + ' button');\n",
              "      quickchartButtonEl.disabled = true;  // To prevent multiple clicks.\n",
              "      quickchartButtonEl.classList.add('colab-df-spinner');\n",
              "      try {\n",
              "        const charts = await google.colab.kernel.invokeFunction(\n",
              "            'suggestCharts', [key], {});\n",
              "      } catch (error) {\n",
              "        console.error('Error during call to suggestCharts:', error);\n",
              "      }\n",
              "      quickchartButtonEl.classList.remove('colab-df-spinner');\n",
              "      quickchartButtonEl.classList.add('colab-df-quickchart-complete');\n",
              "    }\n",
              "    (() => {\n",
              "      let quickchartButtonEl =\n",
              "        document.querySelector('#df-5132c04f-f9fb-4b06-bf8b-6f50c931a410 button');\n",
              "      quickchartButtonEl.style.display =\n",
              "        google.colab.kernel.accessAllowed ? 'block' : 'none';\n",
              "    })();\n",
              "  </script>\n",
              "</div>\n",
              "\n",
              "  <div id=\"id_f2d6ee8a-f843-4c67-9ee3-f1b0966364ab\">\n",
              "    <style>\n",
              "      .colab-df-generate {\n",
              "        background-color: #E8F0FE;\n",
              "        border: none;\n",
              "        border-radius: 50%;\n",
              "        cursor: pointer;\n",
              "        display: none;\n",
              "        fill: #1967D2;\n",
              "        height: 32px;\n",
              "        padding: 0 0 0 0;\n",
              "        width: 32px;\n",
              "      }\n",
              "\n",
              "      .colab-df-generate:hover {\n",
              "        background-color: #E2EBFA;\n",
              "        box-shadow: 0px 1px 2px rgba(60, 64, 67, 0.3), 0px 1px 3px 1px rgba(60, 64, 67, 0.15);\n",
              "        fill: #174EA6;\n",
              "      }\n",
              "\n",
              "      [theme=dark] .colab-df-generate {\n",
              "        background-color: #3B4455;\n",
              "        fill: #D2E3FC;\n",
              "      }\n",
              "\n",
              "      [theme=dark] .colab-df-generate:hover {\n",
              "        background-color: #434B5C;\n",
              "        box-shadow: 0px 1px 3px 1px rgba(0, 0, 0, 0.15);\n",
              "        filter: drop-shadow(0px 1px 2px rgba(0, 0, 0, 0.3));\n",
              "        fill: #FFFFFF;\n",
              "      }\n",
              "    </style>\n",
              "    <button class=\"colab-df-generate\" onclick=\"generateWithVariable('parc_df')\"\n",
              "            title=\"Generate code using this dataframe.\"\n",
              "            style=\"display:none;\">\n",
              "\n",
              "  <svg xmlns=\"http://www.w3.org/2000/svg\" height=\"24px\"viewBox=\"0 0 24 24\"\n",
              "       width=\"24px\">\n",
              "    <path d=\"M7,19H8.4L18.45,9,17,7.55,7,17.6ZM5,21V16.75L18.45,3.32a2,2,0,0,1,2.83,0l1.4,1.43a1.91,1.91,0,0,1,.58,1.4,1.91,1.91,0,0,1-.58,1.4L9.25,21ZM18.45,9,17,7.55Zm-12,3A5.31,5.31,0,0,0,4.9,8.1,5.31,5.31,0,0,0,1,6.5,5.31,5.31,0,0,0,4.9,4.9,5.31,5.31,0,0,0,6.5,1,5.31,5.31,0,0,0,8.1,4.9,5.31,5.31,0,0,0,12,6.5,5.46,5.46,0,0,0,6.5,12Z\"/>\n",
              "  </svg>\n",
              "    </button>\n",
              "    <script>\n",
              "      (() => {\n",
              "      const buttonEl =\n",
              "        document.querySelector('#id_f2d6ee8a-f843-4c67-9ee3-f1b0966364ab button.colab-df-generate');\n",
              "      buttonEl.style.display =\n",
              "        google.colab.kernel.accessAllowed ? 'block' : 'none';\n",
              "\n",
              "      buttonEl.onclick = () => {\n",
              "        google.colab.notebook.generateWithVariable('parc_df');\n",
              "      }\n",
              "      })();\n",
              "    </script>\n",
              "  </div>\n",
              "\n",
              "    </div>\n",
              "  </div>\n"
            ],
            "application/vnd.google.colaboratory.intrinsic+json": {
              "type": "dataframe",
              "variable_name": "parc_df",
              "summary": "{\n  \"name\": \"parc_df\",\n  \"rows\": 12,\n  \"fields\": [\n    {\n      \"column\": \"Attraction\",\n      \"properties\": {\n        \"dtype\": \"string\",\n        \"num_unique_values\": 12,\n        \"samples\": [\n          \"Man\\u00e8ge Classique\",\n          \"Aire de Jeux\",\n          \"Montagnes Russes\"\n        ],\n        \"semantic_type\": \"\",\n        \"description\": \"\"\n      }\n    },\n    {\n      \"column\": \"Type\",\n      \"properties\": {\n        \"dtype\": \"string\",\n        \"num_unique_values\": 6,\n        \"samples\": [\n          \"Sensations Fortes\",\n          \"Familiale\",\n          \"Animaux\"\n        ],\n        \"semantic_type\": \"\",\n        \"description\": \"\"\n      }\n    },\n    {\n      \"column\": \"Visiteurs Moyens/Jour\",\n      \"properties\": {\n        \"dtype\": \"number\",\n        \"std\": 162,\n        \"min\": 55,\n        \"max\": 491,\n        \"num_unique_values\": 10,\n        \"samples\": [\n          200,\n          400,\n          55\n        ],\n        \"semantic_type\": \"\",\n        \"description\": \"\"\n      }\n    },\n    {\n      \"column\": \"Satisfaction (%)\",\n      \"properties\": {\n        \"dtype\": \"number\",\n        \"std\": 11,\n        \"min\": 64,\n        \"max\": 99,\n        \"num_unique_values\": 12,\n        \"samples\": [\n          72,\n          83,\n          84\n        ],\n        \"semantic_type\": \"\",\n        \"description\": \"\"\n      }\n    },\n    {\n      \"column\": \"Dur\\u00e9e Moyenne (min)\",\n      \"properties\": {\n        \"dtype\": \"number\",\n        \"std\": 7,\n        \"min\": 6,\n        \"max\": 28,\n        \"num_unique_values\": 10,\n        \"samples\": [\n          28,\n          20,\n          7\n        ],\n        \"semantic_type\": \"\",\n        \"description\": \"\"\n      }\n    },\n    {\n      \"column\": \"Capacit\\u00e9 Max/Heure\",\n      \"properties\": {\n        \"dtype\": \"number\",\n        \"std\": 212,\n        \"min\": 238,\n        \"max\": 945,\n        \"num_unique_values\": 12,\n        \"samples\": [\n          751,\n          688,\n          878\n        ],\n        \"semantic_type\": \"\",\n        \"description\": \"\"\n      }\n    },\n    {\n      \"column\": \"Incidents Signal\\u00e9s\",\n      \"properties\": {\n        \"dtype\": \"number\",\n        \"std\": 2,\n        \"min\": 1,\n        \"max\": 9,\n        \"num_unique_values\": 8,\n        \"samples\": [\n          4,\n          2,\n          9\n        ],\n        \"semantic_type\": \"\",\n        \"description\": \"\"\n      }\n    },\n    {\n      \"column\": \"Co\\u00fbt Maintenance (\\u20ac)\",\n      \"properties\": {\n        \"dtype\": \"number\",\n        \"std\": 2784,\n        \"min\": 1490,\n        \"max\": 9683,\n        \"num_unique_values\": 12,\n        \"samples\": [\n          9683,\n          6785,\n          1996\n        ],\n        \"semantic_type\": \"\",\n        \"description\": \"\"\n      }\n    }\n  ]\n}"
            }
          },
          "metadata": {},
          "execution_count": 104
        }
      ]
    },
    {
      "cell_type": "markdown",
      "source": [
        "---"
      ],
      "metadata": {
        "id": "SgHj_Z0c8Q_x"
      }
    },
    {
      "cell_type": "markdown",
      "source": [
        "## 2. Questions à résoudre\n",
        "\n",
        "\n",
        "\n",
        "\n",
        "\n",
        "\n",
        "\n",
        "\n",
        "\n",
        "\n",
        "\n"
      ],
      "metadata": {
        "id": "nXmoVjba60qq"
      }
    },
    {
      "cell_type": "markdown",
      "source": [
        "### A. Exploration des données"
      ],
      "metadata": {
        "id": "J81APokB639v"
      }
    },
    {
      "cell_type": "markdown",
      "source": [
        "\n",
        "1. Affiche les 5 premières lignes du DataFrame."
      ],
      "metadata": {
        "id": "Laeq-1-J8p8-"
      }
    },
    {
      "cell_type": "code",
      "source": [
        "parc_df.head(5)"
      ],
      "metadata": {
        "colab": {
          "base_uri": "https://localhost:8080/",
          "height": 278
        },
        "id": "4HjKRcOD8tFg",
        "outputId": "f1c52198-505e-49f4-9186-e709e3231944"
      },
      "execution_count": 105,
      "outputs": [
        {
          "output_type": "execute_result",
          "data": {
            "text/plain": [
              "             Attraction               Type  Visiteurs Moyens/Jour  \\\n",
              "0      Montagnes Russes  Sensations Fortes                    251   \n",
              "1           Grande Roue          Familiale                    400   \n",
              "2         Maison Hantée           Émotions                    250   \n",
              "3  Toboggans,Aquatiques          Aquatique                    228   \n",
              "4    Circuit de Karting           Sportive                    353   \n",
              "\n",
              "   Satisfaction (%)  Durée Moyenne (min)  Capacité Max/Heure  \\\n",
              "0                84                   11                 878   \n",
              "1                81                   11                 836   \n",
              "2                66                   20                 238   \n",
              "3                68                   13                 939   \n",
              "4                80                   19                 627   \n",
              "\n",
              "   Incidents Signalés  Coût Maintenance (€)  \n",
              "0                   9                  1996  \n",
              "1                   4                  4322  \n",
              "2                   7                  3440  \n",
              "3                   3                  4603  \n",
              "4                   6                  8404  "
            ],
            "text/html": [
              "\n",
              "  <div id=\"df-40e6b01a-da78-4497-9fa8-334f700543ca\" class=\"colab-df-container\">\n",
              "    <div>\n",
              "<style scoped>\n",
              "    .dataframe tbody tr th:only-of-type {\n",
              "        vertical-align: middle;\n",
              "    }\n",
              "\n",
              "    .dataframe tbody tr th {\n",
              "        vertical-align: top;\n",
              "    }\n",
              "\n",
              "    .dataframe thead th {\n",
              "        text-align: right;\n",
              "    }\n",
              "</style>\n",
              "<table border=\"1\" class=\"dataframe\">\n",
              "  <thead>\n",
              "    <tr style=\"text-align: right;\">\n",
              "      <th></th>\n",
              "      <th>Attraction</th>\n",
              "      <th>Type</th>\n",
              "      <th>Visiteurs Moyens/Jour</th>\n",
              "      <th>Satisfaction (%)</th>\n",
              "      <th>Durée Moyenne (min)</th>\n",
              "      <th>Capacité Max/Heure</th>\n",
              "      <th>Incidents Signalés</th>\n",
              "      <th>Coût Maintenance (€)</th>\n",
              "    </tr>\n",
              "  </thead>\n",
              "  <tbody>\n",
              "    <tr>\n",
              "      <th>0</th>\n",
              "      <td>Montagnes Russes</td>\n",
              "      <td>Sensations Fortes</td>\n",
              "      <td>251</td>\n",
              "      <td>84</td>\n",
              "      <td>11</td>\n",
              "      <td>878</td>\n",
              "      <td>9</td>\n",
              "      <td>1996</td>\n",
              "    </tr>\n",
              "    <tr>\n",
              "      <th>1</th>\n",
              "      <td>Grande Roue</td>\n",
              "      <td>Familiale</td>\n",
              "      <td>400</td>\n",
              "      <td>81</td>\n",
              "      <td>11</td>\n",
              "      <td>836</td>\n",
              "      <td>4</td>\n",
              "      <td>4322</td>\n",
              "    </tr>\n",
              "    <tr>\n",
              "      <th>2</th>\n",
              "      <td>Maison Hantée</td>\n",
              "      <td>Émotions</td>\n",
              "      <td>250</td>\n",
              "      <td>66</td>\n",
              "      <td>20</td>\n",
              "      <td>238</td>\n",
              "      <td>7</td>\n",
              "      <td>3440</td>\n",
              "    </tr>\n",
              "    <tr>\n",
              "      <th>3</th>\n",
              "      <td>Toboggans,Aquatiques</td>\n",
              "      <td>Aquatique</td>\n",
              "      <td>228</td>\n",
              "      <td>68</td>\n",
              "      <td>13</td>\n",
              "      <td>939</td>\n",
              "      <td>3</td>\n",
              "      <td>4603</td>\n",
              "    </tr>\n",
              "    <tr>\n",
              "      <th>4</th>\n",
              "      <td>Circuit de Karting</td>\n",
              "      <td>Sportive</td>\n",
              "      <td>353</td>\n",
              "      <td>80</td>\n",
              "      <td>19</td>\n",
              "      <td>627</td>\n",
              "      <td>6</td>\n",
              "      <td>8404</td>\n",
              "    </tr>\n",
              "  </tbody>\n",
              "</table>\n",
              "</div>\n",
              "    <div class=\"colab-df-buttons\">\n",
              "\n",
              "  <div class=\"colab-df-container\">\n",
              "    <button class=\"colab-df-convert\" onclick=\"convertToInteractive('df-40e6b01a-da78-4497-9fa8-334f700543ca')\"\n",
              "            title=\"Convert this dataframe to an interactive table.\"\n",
              "            style=\"display:none;\">\n",
              "\n",
              "  <svg xmlns=\"http://www.w3.org/2000/svg\" height=\"24px\" viewBox=\"0 -960 960 960\">\n",
              "    <path d=\"M120-120v-720h720v720H120Zm60-500h600v-160H180v160Zm220 220h160v-160H400v160Zm0 220h160v-160H400v160ZM180-400h160v-160H180v160Zm440 0h160v-160H620v160ZM180-180h160v-160H180v160Zm440 0h160v-160H620v160Z\"/>\n",
              "  </svg>\n",
              "    </button>\n",
              "\n",
              "  <style>\n",
              "    .colab-df-container {\n",
              "      display:flex;\n",
              "      gap: 12px;\n",
              "    }\n",
              "\n",
              "    .colab-df-convert {\n",
              "      background-color: #E8F0FE;\n",
              "      border: none;\n",
              "      border-radius: 50%;\n",
              "      cursor: pointer;\n",
              "      display: none;\n",
              "      fill: #1967D2;\n",
              "      height: 32px;\n",
              "      padding: 0 0 0 0;\n",
              "      width: 32px;\n",
              "    }\n",
              "\n",
              "    .colab-df-convert:hover {\n",
              "      background-color: #E2EBFA;\n",
              "      box-shadow: 0px 1px 2px rgba(60, 64, 67, 0.3), 0px 1px 3px 1px rgba(60, 64, 67, 0.15);\n",
              "      fill: #174EA6;\n",
              "    }\n",
              "\n",
              "    .colab-df-buttons div {\n",
              "      margin-bottom: 4px;\n",
              "    }\n",
              "\n",
              "    [theme=dark] .colab-df-convert {\n",
              "      background-color: #3B4455;\n",
              "      fill: #D2E3FC;\n",
              "    }\n",
              "\n",
              "    [theme=dark] .colab-df-convert:hover {\n",
              "      background-color: #434B5C;\n",
              "      box-shadow: 0px 1px 3px 1px rgba(0, 0, 0, 0.15);\n",
              "      filter: drop-shadow(0px 1px 2px rgba(0, 0, 0, 0.3));\n",
              "      fill: #FFFFFF;\n",
              "    }\n",
              "  </style>\n",
              "\n",
              "    <script>\n",
              "      const buttonEl =\n",
              "        document.querySelector('#df-40e6b01a-da78-4497-9fa8-334f700543ca button.colab-df-convert');\n",
              "      buttonEl.style.display =\n",
              "        google.colab.kernel.accessAllowed ? 'block' : 'none';\n",
              "\n",
              "      async function convertToInteractive(key) {\n",
              "        const element = document.querySelector('#df-40e6b01a-da78-4497-9fa8-334f700543ca');\n",
              "        const dataTable =\n",
              "          await google.colab.kernel.invokeFunction('convertToInteractive',\n",
              "                                                    [key], {});\n",
              "        if (!dataTable) return;\n",
              "\n",
              "        const docLinkHtml = 'Like what you see? Visit the ' +\n",
              "          '<a target=\"_blank\" href=https://colab.research.google.com/notebooks/data_table.ipynb>data table notebook</a>'\n",
              "          + ' to learn more about interactive tables.';\n",
              "        element.innerHTML = '';\n",
              "        dataTable['output_type'] = 'display_data';\n",
              "        await google.colab.output.renderOutput(dataTable, element);\n",
              "        const docLink = document.createElement('div');\n",
              "        docLink.innerHTML = docLinkHtml;\n",
              "        element.appendChild(docLink);\n",
              "      }\n",
              "    </script>\n",
              "  </div>\n",
              "\n",
              "\n",
              "<div id=\"df-f9e96293-b1ba-4a65-8ba5-476b0aaff6cb\">\n",
              "  <button class=\"colab-df-quickchart\" onclick=\"quickchart('df-f9e96293-b1ba-4a65-8ba5-476b0aaff6cb')\"\n",
              "            title=\"Suggest charts\"\n",
              "            style=\"display:none;\">\n",
              "\n",
              "<svg xmlns=\"http://www.w3.org/2000/svg\" height=\"24px\"viewBox=\"0 0 24 24\"\n",
              "     width=\"24px\">\n",
              "    <g>\n",
              "        <path d=\"M19 3H5c-1.1 0-2 .9-2 2v14c0 1.1.9 2 2 2h14c1.1 0 2-.9 2-2V5c0-1.1-.9-2-2-2zM9 17H7v-7h2v7zm4 0h-2V7h2v10zm4 0h-2v-4h2v4z\"/>\n",
              "    </g>\n",
              "</svg>\n",
              "  </button>\n",
              "\n",
              "<style>\n",
              "  .colab-df-quickchart {\n",
              "      --bg-color: #E8F0FE;\n",
              "      --fill-color: #1967D2;\n",
              "      --hover-bg-color: #E2EBFA;\n",
              "      --hover-fill-color: #174EA6;\n",
              "      --disabled-fill-color: #AAA;\n",
              "      --disabled-bg-color: #DDD;\n",
              "  }\n",
              "\n",
              "  [theme=dark] .colab-df-quickchart {\n",
              "      --bg-color: #3B4455;\n",
              "      --fill-color: #D2E3FC;\n",
              "      --hover-bg-color: #434B5C;\n",
              "      --hover-fill-color: #FFFFFF;\n",
              "      --disabled-bg-color: #3B4455;\n",
              "      --disabled-fill-color: #666;\n",
              "  }\n",
              "\n",
              "  .colab-df-quickchart {\n",
              "    background-color: var(--bg-color);\n",
              "    border: none;\n",
              "    border-radius: 50%;\n",
              "    cursor: pointer;\n",
              "    display: none;\n",
              "    fill: var(--fill-color);\n",
              "    height: 32px;\n",
              "    padding: 0;\n",
              "    width: 32px;\n",
              "  }\n",
              "\n",
              "  .colab-df-quickchart:hover {\n",
              "    background-color: var(--hover-bg-color);\n",
              "    box-shadow: 0 1px 2px rgba(60, 64, 67, 0.3), 0 1px 3px 1px rgba(60, 64, 67, 0.15);\n",
              "    fill: var(--button-hover-fill-color);\n",
              "  }\n",
              "\n",
              "  .colab-df-quickchart-complete:disabled,\n",
              "  .colab-df-quickchart-complete:disabled:hover {\n",
              "    background-color: var(--disabled-bg-color);\n",
              "    fill: var(--disabled-fill-color);\n",
              "    box-shadow: none;\n",
              "  }\n",
              "\n",
              "  .colab-df-spinner {\n",
              "    border: 2px solid var(--fill-color);\n",
              "    border-color: transparent;\n",
              "    border-bottom-color: var(--fill-color);\n",
              "    animation:\n",
              "      spin 1s steps(1) infinite;\n",
              "  }\n",
              "\n",
              "  @keyframes spin {\n",
              "    0% {\n",
              "      border-color: transparent;\n",
              "      border-bottom-color: var(--fill-color);\n",
              "      border-left-color: var(--fill-color);\n",
              "    }\n",
              "    20% {\n",
              "      border-color: transparent;\n",
              "      border-left-color: var(--fill-color);\n",
              "      border-top-color: var(--fill-color);\n",
              "    }\n",
              "    30% {\n",
              "      border-color: transparent;\n",
              "      border-left-color: var(--fill-color);\n",
              "      border-top-color: var(--fill-color);\n",
              "      border-right-color: var(--fill-color);\n",
              "    }\n",
              "    40% {\n",
              "      border-color: transparent;\n",
              "      border-right-color: var(--fill-color);\n",
              "      border-top-color: var(--fill-color);\n",
              "    }\n",
              "    60% {\n",
              "      border-color: transparent;\n",
              "      border-right-color: var(--fill-color);\n",
              "    }\n",
              "    80% {\n",
              "      border-color: transparent;\n",
              "      border-right-color: var(--fill-color);\n",
              "      border-bottom-color: var(--fill-color);\n",
              "    }\n",
              "    90% {\n",
              "      border-color: transparent;\n",
              "      border-bottom-color: var(--fill-color);\n",
              "    }\n",
              "  }\n",
              "</style>\n",
              "\n",
              "  <script>\n",
              "    async function quickchart(key) {\n",
              "      const quickchartButtonEl =\n",
              "        document.querySelector('#' + key + ' button');\n",
              "      quickchartButtonEl.disabled = true;  // To prevent multiple clicks.\n",
              "      quickchartButtonEl.classList.add('colab-df-spinner');\n",
              "      try {\n",
              "        const charts = await google.colab.kernel.invokeFunction(\n",
              "            'suggestCharts', [key], {});\n",
              "      } catch (error) {\n",
              "        console.error('Error during call to suggestCharts:', error);\n",
              "      }\n",
              "      quickchartButtonEl.classList.remove('colab-df-spinner');\n",
              "      quickchartButtonEl.classList.add('colab-df-quickchart-complete');\n",
              "    }\n",
              "    (() => {\n",
              "      let quickchartButtonEl =\n",
              "        document.querySelector('#df-f9e96293-b1ba-4a65-8ba5-476b0aaff6cb button');\n",
              "      quickchartButtonEl.style.display =\n",
              "        google.colab.kernel.accessAllowed ? 'block' : 'none';\n",
              "    })();\n",
              "  </script>\n",
              "</div>\n",
              "\n",
              "    </div>\n",
              "  </div>\n"
            ],
            "application/vnd.google.colaboratory.intrinsic+json": {
              "type": "dataframe",
              "variable_name": "parc_df",
              "summary": "{\n  \"name\": \"parc_df\",\n  \"rows\": 12,\n  \"fields\": [\n    {\n      \"column\": \"Attraction\",\n      \"properties\": {\n        \"dtype\": \"string\",\n        \"num_unique_values\": 12,\n        \"samples\": [\n          \"Man\\u00e8ge Classique\",\n          \"Aire de Jeux\",\n          \"Montagnes Russes\"\n        ],\n        \"semantic_type\": \"\",\n        \"description\": \"\"\n      }\n    },\n    {\n      \"column\": \"Type\",\n      \"properties\": {\n        \"dtype\": \"string\",\n        \"num_unique_values\": 6,\n        \"samples\": [\n          \"Sensations Fortes\",\n          \"Familiale\",\n          \"Animaux\"\n        ],\n        \"semantic_type\": \"\",\n        \"description\": \"\"\n      }\n    },\n    {\n      \"column\": \"Visiteurs Moyens/Jour\",\n      \"properties\": {\n        \"dtype\": \"number\",\n        \"std\": 162,\n        \"min\": 55,\n        \"max\": 491,\n        \"num_unique_values\": 10,\n        \"samples\": [\n          200,\n          400,\n          55\n        ],\n        \"semantic_type\": \"\",\n        \"description\": \"\"\n      }\n    },\n    {\n      \"column\": \"Satisfaction (%)\",\n      \"properties\": {\n        \"dtype\": \"number\",\n        \"std\": 11,\n        \"min\": 64,\n        \"max\": 99,\n        \"num_unique_values\": 12,\n        \"samples\": [\n          72,\n          83,\n          84\n        ],\n        \"semantic_type\": \"\",\n        \"description\": \"\"\n      }\n    },\n    {\n      \"column\": \"Dur\\u00e9e Moyenne (min)\",\n      \"properties\": {\n        \"dtype\": \"number\",\n        \"std\": 7,\n        \"min\": 6,\n        \"max\": 28,\n        \"num_unique_values\": 10,\n        \"samples\": [\n          28,\n          20,\n          7\n        ],\n        \"semantic_type\": \"\",\n        \"description\": \"\"\n      }\n    },\n    {\n      \"column\": \"Capacit\\u00e9 Max/Heure\",\n      \"properties\": {\n        \"dtype\": \"number\",\n        \"std\": 212,\n        \"min\": 238,\n        \"max\": 945,\n        \"num_unique_values\": 12,\n        \"samples\": [\n          751,\n          688,\n          878\n        ],\n        \"semantic_type\": \"\",\n        \"description\": \"\"\n      }\n    },\n    {\n      \"column\": \"Incidents Signal\\u00e9s\",\n      \"properties\": {\n        \"dtype\": \"number\",\n        \"std\": 2,\n        \"min\": 1,\n        \"max\": 9,\n        \"num_unique_values\": 8,\n        \"samples\": [\n          4,\n          2,\n          9\n        ],\n        \"semantic_type\": \"\",\n        \"description\": \"\"\n      }\n    },\n    {\n      \"column\": \"Co\\u00fbt Maintenance (\\u20ac)\",\n      \"properties\": {\n        \"dtype\": \"number\",\n        \"std\": 2784,\n        \"min\": 1490,\n        \"max\": 9683,\n        \"num_unique_values\": 12,\n        \"samples\": [\n          9683,\n          6785,\n          1996\n        ],\n        \"semantic_type\": \"\",\n        \"description\": \"\"\n      }\n    }\n  ]\n}"
            }
          },
          "metadata": {},
          "execution_count": 105
        }
      ]
    },
    {
      "cell_type": "markdown",
      "source": [
        "2. Combien d'attractions sont présentes dans le parc ?"
      ],
      "metadata": {
        "id": "xulOZ4m38pzF"
      }
    },
    {
      "cell_type": "code",
      "source": [
        "parc_df['Attraction'].count()\n",
        "len(parc_df)"
      ],
      "metadata": {
        "colab": {
          "base_uri": "https://localhost:8080/"
        },
        "id": "q0ygdwhW8-jl",
        "outputId": "809f1cd1-bd85-4ed1-d8cc-5de898d6d87a"
      },
      "execution_count": 106,
      "outputs": [
        {
          "output_type": "execute_result",
          "data": {
            "text/plain": [
              "12"
            ]
          },
          "metadata": {},
          "execution_count": 106
        }
      ]
    },
    {
      "cell_type": "markdown",
      "source": [
        "3. Quelles sont les colonnes disponibles dans le DataFrame ?\n"
      ],
      "metadata": {
        "id": "Vb6RW15e8pnh"
      }
    },
    {
      "cell_type": "code",
      "source": [
        "list(parc_df.columns)"
      ],
      "metadata": {
        "colab": {
          "base_uri": "https://localhost:8080/"
        },
        "id": "tCVXAR-M9StN",
        "outputId": "5b96af34-0479-4dd9-c6e7-235c128ad298"
      },
      "execution_count": 107,
      "outputs": [
        {
          "output_type": "execute_result",
          "data": {
            "text/plain": [
              "['Attraction',\n",
              " 'Type',\n",
              " 'Visiteurs Moyens/Jour',\n",
              " 'Satisfaction (%)',\n",
              " 'Durée Moyenne (min)',\n",
              " 'Capacité Max/Heure',\n",
              " 'Incidents Signalés',\n",
              " 'Coût Maintenance (€)']"
            ]
          },
          "metadata": {},
          "execution_count": 107
        }
      ]
    },
    {
      "cell_type": "markdown",
      "source": [
        "### B. Analyse des performances"
      ],
      "metadata": {
        "id": "3qXuvG4C68Si"
      }
    },
    {
      "cell_type": "markdown",
      "source": [
        "1. Quelle attraction attire le plus de visiteurs par jour ?"
      ],
      "metadata": {
        "id": "kFWWI4MA9tit"
      }
    },
    {
      "cell_type": "code",
      "source": [
        "attraction_plus_vis_par_jour = parc_df[parc_df['Visiteurs Moyens/Jour'] == parc_df['Visiteurs Moyens/Jour'].max()]['Attraction']\n",
        "\n",
        "attraction_plus_vis_par_jour"
      ],
      "metadata": {
        "colab": {
          "base_uri": "https://localhost:8080/",
          "height": 178
        },
        "id": "423WboAu900H",
        "outputId": "c688aacb-8e33-4b0a-c279-7682614e9850"
      },
      "execution_count": 108,
      "outputs": [
        {
          "output_type": "execute_result",
          "data": {
            "text/plain": [
              "7     Labyrinthe Magique\n",
              "9           Aire de Jeux\n",
              "10      Manège Classique\n",
              "Name: Attraction, dtype: object"
            ],
            "text/html": [
              "<div>\n",
              "<style scoped>\n",
              "    .dataframe tbody tr th:only-of-type {\n",
              "        vertical-align: middle;\n",
              "    }\n",
              "\n",
              "    .dataframe tbody tr th {\n",
              "        vertical-align: top;\n",
              "    }\n",
              "\n",
              "    .dataframe thead th {\n",
              "        text-align: right;\n",
              "    }\n",
              "</style>\n",
              "<table border=\"1\" class=\"dataframe\">\n",
              "  <thead>\n",
              "    <tr style=\"text-align: right;\">\n",
              "      <th></th>\n",
              "      <th>Attraction</th>\n",
              "    </tr>\n",
              "  </thead>\n",
              "  <tbody>\n",
              "    <tr>\n",
              "      <th>7</th>\n",
              "      <td>Labyrinthe Magique</td>\n",
              "    </tr>\n",
              "    <tr>\n",
              "      <th>9</th>\n",
              "      <td>Aire de Jeux</td>\n",
              "    </tr>\n",
              "    <tr>\n",
              "      <th>10</th>\n",
              "      <td>Manège Classique</td>\n",
              "    </tr>\n",
              "  </tbody>\n",
              "</table>\n",
              "</div><br><label><b>dtype:</b> object</label>"
            ]
          },
          "metadata": {},
          "execution_count": 108
        }
      ]
    },
    {
      "cell_type": "markdown",
      "source": [
        "2. Quelle attraction a la meilleure satisfaction moyenne ?"
      ],
      "metadata": {
        "id": "4hMn3gQd9sO5"
      }
    },
    {
      "cell_type": "code",
      "source": [
        "attraction_meilleur_sm = parc_df[parc_df['Satisfaction (%)'] == parc_df['Satisfaction (%)'].max()]['Attraction']\n",
        "\n",
        "attraction_meilleur_sm"
      ],
      "metadata": {
        "colab": {
          "base_uri": "https://localhost:8080/",
          "height": 115
        },
        "id": "8r3ppMJH-dDl",
        "outputId": "76b35f94-7827-4968-cc0f-a5ab16b7188e"
      },
      "execution_count": 109,
      "outputs": [
        {
          "output_type": "execute_result",
          "data": {
            "text/plain": [
              "5    Zoo Interactif\n",
              "Name: Attraction, dtype: object"
            ],
            "text/html": [
              "<div>\n",
              "<style scoped>\n",
              "    .dataframe tbody tr th:only-of-type {\n",
              "        vertical-align: middle;\n",
              "    }\n",
              "\n",
              "    .dataframe tbody tr th {\n",
              "        vertical-align: top;\n",
              "    }\n",
              "\n",
              "    .dataframe thead th {\n",
              "        text-align: right;\n",
              "    }\n",
              "</style>\n",
              "<table border=\"1\" class=\"dataframe\">\n",
              "  <thead>\n",
              "    <tr style=\"text-align: right;\">\n",
              "      <th></th>\n",
              "      <th>Attraction</th>\n",
              "    </tr>\n",
              "  </thead>\n",
              "  <tbody>\n",
              "    <tr>\n",
              "      <th>5</th>\n",
              "      <td>Zoo Interactif</td>\n",
              "    </tr>\n",
              "  </tbody>\n",
              "</table>\n",
              "</div><br><label><b>dtype:</b> object</label>"
            ]
          },
          "metadata": {},
          "execution_count": 109
        }
      ]
    },
    {
      "cell_type": "markdown",
      "source": [
        "3. Affiche les attractions où la satisfaction est supérieure à 90%."
      ],
      "metadata": {
        "id": "l8N6Gnf59sbt"
      }
    },
    {
      "cell_type": "code",
      "source": [
        "attractions_satis_plus_90 = parc_df[parc_df['Satisfaction (%)'] > 90]['Attraction']\n",
        "\n",
        "attractions_satis_plus_90"
      ],
      "metadata": {
        "colab": {
          "base_uri": "https://localhost:8080/",
          "height": 178
        },
        "id": "ASSRTmNf-3j6",
        "outputId": "81285ef8-be80-44e0-8974-38014458851f"
      },
      "execution_count": 110,
      "outputs": [
        {
          "output_type": "execute_result",
          "data": {
            "text/plain": [
              "5        Zoo Interactif\n",
              "6         Tour de Chute\n",
              "7    Labyrinthe Magique\n",
              "Name: Attraction, dtype: object"
            ],
            "text/html": [
              "<div>\n",
              "<style scoped>\n",
              "    .dataframe tbody tr th:only-of-type {\n",
              "        vertical-align: middle;\n",
              "    }\n",
              "\n",
              "    .dataframe tbody tr th {\n",
              "        vertical-align: top;\n",
              "    }\n",
              "\n",
              "    .dataframe thead th {\n",
              "        text-align: right;\n",
              "    }\n",
              "</style>\n",
              "<table border=\"1\" class=\"dataframe\">\n",
              "  <thead>\n",
              "    <tr style=\"text-align: right;\">\n",
              "      <th></th>\n",
              "      <th>Attraction</th>\n",
              "    </tr>\n",
              "  </thead>\n",
              "  <tbody>\n",
              "    <tr>\n",
              "      <th>5</th>\n",
              "      <td>Zoo Interactif</td>\n",
              "    </tr>\n",
              "    <tr>\n",
              "      <th>6</th>\n",
              "      <td>Tour de Chute</td>\n",
              "    </tr>\n",
              "    <tr>\n",
              "      <th>7</th>\n",
              "      <td>Labyrinthe Magique</td>\n",
              "    </tr>\n",
              "  </tbody>\n",
              "</table>\n",
              "</div><br><label><b>dtype:</b> object</label>"
            ]
          },
          "metadata": {},
          "execution_count": 110
        }
      ]
    },
    {
      "cell_type": "markdown",
      "source": [
        "---"
      ],
      "metadata": {
        "id": "zCFlcqu1BxlQ"
      }
    },
    {
      "cell_type": "markdown",
      "source": [
        "### C. Coût et optimisation"
      ],
      "metadata": {
        "id": "m_ug5chX7AqO"
      }
    },
    {
      "cell_type": "markdown",
      "source": [
        "1. Quelle est l’attraction la plus coûteuse en maintenance ?"
      ],
      "metadata": {
        "id": "4OaSuRhh_RqF"
      }
    },
    {
      "cell_type": "code",
      "source": [
        "attraction_plus_couteuse_mant = parc_df[parc_df['Coût Maintenance (€)'] == parc_df['Coût Maintenance (€)'].max()]['Attraction']\n",
        "\n",
        "attraction_plus_couteuse_mant"
      ],
      "metadata": {
        "colab": {
          "base_uri": "https://localhost:8080/",
          "height": 115
        },
        "id": "t1lQuewD_ZZo",
        "outputId": "8fa20210-d885-4077-d02a-2542bba4922b"
      },
      "execution_count": 111,
      "outputs": [
        {
          "output_type": "execute_result",
          "data": {
            "text/plain": [
              "10    Manège Classique\n",
              "Name: Attraction, dtype: object"
            ],
            "text/html": [
              "<div>\n",
              "<style scoped>\n",
              "    .dataframe tbody tr th:only-of-type {\n",
              "        vertical-align: middle;\n",
              "    }\n",
              "\n",
              "    .dataframe tbody tr th {\n",
              "        vertical-align: top;\n",
              "    }\n",
              "\n",
              "    .dataframe thead th {\n",
              "        text-align: right;\n",
              "    }\n",
              "</style>\n",
              "<table border=\"1\" class=\"dataframe\">\n",
              "  <thead>\n",
              "    <tr style=\"text-align: right;\">\n",
              "      <th></th>\n",
              "      <th>Attraction</th>\n",
              "    </tr>\n",
              "  </thead>\n",
              "  <tbody>\n",
              "    <tr>\n",
              "      <th>10</th>\n",
              "      <td>Manège Classique</td>\n",
              "    </tr>\n",
              "  </tbody>\n",
              "</table>\n",
              "</div><br><label><b>dtype:</b> object</label>"
            ]
          },
          "metadata": {},
          "execution_count": 111
        }
      ]
    },
    {
      "cell_type": "markdown",
      "source": [
        "2. Affiche les attractions ayant un coût de maintenance supérieur à 5000 €.\n"
      ],
      "metadata": {
        "id": "_rVZ3t2p_RRm"
      }
    },
    {
      "cell_type": "code",
      "source": [
        "attractions_cout_mant_sup= parc_df[parc_df['Coût Maintenance (€)'] > 5000]['Attraction']\n",
        "\n",
        "attractions_cout_mant_sup"
      ],
      "metadata": {
        "colab": {
          "base_uri": "https://localhost:8080/",
          "height": 272
        },
        "id": "-kf8AZEL_8kt",
        "outputId": "66b9a00a-c089-4a68-f997-cc22a622729e"
      },
      "execution_count": 112,
      "outputs": [
        {
          "output_type": "execute_result",
          "data": {
            "text/plain": [
              "4     Circuit de Karting\n",
              "6          Tour de Chute\n",
              "7     Labyrinthe Magique\n",
              "8              Cinéma 5D\n",
              "9           Aire de Jeux\n",
              "10      Manège Classique\n",
              "Name: Attraction, dtype: object"
            ],
            "text/html": [
              "<div>\n",
              "<style scoped>\n",
              "    .dataframe tbody tr th:only-of-type {\n",
              "        vertical-align: middle;\n",
              "    }\n",
              "\n",
              "    .dataframe tbody tr th {\n",
              "        vertical-align: top;\n",
              "    }\n",
              "\n",
              "    .dataframe thead th {\n",
              "        text-align: right;\n",
              "    }\n",
              "</style>\n",
              "<table border=\"1\" class=\"dataframe\">\n",
              "  <thead>\n",
              "    <tr style=\"text-align: right;\">\n",
              "      <th></th>\n",
              "      <th>Attraction</th>\n",
              "    </tr>\n",
              "  </thead>\n",
              "  <tbody>\n",
              "    <tr>\n",
              "      <th>4</th>\n",
              "      <td>Circuit de Karting</td>\n",
              "    </tr>\n",
              "    <tr>\n",
              "      <th>6</th>\n",
              "      <td>Tour de Chute</td>\n",
              "    </tr>\n",
              "    <tr>\n",
              "      <th>7</th>\n",
              "      <td>Labyrinthe Magique</td>\n",
              "    </tr>\n",
              "    <tr>\n",
              "      <th>8</th>\n",
              "      <td>Cinéma 5D</td>\n",
              "    </tr>\n",
              "    <tr>\n",
              "      <th>9</th>\n",
              "      <td>Aire de Jeux</td>\n",
              "    </tr>\n",
              "    <tr>\n",
              "      <th>10</th>\n",
              "      <td>Manège Classique</td>\n",
              "    </tr>\n",
              "  </tbody>\n",
              "</table>\n",
              "</div><br><label><b>dtype:</b> object</label>"
            ]
          },
          "metadata": {},
          "execution_count": 112
        }
      ]
    },
    {
      "cell_type": "markdown",
      "source": [
        "---"
      ],
      "metadata": {
        "id": "tWKLZQL4Bvxc"
      }
    },
    {
      "cell_type": "markdown",
      "source": [
        "### D. Incidents et sécurité"
      ],
      "metadata": {
        "id": "rIO6Q0m67Ew4"
      }
    },
    {
      "cell_type": "markdown",
      "source": [
        "1. Quelle attraction a le plus grand nombre d’incidents signalés ?"
      ],
      "metadata": {
        "id": "ADtwSqOKANgk"
      }
    },
    {
      "cell_type": "code",
      "source": [
        "attraction_plus_incidentns = parc_df[parc_df['Incidents Signalés'] == parc_df['Incidents Signalés'].max()]['Attraction']\n",
        "\n",
        "attraction_plus_incidentns"
      ],
      "metadata": {
        "colab": {
          "base_uri": "https://localhost:8080/",
          "height": 115
        },
        "id": "hGw8tww6BCI0",
        "outputId": "9060ce61-44ea-4edc-cc7c-57f9b50203b2"
      },
      "execution_count": 113,
      "outputs": [
        {
          "output_type": "execute_result",
          "data": {
            "text/plain": [
              "0    Montagnes Russes\n",
              "Name: Attraction, dtype: object"
            ],
            "text/html": [
              "<div>\n",
              "<style scoped>\n",
              "    .dataframe tbody tr th:only-of-type {\n",
              "        vertical-align: middle;\n",
              "    }\n",
              "\n",
              "    .dataframe tbody tr th {\n",
              "        vertical-align: top;\n",
              "    }\n",
              "\n",
              "    .dataframe thead th {\n",
              "        text-align: right;\n",
              "    }\n",
              "</style>\n",
              "<table border=\"1\" class=\"dataframe\">\n",
              "  <thead>\n",
              "    <tr style=\"text-align: right;\">\n",
              "      <th></th>\n",
              "      <th>Attraction</th>\n",
              "    </tr>\n",
              "  </thead>\n",
              "  <tbody>\n",
              "    <tr>\n",
              "      <th>0</th>\n",
              "      <td>Montagnes Russes</td>\n",
              "    </tr>\n",
              "  </tbody>\n",
              "</table>\n",
              "</div><br><label><b>dtype:</b> object</label>"
            ]
          },
          "metadata": {},
          "execution_count": 113
        }
      ]
    },
    {
      "cell_type": "markdown",
      "source": [
        "\n",
        "2. Affiche les attractions qui ont 0 incident signalé.\n"
      ],
      "metadata": {
        "id": "y9K90ZuMANY6"
      }
    },
    {
      "cell_type": "code",
      "source": [
        "attractions_incidentns_zero = parc_df[parc_df['Incidents Signalés'] == 0]['Attraction']\n",
        "\n",
        "attractions_incidentns_zero"
      ],
      "metadata": {
        "colab": {
          "base_uri": "https://localhost:8080/",
          "height": 84
        },
        "id": "rUrwK5XkBQQw",
        "outputId": "a24b63b1-afd8-450a-ee59-8c5ba9b23ba5"
      },
      "execution_count": 114,
      "outputs": [
        {
          "output_type": "execute_result",
          "data": {
            "text/plain": [
              "Series([], Name: Attraction, dtype: object)"
            ],
            "text/html": [
              "<div>\n",
              "<style scoped>\n",
              "    .dataframe tbody tr th:only-of-type {\n",
              "        vertical-align: middle;\n",
              "    }\n",
              "\n",
              "    .dataframe tbody tr th {\n",
              "        vertical-align: top;\n",
              "    }\n",
              "\n",
              "    .dataframe thead th {\n",
              "        text-align: right;\n",
              "    }\n",
              "</style>\n",
              "<table border=\"1\" class=\"dataframe\">\n",
              "  <thead>\n",
              "    <tr style=\"text-align: right;\">\n",
              "      <th></th>\n",
              "      <th>Attraction</th>\n",
              "    </tr>\n",
              "  </thead>\n",
              "  <tbody>\n",
              "  </tbody>\n",
              "</table>\n",
              "</div><br><label><b>dtype:</b> object</label>"
            ]
          },
          "metadata": {},
          "execution_count": 114
        }
      ]
    },
    {
      "cell_type": "markdown",
      "source": [
        "---"
      ],
      "metadata": {
        "id": "f7F2vkGYBuBS"
      }
    },
    {
      "cell_type": "markdown",
      "source": [
        "### E. Calculs avancés"
      ],
      "metadata": {
        "id": "pitMh6xmA7tS"
      }
    },
    {
      "cell_type": "markdown",
      "source": [
        "1. Calcule le total des visiteurs moyens par jour pour l’ensemble du parc."
      ],
      "metadata": {
        "id": "PZWxRtJ8ANQF"
      }
    },
    {
      "cell_type": "code",
      "source": [
        "total_moyenne_par_jour = parc_df['Visiteurs Moyens/Jour'].sum()\n",
        "total_moyenne_par_jour"
      ],
      "metadata": {
        "colab": {
          "base_uri": "https://localhost:8080/"
        },
        "id": "6nUby4fmB1il",
        "outputId": "7c98c5b0-4590-4cc4-d558-531357c3b18c"
      },
      "execution_count": 115,
      "outputs": [
        {
          "output_type": "execute_result",
          "data": {
            "text/plain": [
              "3385"
            ]
          },
          "metadata": {},
          "execution_count": 115
        }
      ]
    },
    {
      "cell_type": "markdown",
      "source": [
        "2. Calcule le coût total de la maintenance pour toutes les attractions."
      ],
      "metadata": {
        "id": "aufarY2jANGR"
      }
    },
    {
      "cell_type": "code",
      "source": [
        "total_cout_maintenance = parc_df['Coût Maintenance (€)'].sum()\n",
        "total_cout_maintenance"
      ],
      "metadata": {
        "colab": {
          "base_uri": "https://localhost:8080/"
        },
        "id": "EeST7U7rCYOl",
        "outputId": "f75e3382-406a-47c8-c3fb-855effda65ee"
      },
      "execution_count": 116,
      "outputs": [
        {
          "output_type": "execute_result",
          "data": {
            "text/plain": [
              "69774"
            ]
          },
          "metadata": {},
          "execution_count": 116
        }
      ]
    },
    {
      "cell_type": "markdown",
      "source": [
        "3. Ajoute une colonne \"Coût par visiteur (€)\" :\n",
        "\n",
        "        Formule : Coût Maintenance (€) / (Visiteurs Moyens/Jour * 30)"
      ],
      "metadata": {
        "id": "yJAj_NwJAM7Z"
      }
    },
    {
      "cell_type": "code",
      "source": [
        "parc_df['Coût par visiteur (€)'] = (parc_df['Coût Maintenance (€)']/(parc_df['Visiteurs Moyens/Jour']*30)).round(2)\n",
        "\n",
        "parc_df"
      ],
      "metadata": {
        "colab": {
          "base_uri": "https://localhost:8080/",
          "height": 515
        },
        "id": "iq92KUFMCiIk",
        "outputId": "04df4ea1-a709-40ae-b8fc-83c6e3a58cd6"
      },
      "execution_count": 117,
      "outputs": [
        {
          "output_type": "execute_result",
          "data": {
            "text/plain": [
              "              Attraction               Type  Visiteurs Moyens/Jour  \\\n",
              "0       Montagnes Russes  Sensations Fortes                    251   \n",
              "1            Grande Roue          Familiale                    400   \n",
              "2          Maison Hantée           Émotions                    250   \n",
              "3   Toboggans,Aquatiques          Aquatique                    228   \n",
              "4     Circuit de Karting           Sportive                    353   \n",
              "5         Zoo Interactif            Animaux                     55   \n",
              "6          Tour de Chute  Sensations Fortes                    115   \n",
              "7     Labyrinthe Magique          Familiale                    491   \n",
              "8              Cinéma 5D           Émotions                    200   \n",
              "9           Aire de Jeux          Familiale                    491   \n",
              "10      Manège Classique          Familiale                    491   \n",
              "11         Train Fantôme           Émotions                     60   \n",
              "\n",
              "    Satisfaction (%)  Durée Moyenne (min)  Capacité Max/Heure  \\\n",
              "0                 84                   11                 878   \n",
              "1                 81                   11                 836   \n",
              "2                 66                   20                 238   \n",
              "3                 68                   13                 939   \n",
              "4                 80                   19                 627   \n",
              "5                 99                    6                 769   \n",
              "6                 95                    7                 590   \n",
              "7                 92                   26                 945   \n",
              "8                 86                   19                 423   \n",
              "9                 83                    8                 688   \n",
              "10                72                   28                 751   \n",
              "11                64                    9                 570   \n",
              "\n",
              "    Incidents Signalés  Coût Maintenance (€)  Coût par visiteur (€)  \n",
              "0                    9                  1996                   0.27  \n",
              "1                    4                  4322                   0.36  \n",
              "2                    7                  3440                   0.46  \n",
              "3                    3                  4603                   0.67  \n",
              "4                    6                  8404                   0.79  \n",
              "5                    2                  1490                   0.90  \n",
              "6                    4                  7643                   2.22  \n",
              "7                    1                  9621                   0.65  \n",
              "8                    3                  6950                   1.16  \n",
              "9                    4                  6785                   0.46  \n",
              "10                   1                  9683                   0.66  \n",
              "11                   5                  4837                   2.69  "
            ],
            "text/html": [
              "\n",
              "  <div id=\"df-549bcaca-b7d8-4afc-bfda-ce005a906a56\" class=\"colab-df-container\">\n",
              "    <div>\n",
              "<style scoped>\n",
              "    .dataframe tbody tr th:only-of-type {\n",
              "        vertical-align: middle;\n",
              "    }\n",
              "\n",
              "    .dataframe tbody tr th {\n",
              "        vertical-align: top;\n",
              "    }\n",
              "\n",
              "    .dataframe thead th {\n",
              "        text-align: right;\n",
              "    }\n",
              "</style>\n",
              "<table border=\"1\" class=\"dataframe\">\n",
              "  <thead>\n",
              "    <tr style=\"text-align: right;\">\n",
              "      <th></th>\n",
              "      <th>Attraction</th>\n",
              "      <th>Type</th>\n",
              "      <th>Visiteurs Moyens/Jour</th>\n",
              "      <th>Satisfaction (%)</th>\n",
              "      <th>Durée Moyenne (min)</th>\n",
              "      <th>Capacité Max/Heure</th>\n",
              "      <th>Incidents Signalés</th>\n",
              "      <th>Coût Maintenance (€)</th>\n",
              "      <th>Coût par visiteur (€)</th>\n",
              "    </tr>\n",
              "  </thead>\n",
              "  <tbody>\n",
              "    <tr>\n",
              "      <th>0</th>\n",
              "      <td>Montagnes Russes</td>\n",
              "      <td>Sensations Fortes</td>\n",
              "      <td>251</td>\n",
              "      <td>84</td>\n",
              "      <td>11</td>\n",
              "      <td>878</td>\n",
              "      <td>9</td>\n",
              "      <td>1996</td>\n",
              "      <td>0.27</td>\n",
              "    </tr>\n",
              "    <tr>\n",
              "      <th>1</th>\n",
              "      <td>Grande Roue</td>\n",
              "      <td>Familiale</td>\n",
              "      <td>400</td>\n",
              "      <td>81</td>\n",
              "      <td>11</td>\n",
              "      <td>836</td>\n",
              "      <td>4</td>\n",
              "      <td>4322</td>\n",
              "      <td>0.36</td>\n",
              "    </tr>\n",
              "    <tr>\n",
              "      <th>2</th>\n",
              "      <td>Maison Hantée</td>\n",
              "      <td>Émotions</td>\n",
              "      <td>250</td>\n",
              "      <td>66</td>\n",
              "      <td>20</td>\n",
              "      <td>238</td>\n",
              "      <td>7</td>\n",
              "      <td>3440</td>\n",
              "      <td>0.46</td>\n",
              "    </tr>\n",
              "    <tr>\n",
              "      <th>3</th>\n",
              "      <td>Toboggans,Aquatiques</td>\n",
              "      <td>Aquatique</td>\n",
              "      <td>228</td>\n",
              "      <td>68</td>\n",
              "      <td>13</td>\n",
              "      <td>939</td>\n",
              "      <td>3</td>\n",
              "      <td>4603</td>\n",
              "      <td>0.67</td>\n",
              "    </tr>\n",
              "    <tr>\n",
              "      <th>4</th>\n",
              "      <td>Circuit de Karting</td>\n",
              "      <td>Sportive</td>\n",
              "      <td>353</td>\n",
              "      <td>80</td>\n",
              "      <td>19</td>\n",
              "      <td>627</td>\n",
              "      <td>6</td>\n",
              "      <td>8404</td>\n",
              "      <td>0.79</td>\n",
              "    </tr>\n",
              "    <tr>\n",
              "      <th>5</th>\n",
              "      <td>Zoo Interactif</td>\n",
              "      <td>Animaux</td>\n",
              "      <td>55</td>\n",
              "      <td>99</td>\n",
              "      <td>6</td>\n",
              "      <td>769</td>\n",
              "      <td>2</td>\n",
              "      <td>1490</td>\n",
              "      <td>0.90</td>\n",
              "    </tr>\n",
              "    <tr>\n",
              "      <th>6</th>\n",
              "      <td>Tour de Chute</td>\n",
              "      <td>Sensations Fortes</td>\n",
              "      <td>115</td>\n",
              "      <td>95</td>\n",
              "      <td>7</td>\n",
              "      <td>590</td>\n",
              "      <td>4</td>\n",
              "      <td>7643</td>\n",
              "      <td>2.22</td>\n",
              "    </tr>\n",
              "    <tr>\n",
              "      <th>7</th>\n",
              "      <td>Labyrinthe Magique</td>\n",
              "      <td>Familiale</td>\n",
              "      <td>491</td>\n",
              "      <td>92</td>\n",
              "      <td>26</td>\n",
              "      <td>945</td>\n",
              "      <td>1</td>\n",
              "      <td>9621</td>\n",
              "      <td>0.65</td>\n",
              "    </tr>\n",
              "    <tr>\n",
              "      <th>8</th>\n",
              "      <td>Cinéma 5D</td>\n",
              "      <td>Émotions</td>\n",
              "      <td>200</td>\n",
              "      <td>86</td>\n",
              "      <td>19</td>\n",
              "      <td>423</td>\n",
              "      <td>3</td>\n",
              "      <td>6950</td>\n",
              "      <td>1.16</td>\n",
              "    </tr>\n",
              "    <tr>\n",
              "      <th>9</th>\n",
              "      <td>Aire de Jeux</td>\n",
              "      <td>Familiale</td>\n",
              "      <td>491</td>\n",
              "      <td>83</td>\n",
              "      <td>8</td>\n",
              "      <td>688</td>\n",
              "      <td>4</td>\n",
              "      <td>6785</td>\n",
              "      <td>0.46</td>\n",
              "    </tr>\n",
              "    <tr>\n",
              "      <th>10</th>\n",
              "      <td>Manège Classique</td>\n",
              "      <td>Familiale</td>\n",
              "      <td>491</td>\n",
              "      <td>72</td>\n",
              "      <td>28</td>\n",
              "      <td>751</td>\n",
              "      <td>1</td>\n",
              "      <td>9683</td>\n",
              "      <td>0.66</td>\n",
              "    </tr>\n",
              "    <tr>\n",
              "      <th>11</th>\n",
              "      <td>Train Fantôme</td>\n",
              "      <td>Émotions</td>\n",
              "      <td>60</td>\n",
              "      <td>64</td>\n",
              "      <td>9</td>\n",
              "      <td>570</td>\n",
              "      <td>5</td>\n",
              "      <td>4837</td>\n",
              "      <td>2.69</td>\n",
              "    </tr>\n",
              "  </tbody>\n",
              "</table>\n",
              "</div>\n",
              "    <div class=\"colab-df-buttons\">\n",
              "\n",
              "  <div class=\"colab-df-container\">\n",
              "    <button class=\"colab-df-convert\" onclick=\"convertToInteractive('df-549bcaca-b7d8-4afc-bfda-ce005a906a56')\"\n",
              "            title=\"Convert this dataframe to an interactive table.\"\n",
              "            style=\"display:none;\">\n",
              "\n",
              "  <svg xmlns=\"http://www.w3.org/2000/svg\" height=\"24px\" viewBox=\"0 -960 960 960\">\n",
              "    <path d=\"M120-120v-720h720v720H120Zm60-500h600v-160H180v160Zm220 220h160v-160H400v160Zm0 220h160v-160H400v160ZM180-400h160v-160H180v160Zm440 0h160v-160H620v160ZM180-180h160v-160H180v160Zm440 0h160v-160H620v160Z\"/>\n",
              "  </svg>\n",
              "    </button>\n",
              "\n",
              "  <style>\n",
              "    .colab-df-container {\n",
              "      display:flex;\n",
              "      gap: 12px;\n",
              "    }\n",
              "\n",
              "    .colab-df-convert {\n",
              "      background-color: #E8F0FE;\n",
              "      border: none;\n",
              "      border-radius: 50%;\n",
              "      cursor: pointer;\n",
              "      display: none;\n",
              "      fill: #1967D2;\n",
              "      height: 32px;\n",
              "      padding: 0 0 0 0;\n",
              "      width: 32px;\n",
              "    }\n",
              "\n",
              "    .colab-df-convert:hover {\n",
              "      background-color: #E2EBFA;\n",
              "      box-shadow: 0px 1px 2px rgba(60, 64, 67, 0.3), 0px 1px 3px 1px rgba(60, 64, 67, 0.15);\n",
              "      fill: #174EA6;\n",
              "    }\n",
              "\n",
              "    .colab-df-buttons div {\n",
              "      margin-bottom: 4px;\n",
              "    }\n",
              "\n",
              "    [theme=dark] .colab-df-convert {\n",
              "      background-color: #3B4455;\n",
              "      fill: #D2E3FC;\n",
              "    }\n",
              "\n",
              "    [theme=dark] .colab-df-convert:hover {\n",
              "      background-color: #434B5C;\n",
              "      box-shadow: 0px 1px 3px 1px rgba(0, 0, 0, 0.15);\n",
              "      filter: drop-shadow(0px 1px 2px rgba(0, 0, 0, 0.3));\n",
              "      fill: #FFFFFF;\n",
              "    }\n",
              "  </style>\n",
              "\n",
              "    <script>\n",
              "      const buttonEl =\n",
              "        document.querySelector('#df-549bcaca-b7d8-4afc-bfda-ce005a906a56 button.colab-df-convert');\n",
              "      buttonEl.style.display =\n",
              "        google.colab.kernel.accessAllowed ? 'block' : 'none';\n",
              "\n",
              "      async function convertToInteractive(key) {\n",
              "        const element = document.querySelector('#df-549bcaca-b7d8-4afc-bfda-ce005a906a56');\n",
              "        const dataTable =\n",
              "          await google.colab.kernel.invokeFunction('convertToInteractive',\n",
              "                                                    [key], {});\n",
              "        if (!dataTable) return;\n",
              "\n",
              "        const docLinkHtml = 'Like what you see? Visit the ' +\n",
              "          '<a target=\"_blank\" href=https://colab.research.google.com/notebooks/data_table.ipynb>data table notebook</a>'\n",
              "          + ' to learn more about interactive tables.';\n",
              "        element.innerHTML = '';\n",
              "        dataTable['output_type'] = 'display_data';\n",
              "        await google.colab.output.renderOutput(dataTable, element);\n",
              "        const docLink = document.createElement('div');\n",
              "        docLink.innerHTML = docLinkHtml;\n",
              "        element.appendChild(docLink);\n",
              "      }\n",
              "    </script>\n",
              "  </div>\n",
              "\n",
              "\n",
              "<div id=\"df-f0c82a3e-6521-4f29-8791-e9e7610f05ff\">\n",
              "  <button class=\"colab-df-quickchart\" onclick=\"quickchart('df-f0c82a3e-6521-4f29-8791-e9e7610f05ff')\"\n",
              "            title=\"Suggest charts\"\n",
              "            style=\"display:none;\">\n",
              "\n",
              "<svg xmlns=\"http://www.w3.org/2000/svg\" height=\"24px\"viewBox=\"0 0 24 24\"\n",
              "     width=\"24px\">\n",
              "    <g>\n",
              "        <path d=\"M19 3H5c-1.1 0-2 .9-2 2v14c0 1.1.9 2 2 2h14c1.1 0 2-.9 2-2V5c0-1.1-.9-2-2-2zM9 17H7v-7h2v7zm4 0h-2V7h2v10zm4 0h-2v-4h2v4z\"/>\n",
              "    </g>\n",
              "</svg>\n",
              "  </button>\n",
              "\n",
              "<style>\n",
              "  .colab-df-quickchart {\n",
              "      --bg-color: #E8F0FE;\n",
              "      --fill-color: #1967D2;\n",
              "      --hover-bg-color: #E2EBFA;\n",
              "      --hover-fill-color: #174EA6;\n",
              "      --disabled-fill-color: #AAA;\n",
              "      --disabled-bg-color: #DDD;\n",
              "  }\n",
              "\n",
              "  [theme=dark] .colab-df-quickchart {\n",
              "      --bg-color: #3B4455;\n",
              "      --fill-color: #D2E3FC;\n",
              "      --hover-bg-color: #434B5C;\n",
              "      --hover-fill-color: #FFFFFF;\n",
              "      --disabled-bg-color: #3B4455;\n",
              "      --disabled-fill-color: #666;\n",
              "  }\n",
              "\n",
              "  .colab-df-quickchart {\n",
              "    background-color: var(--bg-color);\n",
              "    border: none;\n",
              "    border-radius: 50%;\n",
              "    cursor: pointer;\n",
              "    display: none;\n",
              "    fill: var(--fill-color);\n",
              "    height: 32px;\n",
              "    padding: 0;\n",
              "    width: 32px;\n",
              "  }\n",
              "\n",
              "  .colab-df-quickchart:hover {\n",
              "    background-color: var(--hover-bg-color);\n",
              "    box-shadow: 0 1px 2px rgba(60, 64, 67, 0.3), 0 1px 3px 1px rgba(60, 64, 67, 0.15);\n",
              "    fill: var(--button-hover-fill-color);\n",
              "  }\n",
              "\n",
              "  .colab-df-quickchart-complete:disabled,\n",
              "  .colab-df-quickchart-complete:disabled:hover {\n",
              "    background-color: var(--disabled-bg-color);\n",
              "    fill: var(--disabled-fill-color);\n",
              "    box-shadow: none;\n",
              "  }\n",
              "\n",
              "  .colab-df-spinner {\n",
              "    border: 2px solid var(--fill-color);\n",
              "    border-color: transparent;\n",
              "    border-bottom-color: var(--fill-color);\n",
              "    animation:\n",
              "      spin 1s steps(1) infinite;\n",
              "  }\n",
              "\n",
              "  @keyframes spin {\n",
              "    0% {\n",
              "      border-color: transparent;\n",
              "      border-bottom-color: var(--fill-color);\n",
              "      border-left-color: var(--fill-color);\n",
              "    }\n",
              "    20% {\n",
              "      border-color: transparent;\n",
              "      border-left-color: var(--fill-color);\n",
              "      border-top-color: var(--fill-color);\n",
              "    }\n",
              "    30% {\n",
              "      border-color: transparent;\n",
              "      border-left-color: var(--fill-color);\n",
              "      border-top-color: var(--fill-color);\n",
              "      border-right-color: var(--fill-color);\n",
              "    }\n",
              "    40% {\n",
              "      border-color: transparent;\n",
              "      border-right-color: var(--fill-color);\n",
              "      border-top-color: var(--fill-color);\n",
              "    }\n",
              "    60% {\n",
              "      border-color: transparent;\n",
              "      border-right-color: var(--fill-color);\n",
              "    }\n",
              "    80% {\n",
              "      border-color: transparent;\n",
              "      border-right-color: var(--fill-color);\n",
              "      border-bottom-color: var(--fill-color);\n",
              "    }\n",
              "    90% {\n",
              "      border-color: transparent;\n",
              "      border-bottom-color: var(--fill-color);\n",
              "    }\n",
              "  }\n",
              "</style>\n",
              "\n",
              "  <script>\n",
              "    async function quickchart(key) {\n",
              "      const quickchartButtonEl =\n",
              "        document.querySelector('#' + key + ' button');\n",
              "      quickchartButtonEl.disabled = true;  // To prevent multiple clicks.\n",
              "      quickchartButtonEl.classList.add('colab-df-spinner');\n",
              "      try {\n",
              "        const charts = await google.colab.kernel.invokeFunction(\n",
              "            'suggestCharts', [key], {});\n",
              "      } catch (error) {\n",
              "        console.error('Error during call to suggestCharts:', error);\n",
              "      }\n",
              "      quickchartButtonEl.classList.remove('colab-df-spinner');\n",
              "      quickchartButtonEl.classList.add('colab-df-quickchart-complete');\n",
              "    }\n",
              "    (() => {\n",
              "      let quickchartButtonEl =\n",
              "        document.querySelector('#df-f0c82a3e-6521-4f29-8791-e9e7610f05ff button');\n",
              "      quickchartButtonEl.style.display =\n",
              "        google.colab.kernel.accessAllowed ? 'block' : 'none';\n",
              "    })();\n",
              "  </script>\n",
              "</div>\n",
              "\n",
              "  <div id=\"id_d853b169-3f8c-4cce-b1e7-c4d563cc5bc5\">\n",
              "    <style>\n",
              "      .colab-df-generate {\n",
              "        background-color: #E8F0FE;\n",
              "        border: none;\n",
              "        border-radius: 50%;\n",
              "        cursor: pointer;\n",
              "        display: none;\n",
              "        fill: #1967D2;\n",
              "        height: 32px;\n",
              "        padding: 0 0 0 0;\n",
              "        width: 32px;\n",
              "      }\n",
              "\n",
              "      .colab-df-generate:hover {\n",
              "        background-color: #E2EBFA;\n",
              "        box-shadow: 0px 1px 2px rgba(60, 64, 67, 0.3), 0px 1px 3px 1px rgba(60, 64, 67, 0.15);\n",
              "        fill: #174EA6;\n",
              "      }\n",
              "\n",
              "      [theme=dark] .colab-df-generate {\n",
              "        background-color: #3B4455;\n",
              "        fill: #D2E3FC;\n",
              "      }\n",
              "\n",
              "      [theme=dark] .colab-df-generate:hover {\n",
              "        background-color: #434B5C;\n",
              "        box-shadow: 0px 1px 3px 1px rgba(0, 0, 0, 0.15);\n",
              "        filter: drop-shadow(0px 1px 2px rgba(0, 0, 0, 0.3));\n",
              "        fill: #FFFFFF;\n",
              "      }\n",
              "    </style>\n",
              "    <button class=\"colab-df-generate\" onclick=\"generateWithVariable('parc_df')\"\n",
              "            title=\"Generate code using this dataframe.\"\n",
              "            style=\"display:none;\">\n",
              "\n",
              "  <svg xmlns=\"http://www.w3.org/2000/svg\" height=\"24px\"viewBox=\"0 0 24 24\"\n",
              "       width=\"24px\">\n",
              "    <path d=\"M7,19H8.4L18.45,9,17,7.55,7,17.6ZM5,21V16.75L18.45,3.32a2,2,0,0,1,2.83,0l1.4,1.43a1.91,1.91,0,0,1,.58,1.4,1.91,1.91,0,0,1-.58,1.4L9.25,21ZM18.45,9,17,7.55Zm-12,3A5.31,5.31,0,0,0,4.9,8.1,5.31,5.31,0,0,0,1,6.5,5.31,5.31,0,0,0,4.9,4.9,5.31,5.31,0,0,0,6.5,1,5.31,5.31,0,0,0,8.1,4.9,5.31,5.31,0,0,0,12,6.5,5.46,5.46,0,0,0,6.5,12Z\"/>\n",
              "  </svg>\n",
              "    </button>\n",
              "    <script>\n",
              "      (() => {\n",
              "      const buttonEl =\n",
              "        document.querySelector('#id_d853b169-3f8c-4cce-b1e7-c4d563cc5bc5 button.colab-df-generate');\n",
              "      buttonEl.style.display =\n",
              "        google.colab.kernel.accessAllowed ? 'block' : 'none';\n",
              "\n",
              "      buttonEl.onclick = () => {\n",
              "        google.colab.notebook.generateWithVariable('parc_df');\n",
              "      }\n",
              "      })();\n",
              "    </script>\n",
              "  </div>\n",
              "\n",
              "    </div>\n",
              "  </div>\n"
            ],
            "application/vnd.google.colaboratory.intrinsic+json": {
              "type": "dataframe",
              "variable_name": "parc_df",
              "summary": "{\n  \"name\": \"parc_df\",\n  \"rows\": 12,\n  \"fields\": [\n    {\n      \"column\": \"Attraction\",\n      \"properties\": {\n        \"dtype\": \"string\",\n        \"num_unique_values\": 12,\n        \"samples\": [\n          \"Man\\u00e8ge Classique\",\n          \"Aire de Jeux\",\n          \"Montagnes Russes\"\n        ],\n        \"semantic_type\": \"\",\n        \"description\": \"\"\n      }\n    },\n    {\n      \"column\": \"Type\",\n      \"properties\": {\n        \"dtype\": \"string\",\n        \"num_unique_values\": 6,\n        \"samples\": [\n          \"Sensations Fortes\",\n          \"Familiale\",\n          \"Animaux\"\n        ],\n        \"semantic_type\": \"\",\n        \"description\": \"\"\n      }\n    },\n    {\n      \"column\": \"Visiteurs Moyens/Jour\",\n      \"properties\": {\n        \"dtype\": \"number\",\n        \"std\": 162,\n        \"min\": 55,\n        \"max\": 491,\n        \"num_unique_values\": 10,\n        \"samples\": [\n          200,\n          400,\n          55\n        ],\n        \"semantic_type\": \"\",\n        \"description\": \"\"\n      }\n    },\n    {\n      \"column\": \"Satisfaction (%)\",\n      \"properties\": {\n        \"dtype\": \"number\",\n        \"std\": 11,\n        \"min\": 64,\n        \"max\": 99,\n        \"num_unique_values\": 12,\n        \"samples\": [\n          72,\n          83,\n          84\n        ],\n        \"semantic_type\": \"\",\n        \"description\": \"\"\n      }\n    },\n    {\n      \"column\": \"Dur\\u00e9e Moyenne (min)\",\n      \"properties\": {\n        \"dtype\": \"number\",\n        \"std\": 7,\n        \"min\": 6,\n        \"max\": 28,\n        \"num_unique_values\": 10,\n        \"samples\": [\n          28,\n          20,\n          7\n        ],\n        \"semantic_type\": \"\",\n        \"description\": \"\"\n      }\n    },\n    {\n      \"column\": \"Capacit\\u00e9 Max/Heure\",\n      \"properties\": {\n        \"dtype\": \"number\",\n        \"std\": 212,\n        \"min\": 238,\n        \"max\": 945,\n        \"num_unique_values\": 12,\n        \"samples\": [\n          751,\n          688,\n          878\n        ],\n        \"semantic_type\": \"\",\n        \"description\": \"\"\n      }\n    },\n    {\n      \"column\": \"Incidents Signal\\u00e9s\",\n      \"properties\": {\n        \"dtype\": \"number\",\n        \"std\": 2,\n        \"min\": 1,\n        \"max\": 9,\n        \"num_unique_values\": 8,\n        \"samples\": [\n          4,\n          2,\n          9\n        ],\n        \"semantic_type\": \"\",\n        \"description\": \"\"\n      }\n    },\n    {\n      \"column\": \"Co\\u00fbt Maintenance (\\u20ac)\",\n      \"properties\": {\n        \"dtype\": \"number\",\n        \"std\": 2784,\n        \"min\": 1490,\n        \"max\": 9683,\n        \"num_unique_values\": 12,\n        \"samples\": [\n          9683,\n          6785,\n          1996\n        ],\n        \"semantic_type\": \"\",\n        \"description\": \"\"\n      }\n    },\n    {\n      \"column\": \"Co\\u00fbt par visiteur (\\u20ac)\",\n      \"properties\": {\n        \"dtype\": \"number\",\n        \"std\": 0.7540732823482842,\n        \"min\": 0.27,\n        \"max\": 2.69,\n        \"num_unique_values\": 11,\n        \"samples\": [\n          0.9,\n          0.27,\n          0.66\n        ],\n        \"semantic_type\": \"\",\n        \"description\": \"\"\n      }\n    }\n  ]\n}"
            }
          },
          "metadata": {},
          "execution_count": 117
        }
      ]
    },
    {
      "cell_type": "markdown",
      "source": [
        "\n",
        "4. Affiche les attractions avec un coût par visiteur supérieur à 5 €."
      ],
      "metadata": {
        "id": "U6xiKXplAMWR"
      }
    },
    {
      "cell_type": "code",
      "source": [
        "attractions_cout_visiteur_sup_5 = parc_df[parc_df[\"Coût par visiteur (€)\"] > 5]['Attraction']\n",
        "\n",
        "attractions_cout_visiteur_sup_5"
      ],
      "metadata": {
        "colab": {
          "base_uri": "https://localhost:8080/",
          "height": 84
        },
        "id": "Z54q7JLXD87o",
        "outputId": "9530cfe1-35e5-4e16-ee45-fc62751f65fa"
      },
      "execution_count": 118,
      "outputs": [
        {
          "output_type": "execute_result",
          "data": {
            "text/plain": [
              "Series([], Name: Attraction, dtype: object)"
            ],
            "text/html": [
              "<div>\n",
              "<style scoped>\n",
              "    .dataframe tbody tr th:only-of-type {\n",
              "        vertical-align: middle;\n",
              "    }\n",
              "\n",
              "    .dataframe tbody tr th {\n",
              "        vertical-align: top;\n",
              "    }\n",
              "\n",
              "    .dataframe thead th {\n",
              "        text-align: right;\n",
              "    }\n",
              "</style>\n",
              "<table border=\"1\" class=\"dataframe\">\n",
              "  <thead>\n",
              "    <tr style=\"text-align: right;\">\n",
              "      <th></th>\n",
              "      <th>Attraction</th>\n",
              "    </tr>\n",
              "  </thead>\n",
              "  <tbody>\n",
              "  </tbody>\n",
              "</table>\n",
              "</div><br><label><b>dtype:</b> object</label>"
            ]
          },
          "metadata": {},
          "execution_count": 118
        }
      ]
    },
    {
      "cell_type": "markdown",
      "source": [
        "### F. Classements et regroupements"
      ],
      "metadata": {
        "id": "LEOB9YtY7H1D"
      }
    },
    {
      "cell_type": "markdown",
      "source": [
        "1. Classe les attractions par satisfaction décroissante."
      ],
      "metadata": {
        "id": "DKVNcWaRFrqK"
      }
    },
    {
      "cell_type": "code",
      "source": [
        "parc_df.sort_values(by=['Satisfaction (%)'], ascending=False)"
      ],
      "metadata": {
        "colab": {
          "base_uri": "https://localhost:8080/",
          "height": 515
        },
        "id": "l2OE64ALFyfI",
        "outputId": "aae44120-b130-487d-ef02-7e24aaf31729"
      },
      "execution_count": 119,
      "outputs": [
        {
          "output_type": "execute_result",
          "data": {
            "text/plain": [
              "              Attraction               Type  Visiteurs Moyens/Jour  \\\n",
              "5         Zoo Interactif            Animaux                     55   \n",
              "6          Tour de Chute  Sensations Fortes                    115   \n",
              "7     Labyrinthe Magique          Familiale                    491   \n",
              "8              Cinéma 5D           Émotions                    200   \n",
              "0       Montagnes Russes  Sensations Fortes                    251   \n",
              "9           Aire de Jeux          Familiale                    491   \n",
              "1            Grande Roue          Familiale                    400   \n",
              "4     Circuit de Karting           Sportive                    353   \n",
              "10      Manège Classique          Familiale                    491   \n",
              "3   Toboggans,Aquatiques          Aquatique                    228   \n",
              "2          Maison Hantée           Émotions                    250   \n",
              "11         Train Fantôme           Émotions                     60   \n",
              "\n",
              "    Satisfaction (%)  Durée Moyenne (min)  Capacité Max/Heure  \\\n",
              "5                 99                    6                 769   \n",
              "6                 95                    7                 590   \n",
              "7                 92                   26                 945   \n",
              "8                 86                   19                 423   \n",
              "0                 84                   11                 878   \n",
              "9                 83                    8                 688   \n",
              "1                 81                   11                 836   \n",
              "4                 80                   19                 627   \n",
              "10                72                   28                 751   \n",
              "3                 68                   13                 939   \n",
              "2                 66                   20                 238   \n",
              "11                64                    9                 570   \n",
              "\n",
              "    Incidents Signalés  Coût Maintenance (€)  Coût par visiteur (€)  \n",
              "5                    2                  1490                   0.90  \n",
              "6                    4                  7643                   2.22  \n",
              "7                    1                  9621                   0.65  \n",
              "8                    3                  6950                   1.16  \n",
              "0                    9                  1996                   0.27  \n",
              "9                    4                  6785                   0.46  \n",
              "1                    4                  4322                   0.36  \n",
              "4                    6                  8404                   0.79  \n",
              "10                   1                  9683                   0.66  \n",
              "3                    3                  4603                   0.67  \n",
              "2                    7                  3440                   0.46  \n",
              "11                   5                  4837                   2.69  "
            ],
            "text/html": [
              "\n",
              "  <div id=\"df-333c0633-9be2-445f-8b7a-f4a12363ce4e\" class=\"colab-df-container\">\n",
              "    <div>\n",
              "<style scoped>\n",
              "    .dataframe tbody tr th:only-of-type {\n",
              "        vertical-align: middle;\n",
              "    }\n",
              "\n",
              "    .dataframe tbody tr th {\n",
              "        vertical-align: top;\n",
              "    }\n",
              "\n",
              "    .dataframe thead th {\n",
              "        text-align: right;\n",
              "    }\n",
              "</style>\n",
              "<table border=\"1\" class=\"dataframe\">\n",
              "  <thead>\n",
              "    <tr style=\"text-align: right;\">\n",
              "      <th></th>\n",
              "      <th>Attraction</th>\n",
              "      <th>Type</th>\n",
              "      <th>Visiteurs Moyens/Jour</th>\n",
              "      <th>Satisfaction (%)</th>\n",
              "      <th>Durée Moyenne (min)</th>\n",
              "      <th>Capacité Max/Heure</th>\n",
              "      <th>Incidents Signalés</th>\n",
              "      <th>Coût Maintenance (€)</th>\n",
              "      <th>Coût par visiteur (€)</th>\n",
              "    </tr>\n",
              "  </thead>\n",
              "  <tbody>\n",
              "    <tr>\n",
              "      <th>5</th>\n",
              "      <td>Zoo Interactif</td>\n",
              "      <td>Animaux</td>\n",
              "      <td>55</td>\n",
              "      <td>99</td>\n",
              "      <td>6</td>\n",
              "      <td>769</td>\n",
              "      <td>2</td>\n",
              "      <td>1490</td>\n",
              "      <td>0.90</td>\n",
              "    </tr>\n",
              "    <tr>\n",
              "      <th>6</th>\n",
              "      <td>Tour de Chute</td>\n",
              "      <td>Sensations Fortes</td>\n",
              "      <td>115</td>\n",
              "      <td>95</td>\n",
              "      <td>7</td>\n",
              "      <td>590</td>\n",
              "      <td>4</td>\n",
              "      <td>7643</td>\n",
              "      <td>2.22</td>\n",
              "    </tr>\n",
              "    <tr>\n",
              "      <th>7</th>\n",
              "      <td>Labyrinthe Magique</td>\n",
              "      <td>Familiale</td>\n",
              "      <td>491</td>\n",
              "      <td>92</td>\n",
              "      <td>26</td>\n",
              "      <td>945</td>\n",
              "      <td>1</td>\n",
              "      <td>9621</td>\n",
              "      <td>0.65</td>\n",
              "    </tr>\n",
              "    <tr>\n",
              "      <th>8</th>\n",
              "      <td>Cinéma 5D</td>\n",
              "      <td>Émotions</td>\n",
              "      <td>200</td>\n",
              "      <td>86</td>\n",
              "      <td>19</td>\n",
              "      <td>423</td>\n",
              "      <td>3</td>\n",
              "      <td>6950</td>\n",
              "      <td>1.16</td>\n",
              "    </tr>\n",
              "    <tr>\n",
              "      <th>0</th>\n",
              "      <td>Montagnes Russes</td>\n",
              "      <td>Sensations Fortes</td>\n",
              "      <td>251</td>\n",
              "      <td>84</td>\n",
              "      <td>11</td>\n",
              "      <td>878</td>\n",
              "      <td>9</td>\n",
              "      <td>1996</td>\n",
              "      <td>0.27</td>\n",
              "    </tr>\n",
              "    <tr>\n",
              "      <th>9</th>\n",
              "      <td>Aire de Jeux</td>\n",
              "      <td>Familiale</td>\n",
              "      <td>491</td>\n",
              "      <td>83</td>\n",
              "      <td>8</td>\n",
              "      <td>688</td>\n",
              "      <td>4</td>\n",
              "      <td>6785</td>\n",
              "      <td>0.46</td>\n",
              "    </tr>\n",
              "    <tr>\n",
              "      <th>1</th>\n",
              "      <td>Grande Roue</td>\n",
              "      <td>Familiale</td>\n",
              "      <td>400</td>\n",
              "      <td>81</td>\n",
              "      <td>11</td>\n",
              "      <td>836</td>\n",
              "      <td>4</td>\n",
              "      <td>4322</td>\n",
              "      <td>0.36</td>\n",
              "    </tr>\n",
              "    <tr>\n",
              "      <th>4</th>\n",
              "      <td>Circuit de Karting</td>\n",
              "      <td>Sportive</td>\n",
              "      <td>353</td>\n",
              "      <td>80</td>\n",
              "      <td>19</td>\n",
              "      <td>627</td>\n",
              "      <td>6</td>\n",
              "      <td>8404</td>\n",
              "      <td>0.79</td>\n",
              "    </tr>\n",
              "    <tr>\n",
              "      <th>10</th>\n",
              "      <td>Manège Classique</td>\n",
              "      <td>Familiale</td>\n",
              "      <td>491</td>\n",
              "      <td>72</td>\n",
              "      <td>28</td>\n",
              "      <td>751</td>\n",
              "      <td>1</td>\n",
              "      <td>9683</td>\n",
              "      <td>0.66</td>\n",
              "    </tr>\n",
              "    <tr>\n",
              "      <th>3</th>\n",
              "      <td>Toboggans,Aquatiques</td>\n",
              "      <td>Aquatique</td>\n",
              "      <td>228</td>\n",
              "      <td>68</td>\n",
              "      <td>13</td>\n",
              "      <td>939</td>\n",
              "      <td>3</td>\n",
              "      <td>4603</td>\n",
              "      <td>0.67</td>\n",
              "    </tr>\n",
              "    <tr>\n",
              "      <th>2</th>\n",
              "      <td>Maison Hantée</td>\n",
              "      <td>Émotions</td>\n",
              "      <td>250</td>\n",
              "      <td>66</td>\n",
              "      <td>20</td>\n",
              "      <td>238</td>\n",
              "      <td>7</td>\n",
              "      <td>3440</td>\n",
              "      <td>0.46</td>\n",
              "    </tr>\n",
              "    <tr>\n",
              "      <th>11</th>\n",
              "      <td>Train Fantôme</td>\n",
              "      <td>Émotions</td>\n",
              "      <td>60</td>\n",
              "      <td>64</td>\n",
              "      <td>9</td>\n",
              "      <td>570</td>\n",
              "      <td>5</td>\n",
              "      <td>4837</td>\n",
              "      <td>2.69</td>\n",
              "    </tr>\n",
              "  </tbody>\n",
              "</table>\n",
              "</div>\n",
              "    <div class=\"colab-df-buttons\">\n",
              "\n",
              "  <div class=\"colab-df-container\">\n",
              "    <button class=\"colab-df-convert\" onclick=\"convertToInteractive('df-333c0633-9be2-445f-8b7a-f4a12363ce4e')\"\n",
              "            title=\"Convert this dataframe to an interactive table.\"\n",
              "            style=\"display:none;\">\n",
              "\n",
              "  <svg xmlns=\"http://www.w3.org/2000/svg\" height=\"24px\" viewBox=\"0 -960 960 960\">\n",
              "    <path d=\"M120-120v-720h720v720H120Zm60-500h600v-160H180v160Zm220 220h160v-160H400v160Zm0 220h160v-160H400v160ZM180-400h160v-160H180v160Zm440 0h160v-160H620v160ZM180-180h160v-160H180v160Zm440 0h160v-160H620v160Z\"/>\n",
              "  </svg>\n",
              "    </button>\n",
              "\n",
              "  <style>\n",
              "    .colab-df-container {\n",
              "      display:flex;\n",
              "      gap: 12px;\n",
              "    }\n",
              "\n",
              "    .colab-df-convert {\n",
              "      background-color: #E8F0FE;\n",
              "      border: none;\n",
              "      border-radius: 50%;\n",
              "      cursor: pointer;\n",
              "      display: none;\n",
              "      fill: #1967D2;\n",
              "      height: 32px;\n",
              "      padding: 0 0 0 0;\n",
              "      width: 32px;\n",
              "    }\n",
              "\n",
              "    .colab-df-convert:hover {\n",
              "      background-color: #E2EBFA;\n",
              "      box-shadow: 0px 1px 2px rgba(60, 64, 67, 0.3), 0px 1px 3px 1px rgba(60, 64, 67, 0.15);\n",
              "      fill: #174EA6;\n",
              "    }\n",
              "\n",
              "    .colab-df-buttons div {\n",
              "      margin-bottom: 4px;\n",
              "    }\n",
              "\n",
              "    [theme=dark] .colab-df-convert {\n",
              "      background-color: #3B4455;\n",
              "      fill: #D2E3FC;\n",
              "    }\n",
              "\n",
              "    [theme=dark] .colab-df-convert:hover {\n",
              "      background-color: #434B5C;\n",
              "      box-shadow: 0px 1px 3px 1px rgba(0, 0, 0, 0.15);\n",
              "      filter: drop-shadow(0px 1px 2px rgba(0, 0, 0, 0.3));\n",
              "      fill: #FFFFFF;\n",
              "    }\n",
              "  </style>\n",
              "\n",
              "    <script>\n",
              "      const buttonEl =\n",
              "        document.querySelector('#df-333c0633-9be2-445f-8b7a-f4a12363ce4e button.colab-df-convert');\n",
              "      buttonEl.style.display =\n",
              "        google.colab.kernel.accessAllowed ? 'block' : 'none';\n",
              "\n",
              "      async function convertToInteractive(key) {\n",
              "        const element = document.querySelector('#df-333c0633-9be2-445f-8b7a-f4a12363ce4e');\n",
              "        const dataTable =\n",
              "          await google.colab.kernel.invokeFunction('convertToInteractive',\n",
              "                                                    [key], {});\n",
              "        if (!dataTable) return;\n",
              "\n",
              "        const docLinkHtml = 'Like what you see? Visit the ' +\n",
              "          '<a target=\"_blank\" href=https://colab.research.google.com/notebooks/data_table.ipynb>data table notebook</a>'\n",
              "          + ' to learn more about interactive tables.';\n",
              "        element.innerHTML = '';\n",
              "        dataTable['output_type'] = 'display_data';\n",
              "        await google.colab.output.renderOutput(dataTable, element);\n",
              "        const docLink = document.createElement('div');\n",
              "        docLink.innerHTML = docLinkHtml;\n",
              "        element.appendChild(docLink);\n",
              "      }\n",
              "    </script>\n",
              "  </div>\n",
              "\n",
              "\n",
              "<div id=\"df-14fe2918-1877-4c24-8a52-659ea63e9506\">\n",
              "  <button class=\"colab-df-quickchart\" onclick=\"quickchart('df-14fe2918-1877-4c24-8a52-659ea63e9506')\"\n",
              "            title=\"Suggest charts\"\n",
              "            style=\"display:none;\">\n",
              "\n",
              "<svg xmlns=\"http://www.w3.org/2000/svg\" height=\"24px\"viewBox=\"0 0 24 24\"\n",
              "     width=\"24px\">\n",
              "    <g>\n",
              "        <path d=\"M19 3H5c-1.1 0-2 .9-2 2v14c0 1.1.9 2 2 2h14c1.1 0 2-.9 2-2V5c0-1.1-.9-2-2-2zM9 17H7v-7h2v7zm4 0h-2V7h2v10zm4 0h-2v-4h2v4z\"/>\n",
              "    </g>\n",
              "</svg>\n",
              "  </button>\n",
              "\n",
              "<style>\n",
              "  .colab-df-quickchart {\n",
              "      --bg-color: #E8F0FE;\n",
              "      --fill-color: #1967D2;\n",
              "      --hover-bg-color: #E2EBFA;\n",
              "      --hover-fill-color: #174EA6;\n",
              "      --disabled-fill-color: #AAA;\n",
              "      --disabled-bg-color: #DDD;\n",
              "  }\n",
              "\n",
              "  [theme=dark] .colab-df-quickchart {\n",
              "      --bg-color: #3B4455;\n",
              "      --fill-color: #D2E3FC;\n",
              "      --hover-bg-color: #434B5C;\n",
              "      --hover-fill-color: #FFFFFF;\n",
              "      --disabled-bg-color: #3B4455;\n",
              "      --disabled-fill-color: #666;\n",
              "  }\n",
              "\n",
              "  .colab-df-quickchart {\n",
              "    background-color: var(--bg-color);\n",
              "    border: none;\n",
              "    border-radius: 50%;\n",
              "    cursor: pointer;\n",
              "    display: none;\n",
              "    fill: var(--fill-color);\n",
              "    height: 32px;\n",
              "    padding: 0;\n",
              "    width: 32px;\n",
              "  }\n",
              "\n",
              "  .colab-df-quickchart:hover {\n",
              "    background-color: var(--hover-bg-color);\n",
              "    box-shadow: 0 1px 2px rgba(60, 64, 67, 0.3), 0 1px 3px 1px rgba(60, 64, 67, 0.15);\n",
              "    fill: var(--button-hover-fill-color);\n",
              "  }\n",
              "\n",
              "  .colab-df-quickchart-complete:disabled,\n",
              "  .colab-df-quickchart-complete:disabled:hover {\n",
              "    background-color: var(--disabled-bg-color);\n",
              "    fill: var(--disabled-fill-color);\n",
              "    box-shadow: none;\n",
              "  }\n",
              "\n",
              "  .colab-df-spinner {\n",
              "    border: 2px solid var(--fill-color);\n",
              "    border-color: transparent;\n",
              "    border-bottom-color: var(--fill-color);\n",
              "    animation:\n",
              "      spin 1s steps(1) infinite;\n",
              "  }\n",
              "\n",
              "  @keyframes spin {\n",
              "    0% {\n",
              "      border-color: transparent;\n",
              "      border-bottom-color: var(--fill-color);\n",
              "      border-left-color: var(--fill-color);\n",
              "    }\n",
              "    20% {\n",
              "      border-color: transparent;\n",
              "      border-left-color: var(--fill-color);\n",
              "      border-top-color: var(--fill-color);\n",
              "    }\n",
              "    30% {\n",
              "      border-color: transparent;\n",
              "      border-left-color: var(--fill-color);\n",
              "      border-top-color: var(--fill-color);\n",
              "      border-right-color: var(--fill-color);\n",
              "    }\n",
              "    40% {\n",
              "      border-color: transparent;\n",
              "      border-right-color: var(--fill-color);\n",
              "      border-top-color: var(--fill-color);\n",
              "    }\n",
              "    60% {\n",
              "      border-color: transparent;\n",
              "      border-right-color: var(--fill-color);\n",
              "    }\n",
              "    80% {\n",
              "      border-color: transparent;\n",
              "      border-right-color: var(--fill-color);\n",
              "      border-bottom-color: var(--fill-color);\n",
              "    }\n",
              "    90% {\n",
              "      border-color: transparent;\n",
              "      border-bottom-color: var(--fill-color);\n",
              "    }\n",
              "  }\n",
              "</style>\n",
              "\n",
              "  <script>\n",
              "    async function quickchart(key) {\n",
              "      const quickchartButtonEl =\n",
              "        document.querySelector('#' + key + ' button');\n",
              "      quickchartButtonEl.disabled = true;  // To prevent multiple clicks.\n",
              "      quickchartButtonEl.classList.add('colab-df-spinner');\n",
              "      try {\n",
              "        const charts = await google.colab.kernel.invokeFunction(\n",
              "            'suggestCharts', [key], {});\n",
              "      } catch (error) {\n",
              "        console.error('Error during call to suggestCharts:', error);\n",
              "      }\n",
              "      quickchartButtonEl.classList.remove('colab-df-spinner');\n",
              "      quickchartButtonEl.classList.add('colab-df-quickchart-complete');\n",
              "    }\n",
              "    (() => {\n",
              "      let quickchartButtonEl =\n",
              "        document.querySelector('#df-14fe2918-1877-4c24-8a52-659ea63e9506 button');\n",
              "      quickchartButtonEl.style.display =\n",
              "        google.colab.kernel.accessAllowed ? 'block' : 'none';\n",
              "    })();\n",
              "  </script>\n",
              "</div>\n",
              "\n",
              "    </div>\n",
              "  </div>\n"
            ],
            "application/vnd.google.colaboratory.intrinsic+json": {
              "type": "dataframe",
              "summary": "{\n  \"name\": \"parc_df\",\n  \"rows\": 12,\n  \"fields\": [\n    {\n      \"column\": \"Attraction\",\n      \"properties\": {\n        \"dtype\": \"string\",\n        \"num_unique_values\": 12,\n        \"samples\": [\n          \"Maison Hant\\u00e9e\",\n          \"Toboggans,Aquatiques\",\n          \"Zoo Interactif\"\n        ],\n        \"semantic_type\": \"\",\n        \"description\": \"\"\n      }\n    },\n    {\n      \"column\": \"Type\",\n      \"properties\": {\n        \"dtype\": \"string\",\n        \"num_unique_values\": 6,\n        \"samples\": [\n          \"Animaux\",\n          \"Sensations Fortes\",\n          \"Aquatique\"\n        ],\n        \"semantic_type\": \"\",\n        \"description\": \"\"\n      }\n    },\n    {\n      \"column\": \"Visiteurs Moyens/Jour\",\n      \"properties\": {\n        \"dtype\": \"number\",\n        \"std\": 162,\n        \"min\": 55,\n        \"max\": 491,\n        \"num_unique_values\": 10,\n        \"samples\": [\n          250,\n          115,\n          400\n        ],\n        \"semantic_type\": \"\",\n        \"description\": \"\"\n      }\n    },\n    {\n      \"column\": \"Satisfaction (%)\",\n      \"properties\": {\n        \"dtype\": \"number\",\n        \"std\": 11,\n        \"min\": 64,\n        \"max\": 99,\n        \"num_unique_values\": 12,\n        \"samples\": [\n          66,\n          68,\n          99\n        ],\n        \"semantic_type\": \"\",\n        \"description\": \"\"\n      }\n    },\n    {\n      \"column\": \"Dur\\u00e9e Moyenne (min)\",\n      \"properties\": {\n        \"dtype\": \"number\",\n        \"std\": 7,\n        \"min\": 6,\n        \"max\": 28,\n        \"num_unique_values\": 10,\n        \"samples\": [\n          20,\n          7,\n          8\n        ],\n        \"semantic_type\": \"\",\n        \"description\": \"\"\n      }\n    },\n    {\n      \"column\": \"Capacit\\u00e9 Max/Heure\",\n      \"properties\": {\n        \"dtype\": \"number\",\n        \"std\": 212,\n        \"min\": 238,\n        \"max\": 945,\n        \"num_unique_values\": 12,\n        \"samples\": [\n          238,\n          939,\n          769\n        ],\n        \"semantic_type\": \"\",\n        \"description\": \"\"\n      }\n    },\n    {\n      \"column\": \"Incidents Signal\\u00e9s\",\n      \"properties\": {\n        \"dtype\": \"number\",\n        \"std\": 2,\n        \"min\": 1,\n        \"max\": 9,\n        \"num_unique_values\": 8,\n        \"samples\": [\n          4,\n          6,\n          2\n        ],\n        \"semantic_type\": \"\",\n        \"description\": \"\"\n      }\n    },\n    {\n      \"column\": \"Co\\u00fbt Maintenance (\\u20ac)\",\n      \"properties\": {\n        \"dtype\": \"number\",\n        \"std\": 2784,\n        \"min\": 1490,\n        \"max\": 9683,\n        \"num_unique_values\": 12,\n        \"samples\": [\n          3440,\n          4603,\n          1490\n        ],\n        \"semantic_type\": \"\",\n        \"description\": \"\"\n      }\n    },\n    {\n      \"column\": \"Co\\u00fbt par visiteur (\\u20ac)\",\n      \"properties\": {\n        \"dtype\": \"number\",\n        \"std\": 0.7540732823482842,\n        \"min\": 0.27,\n        \"max\": 2.69,\n        \"num_unique_values\": 11,\n        \"samples\": [\n          0.46,\n          0.9,\n          0.67\n        ],\n        \"semantic_type\": \"\",\n        \"description\": \"\"\n      }\n    }\n  ]\n}"
            }
          },
          "metadata": {},
          "execution_count": 119
        }
      ]
    },
    {
      "cell_type": "markdown",
      "source": [
        "2. Groupe les attractions par Type et calcule la satisfaction moyenne pour chaque type."
      ],
      "metadata": {
        "id": "Euq_eb1KFxaP"
      }
    },
    {
      "cell_type": "code",
      "source": [
        "satisfaction_moyenne_pour_type = parc_df.groupby('Type')['Satisfaction (%)'].mean()\n",
        "\n",
        "satisfaction_moyenne_pour_type"
      ],
      "metadata": {
        "colab": {
          "base_uri": "https://localhost:8080/",
          "height": 304
        },
        "id": "nwBIJdEtGVai",
        "outputId": "d5b042c0-21ac-49e1-90c1-45681931396b"
      },
      "execution_count": 120,
      "outputs": [
        {
          "output_type": "execute_result",
          "data": {
            "text/plain": [
              "Type\n",
              "Animaux              99.0\n",
              "Aquatique            68.0\n",
              "Familiale            82.0\n",
              "Sensations Fortes    89.5\n",
              "Sportive             80.0\n",
              "Émotions             72.0\n",
              "Name: Satisfaction (%), dtype: float64"
            ],
            "text/html": [
              "<div>\n",
              "<style scoped>\n",
              "    .dataframe tbody tr th:only-of-type {\n",
              "        vertical-align: middle;\n",
              "    }\n",
              "\n",
              "    .dataframe tbody tr th {\n",
              "        vertical-align: top;\n",
              "    }\n",
              "\n",
              "    .dataframe thead th {\n",
              "        text-align: right;\n",
              "    }\n",
              "</style>\n",
              "<table border=\"1\" class=\"dataframe\">\n",
              "  <thead>\n",
              "    <tr style=\"text-align: right;\">\n",
              "      <th></th>\n",
              "      <th>Satisfaction (%)</th>\n",
              "    </tr>\n",
              "    <tr>\n",
              "      <th>Type</th>\n",
              "      <th></th>\n",
              "    </tr>\n",
              "  </thead>\n",
              "  <tbody>\n",
              "    <tr>\n",
              "      <th>Animaux</th>\n",
              "      <td>99.0</td>\n",
              "    </tr>\n",
              "    <tr>\n",
              "      <th>Aquatique</th>\n",
              "      <td>68.0</td>\n",
              "    </tr>\n",
              "    <tr>\n",
              "      <th>Familiale</th>\n",
              "      <td>82.0</td>\n",
              "    </tr>\n",
              "    <tr>\n",
              "      <th>Sensations Fortes</th>\n",
              "      <td>89.5</td>\n",
              "    </tr>\n",
              "    <tr>\n",
              "      <th>Sportive</th>\n",
              "      <td>80.0</td>\n",
              "    </tr>\n",
              "    <tr>\n",
              "      <th>Émotions</th>\n",
              "      <td>72.0</td>\n",
              "    </tr>\n",
              "  </tbody>\n",
              "</table>\n",
              "</div><br><label><b>dtype:</b> float64</label>"
            ]
          },
          "metadata": {},
          "execution_count": 120
        }
      ]
    },
    {
      "cell_type": "markdown",
      "source": [
        "## G. Visualisations Bonus\n",
        "\n",
        "\n",
        "Présente les résultats sous forme de texte et de visualisations"
      ],
      "metadata": {
        "id": "NwFcRu6a7Bv-"
      }
    },
    {
      "cell_type": "code",
      "source": [
        "import matplotlib.pyplot as plt\n"
      ],
      "metadata": {
        "id": "lDTVD-A-HL7i"
      },
      "execution_count": 121,
      "outputs": []
    },
    {
      "cell_type": "markdown",
      "source": [
        "\n",
        "1. Trace un graphique en barres montrant le nombre moyen de visiteurs pour chaque attraction.\n"
      ],
      "metadata": {
        "id": "-BNceyqvHAcf"
      }
    },
    {
      "cell_type": "code",
      "source": [
        "parc_df.sort_values('Attraction', inplace=True)\n",
        "\n",
        "x = parc_df['Attraction']\n",
        "y = parc_df['Visiteurs Moyens/Jour']\n",
        "\n",
        "plt.bar(x, y)\n",
        "plt.xticks(rotation=90)\n",
        "\n",
        "plt.show()"
      ],
      "metadata": {
        "colab": {
          "base_uri": "https://localhost:8080/",
          "height": 573
        },
        "id": "lZLXya2iHx9g",
        "outputId": "aea9ad32-a9fb-4a51-df5f-060e0b8de506"
      },
      "execution_count": 122,
      "outputs": [
        {
          "output_type": "display_data",
          "data": {
            "text/plain": [
              "<Figure size 640x480 with 1 Axes>"
            ],
            "image/png": "[encoded data removed]"
          },
          "metadata": {}
        }
      ]
    },
    {
      "cell_type": "markdown",
      "source": [
        "2. Crée un diagramme circulaire pour visualiser la répartition des types d’attractions dans le parc.\n"
      ],
      "metadata": {
        "id": "-__X_RUBHDsa"
      }
    },
    {
      "cell_type": "code",
      "source": [
        "types_repartition = parc_df.groupby('Type')['Type'].count()/len(parc_df)\n",
        "\n",
        "fig, ax = plt.subplots()\n",
        "ax.pie(types_repartition.values, labels=types_repartition.index)\n",
        "plt.title(\"Repartition des types d'attractions\")\n",
        "fig.show()"
      ],
      "metadata": {
        "colab": {
          "base_uri": "https://localhost:8080/",
          "height": 428
        },
        "id": "vVm-F0BFKaer",
        "outputId": "71ea013d-9dd1-4c4c-9eaa-bcdafe24aadd"
      },
      "execution_count": 123,
      "outputs": [
        {
          "output_type": "display_data",
          "data": {
            "text/plain": [
              "<Figure size 640x480 with 1 Axes>"
            ],
            "image/png": "[encoded data removed]"
          },
          "metadata": {}
        }
      ]
    },
    {
      "cell_type": "markdown",
      "source": [
        "3. Challenge Final : Rapport du Parc\n",
        "\n",
        "Prépare un résumé clair :\n",
        "\n"
      ],
      "metadata": {
        "id": "BrqjMicjHKJP"
      }
    },
    {
      "cell_type": "markdown",
      "source": [
        "- **Attraction la plus populaire.**"
      ],
      "metadata": {
        "id": "jLj6acj7NN1f"
      }
    },
    {
      "cell_type": "code",
      "source": [
        "attraction_plus_populaire = parc_df.loc[parc_df['Visiteurs Moyens/Jour'].idxmax()]['Attraction']\n",
        "\n",
        "attraction_plus_populaire"
      ],
      "metadata": {
        "colab": {
          "base_uri": "https://localhost:8080/",
          "height": 35
        },
        "id": "q8iNPK7oNTZr",
        "outputId": "ba877b2b-ff9d-4af3-f941-eeda3daf346b"
      },
      "execution_count": 124,
      "outputs": [
        {
          "output_type": "execute_result",
          "data": {
            "text/plain": [
              "'Aire de Jeux'"
            ],
            "application/vnd.google.colaboratory.intrinsic+json": {
              "type": "string"
            }
          },
          "metadata": {},
          "execution_count": 124
        }
      ]
    },
    {
      "cell_type": "markdown",
      "source": [
        "- **Attraction la mieux notée.**"
      ],
      "metadata": {
        "id": "0m_8TMqINORB"
      }
    },
    {
      "cell_type": "code",
      "source": [
        "attraction_mieux_notee = parc_df.loc[parc_df['Satisfaction (%)'].idxmax()]['Attraction']\n",
        "\n",
        "attraction_mieux_notee"
      ],
      "metadata": {
        "colab": {
          "base_uri": "https://localhost:8080/",
          "height": 35
        },
        "id": "VmxmEd9FO3vu",
        "outputId": "96fc572b-a577-40c8-9fcc-749e43080bc2"
      },
      "execution_count": 125,
      "outputs": [
        {
          "output_type": "execute_result",
          "data": {
            "text/plain": [
              "'Zoo Interactif'"
            ],
            "application/vnd.google.colaboratory.intrinsic+json": {
              "type": "string"
            }
          },
          "metadata": {},
          "execution_count": 125
        }
      ]
    },
    {
      "cell_type": "markdown",
      "source": [
        "- **Type d’attraction préféré des visiteurs.**"
      ],
      "metadata": {
        "id": "BH1J_DtZNOnS"
      }
    },
    {
      "cell_type": "code",
      "source": [
        "type_attraction_prefere = parc_df.groupby('Type')['Visiteurs Moyens/Jour'].sum().idxmax()\n",
        "\n",
        "type_attraction_prefere"
      ],
      "metadata": {
        "colab": {
          "base_uri": "https://localhost:8080/",
          "height": 35
        },
        "id": "bNOvXTZePIuM",
        "outputId": "b4cf15e9-0f37-469d-c3b4-7f7f208b1bb1"
      },
      "execution_count": 126,
      "outputs": [
        {
          "output_type": "execute_result",
          "data": {
            "text/plain": [
              "'Familiale'"
            ],
            "application/vnd.google.colaboratory.intrinsic+json": {
              "type": "string"
            }
          },
          "metadata": {},
          "execution_count": 126
        }
      ]
    },
    {
      "cell_type": "markdown",
      "source": [
        "- **Coût total de maintenance du parc.**"
      ],
      "metadata": {
        "id": "r1wIsQmSNPDH"
      }
    },
    {
      "cell_type": "code",
      "source": [
        "total_maintenance = parc_df['Coût Maintenance (€)'].sum()"
      ],
      "metadata": {
        "id": "ZdspQjinPqh4"
      },
      "execution_count": 127,
      "outputs": []
    },
    {
      "cell_type": "code",
      "source": [
        "print(f\"\"\"\n",
        "\n",
        "-----------------RAPPORT DU PARC--------------------\n",
        "\n",
        "- L'attraction la plus populaire du parc est : {attraction_plus_populaire}\n",
        "- L'attraction la mieux notée est: {attraction_mieux_notee}\n",
        "- Le type d'attraction préféré des visiteurs est: {type_attraction_prefere}\n",
        "- Le coût total de maintenance du parc es : {total_maintenance}\n",
        "\n",
        "\"\"\")"
      ],
      "metadata": {
        "colab": {
          "base_uri": "https://localhost:8080/"
        },
        "id": "XeH3rEXSQbLJ",
        "outputId": "9eaf01e9-bf84-4d3d-883e-4c11e0f14ed1"
      },
      "execution_count": 129,
      "outputs": [
        {
          "output_type": "stream",
          "name": "stdout",
          "text": [
            "\n",
            "\n",
            "-----------------RAPPORT DU PARC--------------------\n",
            "\n",
            "- L'attraction la plus populaire du parc est : Aire de Jeux\n",
            "- L'attraction la mieux notée est: Zoo Interactif\n",
            "- Le type d'attraction préféré des visiteurs est: Familiale\n",
            "- Le coût total de maintenance du parc es : 69774 \n",
            "\n",
            "\n"
          ]
        }
      ]
    }
  ]
}