{
  "nbformat": 4,
  "nbformat_minor": 0,
  "metadata": {
    "colab": {
      "provenance": [],
      "include_colab_link": true
    },
    "kernelspec": {
      "name": "python3",
      "display_name": "Python 3"
    }
  },
  "cells": [
    {
      "cell_type": "markdown",
      "metadata": {
        "id": "view-in-github",
        "colab_type": "text"
      },
      "source": [
        "<a href=\"https://colab.research.google.com/github/lugsantistebanji/WCS-IA/blob/main/WCS_IA_Quetes_Python_Mathematical_functions.ipynb\" target=\"_parent\"><img src=\"https://colab.research.google.com/assets/colab-badge.svg\" alt=\"Open In Colab\"/></a>"
      ]
    },
    {
      "cell_type": "markdown",
      "metadata": {
        "id": "zsHobPhC3ffd"
      },
      "source": [
        "\n",
        "## Mathematical functions that need coding\n",
        "![Find x](https://www.mathwarehouse.com/jokes/images/find-x-funny-math-image-joke.webp)\n",
        "\n",
        "**Now the statisticians are begging you to code ready-made math functions for them. Below are the functions they use most often. Code the functions in the cells below:**\n",
        "\n",
        "- Square of a number: Create a function that returns the square of a number.\n",
        "- Cube of a number: Create a function that returns the cube of a number.\n",
        "- Absolute value: Create a function that returns the absolute value of a number.\n",
        "- Factorial of a number: Create a function that returns the factorial of a number.\n",
        "- Mode of a list of numbers: Create a function that returns the mode of a list of numbers, for instance [68, 99, 65, 44, 77, 44, 44] --> 44.\n",
        "- Average of a list of numbers: Create a function that returns the average of a list of numbers.\n",
        "- Minimum of a list of numbers: Create a function that returns the minimum from within a list of numbers.\n",
        "- Maximum of a list of numbers: Create a function that returns the maximum from within a list of numbers.\n",
        "\n",
        "**Yes, all those functions already exist in dedicated modules, and you may not reuse them, unfortunately: you may only use loops, conditionals, basic structures, `len`, addition, subtraction, multiplication, division and powers.**\n",
        "\n",
        "**Don't forget to test your functions with at least two possible cases!**"
      ]
    },
    {
      "cell_type": "markdown",
      "source": [
        "Optional Question: Create a function that returns the mode of a list of numbers when more than one modal value is present in a given data set. For example [68, 68, 68, 99, 65, 44, 77, 44, 44] --> [68, 44]"
      ],
      "metadata": {
        "id": "l7a_3Ouqptmf"
      }
    },
    {
      "cell_type": "markdown",
      "source": [
        "- **Square of a number: Create a function that returns the square of a number**"
      ],
      "metadata": {
        "id": "mYy9i5cscOJF"
      }
    },
    {
      "cell_type": "code",
      "source": [
        "def square_of_n(n: float) -> float:\n",
        "    return n**2\n",
        "\n",
        "number_1 = 5\n",
        "number_2 = -5\n",
        "\n",
        "print(f\"The square of {number_1} is {square_of_n(number_1)}\")\n",
        "print(f\"The square of {number_2} is {square_of_n(number_2)}\")"
      ],
      "metadata": {
        "id": "2_z1MSfHuK1K",
        "colab": {
          "base_uri": "https://localhost:8080/"
        },
        "outputId": "ffbbf117-9c80-4531-98b2-d984518eb4b3"
      },
      "execution_count": 8,
      "outputs": [
        {
          "output_type": "stream",
          "name": "stdout",
          "text": [
            "The square of 5 is 25\n",
            "The square of -5 is 25\n"
          ]
        }
      ]
    },
    {
      "cell_type": "markdown",
      "source": [
        "\n",
        "- **Cube of a number: Create a function that returns the cube of a number**"
      ],
      "metadata": {
        "id": "3jEcvz12cX3x"
      }
    },
    {
      "cell_type": "code",
      "source": [
        "def cube_of_n(n: float) -> float:\n",
        "    return n**3\n",
        "\n",
        "number_1 = 5\n",
        "number_2 = -5\n",
        "\n",
        "print(f\"The cube of {number_1} is {cube_of_n(number_1)}\")\n",
        "print(f\"The cube of {number_2} is {cube_of_n(number_2)}\")"
      ],
      "metadata": {
        "id": "o6SNRhU-ciZO",
        "colab": {
          "base_uri": "https://localhost:8080/"
        },
        "outputId": "d169d86f-29e8-44cd-87be-71350711b0dd"
      },
      "execution_count": 9,
      "outputs": [
        {
          "output_type": "stream",
          "name": "stdout",
          "text": [
            "The cube of 5 is 125\n",
            "The cube of -5 is -125\n"
          ]
        }
      ]
    },
    {
      "cell_type": "markdown",
      "source": [
        "- **Absolute value: Create a function that returns the absolute value of a number.**\n",
        "\n",
        "\n"
      ],
      "metadata": {
        "id": "LZPxbahzci0g"
      }
    },
    {
      "cell_type": "code",
      "source": [
        "def abs_of_n(n: float) -> float:\n",
        "    return n if n >= 0 else -n\n",
        "\n",
        "number_1 = 5\n",
        "number_2 = -5\n",
        "\n",
        "print(f\"The absolute value of {number_1} is {abs_of_n(number_1)}\")\n",
        "print(f\"The absolute value of {number_2} is {abs_of_n(number_2)}\")"
      ],
      "metadata": {
        "id": "69uimsNictM_",
        "colab": {
          "base_uri": "https://localhost:8080/"
        },
        "outputId": "b43e5ae1-d45d-41e2-f07d-87d52043b2d8"
      },
      "execution_count": 10,
      "outputs": [
        {
          "output_type": "stream",
          "name": "stdout",
          "text": [
            "The absolute value of 5 is 5\n",
            "The absolute value of -5 is 5\n"
          ]
        }
      ]
    },
    {
      "cell_type": "markdown",
      "source": [
        "- **Factorial of a number: Create a function that returns the factorial of a number.**\n"
      ],
      "metadata": {
        "id": "mvtrP3mZct1n"
      }
    },
    {
      "cell_type": "code",
      "source": [
        "def factorial_of_n(n: int) -> int:\n",
        "    factorial = 1\n",
        "    for num in range(1, n+1):\n",
        "        factorial *= num\n",
        "    return factorial\n",
        "\n",
        "number_1 = 0\n",
        "number_2 = 5\n",
        "\n",
        "print(f\"The factorial of {number_1} is {factorial_of_n(number_1)}\")\n",
        "print(f\"The factorial of {number_2} is {factorial_of_n(number_2)}\")"
      ],
      "metadata": {
        "id": "1CAlG5L8c26h",
        "colab": {
          "base_uri": "https://localhost:8080/"
        },
        "outputId": "db8f7602-a176-4a66-f330-fef55af42a71"
      },
      "execution_count": 11,
      "outputs": [
        {
          "output_type": "stream",
          "name": "stdout",
          "text": [
            "The factorial of 0 is 1\n",
            "The factorial of 5 is 120\n"
          ]
        }
      ]
    },
    {
      "cell_type": "markdown",
      "source": [
        "- **Mode of a list of numbers: Create a function that returns the mode of a list of numbers, `for instance [68, 99, 65, 44, 77, 44, 44] --> 44.`**\n",
        "    \n",
        "    **Create a function that returns the mode of a list of numbers when more than one modal value is present in a given data set. For example [68, 68, 68, 99, 65, 44, 77, 44, 44] --> [68, 44]**\n"
      ],
      "metadata": {
        "id": "KESUw2Udc3WT"
      }
    },
    {
      "cell_type": "code",
      "source": [
        "def mode_of(numbers_list: list) -> list:\n",
        "    frequences = {}\n",
        "    for number in set(numbers_list):\n",
        "        count = numbers_list.count(number)\n",
        "        if count in frequences.keys():\n",
        "            frequences[count] = frequences[count] + [number]\n",
        "        else:\n",
        "            frequences[count] = [number]\n",
        "\n",
        "    max_frequence = sorted(frequences.keys())[-1]\n",
        "\n",
        "    return [] if max_frequence == 1 else frequences[max_frequence]\n",
        "\n",
        "\n",
        "numbers_list_1 = [1,1,1,1,2,2,2,2,3,3,3,5,5,6,7]\n",
        "numbers_list_2 = [68, 99, 65, 44, 77, 44, 44]\n",
        "\n",
        "print(f\"The mode(s) of [{', '.join(map(str, numbers_list_1))}] is/are {mode_of(numbers_list_1)}\")\n",
        "\n",
        "print(f\"The mode(s) of [{', '.join(map(str, numbers_list_2))}] is/are {mode_of(numbers_list_2)}\")"
      ],
      "metadata": {
        "id": "VaSWNvk2dF_3",
        "colab": {
          "base_uri": "https://localhost:8080/"
        },
        "outputId": "590344d7-58fa-4aab-ab35-b54999c1c121"
      },
      "execution_count": 32,
      "outputs": [
        {
          "output_type": "stream",
          "name": "stdout",
          "text": [
            "The mode(s) of [1, 1, 1, 1, 2, 2, 2, 2, 3, 3, 3, 5, 5, 6, 7] is/are [1, 2]\n",
            "The mode(s) of [68, 99, 65, 44, 77, 44, 44] is/are [44]\n"
          ]
        }
      ]
    },
    {
      "cell_type": "markdown",
      "source": [
        "- **Average of a list of numbers: Create a function that returns the average of a list of numbers.**"
      ],
      "metadata": {
        "id": "LQorRoD_dKAY"
      }
    },
    {
      "cell_type": "code",
      "source": [
        "def average_of(numbers_list: list) -> float:\n",
        "    total = 0\n",
        "    for number in numbers_list:\n",
        "        total += number\n",
        "\n",
        "    return total/len(numbers_list) if len(numbers_list) else None\n",
        "\n",
        "numbers_list_1 = [1, 2, 3, 4, 5]\n",
        "numbers_list_2 = [2, 2, 2, 2, 2, 2, 2, 2]\n",
        "\n",
        "print(f\"The average of [{', '.join(map(str, numbers_list_1))}] is {average_of(numbers_list_1)}\")\n",
        "print(f\"The average of [{', '.join(map(str, numbers_list_2))}] is {average_of(numbers_list_2)}\")"
      ],
      "metadata": {
        "id": "XbNJffwSdNA4",
        "colab": {
          "base_uri": "https://localhost:8080/"
        },
        "outputId": "74881f03-6024-4fa1-d299-7fc91e815ba7"
      },
      "execution_count": 30,
      "outputs": [
        {
          "output_type": "stream",
          "name": "stdout",
          "text": [
            "The average of [1, 2, 3, 4, 5] is 3.0\n",
            "The average of [2, 2, 2, 2, 2, 2, 2, 2] is 2.0\n"
          ]
        }
      ]
    },
    {
      "cell_type": "markdown",
      "source": [
        "- **Minimum of a list of numbers: Create a function that returns the minimum from within a list of numbers.**"
      ],
      "metadata": {
        "id": "nysLqCM0dnIB"
      }
    },
    {
      "cell_type": "code",
      "source": [
        "def min_of(numbers_list: list) -> float:\n",
        "    min = numbers_list[0]\n",
        "    for number in numbers_list:\n",
        "        if number < min:\n",
        "            min = number\n",
        "    return min\n",
        "\n",
        "numbers_list_1 = [15,-20, 18, 1 , 0, 35, 44, 28, -101, 2102]\n",
        "numbers_list_2 = [15, 20, 18, 1 , 0, 35, 44, 28, 101, 2102]\n",
        "\n",
        "\n",
        "print(f\"The minimum of [{', '.join(map(str, numbers_list_1))}] is {min_of(numbers_list_1)}\")\n",
        "\n",
        "print(f\"The minimum of [{', '.join(map(str, numbers_list_2))}] is {min_of(numbers_list_2)}\")"
      ],
      "metadata": {
        "colab": {
          "base_uri": "https://localhost:8080/"
        },
        "id": "8qLKX4U1dqWD",
        "outputId": "574c3a29-4fc6-4db8-8dc0-d25fcb2c1cbb"
      },
      "execution_count": 34,
      "outputs": [
        {
          "output_type": "stream",
          "name": "stdout",
          "text": [
            "The minimum of [15, -20, 18, 1, 0, 35, 44, 28, -101, 2102] is -101\n",
            "The minimum of [15, 20, 18, 1, 0, 35, 44, 28, 101, 2102] is 0\n"
          ]
        }
      ]
    },
    {
      "cell_type": "markdown",
      "source": [
        "- **Maximum of a list of numbers: Create a function that returns the maximum from within a list of numbers.**\n"
      ],
      "metadata": {
        "id": "0BmkOh-edrDr"
      }
    },
    {
      "cell_type": "code",
      "source": [
        "def max_of(numbers_list: list) -> float:\n",
        "    max = numbers_list[0]\n",
        "    for number in numbers_list:\n",
        "        if number > max:\n",
        "            max = number\n",
        "    return max\n",
        "\n",
        "numbers_list_1 = [15,-20, 18, 1 , 0, 35, 44, 28, -101, 2102]\n",
        "numbers_list_1 = [15, 20, 18, 1 , 0, 35, 44, 28, 101, -2102]\n",
        "\n",
        "print(f\"The maximum of [{', '.join(map(str, numbers_list_1))}] is {max_of(numbers_list_1)}\")\n",
        "\n",
        "print(f\"The maximum of [{', '.join(map(str, numbers_list_2))}] is {max_of(numbers_list_2)}\")\n",
        "\n"
      ],
      "metadata": {
        "colab": {
          "base_uri": "https://localhost:8080/"
        },
        "id": "yxewJOoTd6pG",
        "outputId": "28a531c6-395e-4850-f3d5-30e6055746ac"
      },
      "execution_count": 35,
      "outputs": [
        {
          "output_type": "stream",
          "name": "stdout",
          "text": [
            "The maximum of [15, 20, 18, 1, 0, 35, 44, 28, 101, -2102] is 101\n",
            "The maximum of [15, 20, 18, 1, 0, 35, 44, 28, 101, 2102] is 2102\n"
          ]
        }
      ]
    }
  ]
}