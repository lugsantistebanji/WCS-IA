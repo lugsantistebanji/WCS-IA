{
  "nbformat": 4,
  "nbformat_minor": 0,
  "metadata": {
    "colab": {
      "provenance": [],
      "include_colab_link": true
    },
    "kernelspec": {
      "name": "python3",
      "display_name": "Python 3"
    },
    "language_info": {
      "name": "python"
    }
  },
  "cells": [
    {
      "cell_type": "markdown",
      "metadata": {
        "id": "view-in-github",
        "colab_type": "text"
      },
      "source": [
        "<a href=\"https://colab.research.google.com/github/lugsantistebanji/WCS-IA/blob/main/WCS_IA_Quetes_Python_Intro_Functions.ipynb\" target=\"_parent\"><img src=\"https://colab.research.google.com/assets/colab-badge.svg\" alt=\"Open In Colab\"/></a>"
      ]
    },
    {
      "cell_type": "markdown",
      "source": [
        "---"
      ],
      "metadata": {
        "id": "Ihe9koMx-3SK"
      }
    },
    {
      "cell_type": "markdown",
      "source": [
        "# Mission 1"
      ],
      "metadata": {
        "id": "wcVz1afOARJ_"
      }
    },
    {
      "cell_type": "markdown",
      "source": [
        "Create a function that returns the sum of 3 + 3 when executed.  \n",
        "You must use the `return` statement."
      ],
      "metadata": {
        "id": "m5NmUj_rATHM"
      }
    },
    {
      "cell_type": "markdown",
      "source": [
        "**One possible solution :**"
      ],
      "metadata": {
        "id": "-D3JmcnI-WY5"
      }
    },
    {
      "cell_type": "code",
      "source": [
        "def function_3_plus_3() -> int:\n",
        "    return 3 + 3\n",
        "\n",
        "print( f\" 3 + 3 = {function_3_plus_3()}\")"
      ],
      "metadata": {
        "id": "U_XCIEon-8pv",
        "colab": {
          "base_uri": "https://localhost:8080/"
        },
        "outputId": "8081e6d6-eb22-4720-dd53-1cbed11004ee"
      },
      "execution_count": null,
      "outputs": [
        {
          "output_type": "stream",
          "name": "stdout",
          "text": [
            " 3 + 3 = 6\n"
          ]
        }
      ]
    },
    {
      "cell_type": "markdown",
      "source": [
        "---"
      ],
      "metadata": {
        "id": "v27YmbT5-cCH"
      }
    },
    {
      "cell_type": "markdown",
      "source": [
        "# Mission 2"
      ],
      "metadata": {
        "id": "NTH39Am4EvLo"
      }
    },
    {
      "cell_type": "markdown",
      "source": [
        "Create a function that returns the sum of two numbers.  \n",
        "The user of the function must be able to sum two numbers of his choice, when the function is executed.  \n",
        "You must not use `input`.  \n"
      ],
      "metadata": {
        "id": "m9q2VGmlC3bI"
      }
    },
    {
      "cell_type": "markdown",
      "source": [
        "**One possible solution :**"
      ],
      "metadata": {
        "id": "9f3ir9wp-kE6"
      }
    },
    {
      "cell_type": "code",
      "source": [
        "def sum_two_numbers(number_1: float, number_2: float) -> float:\n",
        "    return number_1 + number_2\n",
        "\n",
        "number_1 = 3\n",
        "number_2 = 15\n",
        "print(f\"{number_1} + {number_2} = {sum_two_numbers(number_1, number_2)}\")"
      ],
      "metadata": {
        "id": "BW-HqKvn_PQM",
        "colab": {
          "base_uri": "https://localhost:8080/"
        },
        "outputId": "ca4df2d2-a2ea-4901-906e-9cde1c53dd63"
      },
      "execution_count": null,
      "outputs": [
        {
          "output_type": "stream",
          "name": "stdout",
          "text": [
            "3 + 15 = 18\n"
          ]
        }
      ]
    },
    {
      "cell_type": "markdown",
      "source": [
        "**Question:**\n",
        "\n",
        "What is a parameter in a function?\n",
        "\n",
        "**Answer:**\n",
        "\n",
        "Parameters are placeholders that are defined in the function signature and used within the function. For example dans the function definition:\n",
        "\n",
        "```python\n",
        "def sum_two_numbers(number_1: float, number_2: float) -> float:\n",
        "    return number_1 + number_2\n"
      ],
      "metadata": {
        "id": "o9gEnSiBESZz"
      }
    },
    {
      "cell_type": "markdown",
      "source": [
        "---"
      ],
      "metadata": {
        "id": "W3htIdUw-urp"
      }
    },
    {
      "cell_type": "markdown",
      "source": [
        "# Mission 3"
      ],
      "metadata": {
        "id": "JfvzWKRsE02-"
      }
    },
    {
      "cell_type": "markdown",
      "source": [
        "Create a function that returns the sum of two numbers chosen by the user of the function, in a sentence.  \n",
        "For example:  \n",
        "`new_sum_2(3,8)` returns `\"The sum of 3 + 8 is equal to 11.\"`"
      ],
      "metadata": {
        "id": "A_xh0sExE5Tc"
      }
    },
    {
      "cell_type": "markdown",
      "source": [
        "**One possible solution :**"
      ],
      "metadata": {
        "id": "JQgirwJv-mXV"
      }
    },
    {
      "cell_type": "code",
      "source": [
        "def new_sum2(number_1: float, number_2: float) -> float:\n",
        "    return f\"The sum of {number_1} + {number_2} is equal to {number_1 + number_2}\"\n",
        "\n",
        "print(new_sum2(3,8))"
      ],
      "metadata": {
        "colab": {
          "base_uri": "https://localhost:8080/"
        },
        "id": "CM4lCYCOCfH6",
        "outputId": "5affeaf7-1f01-49dc-f422-510d36f0b88e"
      },
      "execution_count": null,
      "outputs": [
        {
          "output_type": "stream",
          "name": "stdout",
          "text": [
            "The sum of 3 + 8 is equal to 11\n"
          ]
        }
      ]
    },
    {
      "cell_type": "markdown",
      "source": [
        "---"
      ],
      "metadata": {
        "id": "UKyllV36-v8L"
      }
    },
    {
      "cell_type": "markdown",
      "source": [
        "# Mission 4\n",
        "\n",
        "Create a function that returns 2 objects when executed:\n",
        "* An object that will be the product of two numbers chosen by the user of the function.\n",
        "* A word chosen by the user of the function."
      ],
      "metadata": {
        "id": "2TTBtBSlGVH7"
      }
    },
    {
      "cell_type": "markdown",
      "source": [
        "**One possible solution :**"
      ],
      "metadata": {
        "id": "caM-vhgx-pX7"
      }
    },
    {
      "cell_type": "code",
      "source": [
        "def function_return_two_objects(number_1: float, number_2: float, word_1: str ) -> tuple:\n",
        "    return number_1*number_2, word_1\n",
        "\n",
        "result = function_return_two_objects(3, 8, \"Python\")\n",
        "print(type(result))\n",
        "print(result)"
      ],
      "metadata": {
        "colab": {
          "base_uri": "https://localhost:8080/"
        },
        "id": "qktHSZwYHtBq",
        "outputId": "6d2911f1-44cf-42e7-e7d8-b56d0dbac9c4"
      },
      "execution_count": null,
      "outputs": [
        {
          "output_type": "stream",
          "name": "stdout",
          "text": [
            "<class 'tuple'>\n",
            "(24, 'Python')\n"
          ]
        }
      ]
    },
    {
      "cell_type": "markdown",
      "source": [
        "Your result must be two objects that are in brackets.  \n",
        "This is a tuple.\n",
        "\n",
        "**Question:**\n",
        "\n",
        "Why is the returned object a tuple that contains two objects?  \n",
        "\n",
        "**Answer:**\n",
        "\n",
        "A function cannot return two separate objects as such; it must return only one object.Therefore, when we want to return two or more objects, Python creates and returns a **tuple** that contains the objects in question. Python returns a tuple instead of a list because a tuple is an **immutable** object, unlike a list, which is mutable. This means that once a tuple is created, it cannot be modified.\n"
      ],
      "metadata": {
        "id": "IDsLOssWIiaF"
      }
    },
    {
      "cell_type": "markdown",
      "source": [
        "---"
      ],
      "metadata": {
        "id": "QvcuSHyy-xNH"
      }
    },
    {
      "cell_type": "markdown",
      "source": [
        "# Mission 5\n",
        "\n",
        "Create a function that returns the sum of two numbers when executed.  \n",
        "Also, your function must return a sentence that simply indicates if the sum of the two numbers chosen by the user is:\n",
        "* less than 10\n",
        "* between 10 and 50\n",
        "* greater than 50  \n",
        "Again, you must use `return`."
      ],
      "metadata": {
        "id": "BFuKSzy5JR4P"
      }
    },
    {
      "cell_type": "markdown",
      "source": [
        "**One possible solution :**"
      ],
      "metadata": {
        "id": "bJjOAuB5-rBY"
      }
    },
    {
      "cell_type": "code",
      "source": [
        "def sum_two_numbers(number_1: float, number_2: float) -> tuple:\n",
        "    sentence = \"less than 10\"\n",
        "    sum_result = number_1 + number_2\n",
        "\n",
        "    if 10 <= sum_result <= 50:\n",
        "        sentence = \"between 10 and 50\"\n",
        "    elif sum_result > 50:\n",
        "        sentence = \"greather 50\"\n",
        "\n",
        "    return sum_result, sentence\n",
        "\n",
        "print(sum_two_numbers(5, 10))\n",
        "print(sum_two_numbers(-5, 10))\n",
        "print(sum_two_numbers(15, 36))"
      ],
      "metadata": {
        "colab": {
          "base_uri": "https://localhost:8080/"
        },
        "id": "yyYDN9cFKZ2U",
        "outputId": "a7950292-8d05-4289-942c-a1495e8d21e3"
      },
      "execution_count": null,
      "outputs": [
        {
          "output_type": "stream",
          "name": "stdout",
          "text": [
            "(15, 'between 10 and 50')\n",
            "(5, 'less than 10')\n",
            "(51, 'greather 50')\n"
          ]
        }
      ]
    },
    {
      "cell_type": "markdown",
      "source": [
        "---"
      ],
      "metadata": {
        "id": "MZ7VXb3b-yV5"
      }
    }
  ]
}