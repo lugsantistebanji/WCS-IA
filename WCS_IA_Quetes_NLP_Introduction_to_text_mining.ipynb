{
  "cells": [
    {
      "cell_type": "markdown",
      "metadata": {
        "id": "view-in-github",
        "colab_type": "text"
      },
      "source": [
        "<a href=\"https://colab.research.google.com/github/lugsantistebanji/WCS-IA/blob/main/WCS_IA_Quetes_NLP_Introduction_to_text_mining.ipynb\" target=\"_parent\"><img src=\"https://colab.research.google.com/assets/colab-badge.svg\" alt=\"Open In Colab\"/></a>"
      ]
    },
    {
      "cell_type": "markdown",
      "metadata": {
        "id": "5FzKMsiQFhvJ"
      },
      "source": [
        "# Challenge\n"
      ]
    },
    {
      "cell_type": "markdown",
      "metadata": {
        "id": "ogkJbKyOGOlU"
      },
      "source": [
        "---"
      ]
    },
    {
      "cell_type": "markdown",
      "metadata": {
        "id": "FFmmBEfBGAEc"
      },
      "source": [
        "1. __Importe NLTK et télécharge les fonctions dont tu auras besoin (au fur et à mesure si nécessaire).__"
      ]
    },
    {
      "cell_type": "code",
      "execution_count": 54,
      "metadata": {
        "colab": {
          "base_uri": "https://localhost:8080/"
        },
        "id": "jVNfqUk6GXbt",
        "outputId": "b9102eb6-e2b1-4382-8256-4d6ee241636f"
      },
      "outputs": [
        {
          "output_type": "stream",
          "name": "stderr",
          "text": [
            "[nltk_data] Downloading collection 'popular'\n",
            "[nltk_data]    | \n",
            "[nltk_data]    | Downloading package cmudict to /root/nltk_data...\n",
            "[nltk_data]    |   Package cmudict is already up-to-date!\n",
            "[nltk_data]    | Downloading package gazetteers to /root/nltk_data...\n",
            "[nltk_data]    |   Package gazetteers is already up-to-date!\n",
            "[nltk_data]    | Downloading package genesis to /root/nltk_data...\n",
            "[nltk_data]    |   Package genesis is already up-to-date!\n",
            "[nltk_data]    | Downloading package gutenberg to /root/nltk_data...\n",
            "[nltk_data]    |   Package gutenberg is already up-to-date!\n",
            "[nltk_data]    | Downloading package inaugural to /root/nltk_data...\n",
            "[nltk_data]    |   Package inaugural is already up-to-date!\n",
            "[nltk_data]    | Downloading package movie_reviews to\n",
            "[nltk_data]    |     /root/nltk_data...\n",
            "[nltk_data]    |   Package movie_reviews is already up-to-date!\n",
            "[nltk_data]    | Downloading package names to /root/nltk_data...\n",
            "[nltk_data]    |   Package names is already up-to-date!\n",
            "[nltk_data]    | Downloading package shakespeare to /root/nltk_data...\n",
            "[nltk_data]    |   Package shakespeare is already up-to-date!\n",
            "[nltk_data]    | Downloading package stopwords to /root/nltk_data...\n",
            "[nltk_data]    |   Package stopwords is already up-to-date!\n",
            "[nltk_data]    | Downloading package treebank to /root/nltk_data...\n",
            "[nltk_data]    |   Package treebank is already up-to-date!\n",
            "[nltk_data]    | Downloading package twitter_samples to\n",
            "[nltk_data]    |     /root/nltk_data...\n",
            "[nltk_data]    |   Package twitter_samples is already up-to-date!\n",
            "[nltk_data]    | Downloading package omw to /root/nltk_data...\n",
            "[nltk_data]    |   Package omw is already up-to-date!\n",
            "[nltk_data]    | Downloading package omw-1.4 to /root/nltk_data...\n",
            "[nltk_data]    |   Package omw-1.4 is already up-to-date!\n",
            "[nltk_data]    | Downloading package wordnet to /root/nltk_data...\n",
            "[nltk_data]    |   Package wordnet is already up-to-date!\n",
            "[nltk_data]    | Downloading package wordnet2021 to /root/nltk_data...\n",
            "[nltk_data]    |   Package wordnet2021 is already up-to-date!\n",
            "[nltk_data]    | Downloading package wordnet31 to /root/nltk_data...\n",
            "[nltk_data]    |   Package wordnet31 is already up-to-date!\n",
            "[nltk_data]    | Downloading package wordnet_ic to /root/nltk_data...\n",
            "[nltk_data]    |   Package wordnet_ic is already up-to-date!\n",
            "[nltk_data]    | Downloading package words to /root/nltk_data...\n",
            "[nltk_data]    |   Package words is already up-to-date!\n",
            "[nltk_data]    | Downloading package maxent_ne_chunker to\n",
            "[nltk_data]    |     /root/nltk_data...\n",
            "[nltk_data]    |   Package maxent_ne_chunker is already up-to-date!\n",
            "[nltk_data]    | Downloading package punkt to /root/nltk_data...\n",
            "[nltk_data]    |   Package punkt is already up-to-date!\n",
            "[nltk_data]    | Downloading package snowball_data to\n",
            "[nltk_data]    |     /root/nltk_data...\n",
            "[nltk_data]    |   Package snowball_data is already up-to-date!\n",
            "[nltk_data]    | Downloading package averaged_perceptron_tagger to\n",
            "[nltk_data]    |     /root/nltk_data...\n",
            "[nltk_data]    |   Package averaged_perceptron_tagger is already up-\n",
            "[nltk_data]    |       to-date!\n",
            "[nltk_data]    | \n",
            "[nltk_data]  Done downloading collection popular\n",
            "[nltk_data] Downloading package punkt_tab to /root/nltk_data...\n",
            "[nltk_data]   Package punkt_tab is already up-to-date!\n"
          ]
        },
        {
          "output_type": "execute_result",
          "data": {
            "text/plain": [
              "True"
            ]
          },
          "metadata": {},
          "execution_count": 54
        }
      ],
      "source": [
        "import nltk\n",
        "import pandas as pd\n",
        "nltk.download('popular')\n",
        "nltk.download('punkt_tab')"
      ]
    },
    {
      "cell_type": "markdown",
      "metadata": {
        "id": "hSmTwGBHGRMv"
      },
      "source": [
        "---"
      ]
    },
    {
      "cell_type": "markdown",
      "metadata": {
        "id": "7VbTP7kaGCdk"
      },
      "source": [
        "2. __Récupère le texte d'un article de presse de ton choix sur internet (en anglais ce sera plus simple, mais tu peux prendre la langue de ton choix). Affecte-le à une variable via un copier/coller dans ton notebook. Par simplicité pour la suite de cette quête, nous te conseillons de prendre un texte qui fait entre 10 et 30 lignes environ.__"
      ]
    },
    {
      "cell_type": "markdown",
      "metadata": {
        "id": "qqJibFJ2HGC1"
      },
      "source": [
        "[AI Is Usually Bad At Math...](https://www.forbes.com/sites/johnwerner/2024/10/07/ai-is-usually-bad-at-math-heres-what-will-happen-if-it-gets-better/)"
      ]
    },
    {
      "cell_type": "code",
      "execution_count": 55,
      "metadata": {
        "id": "cAJ0dkgOH2G-"
      },
      "outputs": [],
      "source": [
        "article = \"\"\"We’re seeing some new developments in AI models that are shedding light on one of the technology’s most prominent gaps – its relative inability to do math well.\n",
        "\n",
        "Some experts note that AI is dysfunctional at math. It tends to produce wrong answers, and can be slow to correct them.\n",
        "\n",
        "The people at OpenAI are working on new models that are more geared towards solving math problems.\n",
        "\n",
        "But it’s interesting to think about why there’s this deficit in the first place:\n",
        "\n",
        "Some engineers like to talk about tokenization, and the use of data in large language models. What it seems to boil down to is that the models themselves are geared toward language, so they can produce. Shakespearean works of literature, but aren’t as good at solving math problems\n",
        "\n",
        "But another element of this has to do with the higher-level human thought involved in doing math, and how it works.\n",
        "\n",
        "Now, computers are great at calculating numbers in a deterministic way. You’re never going to go wrong consulting a computer on a sum, for instance: just ask the calculator. But when it comes to automation, the AI entities that we’re familiar with have trouble.\n",
        "\n",
        "In the earlier models, ChatGPT and other utilities tended to produce, not accurate math answers, but answers that represented what might come next in language – as LLMs typically do. At present, a lot of this has been solved for simple addition, multiplication, etc. and ChatGPT can solve basic equations by, say, moving like terms around, but this only obscures the deeper issue: that the AI isn’t using the right methods.\n",
        "\n",
        "“Math is really, really hard for AI models,” writes Melissa Heikkila at our own MIT Technology Review. “Complex math, such as geometry, requires sophisticated reasoning skills, and many AI researchers believe that the ability to crack it could herald more powerful and intelligent systems. Innovations like AlphaGeometry show that we are edging closer to machines with more human-like reasoning skills. This could allow us to build more powerful AI tools that could be used to help mathematicians solve equations and perhaps come up with better tutoring tools.”\n",
        "\"\"\""
      ]
    },
    {
      "cell_type": "markdown",
      "metadata": {
        "id": "HWGlQUXqGRiE"
      },
      "source": [
        "---"
      ]
    },
    {
      "cell_type": "markdown",
      "metadata": {
        "id": "WSFoh2R_GEe7"
      },
      "source": [
        "3. __Transforme ton texte en tokens de phrases.__"
      ]
    },
    {
      "cell_type": "code",
      "execution_count": 56,
      "metadata": {
        "colab": {
          "base_uri": "https://localhost:8080/"
        },
        "id": "-tn4oq_7JblQ",
        "outputId": "519d51ad-7f89-4673-d93f-e2d137541a83"
      },
      "outputs": [
        {
          "output_type": "execute_result",
          "data": {
            "text/plain": [
              "['We’re seeing some new developments in AI models that are shedding light on one of the technology’s most prominent gaps – its relative inability to do math well.',\n",
              " 'Some experts note that AI is dysfunctional at math.',\n",
              " 'It tends to produce wrong answers, and can be slow to correct them.',\n",
              " 'The people at OpenAI are working on new models that are more geared towards solving math problems.',\n",
              " 'But it’s interesting to think about why there’s this deficit in the first place:\\n\\nSome engineers like to talk about tokenization, and the use of data in large language models.',\n",
              " 'What it seems to boil down to is that the models themselves are geared toward language, so they can produce.',\n",
              " 'Shakespearean works of literature, but aren’t as good at solving math problems\\n\\nBut another element of this has to do with the higher-level human thought involved in doing math, and how it works.',\n",
              " 'Now, computers are great at calculating numbers in a deterministic way.',\n",
              " 'You’re never going to go wrong consulting a computer on a sum, for instance: just ask the calculator.',\n",
              " 'But when it comes to automation, the AI entities that we’re familiar with have trouble.',\n",
              " 'In the earlier models, ChatGPT and other utilities tended to produce, not accurate math answers, but answers that represented what might come next in language – as LLMs typically do.',\n",
              " 'At present, a lot of this has been solved for simple addition, multiplication, etc.',\n",
              " 'and ChatGPT can solve basic equations by, say, moving like terms around, but this only obscures the deeper issue: that the AI isn’t using the right methods.',\n",
              " '“Math is really, really hard for AI models,” writes Melissa Heikkila at our own MIT Technology Review.',\n",
              " '“Complex math, such as geometry, requires sophisticated reasoning skills, and many AI researchers believe that the ability to crack it could herald more powerful and intelligent systems.',\n",
              " 'Innovations like AlphaGeometry show that we are edging closer to machines with more human-like reasoning skills.',\n",
              " 'This could allow us to build more powerful AI tools that could be used to help mathematicians solve equations and perhaps come up with better tutoring tools.”']"
            ]
          },
          "metadata": {},
          "execution_count": 56
        }
      ],
      "source": [
        "nltk.sent_tokenize(article)"
      ]
    },
    {
      "cell_type": "markdown",
      "metadata": {
        "id": "V4MIdHs9GR2n"
      },
      "source": [
        "---"
      ]
    },
    {
      "cell_type": "markdown",
      "metadata": {
        "id": "xzmQEcA3GHPZ"
      },
      "source": [
        "4. __Transforme ton texte en tokens de mots.__"
      ]
    },
    {
      "cell_type": "code",
      "execution_count": 57,
      "metadata": {
        "id": "gC9XausdJ3pK"
      },
      "outputs": [],
      "source": [
        "words = nltk.word_tokenize(article.lower())"
      ]
    },
    {
      "cell_type": "markdown",
      "metadata": {
        "id": "utvBWrhFGSN3"
      },
      "source": [
        "---"
      ]
    },
    {
      "cell_type": "markdown",
      "metadata": {
        "id": "v7fWIP9oGJeA"
      },
      "source": [
        "5. __Compte la fréquence d'apparition de chaque mot et réalise un graphique (si possible un diagramme en barre) qui représente les 20 mots les plus présents dans ton texte. Y a-t-il beaucoup de mots qui te semblent être des stopwords ?__"
      ]
    },
    {
      "cell_type": "code",
      "source": [
        "import matplotlib.pyplot as plt\n",
        "\n",
        "\n",
        "def get_bar_chart(x, height):\n",
        "    plt.bar(x, height=height)\n",
        "    plt.xlabel('Count')\n",
        "    plt.ylabel('Word')\n",
        "    plt.xticks(rotation=90)\n",
        "    plt.title('Frequence of 20 words most used')\n",
        "    plt.show()"
      ],
      "metadata": {
        "id": "D294OjbdQ-vo"
      },
      "execution_count": 62,
      "outputs": []
    },
    {
      "cell_type": "code",
      "source": [
        "def top_20(dict_words):\n",
        "    return dict(sorted(dict_words.items(), key=itemgetter(1), reverse=True)[:20])"
      ],
      "metadata": {
        "id": "LjWjoTuOTDgp"
      },
      "execution_count": 59,
      "outputs": []
    },
    {
      "cell_type": "code",
      "execution_count": 60,
      "metadata": {
        "colab": {
          "base_uri": "https://localhost:8080/",
          "height": 508
        },
        "id": "toA8C01zKnq5",
        "outputId": "3e67cd45-ff79-423e-c6f0-c94f4d3753f3"
      },
      "outputs": [
        {
          "output_type": "display_data",
          "data": {
            "text/plain": [
              "<Figure size 640x480 with 1 Axes>"
            ],
            "image/png": "[encoded data removed]"
          },
          "metadata": {}
        }
      ],
      "source": [
        "from operator import itemgetter\n",
        "\n",
        "freq = nltk.FreqDist(words)\n",
        "top_20_all = top_20(freq)\n",
        "get_bar_chart(top_20_all.keys(), top_20_all.values())"
      ]
    },
    {
      "cell_type": "markdown",
      "source": [
        "    Oui, il y beaucoup des _stopwords_ like: to, the, and, in, are, it,..."
      ],
      "metadata": {
        "id": "wCN1M5HeQlL2"
      }
    },
    {
      "cell_type": "markdown",
      "metadata": {
        "id": "MEPcpAbEGSkV"
      },
      "source": [
        "---"
      ]
    },
    {
      "cell_type": "markdown",
      "metadata": {
        "id": "3OvVVcC6GLQ2"
      },
      "source": [
        "6. __Enlève les stop words et la ponctuation, et regarde à nouveau quels sont les mots les plus présents. Là encore, réalise le même graphique pour comparer.__"
      ]
    },
    {
      "cell_type": "code",
      "source": [
        "tokenizer = nltk.tokenize.RegexpTokenizer(r'\\w+')\n",
        "only_words = tokenizer.tokenize(article.lower())\n",
        "without_stopwords = [word for word in only_words if word not in nltk.corpus.stopwords.words(\"english\")]\n",
        "new_freq = nltk.FreqDist(without_stopwords)\n",
        "top_20_words = top_20(new_freq)\n",
        "get_bar_chart(top_20_words.keys(), top_20_words.values())"
      ],
      "metadata": {
        "colab": {
          "base_uri": "https://localhost:8080/",
          "height": 535
        },
        "id": "VF0HALb3R7k8",
        "outputId": "7e937241-06d6-411e-a17e-30d6dd7ee1ee"
      },
      "execution_count": 61,
      "outputs": [
        {
          "output_type": "display_data",
          "data": {
            "text/plain": [
              "<Figure size 640x480 with 1 Axes>"
            ],
            "image/png": "[encoded data removed]"
          },
          "metadata": {}
        }
      ]
    },
    {
      "cell_type": "markdown",
      "metadata": {
        "id": "tb-KB8VZGS6w"
      },
      "source": [
        "---"
      ]
    }
  ],
  "metadata": {
    "colab": {
      "provenance": [],
      "authorship_tag": "ABX9TyMo6zHyi1LDorSzcmt7hWaG",
      "include_colab_link": true
    },
    "kernelspec": {
      "display_name": "Python 3",
      "name": "python3"
    },
    "language_info": {
      "name": "python"
    }
  },
  "nbformat": 4,
  "nbformat_minor": 0
}