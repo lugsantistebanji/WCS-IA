{
  "nbformat": 4,
  "nbformat_minor": 0,
  "metadata": {
    "colab": {
      "provenance": [],
      "include_colab_link": true
    },
    "kernelspec": {
      "name": "python3",
      "display_name": "Python 3"
    }
  },
  "cells": [
    {
      "cell_type": "markdown",
      "metadata": {
        "id": "view-in-github",
        "colab_type": "text"
      },
      "source": [
        "<a href=\"https://colab.research.google.com/github/lugsantistebanji/WCS-IA/blob/main/WCS_IA_Quetes_Python_lists.ipynb\" target=\"_parent\"><img src=\"https://colab.research.google.com/assets/colab-badge.svg\" alt=\"Open In Colab\"/></a>"
      ]
    },
    {
      "cell_type": "markdown",
      "source": [
        "**Preliminary note:** sometimes, the challenge tells you to do something that is incompatible with some input (for instance, you ask for a position but the user enters some text, or an invalid number).\n",
        "\n",
        "Here you can assume that all user input goes according to plan (the \"happy path\"). If you want an extra **optional** challenge, feel free to manage possible error cases!"
      ],
      "metadata": {
        "id": "1LeJKHt8Hd9O"
      }
    },
    {
      "cell_type": "markdown",
      "metadata": {
        "id": "LoJw-LlCTnWF"
      },
      "source": [
        "# Mission 1\n",
        "\n",
        "Define a list, then display only the elements (and their position) that have even positions (0, 2, 4, 6...).\n",
        "\n",
        "With `test_list = [\"a\", \"b\", \"c\", \"d\", \"e\"]`, the script should display:\n",
        "```\n",
        "a at position 0\n",
        "c at position 2\n",
        "e at position 4\n",
        "```"
      ]
    },
    {
      "cell_type": "markdown",
      "source": [
        "**Solution with enumerate function :**"
      ],
      "metadata": {
        "id": "PG0zcs0Q7ta_"
      }
    },
    {
      "cell_type": "code",
      "metadata": {
        "id": "C2Lk113KSPUO",
        "colab": {
          "base_uri": "https://localhost:8080/"
        },
        "outputId": "99cd1c64-30d6-4970-bd78-b3633720e751"
      },
      "source": [
        "test_list = [\"a\", \"b\", \"c\", \"d\", \"e\"]\n",
        "\n",
        "for index, element in enumerate(test_list):\n",
        "     if index % 2 == 0 :\n",
        "         print(f\"{element} at position {index}\")"
      ],
      "execution_count": null,
      "outputs": [
        {
          "output_type": "stream",
          "name": "stdout",
          "text": [
            "a at position 0\n",
            "c at position 2\n",
            "e at position 4\n"
          ]
        }
      ]
    },
    {
      "cell_type": "markdown",
      "source": [
        "**Solution with range function :**"
      ],
      "metadata": {
        "id": "VubgtNI98Mi_"
      }
    },
    {
      "cell_type": "code",
      "source": [
        "test_list = [\"a\", \"b\", \"c\", \"d\", \"e\"]\n",
        "for index in range(0, len(test_list)+1, 2):\n",
        "    print(f\"{test_list[index]} at position {index}\")"
      ],
      "metadata": {
        "colab": {
          "base_uri": "https://localhost:8080/"
        },
        "id": "9i0cprH28L54",
        "outputId": "cb3c996a-9781-43be-8bcd-6c6256f40749"
      },
      "execution_count": 3,
      "outputs": [
        {
          "output_type": "stream",
          "name": "stdout",
          "text": [
            "a at position 0\n",
            "c at position 2\n",
            "e at position 4\n"
          ]
        }
      ]
    },
    {
      "cell_type": "markdown",
      "source": [
        "**Solution with list comprehension and join method :**\n"
      ],
      "metadata": {
        "id": "1aOZvGTv9FdE"
      }
    },
    {
      "cell_type": "code",
      "source": [
        "test_list = [\"a\", \"b\", \"c\", \"d\", \"e\"]\n",
        "print(\"\\n\".join(f\"{val} at position {i}\" for i, val in enumerate(test_list) if not i%2))"
      ],
      "metadata": {
        "colab": {
          "base_uri": "https://localhost:8080/"
        },
        "id": "QbQaiqbu9EVS",
        "outputId": "acba226b-5fa1-4a61-a3c2-715d5c40d89c"
      },
      "execution_count": 4,
      "outputs": [
        {
          "output_type": "stream",
          "name": "stdout",
          "text": [
            "a at position 0\n",
            "c at position 2\n",
            "e at position 4\n"
          ]
        }
      ]
    },
    {
      "cell_type": "markdown",
      "metadata": {
        "id": "J3bsGIvAT049"
      },
      "source": [
        "# Mission 2\n",
        "\n",
        "Define a list, then **ask** for a position, then for a string. Then replace the list element at that position by the given string, and display the resulting list.\n",
        "\n",
        "For example, with the list `test_list2 = ['hello', 'good morning', 'bye bye', 'have a good day']`, the position `2` and the string `yeah`, you should display:\n",
        "```\n",
        "['hello', 'good morning', 'yeah', 'have a good day']\n",
        "```"
      ]
    },
    {
      "cell_type": "markdown",
      "source": [
        "**One possible solution :**"
      ],
      "metadata": {
        "id": "QnEi6Ije-XP8"
      }
    },
    {
      "cell_type": "code",
      "metadata": {
        "id": "Fy1OmPSUXNaP",
        "colab": {
          "base_uri": "https://localhost:8080/"
        },
        "outputId": "9d93312d-ac11-40ae-f3e4-2a631c01e903"
      },
      "source": [
        "try:\n",
        "    test_list = ['hello', 'good morning', 'bye bye', 'have a good day']\n",
        "    position = int(input(f\"Enter a number between 0 and {len(test_list) - 1}, limits included: \"))\n",
        "    new_string = input(\"Enter a new string: \")\n",
        "\n",
        "    if position < 0 or position > len(test_list) - 1 :\n",
        "        raise ValueError(f\"The number must be between 0 and {len(test_list) - 1}, limits included\")\n",
        "    test_list[position] = new_string\n",
        "    print(test_list)\n",
        "except ValueError as error:\n",
        "    print(error)\n"
      ],
      "execution_count": null,
      "outputs": [
        {
          "output_type": "stream",
          "name": "stdout",
          "text": [
            "Enter a number between 0 and 3, limits included: 5\n",
            "Enter a new string: test\n",
            "The number must be between 0 and 3, limits included\n"
          ]
        }
      ]
    },
    {
      "cell_type": "markdown",
      "metadata": {
        "id": "dVl36lvlWLdV"
      },
      "source": [
        "# Mission 3\n",
        "\n",
        "Define a list with five numbers, then ask the user for a number. Put the number at the end of the list, remove the first element from the list, and finally display the list.\n",
        "\n",
        "For example, with the list `test_list3 = [1, 9, 6, 15, 4]` and the input `7`, you should display:\n",
        "```\n",
        "[9, 6, 15, 4, 7]\n",
        "```\n"
      ]
    },
    {
      "cell_type": "markdown",
      "source": [
        "**One possible solution :**"
      ],
      "metadata": {
        "id": "LReRIAWx-dn1"
      }
    },
    {
      "cell_type": "code",
      "metadata": {
        "id": "pN3_mD4YSPfb"
      },
      "source": [
        "try:\n",
        "    numbers_list = [1, 9, 6, 15, 4]\n",
        "    new_number = int(input(\"Enter a new integer number: \"))\n",
        "    numbers_list.pop(0)\n",
        "    numbers_list.append(new_number)\n",
        "    print(numbers_list)\n",
        "except ValueError as error:\n",
        "    print(\"You must enter a integer number\")\n"
      ],
      "execution_count": null,
      "outputs": []
    },
    {
      "cell_type": "markdown",
      "metadata": {
        "id": "GCvpkWzXXPTf"
      },
      "source": [
        "# Mission 4\n",
        "\n",
        "Define a list, then ask the user for a string. Then, insert the string in the list at a random position, and display the resulting list.\n",
        "\n",
        "For example, with the list `test_list4 = [\"p\", \"y\", \"t\", \"h\", \"o\"]` and the input `n`, you *might* get:\n",
        "```\n",
        "[\"p\", \"n\", \"y\", \"t\", \"h\", \"o\"]\n",
        "```\n",
        "... but you might also get:\n",
        "```\n",
        "[\"p\", \"y\", \"t\", \"n\", \"h\", \"o\"]\n",
        "```\n"
      ]
    },
    {
      "cell_type": "markdown",
      "source": [
        "**One possible solution :**"
      ],
      "metadata": {
        "id": "yYRUXBxx_fsF"
      }
    },
    {
      "cell_type": "code",
      "metadata": {
        "id": "QjLMjogySPk_",
        "colab": {
          "base_uri": "https://localhost:8080/"
        },
        "outputId": "90a70b51-c596-4d1b-c7f3-a76e6f81f367"
      },
      "source": [
        "import random as rd\n",
        "\n",
        "test_list4 = [\"p\", \"y\", \"t\", \"h\", \"o\"]\n",
        "new_string = input(\"Enter a character: \")\n",
        "random_number = rd.randint(0, len(test_list4) - 1)\n",
        "test_list4[random_number] = new_string\n",
        "print(test_list4)"
      ],
      "execution_count": null,
      "outputs": [
        {
          "output_type": "stream",
          "name": "stdout",
          "text": [
            "Enter a character: string\n",
            "['string', 'y', 't', 'h', 'o']\n"
          ]
        }
      ]
    },
    {
      "cell_type": "markdown",
      "metadata": {
        "id": "Ygonr8C4pEgg"
      },
      "source": [
        "# Mission 5\n",
        "\n",
        "Create a list of integers. Then, display a list with the elements ordered from smallest to largest, using the right built-in function.\n",
        "\n",
        "With the list `test_list5 = [3, 4, 0, -1, 35, 7]`, this will display:\n",
        "```\n",
        "[-1, 0, 3, 4, 7, 35]\n",
        "```"
      ]
    },
    {
      "cell_type": "markdown",
      "source": [
        "**One possible solution :**"
      ],
      "metadata": {
        "id": "duCy05om-7w8"
      }
    },
    {
      "cell_type": "code",
      "source": [
        "test_list5 = [3, 4, 0, -1, 35, 7]\n",
        "print(sorted(test_list5))"
      ],
      "metadata": {
        "id": "KYW-riV7K3DA",
        "colab": {
          "base_uri": "https://localhost:8080/"
        },
        "outputId": "7590ce7d-5e1b-4cc3-e61b-bb607cb58463"
      },
      "execution_count": null,
      "outputs": [
        {
          "output_type": "stream",
          "name": "stdout",
          "text": [
            "[-1, 0, 3, 4, 7, 35]\n"
          ]
        }
      ]
    },
    {
      "cell_type": "markdown",
      "metadata": {
        "id": "V8ZS3aECXvuZ"
      },
      "source": [
        "# Mission 6\n",
        "\n",
        "Ask the user for a string, convert it to a list of characters with the `list` function, then ask for a single character.\n",
        "\n",
        "Remove the first occurrence of the character from the list, then display how many occurrences of the character remain in the list.\n",
        "\n",
        "For instance if you enter `\"Excellent work\"` then the letter `\"e\"`, it will display:\n",
        "```\n",
        "There are still 2 copies of e in the list\n",
        "```"
      ]
    },
    {
      "cell_type": "markdown",
      "source": [
        "**One possible solution :**"
      ],
      "metadata": {
        "id": "fkSMI_Al_bf5"
      }
    },
    {
      "cell_type": "code",
      "metadata": {
        "id": "dlRdqxco5r8U",
        "colab": {
          "base_uri": "https://localhost:8080/"
        },
        "outputId": "5c6f7629-5b8a-4ffb-9616-c9cc77c7bd20"
      },
      "source": [
        "try:\n",
        "    string = input(\"Enter a string: \").lower()\n",
        "    list_string = list(string)\n",
        "    character = input(\"Enter a character: \").lower()\n",
        "\n",
        "    if len(character) != 1:\n",
        "        raise ValueError\n",
        "\n",
        "    list_string.pop(list_string.index(character))\n",
        "    n_character = list_string.count(character)\n",
        "\n",
        "    if n_character == 0:\n",
        "        print(f\"There aren't copies of {character} in the list.\")\n",
        "    else:\n",
        "        print(f\"There are still {n_character} copies of {character} in the list.\")\n",
        "\n",
        "except ValueError as error:\n",
        "    print(\"You must enter a character, not a string.\")"
      ],
      "execution_count": null,
      "outputs": [
        {
          "output_type": "stream",
          "name": "stdout",
          "text": [
            "Enter a string: Excellent work\n",
            "Enter a character: e\n",
            "There are still 2 copies of e in the list.\n"
          ]
        }
      ]
    },
    {
      "cell_type": "markdown",
      "metadata": {
        "id": "geMLdrvAYHKx"
      },
      "source": [
        "# Mission 7\n",
        "\n",
        "Define three lists containing no duplicates. Then, indicate (however you like) the two that have the most elements in common (or all three if there's a tie).\n",
        "\n",
        "For instance, with:\n",
        "```\n",
        "list_a = [1, 2, 4, 8, 16, 32]\n",
        "list_b = [1, 2, 3, 5, 8, 13]\n",
        "list_c = [2, 3, 5, 7, 11, 13]\n",
        "```\n",
        "It may display:\n",
        "```\n",
        "Lists B and C have the most common elements!\n",
        "```"
      ]
    },
    {
      "cell_type": "markdown",
      "source": [
        "**One possible solution (lists containing not duplicated elements):**"
      ],
      "metadata": {
        "id": "yZrSz2a__kZL"
      }
    },
    {
      "cell_type": "code",
      "metadata": {
        "id": "1-cenx3RSPpq",
        "colab": {
          "base_uri": "https://localhost:8080/"
        },
        "outputId": "4f7476c8-6d8d-41b1-dc98-3c03ee029d05"
      },
      "source": [
        "list_a = [1, 2, 4, 8, 16, 32]\n",
        "list_b = [1, 2, 3, 5, 8, 13]\n",
        "list_c = [2, 3, 5, 7, 11, 13]\n",
        "\n",
        "string_commons = ['A and B', 'A and C', 'B and C']\n",
        "count_a_b = 0\n",
        "\n",
        "for element in list_a:\n",
        "    count_a_b += list_b.count(element)\n",
        "\n",
        "count_a_c = 0\n",
        "\n",
        "for element in list_a:\n",
        "    count_a_c += list_c.count(element)\n",
        "\n",
        "count_b_c = 0\n",
        "\n",
        "for element in list_b:\n",
        "    count_b_c += list_c.count(element)\n",
        "\n",
        "commons = [count_a_b, count_a_c, count_b_c]\n",
        "\n",
        "max_count = max(commons)\n",
        "\n",
        "if max_count > 0:\n",
        "    if commons.count(max_count) == 1:\n",
        "        print(f\"Lists {string_commons[commons.index(max_count)]} have the most common elements!\")\n",
        "    elif commons.count(max_count) == 2:\n",
        "        print(f\"Lists '{string_commons[commons.index(max_count)]}' and '{string_commons[commons.index(max_count, 2)]}' have the same number of common elements!\")\n",
        "    else:\n",
        "        print(f\"The lists {', '.join([string_commons])} have the same number of common elements!\")\n",
        "\n",
        "else:\n",
        "    print(f\"There aren't list with common elements!\")"
      ],
      "execution_count": 6,
      "outputs": [
        {
          "output_type": "stream",
          "name": "stdout",
          "text": [
            "Lists B and C have the most common elements!\n"
          ]
        }
      ]
    },
    {
      "cell_type": "markdown",
      "source": [
        "**Other solution using sets :**"
      ],
      "metadata": {
        "id": "eXiibERUS23X"
      }
    },
    {
      "cell_type": "code",
      "source": [
        "list_a = [1, 2, 4, 8, 16, 32]\n",
        "list_b = [1, 2, 3, 5, 8, 13]\n",
        "list_c = [2, 3, 5, 7, 11, 13]\n",
        "\n",
        "string_commons = ['A and B', 'A and C', 'B and C']\n",
        "list_intersection_sets = [set(list_a).intersection(list_b), set(list_a).intersection(list_c), set(list_b).intersection(list_c)]\n",
        "list_count_sets = list(map(len, list_intersection_sets))\n",
        "max_count = max(list_count_sets)\n",
        "\n",
        "if max_count > 0:\n",
        "    if commons.count(max_count) == 1:\n",
        "        print(f\"Lists {string_commons[list_count_sets.index(max_count)]} have the most common elements!\")\n",
        "    elif commons.count(max_count) == 2:\n",
        "        print(f\"Lists '{string_commons[list_count_sets.index(max_count)]}' and '{string_commons[list_count_sets.index(max_count, 2)]}' have the same number of common elements!\")\n",
        "    else:\n",
        "        print(f\"The lists {', '.join([string_commons])} have the same number of common elements!\")\n",
        "else:\n",
        "    print(f\"There aren't list with common elements!\")\n",
        "\n"
      ],
      "metadata": {
        "colab": {
          "base_uri": "https://localhost:8080/"
        },
        "id": "WvzS_CjNS8lh",
        "outputId": "0a166d3c-43b1-4fcd-d9f6-5fafcd4d9ee5"
      },
      "execution_count": 10,
      "outputs": [
        {
          "output_type": "stream",
          "name": "stdout",
          "text": [
            "Lists B and C have the most common elements!\n"
          ]
        }
      ]
    }
  ]
}