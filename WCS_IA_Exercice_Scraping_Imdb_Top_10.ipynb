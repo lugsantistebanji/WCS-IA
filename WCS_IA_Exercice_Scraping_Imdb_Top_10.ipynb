{
  "nbformat": 4,
  "nbformat_minor": 0,
  "metadata": {
    "colab": {
      "provenance": [],
      "authorship_tag": "ABX9TyPOLAmeVpIFtwSS4nQ62MvS",
      "include_colab_link": true
    },
    "kernelspec": {
      "name": "python3",
      "display_name": "Python 3"
    },
    "language_info": {
      "name": "python"
    }
  },
  "cells": [
    {
      "cell_type": "markdown",
      "metadata": {
        "id": "view-in-github",
        "colab_type": "text"
      },
      "source": [
        "<a href=\"https://colab.research.google.com/github/lugsantistebanji/WCS-IA/blob/main/WCS_IA_Exercice_Scraping_Imdb_Top_10.ipynb\" target=\"_parent\"><img src=\"https://colab.research.google.com/assets/colab-badge.svg\" alt=\"Open In Colab\"/></a>"
      ]
    },
    {
      "cell_type": "markdown",
      "source": [
        "# __Mission : Scraper le TOP 10 des Films du Box-Office en Temps Réel !__\n",
        "\n",
        "## __Objectif :__\n",
        "\n",
        "Tu vas scraper en temps réel les 10 films les plus populaires actuellement au\n",
        "box-office mondial et générer une page web interactive affichant les affiches, titres et scores des films !\n",
        "\n",
        "## __Contexte__\n",
        "\n",
        "Tu es un analyste de cinéma passionné, et tu veux connaître les films les plus regardés en ce moment.\n",
        "\n",
        "Plutôt que de chercher manuellement, automatise le processus en scrappant un site de cinéma et affiche le classement des 10 films les plus vus avec leurs affiches et notes.\n",
        "\n",
        "Site cible : IMDb\n",
        "\n",
        "Nous allons scraper les 10 films en tête du Box Office sur IMDb via ce lien :\n",
        "https://www.imdb.com/chart/boxoffice/\n",
        "\n",
        "\n",
        "## __Outils à utiliser :__\n",
        "\n",
        "- requests pour récupérer la page\n",
        "- BeautifulSoup pour extraire les films\n",
        "- pandas pour structurer les données\n",
        "- matplotlib pour une visualisation graphique\n",
        "- HTML & CSS pour une page web stylée\n"
      ],
      "metadata": {
        "id": "W7v9kaOjIdd_"
      }
    },
    {
      "cell_type": "markdown",
      "source": [
        "## __Étapes du Challenge :__"
      ],
      "metadata": {
        "id": "EOijJkhYKfRh"
      }
    },
    {
      "cell_type": "code",
      "source": [
        "!pip install -q streamlit"
      ],
      "metadata": {
        "id": "w3-97OfXLWCp"
      },
      "execution_count": null,
      "outputs": []
    },
    {
      "cell_type": "code",
      "source": [
        "!npm install localtunnel"
      ],
      "metadata": {
        "colab": {
          "base_uri": "https://localhost:8080/"
        },
        "id": "So38ujRnM2ky",
        "outputId": "2ac9954f-ae71-4fb8-8b02-7b10c5ef1757"
      },
      "execution_count": 3,
      "outputs": [
        {
          "output_type": "stream",
          "name": "stdout",
          "text": [
            "\u001b[1G\u001b[0K⠙\u001b[1G\u001b[0K⠹\u001b[1G\u001b[0K⠸\u001b[1G\u001b[0K⠼\u001b[1G\u001b[0K⠴\u001b[1G\u001b[0K⠦\u001b[1G\u001b[0K⠧\u001b[1G\u001b[0K⠇\u001b[1G\u001b[0K⠏\u001b[1G\u001b[0K⠋\u001b[1G\u001b[0K⠙\u001b[1G\u001b[0K⠹\u001b[1G\u001b[0K⠸\u001b[1G\u001b[0K⠼\u001b[1G\u001b[0K⠴\u001b[1G\u001b[0K⠦\u001b[1G\u001b[0K⠧\u001b[1G\u001b[0K⠇\u001b[1G\u001b[0K⠏\u001b[1G\u001b[0K⠋\u001b[1G\u001b[0K⠙\u001b[1G\u001b[0K⠹\u001b[1G\u001b[0K⠸\u001b[1G\u001b[0K⠼\u001b[1G\u001b[0K\n",
            "added 22 packages in 3s\n",
            "\u001b[1G\u001b[0K⠼\u001b[1G\u001b[0K\n",
            "\u001b[1G\u001b[0K⠼\u001b[1G\u001b[0K3 packages are looking for funding\n",
            "\u001b[1G\u001b[0K⠼\u001b[1G\u001b[0K  run `npm fund` for details\n",
            "\u001b[1G\u001b[0K⠼\u001b[1G\u001b[0K"
          ]
        }
      ]
    },
    {
      "cell_type": "code",
      "source": [
        "from bs4 import BeautifulSoup\n",
        "import pandas as pd\n",
        "import requests\n",
        "import re"
      ],
      "metadata": {
        "id": "1toqzOe7K4RK"
      },
      "execution_count": 16,
      "outputs": []
    },
    {
      "cell_type": "markdown",
      "source": [
        "___"
      ],
      "metadata": {
        "id": "T6MWSCiUKtrf"
      }
    },
    {
      "cell_type": "markdown",
      "source": [
        "### __1. Scraper les films du Top 10__\n",
        "\n",
        "- Utilise requests pour récupérer la page IMDb\n",
        "- Utilise BeautifulSoup pour extraire les titres, scores, revenus au box-office et affiches des films"
      ],
      "metadata": {
        "id": "-6S-lTc7KiLa"
      }
    },
    {
      "cell_type": "code",
      "source": [
        "url_base = \"https://www.imdb.com/chart/boxoffice/\"\n",
        "headers = {\n",
        "    'user-agent' : 'Mozilla/5.0 (X11; Linux x86_64; rv:128.0) Gecko/20100101 Firefox/128.0'\n",
        "}"
      ],
      "metadata": {
        "id": "CKI_d-5nPJj_"
      },
      "execution_count": 12,
      "outputs": []
    },
    {
      "cell_type": "code",
      "source": [
        "#%%writefile scraping.py\n",
        "\n",
        "from bs4 import BeautifulSoup\n",
        "import re\n",
        "import requests\n",
        "import pandas as pd\n",
        "\n",
        "headers = headers = {\n",
        "    'user-agent' : 'Mozilla/5.0 (X11; Linux x86_64; rv:128.0) Gecko/20100101 Firefox/128.0'\n",
        "}\n",
        "\n",
        "def get_info_movie(movie_soup: BeautifulSoup) -> dict:\n",
        "    movie = {}\n",
        "    title = ''\n",
        "    score = 0\n",
        "    revenue = 0\n",
        "    link_image = ''\n",
        "\n",
        "    try:\n",
        "        title = re.sub(r'^\\d+\\.\\s',\"\", movie_soup.find('h3').text)\n",
        "\n",
        "        score = float(movie_soup.find('span', attrs={'aria-label':re.compile(r'IMDb rating')}).get('aria-label').split(\":\")[-1].strip())\n",
        "\n",
        "        revenue = int(movie_soup.find('ul').find('li').next_sibling.text.split(\":\")[-1].strip(\"$M \"))\n",
        "\n",
        "        link_image = movie_soup.find('img').get('src')\n",
        "\n",
        "        movie = {\n",
        "            'title' : title,\n",
        "            'score' : score,\n",
        "            'revenue' : revenue,\n",
        "            'link_image' : link_image\n",
        "        }\n",
        "    except Exception as e:\n",
        "        print(\"Error info movie\")\n",
        "        print(e)\n",
        "\n",
        "    return movie\n",
        "\n",
        "def get_movies(url: str, headers=headers) -> list:\n",
        "    movies = []\n",
        "\n",
        "    response = requests.get(url, headers=headers)\n",
        "\n",
        "    if response.status_code == 200:\n",
        "        soup = BeautifulSoup(response.text, 'html.parser')\n",
        "        movies_container = soup.find('div', attrs={'data-testid': 'chart-layout-main-column'})\n",
        "        if movies_container is not None:\n",
        "            movies_container = movies_container.find('ul')\n",
        "            movies_list = movies_container.find_all('li', class_=\"ipc-metadata-list-summary-item\")\n",
        "            for movie in movies_list:\n",
        "                movies.append(get_info_movie(movie))\n",
        "        else:\n",
        "            print(\"Error in scraping the main container\")\n",
        "    else:\n",
        "        print(f\"Error in the website: {response.status_code}\")\n",
        "    return movies\n",
        "\n",
        "def create_csv_file(url: str, headers: dict,  file_name: str):\n",
        "    pd.DataFrame(get_movies(url, headers)).to_csv(file_name)\n",
        "    print(\"CSV File Created\")"
      ],
      "metadata": {
        "id": "I2-sgIAdROCE"
      },
      "execution_count": 174,
      "outputs": []
    },
    {
      "cell_type": "code",
      "source": [
        "movies = get_movies(url_base)"
      ],
      "metadata": {
        "id": "hD0BqWClYv4y"
      },
      "execution_count": 175,
      "outputs": []
    },
    {
      "cell_type": "markdown",
      "source": [
        "___"
      ],
      "metadata": {
        "id": "qFcfDY6EKzh3"
      }
    },
    {
      "cell_type": "markdown",
      "source": [
        "### __2. Afficher les données sous forme de tableau__\n",
        "\n",
        "- Stocke les données dans un DataFrame Pandas\n",
        "- Trie les films par revenus générés et affiche-les"
      ],
      "metadata": {
        "id": "M9ouatyVKkb5"
      }
    },
    {
      "cell_type": "code",
      "source": [
        "movies_df = pd.DataFrame(movies)"
      ],
      "metadata": {
        "id": "HDlsr2ppb6AO"
      },
      "execution_count": 176,
      "outputs": []
    },
    {
      "cell_type": "code",
      "source": [
        "movies_df"
      ],
      "metadata": {
        "colab": {
          "base_uri": "https://localhost:8080/",
          "height": 363
        },
        "id": "HtL6NqzNcBpO",
        "outputId": "09abbb79-b425-4ff5-bace-50ebeca58c20"
      },
      "execution_count": 178,
      "outputs": [
        {
          "output_type": "execute_result",
          "data": {
            "text/plain": [
              "                       title  score  revenue  \\\n",
              "0                    Dog Man    6.5       37   \n",
              "1                  Companion    7.4       10   \n",
              "2      Mufasa: The Lion King    6.7      230   \n",
              "3           One of Them Days    7.1       35   \n",
              "4                Flight Risk    5.5       21   \n",
              "5       Sonic the Hedgehog 3    7.0      231   \n",
              "6                    Moana 2    6.9      454   \n",
              "7         A Complete Unknown    7.7       67   \n",
              "8              The Brutalist    8.0       12   \n",
              "9  Den of Thieves 2: Pantera    6.4       35   \n",
              "\n",
              "                                          link_image  \n",
              "0  https://m.media-amazon.com/images/M/MV5BNDVlZG...  \n",
              "1  https://m.media-amazon.com/images/M/MV5BYjkyZT...  \n",
              "2  https://m.media-amazon.com/images/M/MV5BYjBkOW...  \n",
              "3  https://m.media-amazon.com/images/M/MV5BNjI3OG...  \n",
              "4  https://m.media-amazon.com/images/M/MV5BY2Q3Yj...  \n",
              "5  https://m.media-amazon.com/images/M/MV5BMjZjNj...  \n",
              "6  https://m.media-amazon.com/images/M/MV5BZDUxNT...  \n",
              "7  https://m.media-amazon.com/images/M/MV5BYTA2NT...  \n",
              "8  https://m.media-amazon.com/images/M/MV5BM2U0MW...  \n",
              "9  https://m.media-amazon.com/images/M/MV5BZGIyYT...  "
            ],
            "text/html": [
              "\n",
              "  <div id=\"df-aebdb7a8-84da-4ddd-ac22-d145b7eeb84b\" class=\"colab-df-container\">\n",
              "    <div>\n",
              "<style scoped>\n",
              "    .dataframe tbody tr th:only-of-type {\n",
              "        vertical-align: middle;\n",
              "    }\n",
              "\n",
              "    .dataframe tbody tr th {\n",
              "        vertical-align: top;\n",
              "    }\n",
              "\n",
              "    .dataframe thead th {\n",
              "        text-align: right;\n",
              "    }\n",
              "</style>\n",
              "<table border=\"1\" class=\"dataframe\">\n",
              "  <thead>\n",
              "    <tr style=\"text-align: right;\">\n",
              "      <th></th>\n",
              "      <th>title</th>\n",
              "      <th>score</th>\n",
              "      <th>revenue</th>\n",
              "      <th>link_image</th>\n",
              "    </tr>\n",
              "  </thead>\n",
              "  <tbody>\n",
              "    <tr>\n",
              "      <th>0</th>\n",
              "      <td>Dog Man</td>\n",
              "      <td>6.5</td>\n",
              "      <td>37</td>\n",
              "      <td>https://m.media-amazon.com/images/M/MV5BNDVlZG...</td>\n",
              "    </tr>\n",
              "    <tr>\n",
              "      <th>1</th>\n",
              "      <td>Companion</td>\n",
              "      <td>7.4</td>\n",
              "      <td>10</td>\n",
              "      <td>https://m.media-amazon.com/images/M/MV5BYjkyZT...</td>\n",
              "    </tr>\n",
              "    <tr>\n",
              "      <th>2</th>\n",
              "      <td>Mufasa: The Lion King</td>\n",
              "      <td>6.7</td>\n",
              "      <td>230</td>\n",
              "      <td>https://m.media-amazon.com/images/M/MV5BYjBkOW...</td>\n",
              "    </tr>\n",
              "    <tr>\n",
              "      <th>3</th>\n",
              "      <td>One of Them Days</td>\n",
              "      <td>7.1</td>\n",
              "      <td>35</td>\n",
              "      <td>https://m.media-amazon.com/images/M/MV5BNjI3OG...</td>\n",
              "    </tr>\n",
              "    <tr>\n",
              "      <th>4</th>\n",
              "      <td>Flight Risk</td>\n",
              "      <td>5.5</td>\n",
              "      <td>21</td>\n",
              "      <td>https://m.media-amazon.com/images/M/MV5BY2Q3Yj...</td>\n",
              "    </tr>\n",
              "    <tr>\n",
              "      <th>5</th>\n",
              "      <td>Sonic the Hedgehog 3</td>\n",
              "      <td>7.0</td>\n",
              "      <td>231</td>\n",
              "      <td>https://m.media-amazon.com/images/M/MV5BMjZjNj...</td>\n",
              "    </tr>\n",
              "    <tr>\n",
              "      <th>6</th>\n",
              "      <td>Moana 2</td>\n",
              "      <td>6.9</td>\n",
              "      <td>454</td>\n",
              "      <td>https://m.media-amazon.com/images/M/MV5BZDUxNT...</td>\n",
              "    </tr>\n",
              "    <tr>\n",
              "      <th>7</th>\n",
              "      <td>A Complete Unknown</td>\n",
              "      <td>7.7</td>\n",
              "      <td>67</td>\n",
              "      <td>https://m.media-amazon.com/images/M/MV5BYTA2NT...</td>\n",
              "    </tr>\n",
              "    <tr>\n",
              "      <th>8</th>\n",
              "      <td>The Brutalist</td>\n",
              "      <td>8.0</td>\n",
              "      <td>12</td>\n",
              "      <td>https://m.media-amazon.com/images/M/MV5BM2U0MW...</td>\n",
              "    </tr>\n",
              "    <tr>\n",
              "      <th>9</th>\n",
              "      <td>Den of Thieves 2: Pantera</td>\n",
              "      <td>6.4</td>\n",
              "      <td>35</td>\n",
              "      <td>https://m.media-amazon.com/images/M/MV5BZGIyYT...</td>\n",
              "    </tr>\n",
              "  </tbody>\n",
              "</table>\n",
              "</div>\n",
              "    <div class=\"colab-df-buttons\">\n",
              "\n",
              "  <div class=\"colab-df-container\">\n",
              "    <button class=\"colab-df-convert\" onclick=\"convertToInteractive('df-aebdb7a8-84da-4ddd-ac22-d145b7eeb84b')\"\n",
              "            title=\"Convert this dataframe to an interactive table.\"\n",
              "            style=\"display:none;\">\n",
              "\n",
              "  <svg xmlns=\"http://www.w3.org/2000/svg\" height=\"24px\" viewBox=\"0 -960 960 960\">\n",
              "    <path d=\"M120-120v-720h720v720H120Zm60-500h600v-160H180v160Zm220 220h160v-160H400v160Zm0 220h160v-160H400v160ZM180-400h160v-160H180v160Zm440 0h160v-160H620v160ZM180-180h160v-160H180v160Zm440 0h160v-160H620v160Z\"/>\n",
              "  </svg>\n",
              "    </button>\n",
              "\n",
              "  <style>\n",
              "    .colab-df-container {\n",
              "      display:flex;\n",
              "      gap: 12px;\n",
              "    }\n",
              "\n",
              "    .colab-df-convert {\n",
              "      background-color: #E8F0FE;\n",
              "      border: none;\n",
              "      border-radius: 50%;\n",
              "      cursor: pointer;\n",
              "      display: none;\n",
              "      fill: #1967D2;\n",
              "      height: 32px;\n",
              "      padding: 0 0 0 0;\n",
              "      width: 32px;\n",
              "    }\n",
              "\n",
              "    .colab-df-convert:hover {\n",
              "      background-color: #E2EBFA;\n",
              "      box-shadow: 0px 1px 2px rgba(60, 64, 67, 0.3), 0px 1px 3px 1px rgba(60, 64, 67, 0.15);\n",
              "      fill: #174EA6;\n",
              "    }\n",
              "\n",
              "    .colab-df-buttons div {\n",
              "      margin-bottom: 4px;\n",
              "    }\n",
              "\n",
              "    [theme=dark] .colab-df-convert {\n",
              "      background-color: #3B4455;\n",
              "      fill: #D2E3FC;\n",
              "    }\n",
              "\n",
              "    [theme=dark] .colab-df-convert:hover {\n",
              "      background-color: #434B5C;\n",
              "      box-shadow: 0px 1px 3px 1px rgba(0, 0, 0, 0.15);\n",
              "      filter: drop-shadow(0px 1px 2px rgba(0, 0, 0, 0.3));\n",
              "      fill: #FFFFFF;\n",
              "    }\n",
              "  </style>\n",
              "\n",
              "    <script>\n",
              "      const buttonEl =\n",
              "        document.querySelector('#df-aebdb7a8-84da-4ddd-ac22-d145b7eeb84b button.colab-df-convert');\n",
              "      buttonEl.style.display =\n",
              "        google.colab.kernel.accessAllowed ? 'block' : 'none';\n",
              "\n",
              "      async function convertToInteractive(key) {\n",
              "        const element = document.querySelector('#df-aebdb7a8-84da-4ddd-ac22-d145b7eeb84b');\n",
              "        const dataTable =\n",
              "          await google.colab.kernel.invokeFunction('convertToInteractive',\n",
              "                                                    [key], {});\n",
              "        if (!dataTable) return;\n",
              "\n",
              "        const docLinkHtml = 'Like what you see? Visit the ' +\n",
              "          '<a target=\"_blank\" href=https://colab.research.google.com/notebooks/data_table.ipynb>data table notebook</a>'\n",
              "          + ' to learn more about interactive tables.';\n",
              "        element.innerHTML = '';\n",
              "        dataTable['output_type'] = 'display_data';\n",
              "        await google.colab.output.renderOutput(dataTable, element);\n",
              "        const docLink = document.createElement('div');\n",
              "        docLink.innerHTML = docLinkHtml;\n",
              "        element.appendChild(docLink);\n",
              "      }\n",
              "    </script>\n",
              "  </div>\n",
              "\n",
              "\n",
              "<div id=\"df-b9919ac1-0e8d-4435-88e6-d7ff715d8437\">\n",
              "  <button class=\"colab-df-quickchart\" onclick=\"quickchart('df-b9919ac1-0e8d-4435-88e6-d7ff715d8437')\"\n",
              "            title=\"Suggest charts\"\n",
              "            style=\"display:none;\">\n",
              "\n",
              "<svg xmlns=\"http://www.w3.org/2000/svg\" height=\"24px\"viewBox=\"0 0 24 24\"\n",
              "     width=\"24px\">\n",
              "    <g>\n",
              "        <path d=\"M19 3H5c-1.1 0-2 .9-2 2v14c0 1.1.9 2 2 2h14c1.1 0 2-.9 2-2V5c0-1.1-.9-2-2-2zM9 17H7v-7h2v7zm4 0h-2V7h2v10zm4 0h-2v-4h2v4z\"/>\n",
              "    </g>\n",
              "</svg>\n",
              "  </button>\n",
              "\n",
              "<style>\n",
              "  .colab-df-quickchart {\n",
              "      --bg-color: #E8F0FE;\n",
              "      --fill-color: #1967D2;\n",
              "      --hover-bg-color: #E2EBFA;\n",
              "      --hover-fill-color: #174EA6;\n",
              "      --disabled-fill-color: #AAA;\n",
              "      --disabled-bg-color: #DDD;\n",
              "  }\n",
              "\n",
              "  [theme=dark] .colab-df-quickchart {\n",
              "      --bg-color: #3B4455;\n",
              "      --fill-color: #D2E3FC;\n",
              "      --hover-bg-color: #434B5C;\n",
              "      --hover-fill-color: #FFFFFF;\n",
              "      --disabled-bg-color: #3B4455;\n",
              "      --disabled-fill-color: #666;\n",
              "  }\n",
              "\n",
              "  .colab-df-quickchart {\n",
              "    background-color: var(--bg-color);\n",
              "    border: none;\n",
              "    border-radius: 50%;\n",
              "    cursor: pointer;\n",
              "    display: none;\n",
              "    fill: var(--fill-color);\n",
              "    height: 32px;\n",
              "    padding: 0;\n",
              "    width: 32px;\n",
              "  }\n",
              "\n",
              "  .colab-df-quickchart:hover {\n",
              "    background-color: var(--hover-bg-color);\n",
              "    box-shadow: 0 1px 2px rgba(60, 64, 67, 0.3), 0 1px 3px 1px rgba(60, 64, 67, 0.15);\n",
              "    fill: var(--button-hover-fill-color);\n",
              "  }\n",
              "\n",
              "  .colab-df-quickchart-complete:disabled,\n",
              "  .colab-df-quickchart-complete:disabled:hover {\n",
              "    background-color: var(--disabled-bg-color);\n",
              "    fill: var(--disabled-fill-color);\n",
              "    box-shadow: none;\n",
              "  }\n",
              "\n",
              "  .colab-df-spinner {\n",
              "    border: 2px solid var(--fill-color);\n",
              "    border-color: transparent;\n",
              "    border-bottom-color: var(--fill-color);\n",
              "    animation:\n",
              "      spin 1s steps(1) infinite;\n",
              "  }\n",
              "\n",
              "  @keyframes spin {\n",
              "    0% {\n",
              "      border-color: transparent;\n",
              "      border-bottom-color: var(--fill-color);\n",
              "      border-left-color: var(--fill-color);\n",
              "    }\n",
              "    20% {\n",
              "      border-color: transparent;\n",
              "      border-left-color: var(--fill-color);\n",
              "      border-top-color: var(--fill-color);\n",
              "    }\n",
              "    30% {\n",
              "      border-color: transparent;\n",
              "      border-left-color: var(--fill-color);\n",
              "      border-top-color: var(--fill-color);\n",
              "      border-right-color: var(--fill-color);\n",
              "    }\n",
              "    40% {\n",
              "      border-color: transparent;\n",
              "      border-right-color: var(--fill-color);\n",
              "      border-top-color: var(--fill-color);\n",
              "    }\n",
              "    60% {\n",
              "      border-color: transparent;\n",
              "      border-right-color: var(--fill-color);\n",
              "    }\n",
              "    80% {\n",
              "      border-color: transparent;\n",
              "      border-right-color: var(--fill-color);\n",
              "      border-bottom-color: var(--fill-color);\n",
              "    }\n",
              "    90% {\n",
              "      border-color: transparent;\n",
              "      border-bottom-color: var(--fill-color);\n",
              "    }\n",
              "  }\n",
              "</style>\n",
              "\n",
              "  <script>\n",
              "    async function quickchart(key) {\n",
              "      const quickchartButtonEl =\n",
              "        document.querySelector('#' + key + ' button');\n",
              "      quickchartButtonEl.disabled = true;  // To prevent multiple clicks.\n",
              "      quickchartButtonEl.classList.add('colab-df-spinner');\n",
              "      try {\n",
              "        const charts = await google.colab.kernel.invokeFunction(\n",
              "            'suggestCharts', [key], {});\n",
              "      } catch (error) {\n",
              "        console.error('Error during call to suggestCharts:', error);\n",
              "      }\n",
              "      quickchartButtonEl.classList.remove('colab-df-spinner');\n",
              "      quickchartButtonEl.classList.add('colab-df-quickchart-complete');\n",
              "    }\n",
              "    (() => {\n",
              "      let quickchartButtonEl =\n",
              "        document.querySelector('#df-b9919ac1-0e8d-4435-88e6-d7ff715d8437 button');\n",
              "      quickchartButtonEl.style.display =\n",
              "        google.colab.kernel.accessAllowed ? 'block' : 'none';\n",
              "    })();\n",
              "  </script>\n",
              "</div>\n",
              "\n",
              "  <div id=\"id_c2d476c1-ec1f-4507-b762-12b4862ce78d\">\n",
              "    <style>\n",
              "      .colab-df-generate {\n",
              "        background-color: #E8F0FE;\n",
              "        border: none;\n",
              "        border-radius: 50%;\n",
              "        cursor: pointer;\n",
              "        display: none;\n",
              "        fill: #1967D2;\n",
              "        height: 32px;\n",
              "        padding: 0 0 0 0;\n",
              "        width: 32px;\n",
              "      }\n",
              "\n",
              "      .colab-df-generate:hover {\n",
              "        background-color: #E2EBFA;\n",
              "        box-shadow: 0px 1px 2px rgba(60, 64, 67, 0.3), 0px 1px 3px 1px rgba(60, 64, 67, 0.15);\n",
              "        fill: #174EA6;\n",
              "      }\n",
              "\n",
              "      [theme=dark] .colab-df-generate {\n",
              "        background-color: #3B4455;\n",
              "        fill: #D2E3FC;\n",
              "      }\n",
              "\n",
              "      [theme=dark] .colab-df-generate:hover {\n",
              "        background-color: #434B5C;\n",
              "        box-shadow: 0px 1px 3px 1px rgba(0, 0, 0, 0.15);\n",
              "        filter: drop-shadow(0px 1px 2px rgba(0, 0, 0, 0.3));\n",
              "        fill: #FFFFFF;\n",
              "      }\n",
              "    </style>\n",
              "    <button class=\"colab-df-generate\" onclick=\"generateWithVariable('movies_df')\"\n",
              "            title=\"Generate code using this dataframe.\"\n",
              "            style=\"display:none;\">\n",
              "\n",
              "  <svg xmlns=\"http://www.w3.org/2000/svg\" height=\"24px\"viewBox=\"0 0 24 24\"\n",
              "       width=\"24px\">\n",
              "    <path d=\"M7,19H8.4L18.45,9,17,7.55,7,17.6ZM5,21V16.75L18.45,3.32a2,2,0,0,1,2.83,0l1.4,1.43a1.91,1.91,0,0,1,.58,1.4,1.91,1.91,0,0,1-.58,1.4L9.25,21ZM18.45,9,17,7.55Zm-12,3A5.31,5.31,0,0,0,4.9,8.1,5.31,5.31,0,0,0,1,6.5,5.31,5.31,0,0,0,4.9,4.9,5.31,5.31,0,0,0,6.5,1,5.31,5.31,0,0,0,8.1,4.9,5.31,5.31,0,0,0,12,6.5,5.46,5.46,0,0,0,6.5,12Z\"/>\n",
              "  </svg>\n",
              "    </button>\n",
              "    <script>\n",
              "      (() => {\n",
              "      const buttonEl =\n",
              "        document.querySelector('#id_c2d476c1-ec1f-4507-b762-12b4862ce78d button.colab-df-generate');\n",
              "      buttonEl.style.display =\n",
              "        google.colab.kernel.accessAllowed ? 'block' : 'none';\n",
              "\n",
              "      buttonEl.onclick = () => {\n",
              "        google.colab.notebook.generateWithVariable('movies_df');\n",
              "      }\n",
              "      })();\n",
              "    </script>\n",
              "  </div>\n",
              "\n",
              "    </div>\n",
              "  </div>\n"
            ],
            "application/vnd.google.colaboratory.intrinsic+json": {
              "type": "dataframe",
              "variable_name": "movies_df",
              "summary": "{\n  \"name\": \"movies_df\",\n  \"rows\": 10,\n  \"fields\": [\n    {\n      \"column\": \"title\",\n      \"properties\": {\n        \"dtype\": \"string\",\n        \"num_unique_values\": 10,\n        \"samples\": [\n          \"The Brutalist\",\n          \"Companion\",\n          \"Sonic the Hedgehog 3\"\n        ],\n        \"semantic_type\": \"\",\n        \"description\": \"\"\n      }\n    },\n    {\n      \"column\": \"score\",\n      \"properties\": {\n        \"dtype\": \"number\",\n        \"std\": 0.7114929530376406,\n        \"min\": 5.5,\n        \"max\": 8.0,\n        \"num_unique_values\": 10,\n        \"samples\": [\n          8.0,\n          7.4,\n          7.0\n        ],\n        \"semantic_type\": \"\",\n        \"description\": \"\"\n      }\n    },\n    {\n      \"column\": \"revenue\",\n      \"properties\": {\n        \"dtype\": \"number\",\n        \"std\": 146,\n        \"min\": 10,\n        \"max\": 454,\n        \"num_unique_values\": 9,\n        \"samples\": [\n          67,\n          10,\n          231\n        ],\n        \"semantic_type\": \"\",\n        \"description\": \"\"\n      }\n    },\n    {\n      \"column\": \"link_image\",\n      \"properties\": {\n        \"dtype\": \"string\",\n        \"num_unique_values\": 10,\n        \"samples\": [\n          \"https://m.media-amazon.com/images/M/MV5BM2U0MWRjZTMtMDVhNC00MzY4LTgwOTktZGQ2MDdiYTI4OWMxXkEyXkFqcGc@._V1_QL75_UX140_CR0,6,140,207_.jpg\",\n          \"https://m.media-amazon.com/images/M/MV5BYjkyZTA5NzAtYWU3Zi00MWM4LTgxNzAtNDQxY2JmNjMwYjk4XkEyXkFqcGc@._V1_QL75_UX140_CR0,0,140,207_.jpg\",\n          \"https://m.media-amazon.com/images/M/MV5BMjZjNjE5NDEtOWJjYS00Mjk2LWI1ZDYtOWI1ZWI3MzRjM2UzXkEyXkFqcGc@._V1_QL75_UX140_CR0,3,140,207_.jpg\"\n        ],\n        \"semantic_type\": \"\",\n        \"description\": \"\"\n      }\n    }\n  ]\n}"
            }
          },
          "metadata": {},
          "execution_count": 178
        }
      ]
    },
    {
      "cell_type": "code",
      "source": [
        "movies_df.to_csv('movies.csv')"
      ],
      "metadata": {
        "id": "kPsqVY6HfwxL"
      },
      "execution_count": 121,
      "outputs": []
    },
    {
      "cell_type": "markdown",
      "source": [
        "___"
      ],
      "metadata": {
        "id": "pvzTpHncK0PF"
      }
    },
    {
      "cell_type": "markdown",
      "source": [
        "### __3. Générer une page HTML dynamique__\n",
        "\n",
        "- Crée une page web affichant les affiches, titres et scores des films"
      ],
      "metadata": {
        "id": "eIHLbTVlKmgm"
      }
    },
    {
      "cell_type": "code",
      "source": [
        "%%writefile app.py\n",
        "\n",
        "import streamlit as st\n",
        "import pandas as pd\n",
        "import time\n",
        "from  datetime import datetime\n",
        "\n",
        "\n",
        "csv_filename = \"./movies.csv\"\n",
        "movies_df = pd.read_csv(csv_filename)\n",
        "\n",
        "st.title(\"IMDb Top Box Office (US) \")\n",
        "\n",
        "for index, movie in movies_df.iterrows():\n",
        "    col1, mid, col2 = st.columns([6,1, 20])\n",
        "    with col1:\n",
        "        st.image(movie['link_image'])\n",
        "    with col2:\n",
        "        st.write(f\"**{int(index)+1}. {movie['title'].upper()}**\")\n",
        "        st.write(f\":star: **{movie['score']}**\")\n",
        "        st.write(f\":dollar: **{movie['revenue']}**\")"
      ],
      "metadata": {
        "colab": {
          "base_uri": "https://localhost:8080/"
        },
        "id": "p1H5_fIeNGPS",
        "outputId": "3a72fd9c-5aad-49c5-80bc-a0cf8a562aa7"
      },
      "execution_count": 180,
      "outputs": [
        {
          "output_type": "stream",
          "name": "stdout",
          "text": [
            "Overwriting app.py\n"
          ]
        }
      ]
    },
    {
      "cell_type": "code",
      "source": [
        "!streamlit run app.py &>/content/logs.txt & npx localtunnel --port 8501 & curl ipv4.icanhazip.com"
      ],
      "metadata": {
        "colab": {
          "base_uri": "https://localhost:8080/"
        },
        "id": "jZunBNVgNRb-",
        "outputId": "9053ddab-0b86-473a-9ed8-e14d56da2d6a"
      },
      "execution_count": 146,
      "outputs": [
        {
          "output_type": "stream",
          "name": "stdout",
          "text": [
            "34.44.121.124\n",
            "\u001b[1G\u001b[0K⠙\u001b[1G\u001b[0Kyour url is: https://breezy-tigers-train.loca.lt\n"
          ]
        }
      ]
    },
    {
      "cell_type": "markdown",
      "source": [
        "___"
      ],
      "metadata": {
        "id": "DXrpYwVcK0rC"
      }
    },
    {
      "cell_type": "markdown",
      "source": [
        "### __4. Automatiser la mise à jour (Bonus)__\n",
        "\n",
        "- Ajoute un script d’actualisation qui met à jour les films toutes les 24h"
      ],
      "metadata": {
        "id": "YGI-U5qAKoyp"
      }
    },
    {
      "cell_type": "code",
      "source": [
        "!pip install python-crontab"
      ],
      "metadata": {
        "colab": {
          "base_uri": "https://localhost:8080/"
        },
        "id": "RW5mZT0hLkVS",
        "outputId": "df2fffc2-d214-4aa6-a49d-1327e5614eed"
      },
      "execution_count": 181,
      "outputs": [
        {
          "output_type": "stream",
          "name": "stdout",
          "text": [
            "Collecting python-crontab\n",
            "  Downloading python_crontab-3.2.0-py3-none-any.whl.metadata (17 kB)\n",
            "Requirement already satisfied: python-dateutil in /usr/local/lib/python3.11/dist-packages (from python-crontab) (2.8.2)\n",
            "Requirement already satisfied: six>=1.5 in /usr/local/lib/python3.11/dist-packages (from python-dateutil->python-crontab) (1.17.0)\n",
            "Downloading python_crontab-3.2.0-py3-none-any.whl (27 kB)\n",
            "Installing collected packages: python-crontab\n",
            "Successfully installed python-crontab-3.2.0\n"
          ]
        }
      ]
    },
    {
      "cell_type": "code",
      "source": [
        "%%writefile script_update.py\n",
        "from scraping import create_csv_file\n",
        "\n",
        "\n",
        "url_base = \"https://www.imdb.com/chart/boxoffice/\"\n",
        "headers = {\n",
        "    'user-agent' : 'Mozilla/5.0 (X11; Linux x86_64; rv:128.0) Gecko/20100101 Firefox/128.0'\n",
        "}\n",
        "csv_filename = \"./movies.csv\"\n",
        "create_csv_file(url_base, headers, csv_filename)"
      ],
      "metadata": {
        "colab": {
          "base_uri": "https://localhost:8080/"
        },
        "id": "fCeM_SjQJeCC",
        "outputId": "a80a7d4c-49b8-4612-d791-2a70bc5e530a"
      },
      "execution_count": 182,
      "outputs": [
        {
          "output_type": "stream",
          "name": "stdout",
          "text": [
            "Writing script_update.py\n"
          ]
        }
      ]
    },
    {
      "cell_type": "code",
      "source": [
        "from crontab import CronTab\n",
        "\n",
        "cron = CronTab()\n",
        "job = cron.new(command='python script_update.py')\n",
        "job.hour.every(24)\n",
        "cron.write()"
      ],
      "metadata": {
        "id": "vNcAvgLjLsut"
      },
      "execution_count": null,
      "outputs": []
    },
    {
      "cell_type": "markdown",
      "source": [
        "___"
      ],
      "metadata": {
        "id": "wuy9njwUK1HX"
      }
    }
  ]
}