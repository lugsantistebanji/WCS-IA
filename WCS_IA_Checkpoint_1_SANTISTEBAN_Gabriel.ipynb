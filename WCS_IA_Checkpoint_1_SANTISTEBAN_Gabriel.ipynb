{
  "nbformat": 4,
  "nbformat_minor": 0,
  "metadata": {
    "colab": {
      "provenance": [],
      "include_colab_link": true
    },
    "kernelspec": {
      "name": "python3",
      "display_name": "Python 3"
    }
  },
  "cells": [
    {
      "cell_type": "markdown",
      "metadata": {
        "id": "view-in-github",
        "colab_type": "text"
      },
      "source": [
        "<a href=\"https://colab.research.google.com/github/lugsantistebanji/WCS-IA/blob/main/WCS_IA_Checkpoint_1_SANTISTEBAN_Gabriel.ipynb\" target=\"_parent\"><img src=\"https://colab.research.google.com/assets/colab-badge.svg\" alt=\"Open In Colab\"/></a>"
      ]
    },
    {
      "cell_type": "markdown",
      "metadata": {
        "id": "TYrzh-8uK9ib"
      },
      "source": [
        "C'est ton premier checkpoint.\n",
        "Les 5 exercices sont indépendants. Tu peux donc les effectuer dans l'ordre que tu préfères.\n",
        "\n",
        "Essaye de finir ce checkpoint en 3h30. Si tu n'as pas tout fini, ce n'est pas grave. Tu pourras le reprendre plus tard, tu indiqueras simplement en commentaire ce que tu as fait a posteriori.\n",
        "Nous t'avons indiqué des durées estimatives. Evidemment chacun a ses forces et ses faiblesses, avance donc à ton rythme. Cependant, si tu vois que tu dépasses une durée, ne reste pas bloqué, passe à l'exercice suivant. Tu pourras revenir à la fin sur ce que tu n'as pas fini."
      ]
    },
    {
      "cell_type": "markdown",
      "metadata": {
        "id": "815_otfHPX5a"
      },
      "source": [
        "#SQL - 45 min"
      ]
    },
    {
      "cell_type": "markdown",
      "metadata": {
        "id": "b2l_0IGPQgpp"
      },
      "source": [
        "A partir de la base de données client ci-dessous, crée une **requête SQL** qui fournit :\n",
        "\n",
        "1.   les noms de chaque catégorie,\n",
        "2.   le chiffre d'affaire associé à cette catégorie,\n",
        "3.   et le prix moyen pondéré des produits vendus pour cette catégorie.\n",
        "\n",
        "Le prix moyen sera arrondi à 2 décimales.\n",
        "\n",
        "Ce tableau devra être trié pour avoir les catégories avec le chiffre d'affaire le plus élevé en premier.\n",
        "\n",
        "\n",
        "*** Voici le schéma de la base ***\n",
        "*********************\n",
        "\n",
        "![](https://github.com/murpi/wilddata/blob/master/quests/orders_schema.png?raw=true)\n",
        "\n",
        "\n",
        "\n",
        "\n",
        "*** Voici les premières lignes attendues ***\n",
        "*********************\n",
        "\n",
        "Categories | Chiffre_d_affaire | Prix_moyen\n",
        "- |:-: | -:\n",
        "Beverages | 99464.50 | 43.45\n",
        "Dairy Products | 69921.00 | 26.88\n",
        "... | ... | ...\n"
      ]
    },
    {
      "cell_type": "code",
      "source": [
        "# Exécute le code ci-dessous sans rien modifier\n",
        "import requests\n",
        "import sqlite3\n",
        "import pandas as pd\n",
        "r = requests.get('https://github.com/WildCodeSchool/wilddata/blob/main/orders.db?raw=true')\n",
        "open('orders.db', 'wb').write(r.content)\n",
        "conn = sqlite3.connect('orders.db')\n",
        "def SQL(script):\n",
        "    global conn\n",
        "    return pd.read_sql(script, conn)\n",
        "\n"
      ],
      "metadata": {
        "id": "PXa7vPx-6xw8"
      },
      "execution_count": null,
      "outputs": []
    },
    {
      "cell_type": "code",
      "metadata": {
        "id": "HMJ538LwOqWK",
        "outputId": "c631f1f9-90d4-4d31-985c-db32f4dc6f17",
        "colab": {
          "base_uri": "https://localhost:8080/",
          "height": 300
        }
      },
      "source": [
        "# Modifie la requête SQL dans cette variable\n",
        "script_sql = \"\"\"\n",
        "SELECT\n",
        "\tcategories.CategoryName as \"Categories\",\n",
        "\tSUM(products.Price* order_details.Quantity) AS Chiffre_d_affaire,\n",
        "\tROUND(SUM(products.Price * order_details.Quantity)/SUM(order_details.Quantity), 2) AS \"Prix_moyen\"\n",
        "FROM orders\n",
        "JOIN order_details\n",
        "\tON orders.OrderID = order_details.OrderID\n",
        "JOIN products\n",
        "\tON order_details.ProductID = products.ProductID\n",
        "JOIN categories\n",
        "\tON products.CategoryID = categories.CategoryID\n",
        "GROUP BY\n",
        "\tcategories.CategoryID\n",
        "ORDER BY\n",
        "\tChiffre_d_affaire DESC\n",
        ";\n",
        "\n",
        "\"\"\"\n",
        "data = SQL(script_sql)\n",
        "data"
      ],
      "execution_count": null,
      "outputs": [
        {
          "output_type": "execute_result",
          "data": {
            "text/plain": [
              "       Categories  Chiffre_d_affaire  Prix_moyen\n",
              "0       Beverages           99464.50       43.45\n",
              "1  Dairy Products           69921.00       26.88\n",
              "2     Confections           54909.16       26.02\n",
              "3    Meat/Poultry           51676.52       40.12\n",
              "4      Condiments           35071.60       25.36\n",
              "5         Seafood           29652.30       20.52\n",
              "6         Produce           23401.40       32.73\n",
              "7  Grains/Cereals           22327.75       24.48"
            ],
            "text/html": [
              "\n",
              "  <div id=\"df-47a6d14a-ff18-446f-bc84-d2e4562514b9\" class=\"colab-df-container\">\n",
              "    <div>\n",
              "<style scoped>\n",
              "    .dataframe tbody tr th:only-of-type {\n",
              "        vertical-align: middle;\n",
              "    }\n",
              "\n",
              "    .dataframe tbody tr th {\n",
              "        vertical-align: top;\n",
              "    }\n",
              "\n",
              "    .dataframe thead th {\n",
              "        text-align: right;\n",
              "    }\n",
              "</style>\n",
              "<table border=\"1\" class=\"dataframe\">\n",
              "  <thead>\n",
              "    <tr style=\"text-align: right;\">\n",
              "      <th></th>\n",
              "      <th>Categories</th>\n",
              "      <th>Chiffre_d_affaire</th>\n",
              "      <th>Prix_moyen</th>\n",
              "    </tr>\n",
              "  </thead>\n",
              "  <tbody>\n",
              "    <tr>\n",
              "      <th>0</th>\n",
              "      <td>Beverages</td>\n",
              "      <td>99464.50</td>\n",
              "      <td>43.45</td>\n",
              "    </tr>\n",
              "    <tr>\n",
              "      <th>1</th>\n",
              "      <td>Dairy Products</td>\n",
              "      <td>69921.00</td>\n",
              "      <td>26.88</td>\n",
              "    </tr>\n",
              "    <tr>\n",
              "      <th>2</th>\n",
              "      <td>Confections</td>\n",
              "      <td>54909.16</td>\n",
              "      <td>26.02</td>\n",
              "    </tr>\n",
              "    <tr>\n",
              "      <th>3</th>\n",
              "      <td>Meat/Poultry</td>\n",
              "      <td>51676.52</td>\n",
              "      <td>40.12</td>\n",
              "    </tr>\n",
              "    <tr>\n",
              "      <th>4</th>\n",
              "      <td>Condiments</td>\n",
              "      <td>35071.60</td>\n",
              "      <td>25.36</td>\n",
              "    </tr>\n",
              "    <tr>\n",
              "      <th>5</th>\n",
              "      <td>Seafood</td>\n",
              "      <td>29652.30</td>\n",
              "      <td>20.52</td>\n",
              "    </tr>\n",
              "    <tr>\n",
              "      <th>6</th>\n",
              "      <td>Produce</td>\n",
              "      <td>23401.40</td>\n",
              "      <td>32.73</td>\n",
              "    </tr>\n",
              "    <tr>\n",
              "      <th>7</th>\n",
              "      <td>Grains/Cereals</td>\n",
              "      <td>22327.75</td>\n",
              "      <td>24.48</td>\n",
              "    </tr>\n",
              "  </tbody>\n",
              "</table>\n",
              "</div>\n",
              "    <div class=\"colab-df-buttons\">\n",
              "\n",
              "  <div class=\"colab-df-container\">\n",
              "    <button class=\"colab-df-convert\" onclick=\"convertToInteractive('df-47a6d14a-ff18-446f-bc84-d2e4562514b9')\"\n",
              "            title=\"Convert this dataframe to an interactive table.\"\n",
              "            style=\"display:none;\">\n",
              "\n",
              "  <svg xmlns=\"http://www.w3.org/2000/svg\" height=\"24px\" viewBox=\"0 -960 960 960\">\n",
              "    <path d=\"M120-120v-720h720v720H120Zm60-500h600v-160H180v160Zm220 220h160v-160H400v160Zm0 220h160v-160H400v160ZM180-400h160v-160H180v160Zm440 0h160v-160H620v160ZM180-180h160v-160H180v160Zm440 0h160v-160H620v160Z\"/>\n",
              "  </svg>\n",
              "    </button>\n",
              "\n",
              "  <style>\n",
              "    .colab-df-container {\n",
              "      display:flex;\n",
              "      gap: 12px;\n",
              "    }\n",
              "\n",
              "    .colab-df-convert {\n",
              "      background-color: #E8F0FE;\n",
              "      border: none;\n",
              "      border-radius: 50%;\n",
              "      cursor: pointer;\n",
              "      display: none;\n",
              "      fill: #1967D2;\n",
              "      height: 32px;\n",
              "      padding: 0 0 0 0;\n",
              "      width: 32px;\n",
              "    }\n",
              "\n",
              "    .colab-df-convert:hover {\n",
              "      background-color: #E2EBFA;\n",
              "      box-shadow: 0px 1px 2px rgba(60, 64, 67, 0.3), 0px 1px 3px 1px rgba(60, 64, 67, 0.15);\n",
              "      fill: #174EA6;\n",
              "    }\n",
              "\n",
              "    .colab-df-buttons div {\n",
              "      margin-bottom: 4px;\n",
              "    }\n",
              "\n",
              "    [theme=dark] .colab-df-convert {\n",
              "      background-color: #3B4455;\n",
              "      fill: #D2E3FC;\n",
              "    }\n",
              "\n",
              "    [theme=dark] .colab-df-convert:hover {\n",
              "      background-color: #434B5C;\n",
              "      box-shadow: 0px 1px 3px 1px rgba(0, 0, 0, 0.15);\n",
              "      filter: drop-shadow(0px 1px 2px rgba(0, 0, 0, 0.3));\n",
              "      fill: #FFFFFF;\n",
              "    }\n",
              "  </style>\n",
              "\n",
              "    <script>\n",
              "      const buttonEl =\n",
              "        document.querySelector('#df-47a6d14a-ff18-446f-bc84-d2e4562514b9 button.colab-df-convert');\n",
              "      buttonEl.style.display =\n",
              "        google.colab.kernel.accessAllowed ? 'block' : 'none';\n",
              "\n",
              "      async function convertToInteractive(key) {\n",
              "        const element = document.querySelector('#df-47a6d14a-ff18-446f-bc84-d2e4562514b9');\n",
              "        const dataTable =\n",
              "          await google.colab.kernel.invokeFunction('convertToInteractive',\n",
              "                                                    [key], {});\n",
              "        if (!dataTable) return;\n",
              "\n",
              "        const docLinkHtml = 'Like what you see? Visit the ' +\n",
              "          '<a target=\"_blank\" href=https://colab.research.google.com/notebooks/data_table.ipynb>data table notebook</a>'\n",
              "          + ' to learn more about interactive tables.';\n",
              "        element.innerHTML = '';\n",
              "        dataTable['output_type'] = 'display_data';\n",
              "        await google.colab.output.renderOutput(dataTable, element);\n",
              "        const docLink = document.createElement('div');\n",
              "        docLink.innerHTML = docLinkHtml;\n",
              "        element.appendChild(docLink);\n",
              "      }\n",
              "    </script>\n",
              "  </div>\n",
              "\n",
              "\n",
              "<div id=\"df-cbdab9c0-c44b-4364-9be3-153541db0273\">\n",
              "  <button class=\"colab-df-quickchart\" onclick=\"quickchart('df-cbdab9c0-c44b-4364-9be3-153541db0273')\"\n",
              "            title=\"Suggest charts\"\n",
              "            style=\"display:none;\">\n",
              "\n",
              "<svg xmlns=\"http://www.w3.org/2000/svg\" height=\"24px\"viewBox=\"0 0 24 24\"\n",
              "     width=\"24px\">\n",
              "    <g>\n",
              "        <path d=\"M19 3H5c-1.1 0-2 .9-2 2v14c0 1.1.9 2 2 2h14c1.1 0 2-.9 2-2V5c0-1.1-.9-2-2-2zM9 17H7v-7h2v7zm4 0h-2V7h2v10zm4 0h-2v-4h2v4z\"/>\n",
              "    </g>\n",
              "</svg>\n",
              "  </button>\n",
              "\n",
              "<style>\n",
              "  .colab-df-quickchart {\n",
              "      --bg-color: #E8F0FE;\n",
              "      --fill-color: #1967D2;\n",
              "      --hover-bg-color: #E2EBFA;\n",
              "      --hover-fill-color: #174EA6;\n",
              "      --disabled-fill-color: #AAA;\n",
              "      --disabled-bg-color: #DDD;\n",
              "  }\n",
              "\n",
              "  [theme=dark] .colab-df-quickchart {\n",
              "      --bg-color: #3B4455;\n",
              "      --fill-color: #D2E3FC;\n",
              "      --hover-bg-color: #434B5C;\n",
              "      --hover-fill-color: #FFFFFF;\n",
              "      --disabled-bg-color: #3B4455;\n",
              "      --disabled-fill-color: #666;\n",
              "  }\n",
              "\n",
              "  .colab-df-quickchart {\n",
              "    background-color: var(--bg-color);\n",
              "    border: none;\n",
              "    border-radius: 50%;\n",
              "    cursor: pointer;\n",
              "    display: none;\n",
              "    fill: var(--fill-color);\n",
              "    height: 32px;\n",
              "    padding: 0;\n",
              "    width: 32px;\n",
              "  }\n",
              "\n",
              "  .colab-df-quickchart:hover {\n",
              "    background-color: var(--hover-bg-color);\n",
              "    box-shadow: 0 1px 2px rgba(60, 64, 67, 0.3), 0 1px 3px 1px rgba(60, 64, 67, 0.15);\n",
              "    fill: var(--button-hover-fill-color);\n",
              "  }\n",
              "\n",
              "  .colab-df-quickchart-complete:disabled,\n",
              "  .colab-df-quickchart-complete:disabled:hover {\n",
              "    background-color: var(--disabled-bg-color);\n",
              "    fill: var(--disabled-fill-color);\n",
              "    box-shadow: none;\n",
              "  }\n",
              "\n",
              "  .colab-df-spinner {\n",
              "    border: 2px solid var(--fill-color);\n",
              "    border-color: transparent;\n",
              "    border-bottom-color: var(--fill-color);\n",
              "    animation:\n",
              "      spin 1s steps(1) infinite;\n",
              "  }\n",
              "\n",
              "  @keyframes spin {\n",
              "    0% {\n",
              "      border-color: transparent;\n",
              "      border-bottom-color: var(--fill-color);\n",
              "      border-left-color: var(--fill-color);\n",
              "    }\n",
              "    20% {\n",
              "      border-color: transparent;\n",
              "      border-left-color: var(--fill-color);\n",
              "      border-top-color: var(--fill-color);\n",
              "    }\n",
              "    30% {\n",
              "      border-color: transparent;\n",
              "      border-left-color: var(--fill-color);\n",
              "      border-top-color: var(--fill-color);\n",
              "      border-right-color: var(--fill-color);\n",
              "    }\n",
              "    40% {\n",
              "      border-color: transparent;\n",
              "      border-right-color: var(--fill-color);\n",
              "      border-top-color: var(--fill-color);\n",
              "    }\n",
              "    60% {\n",
              "      border-color: transparent;\n",
              "      border-right-color: var(--fill-color);\n",
              "    }\n",
              "    80% {\n",
              "      border-color: transparent;\n",
              "      border-right-color: var(--fill-color);\n",
              "      border-bottom-color: var(--fill-color);\n",
              "    }\n",
              "    90% {\n",
              "      border-color: transparent;\n",
              "      border-bottom-color: var(--fill-color);\n",
              "    }\n",
              "  }\n",
              "</style>\n",
              "\n",
              "  <script>\n",
              "    async function quickchart(key) {\n",
              "      const quickchartButtonEl =\n",
              "        document.querySelector('#' + key + ' button');\n",
              "      quickchartButtonEl.disabled = true;  // To prevent multiple clicks.\n",
              "      quickchartButtonEl.classList.add('colab-df-spinner');\n",
              "      try {\n",
              "        const charts = await google.colab.kernel.invokeFunction(\n",
              "            'suggestCharts', [key], {});\n",
              "      } catch (error) {\n",
              "        console.error('Error during call to suggestCharts:', error);\n",
              "      }\n",
              "      quickchartButtonEl.classList.remove('colab-df-spinner');\n",
              "      quickchartButtonEl.classList.add('colab-df-quickchart-complete');\n",
              "    }\n",
              "    (() => {\n",
              "      let quickchartButtonEl =\n",
              "        document.querySelector('#df-cbdab9c0-c44b-4364-9be3-153541db0273 button');\n",
              "      quickchartButtonEl.style.display =\n",
              "        google.colab.kernel.accessAllowed ? 'block' : 'none';\n",
              "    })();\n",
              "  </script>\n",
              "</div>\n",
              "\n",
              "  <div id=\"id_e2e93330-2b49-4259-b357-a8c9b18c5dab\">\n",
              "    <style>\n",
              "      .colab-df-generate {\n",
              "        background-color: #E8F0FE;\n",
              "        border: none;\n",
              "        border-radius: 50%;\n",
              "        cursor: pointer;\n",
              "        display: none;\n",
              "        fill: #1967D2;\n",
              "        height: 32px;\n",
              "        padding: 0 0 0 0;\n",
              "        width: 32px;\n",
              "      }\n",
              "\n",
              "      .colab-df-generate:hover {\n",
              "        background-color: #E2EBFA;\n",
              "        box-shadow: 0px 1px 2px rgba(60, 64, 67, 0.3), 0px 1px 3px 1px rgba(60, 64, 67, 0.15);\n",
              "        fill: #174EA6;\n",
              "      }\n",
              "\n",
              "      [theme=dark] .colab-df-generate {\n",
              "        background-color: #3B4455;\n",
              "        fill: #D2E3FC;\n",
              "      }\n",
              "\n",
              "      [theme=dark] .colab-df-generate:hover {\n",
              "        background-color: #434B5C;\n",
              "        box-shadow: 0px 1px 3px 1px rgba(0, 0, 0, 0.15);\n",
              "        filter: drop-shadow(0px 1px 2px rgba(0, 0, 0, 0.3));\n",
              "        fill: #FFFFFF;\n",
              "      }\n",
              "    </style>\n",
              "    <button class=\"colab-df-generate\" onclick=\"generateWithVariable('data')\"\n",
              "            title=\"Generate code using this dataframe.\"\n",
              "            style=\"display:none;\">\n",
              "\n",
              "  <svg xmlns=\"http://www.w3.org/2000/svg\" height=\"24px\"viewBox=\"0 0 24 24\"\n",
              "       width=\"24px\">\n",
              "    <path d=\"M7,19H8.4L18.45,9,17,7.55,7,17.6ZM5,21V16.75L18.45,3.32a2,2,0,0,1,2.83,0l1.4,1.43a1.91,1.91,0,0,1,.58,1.4,1.91,1.91,0,0,1-.58,1.4L9.25,21ZM18.45,9,17,7.55Zm-12,3A5.31,5.31,0,0,0,4.9,8.1,5.31,5.31,0,0,0,1,6.5,5.31,5.31,0,0,0,4.9,4.9,5.31,5.31,0,0,0,6.5,1,5.31,5.31,0,0,0,8.1,4.9,5.31,5.31,0,0,0,12,6.5,5.46,5.46,0,0,0,6.5,12Z\"/>\n",
              "  </svg>\n",
              "    </button>\n",
              "    <script>\n",
              "      (() => {\n",
              "      const buttonEl =\n",
              "        document.querySelector('#id_e2e93330-2b49-4259-b357-a8c9b18c5dab button.colab-df-generate');\n",
              "      buttonEl.style.display =\n",
              "        google.colab.kernel.accessAllowed ? 'block' : 'none';\n",
              "\n",
              "      buttonEl.onclick = () => {\n",
              "        google.colab.notebook.generateWithVariable('data');\n",
              "      }\n",
              "      })();\n",
              "    </script>\n",
              "  </div>\n",
              "\n",
              "    </div>\n",
              "  </div>\n"
            ],
            "application/vnd.google.colaboratory.intrinsic+json": {
              "type": "dataframe",
              "variable_name": "data",
              "summary": "{\n  \"name\": \"data\",\n  \"rows\": 8,\n  \"fields\": [\n    {\n      \"column\": \"Categories\",\n      \"properties\": {\n        \"dtype\": \"string\",\n        \"num_unique_values\": 8,\n        \"samples\": [\n          \"Dairy Products\",\n          \"Seafood\",\n          \"Beverages\"\n        ],\n        \"semantic_type\": \"\",\n        \"description\": \"\"\n      }\n    },\n    {\n      \"column\": \"Chiffre_d_affaire\",\n      \"properties\": {\n        \"dtype\": \"number\",\n        \"std\": 26612.512752333758,\n        \"min\": 22327.75,\n        \"max\": 99464.5,\n        \"num_unique_values\": 8,\n        \"samples\": [\n          69921.0,\n          29652.299999999996,\n          99464.5\n        ],\n        \"semantic_type\": \"\",\n        \"description\": \"\"\n      }\n    },\n    {\n      \"column\": \"Prix_moyen\",\n      \"properties\": {\n        \"dtype\": \"number\",\n        \"std\": 8.09047764791601,\n        \"min\": 20.52,\n        \"max\": 43.45,\n        \"num_unique_values\": 8,\n        \"samples\": [\n          26.88,\n          20.52,\n          43.45\n        ],\n        \"semantic_type\": \"\",\n        \"description\": \"\"\n      }\n    }\n  ]\n}"
            }
          },
          "metadata": {},
          "execution_count": 14
        }
      ]
    },
    {
      "cell_type": "code",
      "source": [
        "import pandas as pd\n",
        "\n",
        "df = pd.DataFrame(data)\n",
        "\n",
        "df"
      ],
      "metadata": {
        "colab": {
          "base_uri": "https://localhost:8080/",
          "height": 300
        },
        "id": "MsjutmMSqRzk",
        "outputId": "0db23b6e-5088-4007-ad90-f06b259673b2"
      },
      "execution_count": null,
      "outputs": [
        {
          "output_type": "execute_result",
          "data": {
            "text/plain": [
              "       Categories  Chiffre_d_affaire  Prix_moyen\n",
              "0       Beverages           99464.50       43.45\n",
              "1  Dairy Products           69921.00       26.88\n",
              "2     Confections           54909.16       26.02\n",
              "3    Meat/Poultry           51676.52       40.12\n",
              "4      Condiments           35071.60       25.36\n",
              "5         Seafood           29652.30       20.52\n",
              "6         Produce           23401.40       32.73\n",
              "7  Grains/Cereals           22327.75       24.48"
            ],
            "text/html": [
              "\n",
              "  <div id=\"df-e669c753-891e-45a7-81b0-996fbc6e5208\" class=\"colab-df-container\">\n",
              "    <div>\n",
              "<style scoped>\n",
              "    .dataframe tbody tr th:only-of-type {\n",
              "        vertical-align: middle;\n",
              "    }\n",
              "\n",
              "    .dataframe tbody tr th {\n",
              "        vertical-align: top;\n",
              "    }\n",
              "\n",
              "    .dataframe thead th {\n",
              "        text-align: right;\n",
              "    }\n",
              "</style>\n",
              "<table border=\"1\" class=\"dataframe\">\n",
              "  <thead>\n",
              "    <tr style=\"text-align: right;\">\n",
              "      <th></th>\n",
              "      <th>Categories</th>\n",
              "      <th>Chiffre_d_affaire</th>\n",
              "      <th>Prix_moyen</th>\n",
              "    </tr>\n",
              "  </thead>\n",
              "  <tbody>\n",
              "    <tr>\n",
              "      <th>0</th>\n",
              "      <td>Beverages</td>\n",
              "      <td>99464.50</td>\n",
              "      <td>43.45</td>\n",
              "    </tr>\n",
              "    <tr>\n",
              "      <th>1</th>\n",
              "      <td>Dairy Products</td>\n",
              "      <td>69921.00</td>\n",
              "      <td>26.88</td>\n",
              "    </tr>\n",
              "    <tr>\n",
              "      <th>2</th>\n",
              "      <td>Confections</td>\n",
              "      <td>54909.16</td>\n",
              "      <td>26.02</td>\n",
              "    </tr>\n",
              "    <tr>\n",
              "      <th>3</th>\n",
              "      <td>Meat/Poultry</td>\n",
              "      <td>51676.52</td>\n",
              "      <td>40.12</td>\n",
              "    </tr>\n",
              "    <tr>\n",
              "      <th>4</th>\n",
              "      <td>Condiments</td>\n",
              "      <td>35071.60</td>\n",
              "      <td>25.36</td>\n",
              "    </tr>\n",
              "    <tr>\n",
              "      <th>5</th>\n",
              "      <td>Seafood</td>\n",
              "      <td>29652.30</td>\n",
              "      <td>20.52</td>\n",
              "    </tr>\n",
              "    <tr>\n",
              "      <th>6</th>\n",
              "      <td>Produce</td>\n",
              "      <td>23401.40</td>\n",
              "      <td>32.73</td>\n",
              "    </tr>\n",
              "    <tr>\n",
              "      <th>7</th>\n",
              "      <td>Grains/Cereals</td>\n",
              "      <td>22327.75</td>\n",
              "      <td>24.48</td>\n",
              "    </tr>\n",
              "  </tbody>\n",
              "</table>\n",
              "</div>\n",
              "    <div class=\"colab-df-buttons\">\n",
              "\n",
              "  <div class=\"colab-df-container\">\n",
              "    <button class=\"colab-df-convert\" onclick=\"convertToInteractive('df-e669c753-891e-45a7-81b0-996fbc6e5208')\"\n",
              "            title=\"Convert this dataframe to an interactive table.\"\n",
              "            style=\"display:none;\">\n",
              "\n",
              "  <svg xmlns=\"http://www.w3.org/2000/svg\" height=\"24px\" viewBox=\"0 -960 960 960\">\n",
              "    <path d=\"M120-120v-720h720v720H120Zm60-500h600v-160H180v160Zm220 220h160v-160H400v160Zm0 220h160v-160H400v160ZM180-400h160v-160H180v160Zm440 0h160v-160H620v160ZM180-180h160v-160H180v160Zm440 0h160v-160H620v160Z\"/>\n",
              "  </svg>\n",
              "    </button>\n",
              "\n",
              "  <style>\n",
              "    .colab-df-container {\n",
              "      display:flex;\n",
              "      gap: 12px;\n",
              "    }\n",
              "\n",
              "    .colab-df-convert {\n",
              "      background-color: #E8F0FE;\n",
              "      border: none;\n",
              "      border-radius: 50%;\n",
              "      cursor: pointer;\n",
              "      display: none;\n",
              "      fill: #1967D2;\n",
              "      height: 32px;\n",
              "      padding: 0 0 0 0;\n",
              "      width: 32px;\n",
              "    }\n",
              "\n",
              "    .colab-df-convert:hover {\n",
              "      background-color: #E2EBFA;\n",
              "      box-shadow: 0px 1px 2px rgba(60, 64, 67, 0.3), 0px 1px 3px 1px rgba(60, 64, 67, 0.15);\n",
              "      fill: #174EA6;\n",
              "    }\n",
              "\n",
              "    .colab-df-buttons div {\n",
              "      margin-bottom: 4px;\n",
              "    }\n",
              "\n",
              "    [theme=dark] .colab-df-convert {\n",
              "      background-color: #3B4455;\n",
              "      fill: #D2E3FC;\n",
              "    }\n",
              "\n",
              "    [theme=dark] .colab-df-convert:hover {\n",
              "      background-color: #434B5C;\n",
              "      box-shadow: 0px 1px 3px 1px rgba(0, 0, 0, 0.15);\n",
              "      filter: drop-shadow(0px 1px 2px rgba(0, 0, 0, 0.3));\n",
              "      fill: #FFFFFF;\n",
              "    }\n",
              "  </style>\n",
              "\n",
              "    <script>\n",
              "      const buttonEl =\n",
              "        document.querySelector('#df-e669c753-891e-45a7-81b0-996fbc6e5208 button.colab-df-convert');\n",
              "      buttonEl.style.display =\n",
              "        google.colab.kernel.accessAllowed ? 'block' : 'none';\n",
              "\n",
              "      async function convertToInteractive(key) {\n",
              "        const element = document.querySelector('#df-e669c753-891e-45a7-81b0-996fbc6e5208');\n",
              "        const dataTable =\n",
              "          await google.colab.kernel.invokeFunction('convertToInteractive',\n",
              "                                                    [key], {});\n",
              "        if (!dataTable) return;\n",
              "\n",
              "        const docLinkHtml = 'Like what you see? Visit the ' +\n",
              "          '<a target=\"_blank\" href=https://colab.research.google.com/notebooks/data_table.ipynb>data table notebook</a>'\n",
              "          + ' to learn more about interactive tables.';\n",
              "        element.innerHTML = '';\n",
              "        dataTable['output_type'] = 'display_data';\n",
              "        await google.colab.output.renderOutput(dataTable, element);\n",
              "        const docLink = document.createElement('div');\n",
              "        docLink.innerHTML = docLinkHtml;\n",
              "        element.appendChild(docLink);\n",
              "      }\n",
              "    </script>\n",
              "  </div>\n",
              "\n",
              "\n",
              "<div id=\"df-0c5a53df-0572-4199-8d3b-3196a12b62db\">\n",
              "  <button class=\"colab-df-quickchart\" onclick=\"quickchart('df-0c5a53df-0572-4199-8d3b-3196a12b62db')\"\n",
              "            title=\"Suggest charts\"\n",
              "            style=\"display:none;\">\n",
              "\n",
              "<svg xmlns=\"http://www.w3.org/2000/svg\" height=\"24px\"viewBox=\"0 0 24 24\"\n",
              "     width=\"24px\">\n",
              "    <g>\n",
              "        <path d=\"M19 3H5c-1.1 0-2 .9-2 2v14c0 1.1.9 2 2 2h14c1.1 0 2-.9 2-2V5c0-1.1-.9-2-2-2zM9 17H7v-7h2v7zm4 0h-2V7h2v10zm4 0h-2v-4h2v4z\"/>\n",
              "    </g>\n",
              "</svg>\n",
              "  </button>\n",
              "\n",
              "<style>\n",
              "  .colab-df-quickchart {\n",
              "      --bg-color: #E8F0FE;\n",
              "      --fill-color: #1967D2;\n",
              "      --hover-bg-color: #E2EBFA;\n",
              "      --hover-fill-color: #174EA6;\n",
              "      --disabled-fill-color: #AAA;\n",
              "      --disabled-bg-color: #DDD;\n",
              "  }\n",
              "\n",
              "  [theme=dark] .colab-df-quickchart {\n",
              "      --bg-color: #3B4455;\n",
              "      --fill-color: #D2E3FC;\n",
              "      --hover-bg-color: #434B5C;\n",
              "      --hover-fill-color: #FFFFFF;\n",
              "      --disabled-bg-color: #3B4455;\n",
              "      --disabled-fill-color: #666;\n",
              "  }\n",
              "\n",
              "  .colab-df-quickchart {\n",
              "    background-color: var(--bg-color);\n",
              "    border: none;\n",
              "    border-radius: 50%;\n",
              "    cursor: pointer;\n",
              "    display: none;\n",
              "    fill: var(--fill-color);\n",
              "    height: 32px;\n",
              "    padding: 0;\n",
              "    width: 32px;\n",
              "  }\n",
              "\n",
              "  .colab-df-quickchart:hover {\n",
              "    background-color: var(--hover-bg-color);\n",
              "    box-shadow: 0 1px 2px rgba(60, 64, 67, 0.3), 0 1px 3px 1px rgba(60, 64, 67, 0.15);\n",
              "    fill: var(--button-hover-fill-color);\n",
              "  }\n",
              "\n",
              "  .colab-df-quickchart-complete:disabled,\n",
              "  .colab-df-quickchart-complete:disabled:hover {\n",
              "    background-color: var(--disabled-bg-color);\n",
              "    fill: var(--disabled-fill-color);\n",
              "    box-shadow: none;\n",
              "  }\n",
              "\n",
              "  .colab-df-spinner {\n",
              "    border: 2px solid var(--fill-color);\n",
              "    border-color: transparent;\n",
              "    border-bottom-color: var(--fill-color);\n",
              "    animation:\n",
              "      spin 1s steps(1) infinite;\n",
              "  }\n",
              "\n",
              "  @keyframes spin {\n",
              "    0% {\n",
              "      border-color: transparent;\n",
              "      border-bottom-color: var(--fill-color);\n",
              "      border-left-color: var(--fill-color);\n",
              "    }\n",
              "    20% {\n",
              "      border-color: transparent;\n",
              "      border-left-color: var(--fill-color);\n",
              "      border-top-color: var(--fill-color);\n",
              "    }\n",
              "    30% {\n",
              "      border-color: transparent;\n",
              "      border-left-color: var(--fill-color);\n",
              "      border-top-color: var(--fill-color);\n",
              "      border-right-color: var(--fill-color);\n",
              "    }\n",
              "    40% {\n",
              "      border-color: transparent;\n",
              "      border-right-color: var(--fill-color);\n",
              "      border-top-color: var(--fill-color);\n",
              "    }\n",
              "    60% {\n",
              "      border-color: transparent;\n",
              "      border-right-color: var(--fill-color);\n",
              "    }\n",
              "    80% {\n",
              "      border-color: transparent;\n",
              "      border-right-color: var(--fill-color);\n",
              "      border-bottom-color: var(--fill-color);\n",
              "    }\n",
              "    90% {\n",
              "      border-color: transparent;\n",
              "      border-bottom-color: var(--fill-color);\n",
              "    }\n",
              "  }\n",
              "</style>\n",
              "\n",
              "  <script>\n",
              "    async function quickchart(key) {\n",
              "      const quickchartButtonEl =\n",
              "        document.querySelector('#' + key + ' button');\n",
              "      quickchartButtonEl.disabled = true;  // To prevent multiple clicks.\n",
              "      quickchartButtonEl.classList.add('colab-df-spinner');\n",
              "      try {\n",
              "        const charts = await google.colab.kernel.invokeFunction(\n",
              "            'suggestCharts', [key], {});\n",
              "      } catch (error) {\n",
              "        console.error('Error during call to suggestCharts:', error);\n",
              "      }\n",
              "      quickchartButtonEl.classList.remove('colab-df-spinner');\n",
              "      quickchartButtonEl.classList.add('colab-df-quickchart-complete');\n",
              "    }\n",
              "    (() => {\n",
              "      let quickchartButtonEl =\n",
              "        document.querySelector('#df-0c5a53df-0572-4199-8d3b-3196a12b62db button');\n",
              "      quickchartButtonEl.style.display =\n",
              "        google.colab.kernel.accessAllowed ? 'block' : 'none';\n",
              "    })();\n",
              "  </script>\n",
              "</div>\n",
              "\n",
              "  <div id=\"id_b37d8fdb-4132-4838-ad1e-1f95a34813d2\">\n",
              "    <style>\n",
              "      .colab-df-generate {\n",
              "        background-color: #E8F0FE;\n",
              "        border: none;\n",
              "        border-radius: 50%;\n",
              "        cursor: pointer;\n",
              "        display: none;\n",
              "        fill: #1967D2;\n",
              "        height: 32px;\n",
              "        padding: 0 0 0 0;\n",
              "        width: 32px;\n",
              "      }\n",
              "\n",
              "      .colab-df-generate:hover {\n",
              "        background-color: #E2EBFA;\n",
              "        box-shadow: 0px 1px 2px rgba(60, 64, 67, 0.3), 0px 1px 3px 1px rgba(60, 64, 67, 0.15);\n",
              "        fill: #174EA6;\n",
              "      }\n",
              "\n",
              "      [theme=dark] .colab-df-generate {\n",
              "        background-color: #3B4455;\n",
              "        fill: #D2E3FC;\n",
              "      }\n",
              "\n",
              "      [theme=dark] .colab-df-generate:hover {\n",
              "        background-color: #434B5C;\n",
              "        box-shadow: 0px 1px 3px 1px rgba(0, 0, 0, 0.15);\n",
              "        filter: drop-shadow(0px 1px 2px rgba(0, 0, 0, 0.3));\n",
              "        fill: #FFFFFF;\n",
              "      }\n",
              "    </style>\n",
              "    <button class=\"colab-df-generate\" onclick=\"generateWithVariable('df')\"\n",
              "            title=\"Generate code using this dataframe.\"\n",
              "            style=\"display:none;\">\n",
              "\n",
              "  <svg xmlns=\"http://www.w3.org/2000/svg\" height=\"24px\"viewBox=\"0 0 24 24\"\n",
              "       width=\"24px\">\n",
              "    <path d=\"M7,19H8.4L18.45,9,17,7.55,7,17.6ZM5,21V16.75L18.45,3.32a2,2,0,0,1,2.83,0l1.4,1.43a1.91,1.91,0,0,1,.58,1.4,1.91,1.91,0,0,1-.58,1.4L9.25,21ZM18.45,9,17,7.55Zm-12,3A5.31,5.31,0,0,0,4.9,8.1,5.31,5.31,0,0,0,1,6.5,5.31,5.31,0,0,0,4.9,4.9,5.31,5.31,0,0,0,6.5,1,5.31,5.31,0,0,0,8.1,4.9,5.31,5.31,0,0,0,12,6.5,5.46,5.46,0,0,0,6.5,12Z\"/>\n",
              "  </svg>\n",
              "    </button>\n",
              "    <script>\n",
              "      (() => {\n",
              "      const buttonEl =\n",
              "        document.querySelector('#id_b37d8fdb-4132-4838-ad1e-1f95a34813d2 button.colab-df-generate');\n",
              "      buttonEl.style.display =\n",
              "        google.colab.kernel.accessAllowed ? 'block' : 'none';\n",
              "\n",
              "      buttonEl.onclick = () => {\n",
              "        google.colab.notebook.generateWithVariable('df');\n",
              "      }\n",
              "      })();\n",
              "    </script>\n",
              "  </div>\n",
              "\n",
              "    </div>\n",
              "  </div>\n"
            ],
            "application/vnd.google.colaboratory.intrinsic+json": {
              "type": "dataframe",
              "variable_name": "df",
              "summary": "{\n  \"name\": \"df\",\n  \"rows\": 8,\n  \"fields\": [\n    {\n      \"column\": \"Categories\",\n      \"properties\": {\n        \"dtype\": \"string\",\n        \"num_unique_values\": 8,\n        \"samples\": [\n          \"Dairy Products\",\n          \"Seafood\",\n          \"Beverages\"\n        ],\n        \"semantic_type\": \"\",\n        \"description\": \"\"\n      }\n    },\n    {\n      \"column\": \"Chiffre_d_affaire\",\n      \"properties\": {\n        \"dtype\": \"number\",\n        \"std\": 26612.512752333758,\n        \"min\": 22327.75,\n        \"max\": 99464.5,\n        \"num_unique_values\": 8,\n        \"samples\": [\n          69921.0,\n          29652.299999999996,\n          99464.5\n        ],\n        \"semantic_type\": \"\",\n        \"description\": \"\"\n      }\n    },\n    {\n      \"column\": \"Prix_moyen\",\n      \"properties\": {\n        \"dtype\": \"number\",\n        \"std\": 8.09047764791601,\n        \"min\": 20.52,\n        \"max\": 43.45,\n        \"num_unique_values\": 8,\n        \"samples\": [\n          26.88,\n          20.52,\n          43.45\n        ],\n        \"semantic_type\": \"\",\n        \"description\": \"\"\n      }\n    }\n  ]\n}"
            }
          },
          "metadata": {},
          "execution_count": 16
        }
      ]
    },
    {
      "cell_type": "markdown",
      "metadata": {
        "id": "JnOBqXLAHJju"
      },
      "source": [
        "# Tableur ou Business Intelligence - 45 min"
      ]
    },
    {
      "cell_type": "markdown",
      "metadata": {
        "id": "i-astmsSHLGn"
      },
      "source": [
        "Le responsable du reporting mensuel est absent, et il faut absolument envoyer le reporting de chiffre d'affaire (quantité * prix de chaque produit) aujourd'hui... mais impossible de remettre la main sur le fichier du mois dernier !\n",
        "\n",
        "Heureusement, tu as trouvé comment extraire les données, [tu les trouveras ici.](https://docs.google.com/spreadsheets/d/1T7zh6Swn4Yj8Feu-xcp-B7xeOQfBoBSWn7sRjx07GvI/edit?usp=sharing)\n",
        "\n",
        "Tu vas maintenant devoir recréer un graphique qui ressemblera au maximum à celui-ci, mais **en incluant les données du dernier mois**. Tu en profiteras pour ajouter **l'affichage des mois sous les colonnes**. Tu essaieras au maximum d'utiliser les tableaux croisés dynamiques pour faire cela.\n",
        "**Tu peux utiliser l'outil de ton choix (GSheets, MS Excel, MS Power BI ou Tableau).**\n",
        "\n",
        "Tu incluras l'image du graphique dans ce notebook, et tu indiqueras également le lien de ton google spreadsheet (ou MS Excel online) que tu auras pris soin de partager.\n",
        "\n",
        "**Ne t'embête pas à avoir exactement les mêmes couleurs** que sur l'exemple, notamment si tu as utilisé un autre outil, ce sont les valeurs et la lisibilité qui sont importantes.\n",
        "\n",
        "![Tableur checkpoint](https://github.com/murpi/wilddata/raw/master/checkpoint1_withoutdate.png)"
      ]
    },
    {
      "cell_type": "markdown",
      "source": [
        "## **My Solution**\n",
        "\n",
        "## Power BI file\n",
        "\n",
        "[PoweBI file](https://drive.google.com/file/d/1d5xoYbjZoRAqW-CeYhp0V1nzdz-sA57l/view?usp=drive_link)\n",
        "\n",
        "\n",
        "## Chart\n",
        "\n",
        "![CA mensuel](https://imgur.com/kUYHPUS.png)"
      ],
      "metadata": {
        "id": "Yui0Gzh3e0Ad"
      }
    },
    {
      "cell_type": "markdown",
      "source": [
        "# Python : Algo 1 Météo - 30 min\n",
        "\n",
        "Tu veux créer un script qui te dit comment t'habiller en fonction de la météo du jour :\n"
      ],
      "metadata": {
        "id": "A8ee8Jvy-pcL"
      }
    },
    {
      "cell_type": "markdown",
      "source": [
        "## 1.1 Température\n",
        "* S'il fait strictement plus de 19 degrés,  le script doit afficher \"Prends un t-shirt\"\n",
        "* S'il fait entre 12 et 19 degrés inclus, le script doit afficher \"Prends un pull\"\n",
        "* S'il fait strictement moins de 12 degrés, le script doit afficher \"Prends un manteau\"\n",
        "\n",
        "La variable température contiendra un nombre entier (nous avons mis `14` par défaut, n'hésite pas à modifier cette valeur pour tester)"
      ],
      "metadata": {
        "id": "VQLNdU9xG059"
      }
    },
    {
      "cell_type": "code",
      "source": [
        "def print_clothes_style_from_temperature(temperature: int) -> None:\n",
        "    if temperature > 19:\n",
        "        print(\"Prends un t-shirt\")\n",
        "    elif 12 <= temperature <= 19 :\n",
        "        print(\"Prends un pull\")\n",
        "    else:\n",
        "        print(\"Prends un manteau\")\n",
        "\n",
        "temperature = 14\n",
        "print_clothes_style_from_temperature(temperature)"
      ],
      "metadata": {
        "id": "SV3jcaE5-srQ",
        "colab": {
          "base_uri": "https://localhost:8080/"
        },
        "outputId": "ab4d86fd-cbfe-4aec-8718-882fa5b92ffe"
      },
      "execution_count": null,
      "outputs": [
        {
          "output_type": "stream",
          "name": "stdout",
          "text": [
            "Prends un pull\n"
          ]
        }
      ]
    },
    {
      "cell_type": "markdown",
      "source": [
        "## 1.2 Pluie\n",
        "\n",
        "Tu va recopier ton script de la question précédente (1.1) et le modifier pour intégrer la contrainte suivante :\n",
        "* Si la variable `pluie` vaut \"YES\", alors le script affiche \"Prends un manteau\", quelle que soit la température."
      ],
      "metadata": {
        "id": "KSt8QDbJHAqm"
      }
    },
    {
      "cell_type": "code",
      "source": [
        "def print_clothes_style_from_temperature(temperature: int, is_raining: str=\"NO\") -> None:\n",
        "    if temperature < 12 or is_raining == \"YES\":\n",
        "        print(\"Prends un manteau\")\n",
        "    elif temperature > 19:\n",
        "        print(\"Prends un t-shirt\")\n",
        "    else:\n",
        "        print(\"Prends un pull\")\n",
        "\n",
        "\n",
        "temperature = 14\n",
        "pluie = \"YES\"\n",
        "print_clothes_style_from_temperature(temperature, pluie)"
      ],
      "metadata": {
        "id": "-7V4KUCxFT3j",
        "colab": {
          "base_uri": "https://localhost:8080/"
        },
        "outputId": "8196d609-b4b9-4921-84ac-0ef93b853169"
      },
      "execution_count": null,
      "outputs": [
        {
          "output_type": "stream",
          "name": "stdout",
          "text": [
            "Prends un manteau\n"
          ]
        }
      ]
    },
    {
      "cell_type": "markdown",
      "source": [
        "## 1.3 Opérateurs logiques (optionnel)\n",
        "\n",
        "Essaye d'écrire le script précédent (1.2) en utilisant au maximum une seule fois la commande `if` et au maximum une seule fois la commande `elif`."
      ],
      "metadata": {
        "id": "l_f-r5WFH_Xl"
      }
    },
    {
      "cell_type": "code",
      "source": [
        "def print_clothes_style_from_temperature(temperature: int, is_raining: str=\"NO\") -> None:\n",
        "    action = \"Prends un pull\"\n",
        "\n",
        "    if temperature < 12 or is_raining == \"YES\":\n",
        "        action = \"Prends un manteau\"\n",
        "    elif temperature > 19:\n",
        "        action = \"Prends un t-shirt\"\n",
        "\n",
        "    print(action)\n",
        "\n",
        "\n",
        "temperature = 14\n",
        "pluie = \"YES\"\n",
        "print_clothes_style_from_temperature(temperature, pluie)"
      ],
      "metadata": {
        "id": "ztf9BPu1Ibod",
        "colab": {
          "base_uri": "https://localhost:8080/"
        },
        "outputId": "e20924c9-9dd6-4ec0-d985-578e2030830b"
      },
      "execution_count": null,
      "outputs": [
        {
          "output_type": "stream",
          "name": "stdout",
          "text": [
            "Prends un manteau\n"
          ]
        }
      ]
    },
    {
      "cell_type": "code",
      "source": [],
      "metadata": {
        "id": "4rzUgOsruzo6"
      },
      "execution_count": null,
      "outputs": []
    },
    {
      "cell_type": "markdown",
      "metadata": {
        "id": "3k1iqC3wffyB"
      },
      "source": [
        "# Python : Algo 2 - 30 min\n",
        "\n",
        "Un magasin importe des produits américains et les revend sur le marché européen. Il propose à ses clients un discount pour les produits les plus chers (10% de réduction à partir de 500 euros d'achat, 15% à partir de 1000 euros, et 20% à partir de 2000 euros).\n",
        "\n",
        "Le magasin a une liste de prix en dollars et fait appel à tes services pour déterminer pour chaque prix, le montant que paiera le client en euros (après application de la remise).\n"
      ]
    },
    {
      "cell_type": "markdown",
      "metadata": {
        "id": "YWW9llTJhEMT"
      },
      "source": [
        "## Python 2.1 dollar_to_euro\n",
        "Crée une fonction `dollar_to_euro` qui prend en paramètre un nombre décimal et retourne le montant converti en euro (dans le sens dollar vers euro, prends le taux en vigueur le jour du checkpoint)."
      ]
    },
    {
      "cell_type": "code",
      "metadata": {
        "id": "dQeMAFaahD81",
        "colab": {
          "base_uri": "https://localhost:8080/"
        },
        "outputId": "e73018c2-8754-4285-cf92-a503076a70b2"
      },
      "source": [
        "RATE_US_TO_EUR = 0.95\n",
        "\n",
        "def dollar_to_euro(dollars: float) -> float:\n",
        "    return dollars * RATE_US_TO_EUR\n",
        "\n",
        "\n",
        "print(dollar_to_euro(1))\n",
        "print(dollar_to_euro(2))"
      ],
      "execution_count": null,
      "outputs": [
        {
          "output_type": "stream",
          "name": "stdout",
          "text": [
            "0.95\n",
            "1.9\n"
          ]
        }
      ]
    },
    {
      "cell_type": "markdown",
      "metadata": {
        "id": "GP0WRUWskAxN"
      },
      "source": [
        "## Python 2.2 discount\n",
        "Crée une fonction `discount` qui prend en paramètre un nombre décimal et retourne le pourcentage de réduction :\n",
        "- 0.10 si l'argument est supérieur à 500\n",
        "- 0.15 si l'argument est supérieur à 1000\n",
        "- 0.20 si l'argument est supérieur à 2000"
      ]
    },
    {
      "cell_type": "code",
      "metadata": {
        "id": "54K2IrDrj_p-",
        "colab": {
          "base_uri": "https://localhost:8080/"
        },
        "outputId": "1ae2b0ba-2a7c-427f-a673-e01fd49b3b81"
      },
      "source": [
        "def discount(total: float) -> float:\n",
        "    if total > 2000:\n",
        "        return 0.20\n",
        "    elif total > 1000:\n",
        "        return 0.15\n",
        "    elif total > 500:\n",
        "        return 0.10\n",
        "\n",
        "    return 0\n",
        "\n",
        "print(discount(500))\n",
        "print(discount(1000))\n",
        "print(discount(2000))\n",
        "print(discount(3000))"
      ],
      "execution_count": null,
      "outputs": [
        {
          "output_type": "stream",
          "name": "stdout",
          "text": [
            "0\n",
            "0.1\n",
            "0.15\n",
            "0.2\n"
          ]
        }
      ]
    },
    {
      "cell_type": "markdown",
      "metadata": {
        "id": "2UDkCCsOkkfI"
      },
      "source": [
        "## Python 2.3 Utilisation\n",
        "Utilise tes deux fonctions pour **afficher une phrase** pour chacun des montants de cette liste de prix en dollars, indiquant le montant à payer en euros.\n",
        "Tu dois donc appliquer d'abord la fonction de conversion pour obtenir des euros, puis la fonction de discount, puis afficher une phrase à partir du résultat."
      ]
    },
    {
      "cell_type": "code",
      "metadata": {
        "id": "zJwtL9H_kxXR",
        "colab": {
          "base_uri": "https://localhost:8080/"
        },
        "outputId": "2e88e3cb-1f41-418a-ba06-2319caa59cf0"
      },
      "source": [
        "price_list = [256, 1458, 2387, 669, 508, 1365]\n",
        "RATE_US_TO_EUR = 0.95\n",
        "\n",
        "def dollar_to_euro(dollars: float) -> float:\n",
        "    return dollars * RATE_US_TO_EUR\n",
        "\n",
        "def discount(total: float) -> float:\n",
        "    if total > 2000:\n",
        "        return 0.20\n",
        "    elif total > 1000:\n",
        "        return 0.15\n",
        "    elif total > 500:\n",
        "        return 0.10\n",
        "    return 0\n",
        "\n",
        "\n",
        "def print_conversion_and_discount_from(price_list_in_dollars: list) -> None:\n",
        "    for price in price_list_in_dollars:\n",
        "        price_in_euros = dollar_to_euro(price)\n",
        "        discount_rate = discount(price_in_euros)\n",
        "        total = round(price_in_euros*(1 - discount_rate),2)\n",
        "        print(f\"\"\"\n",
        "        The price in dollars is {price} $.\n",
        "        The price in euros before discount is {price_in_euros} €.\n",
        "        The price with the discount of {discount_rate * 100}% is {total} €.\n",
        "        \"\"\")\n",
        "\n",
        "print_conversion_and_discount_from(price_list)"
      ],
      "execution_count": null,
      "outputs": [
        {
          "output_type": "stream",
          "name": "stdout",
          "text": [
            "\n",
            "        The price in dollars is 256 $.\n",
            "        The price in euros before discount is 243.2 €.\n",
            "        The price with the discount of 0% is 243.2 €.\n",
            "        \n",
            "\n",
            "        The price in dollars is 1458 $.\n",
            "        The price in euros before discount is 1385.1 €.\n",
            "        The price with the discount of 15.0% is 1177.33 €.\n",
            "        \n",
            "\n",
            "        The price in dollars is 2387 $.\n",
            "        The price in euros before discount is 2267.65 €.\n",
            "        The price with the discount of 20.0% is 1814.12 €.\n",
            "        \n",
            "\n",
            "        The price in dollars is 669 $.\n",
            "        The price in euros before discount is 635.55 €.\n",
            "        The price with the discount of 10.0% is 572.0 €.\n",
            "        \n",
            "\n",
            "        The price in dollars is 508 $.\n",
            "        The price in euros before discount is 482.59999999999997 €.\n",
            "        The price with the discount of 0% is 482.6 €.\n",
            "        \n",
            "\n",
            "        The price in dollars is 1365 $.\n",
            "        The price in euros before discount is 1296.75 €.\n",
            "        The price with the discount of 15.0% is 1102.24 €.\n",
            "        \n"
          ]
        }
      ]
    },
    {
      "cell_type": "markdown",
      "metadata": {
        "id": "To2TYJGuPwc-"
      },
      "source": [
        "# Python : Algo 3 - 1h"
      ]
    },
    {
      "cell_type": "markdown",
      "metadata": {
        "id": "B0XiM5wcQbY8"
      },
      "source": [
        "Ecris une fonction *monnaie_a_rendre()* qui prend deux arguments obligatoires :\n",
        "- montant de l'achat : float, supérieur à 0\n",
        "- monnaie du client : integer, supérieur à 0\n",
        "\n",
        "La fonction devra afficher la monnaie à rendre au client en un minimum de billets/pièces.\n",
        "\n",
        "Attention, si la monnaie du client est insuffisante (inférieure à l'achat), il faudra l'indiquer.\n",
        "\n",
        "Exemple :\n",
        "\n",
        "\n",
        "```\n",
        "monnaie_a_rendre(26.57 , 40)\n",
        ">>> Nb billets 10 euros : 1\n",
        ">>> Nb pièces 2 euros : 1\n",
        ">>> Nb pièces 1 euro : 1\n",
        ">>> Nb pièces 20 cents : 2\n",
        ">>> Nb pièces 2 cents : 1\n",
        ">>> Nb pièces 1 cent : 1\n",
        "```\n",
        "\n"
      ]
    },
    {
      "cell_type": "code",
      "metadata": {
        "id": "6alG3GNPPv5U"
      },
      "source": [
        "# Ta fonction ici :\n",
        "\n",
        "rate_conversion_to_cents = {\n",
        "    \"10 euros\" : {\n",
        "        \"type\": \"billet\",\n",
        "        \"rate\": 1000\n",
        "    },\n",
        "    \"2 euros\" : {\n",
        "        \"type\": \"pièce\",\n",
        "        \"rate\": 200\n",
        "    },\n",
        "    \"1 euro\" : {\n",
        "        \"type\": \"pièce\",\n",
        "        \"rate\": 100\n",
        "    },\n",
        "    \"20 cents\" : {\n",
        "        \"type\": \"pièce\",\n",
        "        \"rate\": 20\n",
        "    }\n",
        "    ,\n",
        "    \"2 cents\" : {\n",
        "        \"type\": \"pièce\",\n",
        "        \"rate\": 2\n",
        "    },\n",
        "    \"1 cent\" : {\n",
        "        \"type\": \"pièce\",\n",
        "        \"rate\": 1\n",
        "    },\n",
        "}\n",
        "\n",
        "\n",
        "def monnaie_to_rendre(total_achat: float, monnaie_client: int) -> None:\n",
        "    if total_achat > monnaie_client:\n",
        "        print(\"Désolé, la monnaie est insuffissante.\")\n",
        "    else:\n",
        "        res_monnaie = monnaie_client*100 - int(total_achat*100)\n",
        "        for monnaie, description in sorted(rate_conversion_to_cents.items(), key=lambda x:x[1]['rate'], reverse=True):\n",
        "            nb_monnaie = res_monnaie // description['rate']\n",
        "            res_monnaie = res_monnaie % description['rate']\n",
        "            if nb_monnaie > 0 :\n",
        "                print(f\"Nb {description['type']}(s) {monnaie} : {nb_monnaie}\")"
      ],
      "execution_count": null,
      "outputs": []
    },
    {
      "cell_type": "code",
      "metadata": {
        "id": "p2PCEpAxI20Q",
        "colab": {
          "base_uri": "https://localhost:8080/"
        },
        "outputId": "71902032-9d0a-49eb-ace0-1361033e207e"
      },
      "source": [
        "# Pour tester :\n",
        "monnaie_to_rendre(20, 21)"
      ],
      "execution_count": null,
      "outputs": [
        {
          "output_type": "stream",
          "name": "stdout",
          "text": [
            "Nb pièce(s) 1 euro : 1\n"
          ]
        }
      ]
    },
    {
      "cell_type": "code",
      "source": [
        "monnaie_to_rendre(26.57, 50)"
      ],
      "metadata": {
        "id": "2dmdxtHjdIj6",
        "colab": {
          "base_uri": "https://localhost:8080/"
        },
        "outputId": "7b5544a7-c154-4f31-d0fd-57082c9b02b3"
      },
      "execution_count": null,
      "outputs": [
        {
          "output_type": "stream",
          "name": "stdout",
          "text": [
            "Nb billet(s) 10 euros : 2\n",
            "Nb pièce(s) 2 euros : 1\n",
            "Nb pièce(s) 1 euro : 1\n",
            "Nb pièce(s) 20 cents : 2\n",
            "Nb pièce(s) 2 cents : 1\n",
            "Nb pièce(s) 1 cent : 1\n"
          ]
        }
      ]
    },
    {
      "cell_type": "code",
      "source": [
        "monnaie_to_rendre(26.57, 27)"
      ],
      "metadata": {
        "id": "ADmoIac5ex9u",
        "colab": {
          "base_uri": "https://localhost:8080/"
        },
        "outputId": "07a26456-1521-4fb5-92c7-b58c7c616c8f"
      },
      "execution_count": null,
      "outputs": [
        {
          "output_type": "stream",
          "name": "stdout",
          "text": [
            "Nb pièce(s) 20 cents : 2\n",
            "Nb pièce(s) 2 cents : 1\n",
            "Nb pièce(s) 1 cent : 1\n"
          ]
        }
      ]
    },
    {
      "cell_type": "code",
      "source": [
        "monnaie_to_rendre(26.57, 26)"
      ],
      "metadata": {
        "id": "P2ca8n7GfmdR",
        "colab": {
          "base_uri": "https://localhost:8080/"
        },
        "outputId": "891a312f-9744-48a7-d1c8-306e15a0e021"
      },
      "execution_count": null,
      "outputs": [
        {
          "output_type": "stream",
          "name": "stdout",
          "text": [
            "Désolé, la monnaie est insuffissante.\n"
          ]
        }
      ]
    }
  ]
}