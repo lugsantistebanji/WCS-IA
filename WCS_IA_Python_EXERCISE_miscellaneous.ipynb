{
  "nbformat": 4,
  "nbformat_minor": 0,
  "metadata": {
    "colab": {
      "provenance": [],
      "authorship_tag": "ABX9TyPrVf5WKtArAihl6Cb+gGB7",
      "include_colab_link": true
    },
    "kernelspec": {
      "name": "python3",
      "display_name": "Python 3"
    },
    "language_info": {
      "name": "python"
    }
  },
  "cells": [
    {
      "cell_type": "markdown",
      "metadata": {
        "id": "view-in-github",
        "colab_type": "text"
      },
      "source": [
        "<a href=\"https://colab.research.google.com/github/lugsantistebanji/WCS-IA/blob/main/WCS_IA_Python_EXERCISE_miscellaneous.ipynb\" target=\"_parent\"><img src=\"https://colab.research.google.com/assets/colab-badge.svg\" alt=\"Open In Colab\"/></a>"
      ]
    },
    {
      "cell_type": "markdown",
      "source": [
        "## Exercice 1 : Variables, Opérateurs et Conditions (Très facile)\n",
        "\n",
        "**Objectif :**\n",
        "\n",
        "Manipuler des variables et des opérateurs pour effectuer des calculs simples.\n",
        "\n",
        "**Instructions :**\n",
        "\n",
        "1. Créez trois variables :\n",
        "      - prix (prix d'un article) de type float.\n",
        "      - quantite (quantité d'articles achetés) de type entier.\n",
        "      - taux_tva (taux de TVA) de type float.\n",
        "\n",
        "2. Calculez le prix total en utilisant la formule prix_total:\n",
        "$$ prixTotal = prix * quantite * (1 + TVA).$$\n",
        "\n",
        "3. Si le prix_total est supérieur à 100 euros, affichez \"Vous avez une réduction de 10%\" et appliquez une réduction de 10% (prix_total = prix_total * 0.9). Sinon,\n",
        "affichez \"Pas de réduction\"."
      ],
      "metadata": {
        "id": "nmd0fWbswfpf"
      }
    },
    {
      "cell_type": "markdown",
      "source": [
        "**Une solution**"
      ],
      "metadata": {
        "id": "cWGZ_-v_-xmG"
      }
    },
    {
      "cell_type": "code",
      "execution_count": null,
      "metadata": {
        "id": "l0pVq-MwwP5f"
      },
      "outputs": [],
      "source": [
        "def total_price(price: float, quantity: int, tva_tax: float) -> float:\n",
        "  return price * quantity * (1 + tva_tax/100)\n",
        "\n",
        "def input_number(message: str, is_float: bool, is_non_negative: bool = False, is_positive: bool = False) -> int or float:\n",
        "  while True:\n",
        "    try:\n",
        "      number = input(message)\n",
        "      number = float(number) if is_float else int(number)\n",
        "      if ( number < 0 and is_non_negative ) or ( number <= 0 and is_positive ):\n",
        "        raise ValueError\n",
        "      return number\n",
        "    except ValueError:\n",
        "      print(\"The value is not valid. Try again.\")\n",
        "\n",
        "\n",
        "\n",
        "def main():\n",
        "  price = input_number(\"What is in the price of item : \", is_float=True, is_positive=True)\n",
        "  quantity = input_number(\"How many items you want : \", is_float=False, is_positive=True)\n",
        "  tva_tax = input_number(\"What is the tax to apply (%) : \", is_float=True, is_non_negative=True)\n",
        "  total = total_price(price, quantity, tva_tax)\n",
        "  print(f\"The total price is : {round(total, 2)}\")\n",
        "\n",
        "main()\n"
      ]
    },
    {
      "cell_type": "markdown",
      "source": [
        "## Exercice 2 : Fonctions et Méthodes (Facile)\n",
        "\n",
        "**Objectif :**\n",
        "Utiliser des fonctions pour organiser le code et manipuler des chaînes de\n",
        "caractères.\n",
        "\n",
        "**Instructions :**\n",
        "\n",
        "1. Créez une fonction saluer(nom) qui prend un argument nom et affiche \"Bonjour,\n",
        "[nom]!\".\n",
        "\n",
        "2. Créez une fonction est_paire(nombre) qui renvoie True si nombre est pair et False sinon.\n",
        "\n",
        "3. Utilisez input() pour demander un nom et un nombre à l'utilisateur. Appelez les fonctions pour afficher la salutation et indiquer si le nombre est pair."
      ],
      "metadata": {
        "id": "OLmGvuiKxlnE"
      }
    },
    {
      "cell_type": "markdown",
      "source": [
        "**Une solution**"
      ],
      "metadata": {
        "id": "mwHn4_5r84Ez"
      }
    },
    {
      "cell_type": "code",
      "source": [
        "def greeting(name: str) -> None:\n",
        "  print(f\"Good morning, {name} !!!\")\n",
        "\n",
        "def is_even(number: int) -> bool:\n",
        "  return number % 2 == 0\n",
        "\n",
        "def input_integer() -> int:\n",
        "  while True:\n",
        "    try:\n",
        "      number = int(input(\"Enter a integer please : \"))\n",
        "      if number <= 0:\n",
        "        raise ValueError\n",
        "      return number\n",
        "    except ValueError:\n",
        "      print(\"The value is not valid. Try again.\")\n",
        "\n",
        "\n",
        "name = input(\"What is your name : \")\n",
        "number = input_integer()\n",
        "\n",
        "print()\n",
        "greeting(name)\n",
        "print(f\"{number} is even \" if is_even(number) else f\"{number} is odd \")"
      ],
      "metadata": {
        "id": "CkqrOuiX9ArE"
      },
      "execution_count": null,
      "outputs": []
    },
    {
      "cell_type": "markdown",
      "source": [
        "## Exercice 3 : Boucles et Slicing (Moyen)\n",
        "\n",
        "**Objectif :**\n",
        "\n",
        "Utiliser des boucles pour parcourir des chaînes de caractères et pratiquer le\n",
        "slicing.\n",
        "\n",
        "**Instructions :**\n",
        "\n",
        "1. Demandez à l’utilisateur d’entrer une phrase.\n",
        "\n",
        "2. Affichez chaque caractère de la phrase sur une nouvelle ligne en utilisant une boucle for.\n",
        "\n",
        "3. Extraire et afficher les cinq premiers caractères et les trois derniers caractères de la phrase en utilisant le slicing."
      ],
      "metadata": {
        "id": "SynR2vnqxxWD"
      }
    },
    {
      "cell_type": "markdown",
      "source": [
        "**Une solution**"
      ],
      "metadata": {
        "id": "exmKte6h7VZq"
      }
    },
    {
      "cell_type": "code",
      "source": [
        "phrase = input(\"Enter a phrase: \")\n",
        "\n",
        "for char in phrase:\n",
        "  print(char)\n",
        "print(f\"\\nFive first characters: {phrase[:5]}\")\n",
        "print(f\"\\nThree last characters: {phrase[-3:]}\")"
      ],
      "metadata": {
        "id": "cHFt1wjt7USH"
      },
      "execution_count": null,
      "outputs": []
    },
    {
      "cell_type": "markdown",
      "source": [
        "**Une solution sans \"for\"**"
      ],
      "metadata": {
        "id": "byFMbaog8SOi"
      }
    },
    {
      "cell_type": "code",
      "source": [
        "phrase = input(\"Enter a phrase: \")\n",
        "print(\"\\n\".join(phrase))\n",
        "print(f\"\\nFive first characters: {phrase[:5]}\")\n",
        "print(f\"\\nThree last characters: {phrase[-3:]}\")"
      ],
      "metadata": {
        "id": "0wEIWSFX66eP"
      },
      "execution_count": null,
      "outputs": []
    },
    {
      "cell_type": "markdown",
      "source": [
        "## Exercice 4 : Boucles et Calculs (Modéré)\n",
        "\n",
        "**Objectif :**\n",
        "\n",
        "Utiliser une boucle pour faire des calculs répétitifs.\n",
        "\n",
        "**Instructions :**\n",
        "\n",
        "1. Demandez à l’utilisateur un nombre entier n.\n",
        "\n",
        "2. Créez une fonction factorielle(n) qui calcule la factorielle de n en utilisant une boucle for.\n",
        "\n",
        "3. Affichez le résultat de la fonction."
      ],
      "metadata": {
        "id": "_gPF2U3Mx-Rb"
      }
    },
    {
      "cell_type": "markdown",
      "source": [
        "**Une solution**"
      ],
      "metadata": {
        "id": "DDffvCpz4lUe"
      }
    },
    {
      "cell_type": "code",
      "source": [
        "def input_non_negative_integer() -> int:\n",
        "  while True:\n",
        "    try:\n",
        "      number = int(input(\"Enter a non-negative integer : \"))\n",
        "      if number < 0:\n",
        "        raise ValueError\n",
        "      return number\n",
        "    except ValueError:\n",
        "      print(\"The value is not valid. Try again.\")\n",
        "\n",
        "def factorial(number: int) -> int:\n",
        "  factorial = 1\n",
        "  for n in range(1, number + 1):\n",
        "    factorial *= n\n",
        "  return factorial\n",
        "\n",
        "def main():\n",
        "  number = input_non_negative_integer()\n",
        "  result = factorial(number)\n",
        "  print(f\"The factorial of {number} is {result} \\n\\t{number}! = {result}\")\n",
        "\n",
        "main()"
      ],
      "metadata": {
        "id": "gOsmEaS94ofz"
      },
      "execution_count": null,
      "outputs": []
    },
    {
      "cell_type": "markdown",
      "source": [
        "## Exercice 5 : Création de Motifs avec Boucles Imbriquées (Difficile)\n",
        "\n",
        "**Objectif :**\n",
        "\n",
        "Utiliser des boucles imbriquées pour créer des motifs.\n",
        "\n",
        "**Instructions :**\n",
        "\n",
        "1. Demandez un entier n à l'utilisateur pour définir la taille d'un carré de n x n.\n",
        "\n",
        "2. Créez une fonction afficher_carre(n) qui utilise des boucles for pour afficher un carré de *.\n",
        "\n",
        "3. Ajoutez une option pour que l'utilisateur puisse choisir entre un carré plein ou un carré creux (bord uniquement)."
      ],
      "metadata": {
        "id": "wRWALJusyAOq"
      }
    },
    {
      "cell_type": "markdown",
      "source": [
        "**Une Solution**"
      ],
      "metadata": {
        "id": "arqIzUo9yNmJ"
      }
    },
    {
      "cell_type": "code",
      "source": [
        "SYMBOL = \"*\"\n",
        "\n",
        "def input_square_side_value() -> int:\n",
        "  while True:\n",
        "    try:\n",
        "      number = int(input(\"Enter a positive integer : \"))\n",
        "      if number <= 0:\n",
        "        raise ValueError\n",
        "      return number\n",
        "    except ValueError:\n",
        "      print(\"The value is not valid. Try again.\")\n",
        "\n",
        "def input_filled_square_or_not() -> bool :\n",
        "  while True:\n",
        "    try:\n",
        "      option = int(input(\"Enter 0 for a empty square or 1 for a filled square : \"))\n",
        "      if option not in [0 , 1]:\n",
        "        raise ValueError\n",
        "      return option == 1\n",
        "    except ValueError:\n",
        "      print(\"The value is not valid. Try again.\")\n",
        "\n",
        "def print_square(side_value: int, is_filled: bool) -> None:\n",
        "  print()\n",
        "  for y in range(side_value):\n",
        "    for x in range(side_value):\n",
        "      if y in [0, side_value - 1] or x in [0, side_value - 1] or is_filled:\n",
        "        print(SYMBOL, end=\" \")\n",
        "      else:\n",
        "        print(end=\"  \")\n",
        "    print()\n",
        "\n",
        "def main():\n",
        "  side_value = input_square_side_value()\n",
        "  is_filled = input_filled_square_or_not()\n",
        "  print_square(side_value, is_filled)\n",
        "\n",
        "\n",
        "main()"
      ],
      "metadata": {
        "id": "30-WO-ZmyR9h"
      },
      "execution_count": null,
      "outputs": []
    }
  ]
}