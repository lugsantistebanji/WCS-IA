{
  "nbformat": 4,
  "nbformat_minor": 0,
  "metadata": {
    "colab": {
      "provenance": [],
      "include_colab_link": true
    },
    "kernelspec": {
      "name": "python3",
      "display_name": "Python 3"
    },
    "language_info": {
      "name": "python"
    }
  },
  "cells": [
    {
      "cell_type": "markdown",
      "metadata": {
        "id": "view-in-github",
        "colab_type": "text"
      },
      "source": [
        "<a href=\"https://colab.research.google.com/github/lugsantistebanji/WCS-IA/blob/main/WCS_IA_Quetes_Numpy_Slicing.ipynb\" target=\"_parent\"><img src=\"https://colab.research.google.com/assets/colab-badge.svg\" alt=\"Open In Colab\"/></a>"
      ]
    },
    {
      "cell_type": "markdown",
      "source": [
        "Execute the cell below before starting the 1st mission."
      ],
      "metadata": {
        "id": "B2WKsy0JKfwk"
      }
    },
    {
      "cell_type": "code",
      "source": [
        "import numpy as np\n",
        "\n",
        "array_1 = np.array([10, 40, 45,  5, 66, 91, 43, 75, 40, 28, 55, 45, 31, 71, 67, 54, 54, 35, 64, 27, 12, 93, 17, 91, 50, 57, 74, 61, 86, 20, 36, 35])\n",
        "\n",
        "array_1"
      ],
      "metadata": {
        "colab": {
          "base_uri": "https://localhost:8080/"
        },
        "id": "v301-QT9KHHn",
        "outputId": "31e06e4d-ed1e-4ca3-b4d4-5fd60eb5c52d"
      },
      "execution_count": 3,
      "outputs": [
        {
          "output_type": "execute_result",
          "data": {
            "text/plain": [
              "array([10, 40, 45,  5, 66, 91, 43, 75, 40, 28, 55, 45, 31, 71, 67, 54, 54,\n",
              "       35, 64, 27, 12, 93, 17, 91, 50, 57, 74, 61, 86, 20, 36, 35])"
            ]
          },
          "metadata": {},
          "execution_count": 3
        }
      ]
    },
    {
      "cell_type": "markdown",
      "source": [
        "---"
      ],
      "metadata": {
        "id": "Jzpf1ziKE040"
      }
    },
    {
      "cell_type": "markdown",
      "source": [
        "# Mission 1"
      ],
      "metadata": {
        "id": "ZAXuwsahKkiR"
      }
    },
    {
      "cell_type": "markdown",
      "source": [
        "Using Numpy, how many axes `array_1` has ?\n",
        "\n",
        "\n"
      ],
      "metadata": {
        "id": "yrkLENtQKpNb"
      }
    },
    {
      "cell_type": "code",
      "source": [
        "len(array_1.shape)"
      ],
      "metadata": {
        "id": "HQP8v-MrgELK",
        "colab": {
          "base_uri": "https://localhost:8080/"
        },
        "outputId": "59641e9d-ef33-4f5e-f6bf-9d745b61a346"
      },
      "execution_count": 8,
      "outputs": [
        {
          "output_type": "execute_result",
          "data": {
            "text/plain": [
              "1"
            ]
          },
          "metadata": {},
          "execution_count": 8
        }
      ]
    },
    {
      "cell_type": "markdown",
      "source": [
        "Still using Numpy, how many dimensions `array_1` has?"
      ],
      "metadata": {
        "id": "UalGJQxz33yA"
      }
    },
    {
      "cell_type": "code",
      "source": [
        "array_1.ndim"
      ],
      "metadata": {
        "id": "y26JYHgCgJqT",
        "colab": {
          "base_uri": "https://localhost:8080/"
        },
        "outputId": "2820fab4-af50-4df3-ef27-abf0002eeb5a"
      },
      "execution_count": 6,
      "outputs": [
        {
          "output_type": "execute_result",
          "data": {
            "text/plain": [
              "1"
            ]
          },
          "metadata": {},
          "execution_count": 6
        }
      ]
    },
    {
      "cell_type": "markdown",
      "source": [
        "Display the first element of `array_1`"
      ],
      "metadata": {
        "id": "FigiIh9o4PZ2"
      }
    },
    {
      "cell_type": "code",
      "source": [
        "array_1[0]"
      ],
      "metadata": {
        "id": "baOmyxdDgNh-",
        "colab": {
          "base_uri": "https://localhost:8080/"
        },
        "outputId": "565e50a0-300d-4abf-cbc4-991d218972b2"
      },
      "execution_count": 9,
      "outputs": [
        {
          "output_type": "execute_result",
          "data": {
            "text/plain": [
              "10"
            ]
          },
          "metadata": {},
          "execution_count": 9
        }
      ]
    },
    {
      "cell_type": "markdown",
      "source": [
        "---"
      ],
      "metadata": {
        "id": "hbbsocdRE4AW"
      }
    },
    {
      "cell_type": "markdown",
      "source": [
        "# Mission 2"
      ],
      "metadata": {
        "id": "XgHAtDey4ecq"
      }
    },
    {
      "cell_type": "markdown",
      "source": [
        "Modify, using a `numpy` method, the `array_1` object to be an object that has two axes, including 1 row and 32 columns.  \n",
        "Save it under the variable `array_2`."
      ],
      "metadata": {
        "id": "jiooiSHv4f-u"
      }
    },
    {
      "cell_type": "code",
      "source": [
        "array_2 = array_1.reshape(1,32)\n",
        "print(array_2)\n",
        "print(array_2.ndim)"
      ],
      "metadata": {
        "id": "IV96vGr0gPNH",
        "colab": {
          "base_uri": "https://localhost:8080/"
        },
        "outputId": "f4278786-bf98-4b94-b878-390e4c830906"
      },
      "execution_count": 26,
      "outputs": [
        {
          "output_type": "stream",
          "name": "stdout",
          "text": [
            "[[10 40 45  5 66 91 43 75 40 28 55 45 31 71 67 54 54 35 64 27 12 93 17 91\n",
            "  50 57 74 61 86 20 36 35]]\n",
            "2\n"
          ]
        }
      ]
    },
    {
      "cell_type": "markdown",
      "source": [
        "Now, modify `array_1` into an object that has 32 rows and only 1 column.  \n",
        "Save it under the variable `array_3`."
      ],
      "metadata": {
        "id": "pPrJF4lh4-nU"
      }
    },
    {
      "cell_type": "code",
      "source": [
        "array_3 = array_1.reshape((32, 1))\n",
        "array_3.ndim"
      ],
      "metadata": {
        "id": "NUOuSHC-gQj8",
        "colab": {
          "base_uri": "https://localhost:8080/"
        },
        "outputId": "de8f74ce-bf7c-4979-e4c9-e3508469ba9b"
      },
      "execution_count": 14,
      "outputs": [
        {
          "output_type": "execute_result",
          "data": {
            "text/plain": [
              "2"
            ]
          },
          "metadata": {},
          "execution_count": 14
        }
      ]
    },
    {
      "cell_type": "markdown",
      "source": [],
      "metadata": {
        "id": "7yeEUGKAE5Im"
      }
    },
    {
      "cell_type": "markdown",
      "source": [
        "Access the first element of `array_2`, then of `array_3`.  \n",
        "\n",
        "**What do you notice?**\n",
        "\n",
        "The `first element of array_2` is the same `array_1`, and the `first element of array_3` is an array with the first element of `array_1` : 10  \n",
        "\n",
        "**Why ?**\n",
        "\n",
        "The first element of un n-dimensional array is the first element in the axis 0, it's a n-1-dimensional array if n is upper than 0 else its un element with a primitive type."
      ],
      "metadata": {
        "id": "m1MNZ-G255JC"
      }
    },
    {
      "cell_type": "code",
      "source": [
        "array_2_first = array_2[0]\n",
        "array_3_first = array_3[0]\n",
        "\n",
        "print(f\"First element to array_2 : {array_2_first}\")\n",
        "print(f\"First element to array_3 : {array_3_first}\")"
      ],
      "metadata": {
        "id": "OvdCAGBDgRxL",
        "colab": {
          "base_uri": "https://localhost:8080/"
        },
        "outputId": "8efde452-34be-4eeb-e456-c91581d0f381"
      },
      "execution_count": 27,
      "outputs": [
        {
          "output_type": "stream",
          "name": "stdout",
          "text": [
            "First element to array_2 : [10 40 45  5 66 91 43 75 40 28 55 45 31 71 67 54 54 35 64 27 12 93 17 91\n",
            " 50 57 74 61 86 20 36 35]\n",
            "First element to array_3 : [10]\n"
          ]
        }
      ]
    },
    {
      "cell_type": "markdown",
      "source": [
        "---"
      ],
      "metadata": {
        "id": "pccyCh5wE6q2"
      }
    },
    {
      "cell_type": "markdown",
      "source": [
        "# Mission 3"
      ],
      "metadata": {
        "id": "zjxwDouC66FZ"
      }
    },
    {
      "cell_type": "markdown",
      "source": [
        "Access the value that is at index 3 of array `array_2`.  \n",
        "Do it with Numpy way, then with Python way."
      ],
      "metadata": {
        "id": "BE6DnozV67pW"
      }
    },
    {
      "cell_type": "code",
      "source": [
        "#python way\n",
        "array_2[0][3]\n",
        "\n",
        "#numpy way\n",
        "array_2[0, 3]"
      ],
      "metadata": {
        "id": "FlduHmRmgS_v",
        "colab": {
          "base_uri": "https://localhost:8080/"
        },
        "outputId": "9d7195ab-1e7e-416c-de90-d9bf1e453f75"
      },
      "execution_count": 37,
      "outputs": [
        {
          "output_type": "execute_result",
          "data": {
            "text/plain": [
              "5"
            ]
          },
          "metadata": {},
          "execution_count": 37
        }
      ]
    },
    {
      "cell_type": "markdown",
      "source": [
        "Access the value which is at index 3 of array `array_3` in Numpy."
      ],
      "metadata": {
        "id": "umMUOSLM7y5j"
      }
    },
    {
      "cell_type": "code",
      "source": [
        "array_3[3, 0]"
      ],
      "metadata": {
        "id": "cCcW9LcMgURK",
        "colab": {
          "base_uri": "https://localhost:8080/"
        },
        "outputId": "4346a0c3-718c-4710-c2ee-e98430db9ffb"
      },
      "execution_count": 38,
      "outputs": [
        {
          "output_type": "execute_result",
          "data": {
            "text/plain": [
              "5"
            ]
          },
          "metadata": {},
          "execution_count": 38
        }
      ]
    },
    {
      "cell_type": "markdown",
      "source": [
        "---"
      ],
      "metadata": {
        "id": "X-egoI-xE73N"
      }
    },
    {
      "cell_type": "markdown",
      "source": [
        "# Mission 4"
      ],
      "metadata": {
        "id": "wDgUXd2GFxTG"
      }
    },
    {
      "cell_type": "markdown",
      "source": [
        "Reshape `array_1` to be a 4-row, 8-column array,\n",
        "rather than a 32-element vector.  \n",
        "Save your array under the variable `array_4`."
      ],
      "metadata": {
        "id": "A9lWaV2MF47x"
      }
    },
    {
      "cell_type": "code",
      "source": [
        "array_4 = array_1.reshape(4, 8)\n",
        "array_4"
      ],
      "metadata": {
        "id": "5xcE1Ao-gVOM",
        "colab": {
          "base_uri": "https://localhost:8080/"
        },
        "outputId": "71de82a8-2152-4914-dcdf-317b2ebbd006"
      },
      "execution_count": 36,
      "outputs": [
        {
          "output_type": "execute_result",
          "data": {
            "text/plain": [
              "array([[10, 40, 45,  5, 66, 91, 43, 75],\n",
              "       [40, 28, 55, 45, 31, 71, 67, 54],\n",
              "       [54, 35, 64, 27, 12, 93, 17, 91],\n",
              "       [50, 57, 74, 61, 86, 20, 36, 35]])"
            ]
          },
          "metadata": {},
          "execution_count": 36
        }
      ]
    },
    {
      "cell_type": "markdown",
      "source": [
        "Access for each row, the values ​​of the columns which have the index 1 to 2 included."
      ],
      "metadata": {
        "id": "e7li0x-9HJRj"
      }
    },
    {
      "cell_type": "code",
      "source": [
        "print(array_4[:, 1:3])"
      ],
      "metadata": {
        "id": "iCTmSBdhgWSy",
        "colab": {
          "base_uri": "https://localhost:8080/"
        },
        "outputId": "c92d4268-a323-4879-9745-c41dc4260c93"
      },
      "execution_count": 42,
      "outputs": [
        {
          "output_type": "stream",
          "name": "stdout",
          "text": [
            "[[40 45]\n",
            " [28 55]\n",
            " [35 64]\n",
            " [57 74]]\n"
          ]
        }
      ]
    },
    {
      "cell_type": "markdown",
      "source": [
        "Access for rows at position 1 and 2 inclusive, the values ​​of all columns."
      ],
      "metadata": {
        "id": "dhImhpqRIkfm"
      }
    },
    {
      "cell_type": "code",
      "source": [
        "print(array_4[1:3, :])"
      ],
      "metadata": {
        "id": "4hNN6Z8egZsH",
        "colab": {
          "base_uri": "https://localhost:8080/"
        },
        "outputId": "54f60344-2c4b-4069-de30-b1125e35c0c3"
      },
      "execution_count": 43,
      "outputs": [
        {
          "output_type": "stream",
          "name": "stdout",
          "text": [
            "[[40 28 55 45 31 71 67 54]\n",
            " [54 35 64 27 12 93 17 91]]\n"
          ]
        }
      ]
    },
    {
      "cell_type": "markdown",
      "source": [
        "Access for the rows which have the index 2 to 3 inclusive, to the values ​​of the columns which have the index 3 to 5 inclusive."
      ],
      "metadata": {
        "id": "r74v4LSWIJTS"
      }
    },
    {
      "cell_type": "code",
      "source": [
        "print(array_4[2:4, 3:6])"
      ],
      "metadata": {
        "id": "6nHMvCV3ga5z",
        "colab": {
          "base_uri": "https://localhost:8080/"
        },
        "outputId": "1d980745-9b26-4515-f3a6-fad209630ffc"
      },
      "execution_count": 44,
      "outputs": [
        {
          "output_type": "stream",
          "name": "stdout",
          "text": [
            "[[27 12 93]\n",
            " [61 86 20]]\n"
          ]
        }
      ]
    },
    {
      "cell_type": "markdown",
      "source": [
        "Select the first column, as well as the columns whose index is a multiple of 2."
      ],
      "metadata": {
        "id": "04wOFcQ7LScR"
      }
    },
    {
      "cell_type": "code",
      "source": [
        "print(array_4[::2, :])"
      ],
      "metadata": {
        "id": "3cCJG_uQgb5-",
        "colab": {
          "base_uri": "https://localhost:8080/"
        },
        "outputId": "b049ef41-001b-4861-b73b-c5e09ba0eebf"
      },
      "execution_count": 45,
      "outputs": [
        {
          "output_type": "stream",
          "name": "stdout",
          "text": [
            "[[10 40 45  5 66 91 43 75]\n",
            " [54 35 64 27 12 93 17 91]]\n"
          ]
        }
      ]
    },
    {
      "cell_type": "markdown",
      "source": [
        "Select columns whose index is odd."
      ],
      "metadata": {
        "id": "RiB2pjaeL3Fr"
      }
    },
    {
      "cell_type": "code",
      "source": [
        "print(array_4[1::2, :])"
      ],
      "metadata": {
        "id": "7XtaV4xGgev1",
        "colab": {
          "base_uri": "https://localhost:8080/"
        },
        "outputId": "4b4b05d6-7afd-4f92-931d-49d11a656798"
      },
      "execution_count": 46,
      "outputs": [
        {
          "output_type": "stream",
          "name": "stdout",
          "text": [
            "[[40 28 55 45 31 71 67 54]\n",
            " [50 57 74 61 86 20 36 35]]\n"
          ]
        }
      ]
    },
    {
      "cell_type": "markdown",
      "source": [
        "---"
      ],
      "metadata": {
        "id": "RlNWP8gGE-F4"
      }
    },
    {
      "cell_type": "markdown",
      "source": [
        "# Mission 5"
      ],
      "metadata": {
        "id": "YN3Nm1cnPNbO"
      }
    },
    {
      "cell_type": "markdown",
      "source": [
        "Reshape your `array_1` vector into a 3-dimensional array.\n",
        "Your 3-dimensional array should have 2 matrices, each of which has 4 rows and 4 columns.\n",
        "Save your array under the variable `array_5`."
      ],
      "metadata": {
        "id": "nRqB_vIZPSF_"
      }
    },
    {
      "cell_type": "code",
      "source": [
        "array_5 = array_1.reshape(2, 4, 4)\n",
        "print(array_5)\n",
        "array_5.ndim"
      ],
      "metadata": {
        "id": "sZtizWIxgftT",
        "colab": {
          "base_uri": "https://localhost:8080/"
        },
        "outputId": "10cdd2e7-6aca-4c57-bf36-21e69259e572"
      },
      "execution_count": 52,
      "outputs": [
        {
          "output_type": "stream",
          "name": "stdout",
          "text": [
            "[[[10 40 45  5]\n",
            "  [66 91 43 75]\n",
            "  [40 28 55 45]\n",
            "  [31 71 67 54]]\n",
            "\n",
            " [[54 35 64 27]\n",
            "  [12 93 17 91]\n",
            "  [50 57 74 61]\n",
            "  [86 20 36 35]]]\n"
          ]
        },
        {
          "output_type": "execute_result",
          "data": {
            "text/plain": [
              "3"
            ]
          },
          "metadata": {},
          "execution_count": 52
        }
      ]
    },
    {
      "cell_type": "markdown",
      "source": [
        "Use the .shape attribute to observe the number of axes for `array_5`."
      ],
      "metadata": {
        "id": "c5bKE_q2QVTU"
      }
    },
    {
      "cell_type": "code",
      "source": [
        "print(array_5.shape)\n",
        "len(array_5.shape)"
      ],
      "metadata": {
        "id": "tf6-0qrlggsF",
        "colab": {
          "base_uri": "https://localhost:8080/"
        },
        "outputId": "7db95f4f-799f-4171-9075-5c6f2f3ac666"
      },
      "execution_count": 54,
      "outputs": [
        {
          "output_type": "stream",
          "name": "stdout",
          "text": [
            "(2, 4, 4)\n"
          ]
        },
        {
          "output_type": "execute_result",
          "data": {
            "text/plain": [
              "3"
            ]
          },
          "metadata": {},
          "execution_count": 54
        }
      ]
    },
    {
      "cell_type": "markdown",
      "source": [
        "Select all values ​​from the first matrix."
      ],
      "metadata": {
        "id": "sk3eOLAxR4p7"
      }
    },
    {
      "cell_type": "code",
      "source": [
        "matrix_1 = array_5[0]\n",
        "matrix_1"
      ],
      "metadata": {
        "id": "kuCkwm2wghrE",
        "colab": {
          "base_uri": "https://localhost:8080/"
        },
        "outputId": "cecc39d9-52cf-42f8-cc0d-833b82310d96"
      },
      "execution_count": 58,
      "outputs": [
        {
          "output_type": "execute_result",
          "data": {
            "text/plain": [
              "array([[10, 40, 45,  5],\n",
              "       [66, 91, 43, 75],\n",
              "       [40, 28, 55, 45],\n",
              "       [31, 71, 67, 54]])"
            ]
          },
          "metadata": {},
          "execution_count": 58
        }
      ]
    },
    {
      "cell_type": "markdown",
      "source": [
        "Access for both matrices,\n",
        "to the values ​​corresponding to the rows at index 1 and to the columns that have positions 3 and 4."
      ],
      "metadata": {
        "id": "JrU1RDIPQhpE"
      }
    },
    {
      "cell_type": "code",
      "source": [
        "rows_1_columns_2_3 = array_5[:,1,2:4]\n",
        "print(rows_1_columns_2_3)"
      ],
      "metadata": {
        "id": "9r9PKEExgi8m",
        "colab": {
          "base_uri": "https://localhost:8080/"
        },
        "outputId": "f9877023-3466-475d-85c7-1e37f26ee011"
      },
      "execution_count": 62,
      "outputs": [
        {
          "output_type": "stream",
          "name": "stdout",
          "text": [
            "[[43 75]\n",
            " [17 91]]\n"
          ]
        }
      ]
    },
    {
      "cell_type": "markdown",
      "source": [
        "Access row values ​​at positions 2 to 3,\n",
        "columns at indexes 1 to 3 included for the second matrix only."
      ],
      "metadata": {
        "id": "O4Nbgj7zRfm5"
      }
    },
    {
      "cell_type": "code",
      "source": [
        "rows_1_2_columns_1_to_3 = array_5[1, 1:3, 1:4 ]\n",
        "print(rows_1_2_columns_1_to_3)"
      ],
      "metadata": {
        "id": "C6M1IAmlgkJA",
        "colab": {
          "base_uri": "https://localhost:8080/"
        },
        "outputId": "cd6df718-371f-4b2b-84de-dd43f927a52d"
      },
      "execution_count": 64,
      "outputs": [
        {
          "output_type": "stream",
          "name": "stdout",
          "text": [
            "[[93 17 91]\n",
            " [57 74 61]]\n"
          ]
        }
      ]
    },
    {
      "cell_type": "markdown",
      "source": [
        "\n",
        "Reshape `array_5` so that we have 8 rows and 4 columns."
      ],
      "metadata": {
        "id": "odAFpIAwSB-F"
      }
    },
    {
      "cell_type": "code",
      "source": [
        "array_6 = array_5.reshape(8, 4)\n",
        "array_6"
      ],
      "metadata": {
        "id": "0OvfG5ffglMa",
        "colab": {
          "base_uri": "https://localhost:8080/"
        },
        "outputId": "0c1524b2-6d34-433f-877d-531cd6013815"
      },
      "execution_count": 65,
      "outputs": [
        {
          "output_type": "execute_result",
          "data": {
            "text/plain": [
              "array([[10, 40, 45,  5],\n",
              "       [66, 91, 43, 75],\n",
              "       [40, 28, 55, 45],\n",
              "       [31, 71, 67, 54],\n",
              "       [54, 35, 64, 27],\n",
              "       [12, 93, 17, 91],\n",
              "       [50, 57, 74, 61],\n",
              "       [86, 20, 36, 35]])"
            ]
          },
          "metadata": {},
          "execution_count": 65
        }
      ]
    }
  ]
}