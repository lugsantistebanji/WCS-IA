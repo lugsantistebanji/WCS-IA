{
  "nbformat": 4,
  "nbformat_minor": 0,
  "metadata": {
    "colab": {
      "provenance": [],
      "include_colab_link": true
    },
    "kernelspec": {
      "name": "python3",
      "display_name": "Python 3"
    },
    "language_info": {
      "name": "python"
    }
  },
  "cells": [
    {
      "cell_type": "markdown",
      "metadata": {
        "id": "view-in-github",
        "colab_type": "text"
      },
      "source": [
        "<a href=\"https://colab.research.google.com/github/lugsantistebanji/WCS-IA/blob/main/WCS_IA_Quetes_Numpy_vs_Python.ipynb\" target=\"_parent\"><img src=\"https://colab.research.google.com/assets/colab-badge.svg\" alt=\"Open In Colab\"/></a>"
      ]
    },
    {
      "cell_type": "markdown",
      "source": [
        "## Vectorized operations"
      ],
      "metadata": {
        "id": "8msPqS8imUVt"
      }
    },
    {
      "cell_type": "markdown",
      "source": [
        "As you could see in the quest, one of the great strengths of Numpy are the vectorized operations. Numpy will not perform loops to do calculations, but rather perform operations in parallel.   \n",
        "You can look at it this way:  \n",
        "* Python --> loop --> serial (actions one after the other)\n",
        "* Numpy --> vectorized operation --> in parallel (actions next to each other)"
      ],
      "metadata": {
        "id": "3UxDqS97mXiv"
      }
    },
    {
      "cell_type": "markdown",
      "source": [
        "# Mission 1"
      ],
      "metadata": {
        "id": "jPO68Q9pnUIy"
      }
    },
    {
      "cell_type": "code",
      "source": [],
      "metadata": {
        "id": "RnhcKH1Cy7en"
      },
      "execution_count": null,
      "outputs": []
    },
    {
      "cell_type": "markdown",
      "source": [
        "Considering the object below, we want to calculate the sum for each row.  \n",
        "That is, return the sum of `12 + 5`, then `8 + 32` etc...  \n",
        "Find a way to return the sums of the 4 rows in a list, coding in Python. You must have 4 values in this list."
      ],
      "metadata": {
        "id": "4WffbDfcnwkZ"
      }
    },
    {
      "cell_type": "code",
      "source": [
        "my_list = [\n",
        "           [12,5],\n",
        "           [8,32],\n",
        "           [25,6],\n",
        "           [7,14]\n",
        "]\n",
        "\n",
        "\n",
        "def get_sum_in_row(my_list: list) -> list:\n",
        "    new_list = []\n",
        "    for row in my_list:\n",
        "        new_list.append(sum(row))\n",
        "\n",
        "    return new_list\n",
        "\n",
        "print(get_sum_in_row(my_list))"
      ],
      "metadata": {
        "id": "Rkvky1nUmHj_",
        "colab": {
          "base_uri": "https://localhost:8080/"
        },
        "outputId": "f73349c8-28cd-4515-f62f-29397022dcad"
      },
      "execution_count": 32,
      "outputs": [
        {
          "output_type": "stream",
          "name": "stdout",
          "text": [
            "[17, 40, 31, 21]\n"
          ]
        }
      ]
    },
    {
      "cell_type": "markdown",
      "source": [
        "Now do the same thing, but this time coding in `Numpy`.  \n",
        "`index`: You must first convert `my_list` to ndarray."
      ],
      "metadata": {
        "id": "L3WVhtI_oU6S"
      }
    },
    {
      "cell_type": "markdown",
      "source": [
        "**One Solution :**"
      ],
      "metadata": {
        "id": "jNY3AM5B_7KV"
      }
    },
    {
      "cell_type": "code",
      "source": [
        "import numpy as np\n",
        "\n",
        "my_list = [\n",
        "           [12,5],\n",
        "           [8,32],\n",
        "           [25,6],\n",
        "           [7,14]\n",
        "]\n",
        "\n",
        "def get_sum_in_row_np(my_list: list) -> np.array:\n",
        "    np_array = np.array(my_list)\n",
        "    sum_array = np.empty(len(my_list), np.int64)\n",
        "\n",
        "    for index, row in enumerate(np_array):\n",
        "        sum_array[index] = row.sum()\n",
        "\n",
        "    return sum_array\n",
        "\n",
        "print(get_sum_in_row_np(my_list))"
      ],
      "metadata": {
        "id": "HIv2CRVRob-Y",
        "colab": {
          "base_uri": "https://localhost:8080/"
        },
        "outputId": "fad312ed-11c4-4a5c-c91d-8cdac47e7b4b"
      },
      "execution_count": 35,
      "outputs": [
        {
          "output_type": "stream",
          "name": "stdout",
          "text": [
            "[17 40 31 21]\n"
          ]
        }
      ]
    },
    {
      "cell_type": "markdown",
      "source": [
        "**Other solution :**\n"
      ],
      "metadata": {
        "id": "4rP4l_tSACC5"
      }
    },
    {
      "cell_type": "code",
      "source": [
        "import numpy as np\n",
        "\n",
        "my_list = [\n",
        "           [12,5],\n",
        "           [8,32],\n",
        "           [25,6],\n",
        "           [7,14]\n",
        "]\n",
        "\n",
        "def get_sum_in_row_np_2(my_list: list) -> np.array :\n",
        "    np_array = np.array(my_list)\n",
        "    np_1 = np_array[:, 0]\n",
        "    np_2 = np_array[:, 1]\n",
        "    return np_1 + np_2"
      ],
      "metadata": {
        "colab": {
          "base_uri": "https://localhost:8080/"
        },
        "id": "so0tDIyuAUyw",
        "outputId": "00932d4b-0484-4538-df97-97fdbbead9a6"
      },
      "execution_count": 25,
      "outputs": [
        {
          "output_type": "stream",
          "name": "stdout",
          "text": [
            "[17 40 31 21]\n"
          ]
        }
      ]
    },
    {
      "cell_type": "markdown",
      "source": [
        "# Mission 2"
      ],
      "metadata": {
        "id": "hcIV_9nypVg7"
      }
    },
    {
      "cell_type": "markdown",
      "source": [
        "Find a way to return the sums of the 2 columns in a list, by coding in Python. You must have 2 values in this list."
      ],
      "metadata": {
        "id": "uEawd8a9pbrH"
      }
    },
    {
      "cell_type": "code",
      "source": [
        "my_list = [\n",
        "           [12,5],\n",
        "           [8,32],\n",
        "           [25,6],\n",
        "           [7,14]\n",
        "]\n",
        "\n",
        "def get_sum_in_column(my_list: list) -> list:\n",
        "    column_1 = 0\n",
        "    column_2 = 0\n",
        "\n",
        "    for row in my_list:\n",
        "        column_1 += row[0]\n",
        "        column_2 += row[1]\n",
        "\n",
        "    return [column_1, column_2]\n",
        "\n",
        "\n",
        "print(get_sum_in_column(my_list))"
      ],
      "metadata": {
        "id": "Pfvwbn-kpXEw",
        "colab": {
          "base_uri": "https://localhost:8080/"
        },
        "outputId": "be59f11e-2b20-4167-9870-099c988256ff"
      },
      "execution_count": 36,
      "outputs": [
        {
          "output_type": "stream",
          "name": "stdout",
          "text": [
            "[52, 57]\n"
          ]
        }
      ]
    },
    {
      "cell_type": "markdown",
      "source": [
        "Now do the same thing, but coding this time in Numpy.  \n",
        "This time you have to propose 2 different solutions, coding in Numpy each time.\n"
      ],
      "metadata": {
        "id": "aj-Vz9hRqhqH"
      }
    },
    {
      "cell_type": "markdown",
      "source": [
        "**One solution :**"
      ],
      "metadata": {
        "id": "OHEDOLHgDqNv"
      }
    },
    {
      "cell_type": "code",
      "source": [
        "import numpy as np\n",
        "\n",
        "my_list = [\n",
        "           [12,5],\n",
        "           [8,32],\n",
        "           [25,6],\n",
        "           [7,14]\n",
        "]\n",
        "\n",
        "def get_sum_in_column_np(my_list: list) -> np.array :\n",
        "    np_array = np.array(my_list)\n",
        "    np_sum = np.zeros(2, dtype=np.int64)\n",
        "\n",
        "    for row in my_list:\n",
        "        np_sum += row\n",
        "\n",
        "    return np_sum\n",
        "\n",
        "print(get_sum_in_column_np(my_list))"
      ],
      "metadata": {
        "id": "pSTnC3PkqlXB",
        "colab": {
          "base_uri": "https://localhost:8080/"
        },
        "outputId": "d31054e0-65ec-4ab6-f3c0-d860d1573422"
      },
      "execution_count": 39,
      "outputs": [
        {
          "output_type": "stream",
          "name": "stdout",
          "text": [
            "[52 57]\n"
          ]
        }
      ]
    },
    {
      "cell_type": "markdown",
      "source": [
        "**Other solution :**"
      ],
      "metadata": {
        "id": "nxB9ZimnEpxW"
      }
    },
    {
      "cell_type": "code",
      "source": [
        "import numpy as np\n",
        "\n",
        "my_list = [\n",
        "           [12,5],\n",
        "           [8,32],\n",
        "           [25,6],\n",
        "           [7,14]\n",
        "]\n",
        "\n",
        "def get_sum_in_column_np_2(my_list: list) -> np.array :\n",
        "    np_array = np.array(my_list)\n",
        "    return np.array([np_array[:, 0].sum(), np_array[:, 1].sum()])\n",
        "\n",
        "print(get_sum_in_column_np_2(my_list))"
      ],
      "metadata": {
        "colab": {
          "base_uri": "https://localhost:8080/"
        },
        "id": "N7jWxv3pEpDZ",
        "outputId": "722ac65b-77ee-445e-e05e-8fb00dd5a8fc"
      },
      "execution_count": 40,
      "outputs": [
        {
          "output_type": "stream",
          "name": "stdout",
          "text": [
            "[52 57]\n"
          ]
        }
      ]
    },
    {
      "cell_type": "markdown",
      "source": [
        "# Mission 3"
      ],
      "metadata": {
        "id": "hjEZwMBirvL0"
      }
    },
    {
      "cell_type": "markdown",
      "source": [
        "This time, you will have to return the sum of all the elements included in the object below, coding in `Python`."
      ],
      "metadata": {
        "id": "5gNu1KM8r03j"
      }
    },
    {
      "cell_type": "code",
      "source": [
        "my_list = [\n",
        "           [12,5],\n",
        "           [8,32],\n",
        "           [25,6],\n",
        "           [7,14]\n",
        "]\n",
        "\n",
        "def get_total_sum(my_list: list) -> int:\n",
        "    total = 0\n",
        "\n",
        "    for row in my_list:\n",
        "        total += sum(row)\n",
        "    return total\n",
        "\n",
        "print(get_total_sum(my_list))"
      ],
      "metadata": {
        "id": "lkJFTJucr0Nz",
        "colab": {
          "base_uri": "https://localhost:8080/"
        },
        "outputId": "499a5556-c3c3-4724-dc49-743196732f04"
      },
      "execution_count": 42,
      "outputs": [
        {
          "output_type": "stream",
          "name": "stdout",
          "text": [
            "109\n"
          ]
        }
      ]
    },
    {
      "cell_type": "markdown",
      "source": [
        "As you might expect, you'll have to do this by coding in Numpy.\n",
        "You can propose only one solution. There is a very simple one, and a very effective one too."
      ],
      "metadata": {
        "id": "OpdM8v4vsSvq"
      }
    },
    {
      "cell_type": "code",
      "source": [
        "import numpy as np\n",
        "\n",
        "my_list = [\n",
        "           [12,5],\n",
        "           [8,32],\n",
        "           [25,6],\n",
        "           [7,14]\n",
        "]\n",
        "\n",
        "\n",
        "def get_total_sum_np(my_list: list) -> int:\n",
        "    return np.array(my_list).sum()\n",
        "\n",
        "print(get_total_sum_np(my_list))"
      ],
      "metadata": {
        "id": "BWVIH2GAuw_M",
        "colab": {
          "base_uri": "https://localhost:8080/"
        },
        "outputId": "0196ded7-8484-437a-fdf2-217a544152e2"
      },
      "execution_count": 48,
      "outputs": [
        {
          "output_type": "stream",
          "name": "stdout",
          "text": [
            "109\n"
          ]
        }
      ]
    },
    {
      "cell_type": "markdown",
      "source": [
        "# Mission 4"
      ],
      "metadata": {
        "id": "sJGBP8XmvNK-"
      }
    },
    {
      "cell_type": "markdown",
      "source": [
        "Find a way to calculate the following statistical indicators using NumPy functions on the array bellow.\n",
        "- mode\n",
        "- median\n",
        "- average\n",
        "- the range (the difference between max and min)\n",
        "- standard deviation\n",
        "- variance\n",
        "- the different quantiles\n",
        "\n"
      ],
      "metadata": {
        "id": "w6341JpRmDqw"
      }
    },
    {
      "cell_type": "code",
      "execution_count": 85,
      "metadata": {
        "id": "yXL0siorlg_b",
        "colab": {
          "base_uri": "https://localhost:8080/"
        },
        "outputId": "c7a83bae-84b8-4d3e-a64d-70c99dfedc43"
      },
      "outputs": [
        {
          "output_type": "stream",
          "name": "stdout",
          "text": [
            "Mode: [34]\n",
            "Median: 55.5\n",
            "Average: 50.15\n",
            "Range: 94\n",
            "Standard deviation: 26.03\n",
            "Variance: 677.63\n",
            "Quartiles de [ 4  5  9 27 34 34 34 42 42 55 56 59 61 63 65 74 78 81 82 98]\n",
            "    Q1: 34.0\n",
            "    Q2: 55.5\n",
            "    Q3: 67.25\n",
            "\n"
          ]
        },
        {
          "output_type": "execute_result",
          "data": {
            "text/plain": [
              "69.5"
            ]
          },
          "metadata": {},
          "execution_count": 85
        }
      ],
      "source": [
        "import numpy as np\n",
        "\n",
        "array = [5, 34, 74, 65, 98, 81, 34, 61, 9, 4, 27, 42, 42, 78, 34, 59, 56, 82, 55, 63]\n",
        "\n",
        "np_array = np.array(array)\n",
        "unique_values, counts = np.unique(np_array, return_counts=True)\n",
        "np_stack = np.column_stack((unique_values, counts))\n",
        "\n",
        "\n",
        "print(f\"Mode: {np.array([k for (k,v) in np_stack if v == counts.max()])}\")\n",
        "print(f\"Median: {np.median(array)}\")\n",
        "print(f\"Average: {np.mean(np_array)}\")\n",
        "print(f\"Range: {np.ptp(np_array)}\")\n",
        "print(f\"Standard deviation: {round(np.std(np_array), 2)}\")\n",
        "print(f\"Variance: {round(np.var(np_array),2)}\")\n",
        "print(f\"\"\"Quartiles de {np.sort(np_array)}\n",
        "    Q1: {np.quantile(np_array, 0.25)}\n",
        "    Q2: {np.quantile(np_array, 0.5)}\n",
        "    Q3: {np.quantile(np_array, 0.75)}\n",
        "\"\"\")\n",
        "(65+74)/2"
      ]
    },
    {
      "cell_type": "code",
      "source": [],
      "metadata": {
        "id": "x8nzR0hsamnb"
      },
      "execution_count": null,
      "outputs": []
    }
  ]
}