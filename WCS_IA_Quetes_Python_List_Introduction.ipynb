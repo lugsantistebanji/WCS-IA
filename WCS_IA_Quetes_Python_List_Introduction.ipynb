{
  "nbformat": 4,
  "nbformat_minor": 0,
  "metadata": {
    "colab": {
      "provenance": [],
      "include_colab_link": true
    },
    "kernelspec": {
      "name": "python3",
      "display_name": "Python 3"
    },
    "language_info": {
      "name": "python"
    }
  },
  "cells": [
    {
      "cell_type": "markdown",
      "metadata": {
        "id": "view-in-github",
        "colab_type": "text"
      },
      "source": [
        "<a href=\"https://colab.research.google.com/github/lugsantistebanji/WCS-IA/blob/main/WCS_IA_Quetes_Python_List_Introduction.ipynb\" target=\"_parent\"><img src=\"https://colab.research.google.com/assets/colab-badge.svg\" alt=\"Open In Colab\"/></a>"
      ]
    },
    {
      "cell_type": "markdown",
      "source": [
        "\n",
        "\n",
        "---\n",
        "\n",
        "\n",
        "---\n",
        "\n",
        "\n",
        "\n",
        "\n",
        "# Mission 1"
      ],
      "metadata": {
        "id": "uDlWe7PiBUjB"
      }
    },
    {
      "cell_type": "markdown",
      "source": [
        "For each cell, execute the code and answer the question before moving on to the next.\n",
        "\n",
        "\n",
        "\n",
        "---\n",
        "\n"
      ],
      "metadata": {
        "id": "Cp5MIVdGBwBW"
      }
    },
    {
      "cell_type": "code",
      "execution_count": 7,
      "metadata": {
        "id": "C66ySw9N3hfc",
        "colab": {
          "base_uri": "https://localhost:8080/"
        },
        "outputId": "094a15cc-d6e3-432d-b490-96e759ae9896"
      },
      "outputs": [
        {
          "output_type": "stream",
          "name": "stdout",
          "text": [
            "(0, 'Fredy')\n",
            "<class 'tuple'>\n",
            "(1, 'Nicolas')\n",
            "<class 'tuple'>\n",
            "(2, 'Alexandre')\n",
            "<class 'tuple'>\n"
          ]
        }
      ],
      "source": [
        "names = [\"Fredy\", \"Nicolas\", \"Alexandre\"]\n",
        "\n",
        "for i in enumerate(names):\n",
        "  print(i)\n",
        "  print(type(i))"
      ]
    },
    {
      "cell_type": "markdown",
      "source": [
        "**1. What type of object is returned as output?**  \n",
        "Hint: You can use `type(i)`.\n",
        "\n",
        "**Answer:**\n",
        "\n",
        "It's a tuple object."
      ],
      "metadata": {
        "id": "m0NGV7X-B5Q6"
      }
    },
    {
      "cell_type": "markdown",
      "source": [
        "\n",
        "\n",
        "---\n",
        "\n"
      ],
      "metadata": {
        "id": "fYhV2coq68GO"
      }
    },
    {
      "cell_type": "code",
      "source": [
        "for i, val in enumerate(names):\n",
        "  print(val)"
      ],
      "metadata": {
        "colab": {
          "base_uri": "https://localhost:8080/"
        },
        "id": "mONbGEMtCe5S",
        "outputId": "dcbf8b3f-0faf-4867-d492-8687da9f181a"
      },
      "execution_count": 8,
      "outputs": [
        {
          "output_type": "stream",
          "name": "stdout",
          "text": [
            "Fredy\n",
            "Nicolas\n",
            "Alexandre\n"
          ]
        }
      ]
    },
    {
      "cell_type": "markdown",
      "source": [
        "**2.**\n",
        "\n",
        "- **What does i correspond to?**\n",
        "\n",
        "  **Answer :** The variable `i` corresponds to the first element of the tuple `(i, val)`, and the `index` is the index number provided by the enumerate function.\n",
        "\n",
        "- **What does val correspod to?**\n",
        "  \n",
        "  **Answer :**\n",
        "  The variable `val` corresponds to the second element of the tuple `(i, val)`, and it represents the value from the `names` list.\n",
        "\n",
        "- **Why is it so?**\n",
        "  \n",
        "  **Answer :** Print each name on a new line from the `names` list."
      ],
      "metadata": {
        "id": "O1J3Y5xICnyE"
      }
    },
    {
      "cell_type": "markdown",
      "source": [
        "\n",
        "\n",
        "---\n",
        "\n"
      ],
      "metadata": {
        "id": "JNLy96PR7GJL"
      }
    },
    {
      "cell_type": "code",
      "source": [
        "for val, i in enumerate(names):\n",
        "  print(val)"
      ],
      "metadata": {
        "colab": {
          "base_uri": "https://localhost:8080/"
        },
        "id": "OaKBK889C9Q1",
        "outputId": "44c0f2a8-1159-4024-e957-8f0e977242aa"
      },
      "execution_count": 9,
      "outputs": [
        {
          "output_type": "stream",
          "name": "stdout",
          "text": [
            "0\n",
            "1\n",
            "2\n"
          ]
        }
      ]
    },
    {
      "cell_type": "markdown",
      "source": [
        "**3. This time, `i` returns first names and `val` returns numbers. Why is it so?**\n",
        "\n",
        "**Answer :**\n",
        "Because the order *- val, i -* is not the same as * -i, val -* the first variable name (in this case, 'val') corresponds to the second element in each tuple ('index, value') returned by the enumerate object. In this context, 'val' represents the index (a number), and 'i' represents the value (an element) from the 'names' list."
      ],
      "metadata": {
        "id": "YhhuOPblDIqq"
      }
    },
    {
      "cell_type": "markdown",
      "source": [
        "\n",
        "\n",
        "---\n",
        "\n"
      ],
      "metadata": {
        "id": "5Ms9SBZRCsWA"
      }
    },
    {
      "cell_type": "markdown",
      "source": [
        "**4.**\n",
        "- **What does the built in function `enumerate` do ?**\n",
        "\n",
        "  **Answer :** The *enumerate function* returns an enumerate object, which is an iterable of tuples. Each tuple contains two elements: the first element is a number (used to identify the position or index of the corresponding element in the source list), and the second element is the value (an element) from the source list.\n",
        "\n",
        "\n",
        "- **In what cases can it be useful ?**\n",
        "\n",
        "  When we want to know and use the position (index) of every element in an iterable object (such as a list, tuple, or dictionary), we can use the enumerate function."
      ],
      "metadata": {
        "id": "PKGOxIHVDWGW"
      }
    },
    {
      "cell_type": "markdown",
      "source": [
        "---\n",
        "---\n",
        "\n",
        "# Mission 2"
      ],
      "metadata": {
        "id": "pCDLjuMPDk_D"
      }
    },
    {
      "cell_type": "markdown",
      "source": [
        "---"
      ],
      "metadata": {
        "id": "IivBip-tIf-V"
      }
    },
    {
      "cell_type": "code",
      "source": [
        "test_list = ['Hi', 'my', 'name', 'is', \"hi\", \"my\",\"name\", \"is\", \"chickychicky\"]\n",
        "\n",
        "test_list[8] = \"Marshall\"\n",
        "\n",
        "test_list"
      ],
      "metadata": {
        "colab": {
          "base_uri": "https://localhost:8080/"
        },
        "id": "OUicSHpGDHQB",
        "outputId": "5dec89de-8511-4275-fb26-6d32e2f80778"
      },
      "execution_count": 10,
      "outputs": [
        {
          "output_type": "execute_result",
          "data": {
            "text/plain": [
              "['Hi', 'my', 'name', 'is', 'hi', 'my', 'name', 'is', 'Marshall']"
            ]
          },
          "metadata": {},
          "execution_count": 10
        }
      ]
    },
    {
      "cell_type": "code",
      "source": [],
      "metadata": {
        "id": "79XjgEHLIeoC"
      },
      "execution_count": 10,
      "outputs": []
    },
    {
      "cell_type": "markdown",
      "source": [
        "**1.**\n",
        "- **What does the 8 in square brackets mean ?**\n",
        "  \n",
        "  **Answer :**\n",
        "  Call the element at position 8 (ninth element) of the list, if this exists.\n",
        "\n",
        "- **What action has been performed ?**\n",
        "\n",
        "  **Answer :**\n",
        "  In this case, the element at position 8 is replaced with the value \"Marshall\"."
      ],
      "metadata": {
        "id": "5vU7vFyJFjf_"
      }
    },
    {
      "cell_type": "markdown",
      "source": [
        "---"
      ],
      "metadata": {
        "id": "L-1GOiWfIddT"
      }
    },
    {
      "cell_type": "code",
      "source": [
        "for i in range(4):\n",
        "  print(test_list[i])"
      ],
      "metadata": {
        "colab": {
          "base_uri": "https://localhost:8080/"
        },
        "id": "wIPAn8qH-qwW",
        "outputId": "501ccf47-fd80-473b-8a00-58c3ac78862e"
      },
      "execution_count": 11,
      "outputs": [
        {
          "output_type": "stream",
          "name": "stdout",
          "text": [
            "Hi\n",
            "my\n",
            "name\n",
            "is\n"
          ]
        }
      ]
    },
    {
      "cell_type": "markdown",
      "source": [
        "**2.**\n",
        "- **What does `range(4)` mean ?**\n",
        "  \n",
        "  **Answer :**\n",
        "  The `range` function returns a `range object`, which is similar to a numeric list and contains a sequence of numbers with a defined pattern. In this particular case, `range(4)` returns an iterable object that behaves like `[0, 1, 2, 3]`.\n",
        "\n",
        "- **Why are only the first 4 elements of `test_list` displayed ?**\n",
        "  \n",
        "  **Answer :**\n",
        "  Because the result of `range(4)` contains only four elements: `0, 1, 2, and 3`\n"
      ],
      "metadata": {
        "id": "BVh-q0nmGHhB"
      }
    },
    {
      "cell_type": "markdown",
      "source": [
        "---"
      ],
      "metadata": {
        "id": "l2mfg-LtIZD1"
      }
    },
    {
      "cell_type": "code",
      "source": [],
      "metadata": {
        "id": "FcgJYEnxFwZJ"
      },
      "execution_count": 11,
      "outputs": []
    },
    {
      "cell_type": "code",
      "source": [
        "for i in range(2, 8, 2):\n",
        "  print(test_list[i])"
      ],
      "metadata": {
        "colab": {
          "base_uri": "https://localhost:8080/"
        },
        "id": "JS77sJmx-1QN",
        "outputId": "6229564c-498a-45ad-e491-ec690504f53e"
      },
      "execution_count": 12,
      "outputs": [
        {
          "output_type": "stream",
          "name": "stdout",
          "text": [
            "name\n",
            "hi\n",
            "name\n"
          ]
        }
      ]
    },
    {
      "cell_type": "markdown",
      "source": [
        "**3.**\n",
        "- **What does `range(2,8,2)` mean ?**\n",
        "\n",
        "  **Answer :**\n",
        "  `range(2, 8, 2)` returns a sequence from 2 to 8 (not included),`with a step of 2. In other words, ``ange(2, 8, 2)` returns an iterable that contains the sequence `2, 4, and 6`.\n",
        "`\n",
        "- **Why are only the elements 'name', 'hi' and 'name' displayed?**\n",
        "\n",
        "  **Answer :**\n",
        "  Because in the `for` loop, we print only the elements at positions `2, 4, and 6` of the `test_list` list."
      ],
      "metadata": {
        "id": "VO83ul-zGvFY"
      }
    },
    {
      "cell_type": "markdown",
      "source": [
        "---\n",
        "---"
      ],
      "metadata": {
        "id": "IFp2-uyVIaPS"
      }
    },
    {
      "cell_type": "markdown",
      "source": [
        "# Mission 3"
      ],
      "metadata": {
        "id": "VUR6EDHmHAbn"
      }
    },
    {
      "cell_type": "code",
      "source": [
        "numbers = [2,3,1,5,9]\n",
        "\n",
        "for i in range(10,15):\n",
        "  numbers.append(i)\n",
        "\n",
        "numbers"
      ],
      "metadata": {
        "colab": {
          "base_uri": "https://localhost:8080/"
        },
        "id": "DsNTsY3iGecu",
        "outputId": "c042c95d-cb88-4378-82c4-85e8a25f8966"
      },
      "execution_count": 13,
      "outputs": [
        {
          "output_type": "execute_result",
          "data": {
            "text/plain": [
              "[2, 3, 1, 5, 9, 10, 11, 12, 13, 14]"
            ]
          },
          "metadata": {},
          "execution_count": 13
        }
      ]
    },
    {
      "cell_type": "markdown",
      "source": [
        "**1.**\n",
        "- **What does `range(10,15)` mean ?**\n",
        "\n",
        "  **Answer :**\n",
        "  `range(10, 15)` generates an iterable object that contains the sequence starting from 10 and ending at 14.\n",
        "\n",
        "- **What is the purpose of the method `append()` ?**\n",
        "  \n",
        "  **Answer :**\n",
        "  The `append()` method adds the element (passed as a argument to the method) to the end of the list. In this particular case add the elements `10, 11, 12, 13, and 14` to the list `[2, 3, 1, 5, 9]` obtains the final list `[2, 3, 1, 5, 9, 10, 11, 12, 13, 14]`\n",
        "\n",
        "\n",
        "  "
      ],
      "metadata": {
        "id": "QsekBYrWHwQR"
      }
    },
    {
      "cell_type": "markdown",
      "source": [
        "**2. What is the purpose of the `del` command ?**\n",
        "\n",
        "**Answer :**\n",
        "The `del` command remove a list or the element of the specified index."
      ],
      "metadata": {
        "id": "v23Vk1pcIGM0"
      }
    },
    {
      "cell_type": "markdown",
      "source": [
        "# Mission 4"
      ],
      "metadata": {
        "id": "Kfh_ZpPVIi2i"
      }
    },
    {
      "cell_type": "code",
      "source": [
        "import random\n",
        "\n",
        "random.randint(0,10)"
      ],
      "metadata": {
        "colab": {
          "base_uri": "https://localhost:8080/"
        },
        "id": "VOe2C7USID1Y",
        "outputId": "954ae83e-9923-47bd-e691-25b2b76fd597"
      },
      "execution_count": 14,
      "outputs": [
        {
          "output_type": "execute_result",
          "data": {
            "text/plain": [
              "0"
            ]
          },
          "metadata": {},
          "execution_count": 14
        }
      ]
    },
    {
      "cell_type": "markdown",
      "source": [
        "**1. What can the method `randint()` do ?**\n",
        "\n",
        "**Answer :**\n",
        "Returns a random integer. In this particular case, randint(0, 10) returns a random integer between 0 and 10 (inclusive)."
      ],
      "metadata": {
        "id": "XlwR6lHYJRK0"
      }
    },
    {
      "cell_type": "code",
      "source": [],
      "metadata": {
        "id": "dBEHENePJKF_"
      },
      "execution_count": 14,
      "outputs": []
    },
    {
      "cell_type": "markdown",
      "source": [
        "**2. What can the method `.insert()` do ?**\n",
        "\n",
        "**Answer :** The `insert` method takes two parameters: `i` (the index in the list) and `x` (the value to insert at position `i`). To use this method, you need to call it with both arguments."
      ],
      "metadata": {
        "id": "jnrvSzWOJ0ro"
      }
    },
    {
      "cell_type": "markdown",
      "source": [
        "---\n",
        "---"
      ],
      "metadata": {
        "id": "x1odhWZhx5WU"
      }
    },
    {
      "cell_type": "markdown",
      "source": [
        "# Mission 5\n",
        "\n",
        "---"
      ],
      "metadata": {
        "id": "05RWlwppKZfA"
      }
    },
    {
      "cell_type": "code",
      "source": [
        "test_list = ['Hi', 'my', 'name', 'is', \"hi\", \"my\",\"name\", \"is\", \"chickychicky\"]\n",
        "\n",
        "test_list = \" \".join(test_list)\n",
        "\n",
        "test_list"
      ],
      "metadata": {
        "colab": {
          "base_uri": "https://localhost:8080/",
          "height": 35
        },
        "id": "N7uoWox_KPRW",
        "outputId": "90379ee7-75e1-4aa5-86cc-58d9f23b1755"
      },
      "execution_count": 15,
      "outputs": [
        {
          "output_type": "execute_result",
          "data": {
            "text/plain": [
              "'Hi my name is hi my name is chickychicky'"
            ],
            "application/vnd.google.colaboratory.intrinsic+json": {
              "type": "string"
            }
          },
          "metadata": {},
          "execution_count": 15
        }
      ]
    },
    {
      "cell_type": "markdown",
      "source": [
        "**1.**\n",
        "- **What can the `.join()` method do ?**\n",
        "\n",
        "  **Answer :** The `join` method joins a list of strings using the string object as a separator.\n",
        "\n",
        "- **What is the type of `test_list` before using `.join()`?**\n",
        "\n",
        "  **Answer :** The `test_list` is a list of strings.\n",
        "\n",
        "- **What is the type of `test_list` after using `.join()`?**\n",
        "\n",
        "  **Answer :** After using the `join` method, the `test_list` is transformed into a string object."
      ],
      "metadata": {
        "id": "dRXmNBFSLRnv"
      }
    },
    {
      "cell_type": "markdown",
      "source": [
        "---"
      ],
      "metadata": {
        "id": "-jK9ftY60jS-"
      }
    },
    {
      "cell_type": "code",
      "source": [
        "christmas = \"Noël c'est bien, mais attention à ne pas manger trop de chocolat. On le sait, mais on le fais à chaque fois. C'est la vie\"\n",
        "\n",
        "christmas.split()"
      ],
      "metadata": {
        "id": "kesRy9ZrLFFF",
        "colab": {
          "base_uri": "https://localhost:8080/"
        },
        "outputId": "fe7b533b-8310-4c5a-8419-e1288c1b79b1"
      },
      "execution_count": 16,
      "outputs": [
        {
          "output_type": "execute_result",
          "data": {
            "text/plain": [
              "['Noël',\n",
              " \"c'est\",\n",
              " 'bien,',\n",
              " 'mais',\n",
              " 'attention',\n",
              " 'à',\n",
              " 'ne',\n",
              " 'pas',\n",
              " 'manger',\n",
              " 'trop',\n",
              " 'de',\n",
              " 'chocolat.',\n",
              " 'On',\n",
              " 'le',\n",
              " 'sait,',\n",
              " 'mais',\n",
              " 'on',\n",
              " 'le',\n",
              " 'fais',\n",
              " 'à',\n",
              " 'chaque',\n",
              " 'fois.',\n",
              " \"C'est\",\n",
              " 'la',\n",
              " 'vie']"
            ]
          },
          "metadata": {},
          "execution_count": 16
        }
      ]
    },
    {
      "cell_type": "markdown",
      "source": [
        "**2.**\n",
        "- **What can the `.split()` method do ?**\n",
        "\n",
        "  **Answer**: The `split` method of a `string object` separates the string using the separator argument as the `delimiter` and returns a list of all the substrings found after the split. When the `split` method is called with no arguments, the string is separated into individual characters.\n",
        "\n",
        "- **What is the type of `christmas` before using `.split()` ?**  \n",
        "\n",
        "  **Answer :**\n",
        "  The type is `str` or string.\n",
        "\n",
        "- **What is the type of `christmas` after using `.split()` ?**  \n",
        "\n",
        "  **Answer :**\n",
        "  The type is `str`, it doesn't change. The `split` method does not modify the `string object` but returns a list of strings."
      ],
      "metadata": {
        "id": "seiR7Cp5MgMA"
      }
    },
    {
      "cell_type": "markdown",
      "source": [
        "---"
      ],
      "metadata": {
        "id": "JHghBYVo0m0-"
      }
    },
    {
      "cell_type": "code",
      "source": [
        "christmas = \"Noël c'est bien, mais attention à ne pas manger trop de chocolat. On le sait, mais on le fait à chaque fois. C'est la vie\"\n",
        "\n",
        "\n",
        "christmas.split(\"à\")"
      ],
      "metadata": {
        "id": "Ta5-JE99MV7F",
        "colab": {
          "base_uri": "https://localhost:8080/"
        },
        "outputId": "f8a687d7-8840-49cb-d8c3-cab506ee4359"
      },
      "execution_count": 17,
      "outputs": [
        {
          "output_type": "execute_result",
          "data": {
            "text/plain": [
              "[\"Noël c'est bien, mais attention \",\n",
              " ' ne pas manger trop de chocolat. On le sait, mais on le fait ',\n",
              " \" chaque fois. C'est la vie\"]"
            ]
          },
          "metadata": {},
          "execution_count": 17
        }
      ]
    },
    {
      "cell_type": "markdown",
      "source": [
        "**3. Why does the `.split()` method split the `string` into 3 elements?**\n",
        "\n",
        "**Answer :**\n",
        "Because there are only two `à` characters in the `christmas` string and the `split` method is called with `à` as the argument for the `delimiter` parameter."
      ],
      "metadata": {
        "id": "hfyAmMrONAWj"
      }
    }
  ]
}