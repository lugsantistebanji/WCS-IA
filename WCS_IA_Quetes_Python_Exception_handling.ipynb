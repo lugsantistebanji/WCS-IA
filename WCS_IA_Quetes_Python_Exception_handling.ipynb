{
  "nbformat": 4,
  "nbformat_minor": 0,
  "metadata": {
    "colab": {
      "provenance": [],
      "include_colab_link": true
    },
    "kernelspec": {
      "name": "python3",
      "display_name": "Python 3"
    },
    "language_info": {
      "name": "python"
    }
  },
  "cells": [
    {
      "cell_type": "markdown",
      "metadata": {
        "id": "view-in-github",
        "colab_type": "text"
      },
      "source": [
        "<a href=\"https://colab.research.google.com/github/lugsantistebanji/WCS-IA/blob/main/WCS_IA_Quetes_Python_Exception_handling.ipynb\" target=\"_parent\"><img src=\"https://colab.research.google.com/assets/colab-badge.svg\" alt=\"Open In Colab\"/></a>"
      ]
    },
    {
      "cell_type": "markdown",
      "metadata": {
        "id": "ZU6qSUveywPs"
      },
      "source": [
        "# EXCEPTION HANDLING\n",
        "\n",
        "You must correct each of the scripts below **using exception handling** and **without modifying lists**."
      ]
    },
    {
      "cell_type": "markdown",
      "metadata": {
        "id": "PcSLELHnzb-X"
      },
      "source": [
        "1. **Script number 1**"
      ]
    },
    {
      "cell_type": "code",
      "metadata": {
        "id": "IAZK21ekypZP",
        "outputId": "c0d411ca-3e03-4d34-81e6-410a23bf1901",
        "colab": {
          "base_uri": "https://localhost:8080/"
        }
      },
      "source": [
        "\n",
        "list_integers = [1, 12, -45, 6, 27, 0, 24]\n",
        "for i in list_integers:\n",
        "    try:\n",
        "        print(1/i)\n",
        "    except ZeroDivisionError:\n",
        "        print(\"Warning, you are trying to divide by zero\")\n"
      ],
      "execution_count": 9,
      "outputs": [
        {
          "output_type": "stream",
          "name": "stdout",
          "text": [
            "1.0\n",
            "0.08333333333333333\n",
            "-0.022222222222222223\n",
            "0.16666666666666666\n",
            "0.037037037037037035\n",
            "Warning, you are trying to divide by zero\n",
            "0.041666666666666664\n"
          ]
        }
      ]
    },
    {
      "cell_type": "markdown",
      "metadata": {
        "id": "LeIVc9eqzezV"
      },
      "source": [
        "2. **Script number 2**"
      ]
    },
    {
      "cell_type": "code",
      "metadata": {
        "id": "L6DRkiD6zgy_",
        "outputId": "398f46e1-4c6a-4852-c8ba-0cd717aeaff6",
        "colab": {
          "base_uri": "https://localhost:8080/"
        }
      },
      "source": [
        "list_integers = [1, 12, -45, 6, 27, 24]\n",
        "for i in range(10):\n",
        "    try:\n",
        "        print(1/list_integers[i])\n",
        "    except IndexError:\n",
        "        print(\"List index out of range\")\n",
        "        break"
      ],
      "execution_count": 3,
      "outputs": [
        {
          "output_type": "stream",
          "name": "stdout",
          "text": [
            "1.0\n",
            "0.08333333333333333\n",
            "-0.022222222222222223\n",
            "0.16666666666666666\n",
            "0.037037037037037035\n",
            "0.041666666666666664\n",
            "List index out of range\n"
          ]
        }
      ]
    },
    {
      "cell_type": "markdown",
      "metadata": {
        "id": "afAY9AmOzx9r"
      },
      "source": [
        "3. **Script number 3**"
      ]
    },
    {
      "cell_type": "code",
      "metadata": {
        "id": "wV3ALP3yzzcc",
        "outputId": "47f5b625-3f8d-4c28-b2dc-b969198aaf13",
        "colab": {
          "base_uri": "https://localhost:8080/"
        }
      },
      "source": [
        "list_integers = [1, 12, -45, 6, 27, 0, 24]\n",
        "for i in range(10):\n",
        "    try:\n",
        "        print(1/list_integers[i])\n",
        "    except IndexError:\n",
        "        print(\"List index out of range\")\n",
        "        break\n",
        "    except ZeroDivisionError:\n",
        "        print(\"Warning, you are trying to divide by zero\")"
      ],
      "execution_count": 8,
      "outputs": [
        {
          "output_type": "stream",
          "name": "stdout",
          "text": [
            "1.0\n",
            "0.08333333333333333\n",
            "-0.022222222222222223\n",
            "0.16666666666666666\n",
            "0.037037037037037035\n",
            "Warning, you are trying to divide by zero\n",
            "0.041666666666666664\n",
            "List index out of range\n"
          ]
        }
      ]
    },
    {
      "cell_type": "markdown",
      "metadata": {
        "id": "8eX8Pj7Wz4rn"
      },
      "source": [
        "4. **Script number 4**"
      ]
    },
    {
      "cell_type": "code",
      "metadata": {
        "id": "miobIaTyz62H",
        "outputId": "3916ba42-0c29-4f50-e97c-a6f8dde45b8a",
        "colab": {
          "base_uri": "https://localhost:8080/"
        }
      },
      "source": [
        "list_words = ['hello', 'good morning', 'GOOD Evening', 34, 'Bye' ]\n",
        "\n",
        "for word in list_words:\n",
        "    try:\n",
        "        print(word.upper())\n",
        "    except AttributeError:\n",
        "        print(\"The object in the list has not attribute 'upper'\")\n",
        ""
      ],
      "execution_count": 7,
      "outputs": [
        {
          "output_type": "stream",
          "name": "stdout",
          "text": [
            "HELLO\n",
            "GOOD MORNING\n",
            "GOOD EVENING\n",
            "The object in the list has not attribute 'upper'\n",
            "BYE\n"
          ]
        }
      ]
    }
  ]
}