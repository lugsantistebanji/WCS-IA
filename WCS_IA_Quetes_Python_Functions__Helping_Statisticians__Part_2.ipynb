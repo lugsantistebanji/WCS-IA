{
  "nbformat": 4,
  "nbformat_minor": 0,
  "metadata": {
    "colab": {
      "provenance": [],
      "include_colab_link": true
    },
    "kernelspec": {
      "name": "python3",
      "display_name": "Python 3"
    }
  },
  "cells": [
    {
      "cell_type": "markdown",
      "metadata": {
        "id": "view-in-github",
        "colab_type": "text"
      },
      "source": [
        "<a href=\"https://colab.research.google.com/github/lugsantistebanji/WCS-IA/blob/main/WCS_IA_Quetes_Python_Functions__Helping_Statisticians__Part_2.ipynb\" target=\"_parent\"><img src=\"https://colab.research.google.com/assets/colab-badge.svg\" alt=\"Open In Colab\"/></a>"
      ]
    },
    {
      "cell_type": "markdown",
      "metadata": {
        "id": "co2X9cGIieV0"
      },
      "source": [
        "# Help for statisticians!\n",
        "\n",
        "Your fellow statisticians need you. They want to learn how to program in Python and have tons of calculations to do.\n",
        "\n",
        "Very kindly, you agree to help them. Complete the missions below.\n",
        "\n",
        "**For all functions below, please add an extra cell where you actually call the function on at least two different inputs and displays the returned value (if the function doesn't already display stuff).**"
      ]
    },
    {
      "cell_type": "markdown",
      "source": [
        "---"
      ],
      "metadata": {
        "id": "ZBkVrYds-5tW"
      }
    },
    {
      "cell_type": "markdown",
      "source": [
        "## Mission 9:\n",
        "Create a function that takes a day as a parameter and returns the next day (i.e. for Sunday it would return Monday).\n",
        "\n",
        "        Note: You can use lists or dictionaries to solve this."
      ],
      "metadata": {
        "id": "Bac4-K4c-rrY"
      }
    },
    {
      "cell_type": "markdown",
      "source": [
        "**One possible solution**"
      ],
      "metadata": {
        "id": "sstPI9OE_AOw"
      }
    },
    {
      "cell_type": "code",
      "metadata": {
        "id": "pIoUqiKynBbe",
        "colab": {
          "base_uri": "https://localhost:8080/"
        },
        "outputId": "a3ba892a-e2d6-48a8-f9e0-fcce0eb42aaa"
      },
      "source": [
        "days = ['Monday', 'Tuesday', 'Thursday', 'Wednesday', 'Friday', 'Saturday','Sunday' ]\n",
        "\n",
        "def next_day(day: str) -> str:\n",
        "    day_index = days.index(day.strip().capitalize())\n",
        "    next_day_index = (day_index + 1) % len(days)\n",
        "    return days[next_day_index]\n",
        "\n",
        "for day in days:\n",
        "    print(f'When the week day is \"{day}\", so the next day is \"{next_day(day)}\"')"
      ],
      "execution_count": 5,
      "outputs": [
        {
          "output_type": "stream",
          "name": "stdout",
          "text": [
            "When the week day is \"Monday\", so the next day is \"Tuesday\"\n",
            "When the week day is \"Tuesday\", so the next day is \"Thursday\"\n",
            "When the week day is \"Thursday\", so the next day is \"Wednesday\"\n",
            "When the week day is \"Wednesday\", so the next day is \"Friday\"\n",
            "When the week day is \"Friday\", so the next day is \"Saturday\"\n",
            "When the week day is \"Saturday\", so the next day is \"Sunday\"\n",
            "When the week day is \"Sunday\", so the next day is \"Monday\"\n"
          ]
        }
      ]
    },
    {
      "cell_type": "markdown",
      "source": [
        "---"
      ],
      "metadata": {
        "id": "1ZXP9TNL_Lmj"
      }
    },
    {
      "cell_type": "markdown",
      "source": [
        "## Mission 10:\n",
        "\n",
        "Create a function that fills an empty list with values (words) from the following string :\n",
        "\n",
        "\"After twelve soft showers are the arch-duchess' socks dry, arch-dry?\"\n",
        "\n"
      ],
      "metadata": {
        "id": "8aaIPlM4_kKZ"
      }
    },
    {
      "cell_type": "markdown",
      "source": [
        "**One possible solution**"
      ],
      "metadata": {
        "id": "hyfIU6XFBgUu"
      }
    },
    {
      "cell_type": "code",
      "metadata": {
        "id": "68rX-Y0AnGiR",
        "colab": {
          "base_uri": "https://localhost:8080/"
        },
        "outputId": "af7d6001-43eb-4b57-fdb5-be1805c3abdb"
      },
      "source": [
        "import re\n",
        "\n",
        "def get_word_list_of_text(text: str) -> list:\n",
        "    return [re.sub('[\\?\\',:!;]', \"\", word) for word in text.split()]\n",
        "\n",
        "text1 = \"After twelve soft showers are the arch-duchess' socks dry, arch-dry?\"\n",
        "text2 = \"Note: You can use lists or dictionaries to solve this.\"\n",
        "\n",
        "print(get_word_list_of_text(text1))\n",
        "print(get_word_list_of_text(text2))\n"
      ],
      "execution_count": 31,
      "outputs": [
        {
          "output_type": "stream",
          "name": "stdout",
          "text": [
            "['After', 'twelve', 'soft', 'showers', 'are', 'the', 'arch-duchess', 'socks', 'dry', 'arch-dry']\n",
            "['Note', 'You', 'can', 'use', 'lists', 'or', 'dictionaries', 'to', 'solve', 'this.']\n"
          ]
        }
      ]
    },
    {
      "cell_type": "markdown",
      "source": [
        "---"
      ],
      "metadata": {
        "id": "u_zitotA_MhY"
      }
    },
    {
      "cell_type": "markdown",
      "source": [
        "# Mission 11:\n",
        "\n",
        "Create a function that that takes a string as input, converts all characters to lowercase, and returns a new string where:\n",
        "\n",
        "- Every vowel at an even index is capitalized, keeping all other characters unchanged.\n",
        "\n",
        "        Example: antithetical -> AntithEtIcAl\n",
        "        Example: marvelously -> marvElOuslY"
      ],
      "metadata": {
        "id": "B4tzmr6e_oS1"
      }
    },
    {
      "cell_type": "markdown",
      "source": [
        "**One possible solution**"
      ],
      "metadata": {
        "id": "pMTEBE1ZBhBd"
      }
    },
    {
      "cell_type": "code",
      "metadata": {
        "id": "YGNoBYBEnLAx",
        "colab": {
          "base_uri": "https://localhost:8080/"
        },
        "outputId": "4ca0bf71-da1f-448c-8bbc-398436e61818"
      },
      "source": [
        "def vowels_upper(text: str) -> str:\n",
        "    new_text = \"\"\n",
        "    for character in text:\n",
        "        if character.lower() in 'aeiouy' and text.index(character)%2 == 0:\n",
        "            new_text += character.upper()\n",
        "        else:\n",
        "            new_text += character\n",
        "    return new_text\n",
        "\n",
        "word_1 = \"antithetical\"\n",
        "word_2 = \"marvelously\"\n",
        "print(f\"{word_1} -> {vowels_upper(word_1)}\")\n",
        "print(f\"{word_2} -> {vowels_upper(word_2)}\")"
      ],
      "execution_count": 14,
      "outputs": [
        {
          "output_type": "stream",
          "name": "stdout",
          "text": [
            "antithetical -> AntithEticAl\n",
            "marvelously -> marvElOuslY\n"
          ]
        }
      ]
    },
    {
      "cell_type": "markdown",
      "source": [
        "---"
      ],
      "metadata": {
        "id": "GPHhoTsx_Nbp"
      }
    },
    {
      "cell_type": "markdown",
      "source": [
        "# Mission 12:\n",
        "\n",
        "Create a function that takes a number n as parameter, and then returns a list containing n lists, each containing n empty lists."
      ],
      "metadata": {
        "id": "dr7Swa9p_xNw"
      }
    },
    {
      "cell_type": "markdown",
      "source": [
        "**One possible solution**"
      ],
      "metadata": {
        "id": "m5bGlcnSBidV"
      }
    },
    {
      "cell_type": "code",
      "metadata": {
        "id": "IJCr_jvwnOCh",
        "colab": {
          "base_uri": "https://localhost:8080/"
        },
        "outputId": "0064ea05-6142-4199-e750-fdbed3f9d209"
      },
      "source": [
        "def n_n_empty_lists(n: int) -> list:\n",
        "    return [[[]]*n]*n\n",
        "\n",
        "print(n_n_empty_lists(2))\n",
        "print(n_n_empty_lists(4))"
      ],
      "execution_count": 32,
      "outputs": [
        {
          "output_type": "stream",
          "name": "stdout",
          "text": [
            "[[[], []], [[], []]]\n",
            "[[[], [], [], []], [[], [], [], []], [[], [], [], []], [[], [], [], []]]\n"
          ]
        }
      ]
    },
    {
      "cell_type": "markdown",
      "source": [
        "**Another solution**"
      ],
      "metadata": {
        "id": "LwJtjOfWN3OY"
      }
    },
    {
      "cell_type": "code",
      "source": [
        "def n_n_empty_lists_2(n:int) -> list:\n",
        "    return [[[] for _ in range(n)] for _ in range(n)]\n",
        "\n",
        "print(n_n_empty_lists_2(2))\n",
        "print(n_n_empty_lists_2(4))"
      ],
      "metadata": {
        "colab": {
          "base_uri": "https://localhost:8080/"
        },
        "id": "_Refif55N5iY",
        "outputId": "18b6213c-843e-4d09-d675-ec667f808b36"
      },
      "execution_count": 33,
      "outputs": [
        {
          "output_type": "stream",
          "name": "stdout",
          "text": [
            "[[[], []], [[], []]]\n",
            "[[[], [], [], []], [[], [], [], []], [[], [], [], []], [[], [], [], []]]\n"
          ]
        }
      ]
    },
    {
      "cell_type": "markdown",
      "source": [
        "---"
      ],
      "metadata": {
        "id": "e4gMUkgc_6yJ"
      }
    },
    {
      "cell_type": "markdown",
      "source": [
        "# Mission 13:\n",
        "\n",
        "- Create a function that takes two inputs, their year of birth and first name.\n",
        "    \n",
        "- Convert the year of birth into an int and subtract it from the current year (you can do it using a certain module :-P).\n",
        "    \n",
        "- Then display the message: Hello [first name], today you are (or you will be this year) [age] years old.\n",
        "    \n",
        "- When testing the function, ask the user for the parameters!"
      ],
      "metadata": {
        "id": "enOnF5zO_9hg"
      }
    },
    {
      "cell_type": "markdown",
      "source": [
        "**One possible solution**"
      ],
      "metadata": {
        "id": "gPoDb6ipBjSl"
      }
    },
    {
      "cell_type": "code",
      "metadata": {
        "id": "xjYGsODEnSb2",
        "colab": {
          "base_uri": "https://localhost:8080/"
        },
        "outputId": "7f85f16e-a9b6-4312-f711-1fde7732ed59"
      },
      "source": [
        "from datetime import datetime\n",
        "\n",
        "\n",
        "def print_calculated_age(birth_year: int, name: str) -> None:\n",
        "    age = datetime.now().year - birth_year\n",
        "    print(f\"Hello {name}, today you are (or you will be this year) {age} years old\")\n",
        "\n",
        "name = input(\"What is your name : \")\n",
        "birth_year = int(input(\"What is the year of your birth : \"))\n",
        "print()\n",
        "print_calculated_age(birth_year, name)"
      ],
      "execution_count": 29,
      "outputs": [
        {
          "output_type": "stream",
          "name": "stdout",
          "text": [
            "What is your name : Peter\n",
            "What is the year of your birth : 1995\n",
            "\n",
            "Hello Peter, today you are (or you will be this year) 29 years old\n"
          ]
        }
      ]
    },
    {
      "cell_type": "markdown",
      "source": [
        "---"
      ],
      "metadata": {
        "id": "gjxIA1SC_OPw"
      }
    }
  ]
}