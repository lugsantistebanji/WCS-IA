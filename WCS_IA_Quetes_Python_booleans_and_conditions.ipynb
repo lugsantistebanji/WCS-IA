{
  "nbformat": 4,
  "nbformat_minor": 0,
  "metadata": {
    "colab": {
      "provenance": [],
      "authorship_tag": "ABX9TyM92TTRQ8GxZ95/PliVymIu",
      "include_colab_link": true
    },
    "kernelspec": {
      "name": "python3",
      "display_name": "Python 3"
    },
    "language_info": {
      "name": "python"
    }
  },
  "cells": [
    {
      "cell_type": "markdown",
      "metadata": {
        "id": "view-in-github",
        "colab_type": "text"
      },
      "source": [
        "<a href=\"https://colab.research.google.com/github/lugsantistebanji/WCS-IA/blob/main/WCS_IA_Quetes_Python_booleans_and_conditions.ipynb\" target=\"_parent\"><img src=\"https://colab.research.google.com/assets/colab-badge.svg\" alt=\"Open In Colab\"/></a>"
      ]
    },
    {
      "cell_type": "markdown",
      "source": [
        "## Borner une saisie utilisateur\n",
        "\n",
        "Dans un notebook/Google Colab, vous allez créer un programme qui valide si un nombre entré est dans un intervalle défini par deux bornes. Selon le résultat, le programme affichera un message spécifique et le résultat de la validation.\n",
        "\n",
        "### Consignes :\n",
        "\n",
        "- Demander à l'utilisateur d'entrer deux nombres qui seront les bornes. (avec la fonction input() )\n",
        "\n",
        "- Demander à l'utilisateur d'entrer un 3e nombre.\n",
        "\n",
        "- Vérifier où le 3e nombre se situe par rapport aux deux bornes. (au dessus de la borne supérieure, en dessous de la borne inférieure ou dans l'intervalle)\n",
        "    \n",
        "- A chaque execution du programme, l'utilisateur entre un nombre, affiche une phrase indiquant où il se situe par rapports aux bornes comme montré dans l'exemple\n",
        "\n",
        "      Borne 1 : 40\n",
        "      Borne 2 : 15\n",
        "      Entrée : 50\n",
        "      Tu as entré 50, plus grand que 40, la borne supérieure\n",
        "\n",
        "      Borne 1 : 40\n",
        "      Borne 2 : 15\n",
        "      Entrée : 20\n",
        "      Tu as entré 20, qui est dans l'intervalle\n",
        "\n",
        "      Borne 1 : 40\n",
        "      Borne 2 : 15\n",
        "      Entrée : 8\n",
        "      Tu as entré 8, plus petit que 15, la borne inférieure\n"
      ],
      "metadata": {
        "id": "l02j3EcDe-GP"
      }
    },
    {
      "cell_type": "markdown",
      "source": [
        "### Solution\n"
      ],
      "metadata": {
        "id": "ME4Tyq2TfpyL"
      }
    },
    {
      "cell_type": "code",
      "source": [
        "bound_1 = int(input(\"Entrez la première borne : \" ))\n",
        "bound_2 = int(input(\"Entre la deuxième borne : \" ))\n",
        "number = int(input(\"Entrez un numèro : \"))\n",
        "\n",
        "upper_bound = max(bound_1, bound_2)\n",
        "lower_bound = min(bound_1, bound_2)\n",
        "\n",
        "if  number == upper_bound:\n",
        "  print(f\"Tu as entré {number}, qui est égal à la borne supérieure.\")\n",
        "elif number == lower_bound:\n",
        "  print(f\"Tu as entré {number}, qui est égal à la borne inférieur.\")\n",
        "elif lower_bound < number < upper_bound:\n",
        "  print(f\"Tu as entré {number}, qui est dans l'intervalle.\")\n",
        "elif  number > upper_bound:\n",
        "  print(f\"Tu as entré {number}, qui est plus grand que {upper_bound}, la borne supérieure.\")\n",
        "else:\n",
        "  print(f\"Tu as entré {number}, qui est plus petit que {lower_bound}, la borne inférieur.\")\n",
        ""
      ],
      "metadata": {
        "colab": {
          "base_uri": "https://localhost:8080/"
        },
        "id": "9SIoLqgnguGk",
        "outputId": "ae3851bc-1334-4221-d6e3-bf3cd73b308c"
      },
      "execution_count": 5,
      "outputs": [
        {
          "output_type": "stream",
          "name": "stdout",
          "text": [
            "Entrez la première borne : 40\n",
            "Entre la deuxième borne : 15\n",
            "Entrez un numèro : 8\n",
            "Tu as entré 8, qui est plus petit que 15, la borne inférieur.\n"
          ]
        }
      ]
    }
  ]
}