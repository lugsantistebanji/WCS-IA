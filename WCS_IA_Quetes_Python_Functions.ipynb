{
  "nbformat": 4,
  "nbformat_minor": 0,
  "metadata": {
    "colab": {
      "provenance": [],
      "include_colab_link": true
    },
    "kernelspec": {
      "name": "python3",
      "display_name": "Python 3"
    }
  },
  "cells": [
    {
      "cell_type": "markdown",
      "metadata": {
        "id": "view-in-github",
        "colab_type": "text"
      },
      "source": [
        "<a href=\"https://colab.research.google.com/github/lugsantistebanji/WCS-IA/blob/main/WCS_IA_Quetes_Python_Functions.ipynb\" target=\"_parent\"><img src=\"https://colab.research.google.com/assets/colab-badge.svg\" alt=\"Open In Colab\"/></a>"
      ]
    },
    {
      "cell_type": "markdown",
      "metadata": {
        "id": "co2X9cGIieV0"
      },
      "source": [
        "# Help for statisticians!\n",
        "\n",
        "Your fellow statisticians need you. They want to learn how to program in Python and have tons of calculations to do.\n",
        "\n",
        "Very kindly, you agree to help them. Complete the missions below."
      ]
    },
    {
      "cell_type": "markdown",
      "metadata": {
        "id": "rvnKhKV7CVoS"
      },
      "source": [
        "![Einstien le génie](https://wallup.net/wp-content/uploads/2018/09/30/201016-funny-albert-einstein-748x468.jpg)"
      ]
    },
    {
      "cell_type": "markdown",
      "source": [
        "---"
      ],
      "metadata": {
        "id": "mz1wuiJHlKMB"
      }
    },
    {
      "cell_type": "markdown",
      "source": [
        "# Mission 1:\n",
        "\n",
        "Create a function, that simply returns the string \"Hello Python\""
      ],
      "metadata": {
        "id": "MfVjNH48a1uk"
      }
    },
    {
      "cell_type": "markdown",
      "source": [
        "**One possible solution :**"
      ],
      "metadata": {
        "id": "JbwamVUCmn4d"
      }
    },
    {
      "cell_type": "code",
      "metadata": {
        "id": "S4jmbgw-kWcj",
        "colab": {
          "base_uri": "https://localhost:8080/"
        },
        "outputId": "0553b786-177d-451d-d287-166ca7921c3e"
      },
      "source": [
        "def hello() -> str:\n",
        "    return \"Hello Python\"\n",
        "\n",
        "print(hello())"
      ],
      "execution_count": null,
      "outputs": [
        {
          "output_type": "stream",
          "name": "stdout",
          "text": [
            "Hello Python\n"
          ]
        }
      ]
    },
    {
      "cell_type": "markdown",
      "source": [
        "---"
      ],
      "metadata": {
        "id": "5zGhgyvqlG5r"
      }
    },
    {
      "cell_type": "markdown",
      "source": [
        "# Mission 2:\n",
        "\n",
        "Create a function that takes in 2 numbers as parameters, and returns a boolean indicating whether or not they are equal"
      ],
      "metadata": {
        "id": "AeiltWMYbCiR"
      }
    },
    {
      "cell_type": "markdown",
      "source": [
        "**One possible solution :**"
      ],
      "metadata": {
        "id": "OYP-4U7TmrR8"
      }
    },
    {
      "cell_type": "code",
      "metadata": {
        "id": "4rJVUEkNk5Oo",
        "colab": {
          "base_uri": "https://localhost:8080/"
        },
        "outputId": "89d7b76e-f877-4074-ab27-267f003927f8"
      },
      "source": [
        "def are_equal(num1: float, num2: float) -> bool:\n",
        "    return num1 == num2\n",
        "\n",
        "print(are_equal(12, 15))\n",
        "print(are_equal(12, 12.0))"
      ],
      "execution_count": null,
      "outputs": [
        {
          "output_type": "stream",
          "name": "stdout",
          "text": [
            "False\n",
            "True\n"
          ]
        }
      ]
    },
    {
      "cell_type": "markdown",
      "source": [
        "---"
      ],
      "metadata": {
        "id": "z3uaKkxNlEbk"
      }
    },
    {
      "cell_type": "markdown",
      "source": [
        "# Mission 3:\n",
        "\n",
        "Create a function that takes a number as parameter, and returns the first 10 multiples of the number as a list\n",
        "\n",
        "**Example:**\n",
        "        \n",
        "                2 -> [2, 4, 6, 8, 10, 12, 14, 16, 18, 20]"
      ],
      "metadata": {
        "id": "ZSR4dwgEbPPs"
      }
    },
    {
      "cell_type": "markdown",
      "source": [
        "**One possible solution :**"
      ],
      "metadata": {
        "id": "HhRWfel-mscn"
      }
    },
    {
      "cell_type": "code",
      "metadata": {
        "id": "Q9X4m3D4h-xu",
        "colab": {
          "base_uri": "https://localhost:8080/"
        },
        "outputId": "f1aacd5f-1ac4-4efa-eaa7-a5224c9fc755"
      },
      "source": [
        "def first_ten_multiples_of(num1: int) -> list :\n",
        "    return [num1*x for x in range(1, 11)]\n",
        "\n",
        "print(first_ten_multiples_of(5))\n"
      ],
      "execution_count": 1,
      "outputs": [
        {
          "output_type": "stream",
          "name": "stdout",
          "text": [
            "[5, 10, 15, 20, 25, 30, 35, 40, 45, 50]\n"
          ]
        }
      ]
    },
    {
      "cell_type": "markdown",
      "source": [
        "---"
      ],
      "metadata": {
        "id": "B4eUQrx2lDUs"
      }
    },
    {
      "cell_type": "markdown",
      "source": [
        "# Mission 4:\n",
        "\n",
        "Create a function that takes a string as input, and return its vowels only, preserving case.\n",
        "\n",
        "**Example:**\n",
        "\n",
        "        \"Antidisestablishmentarianism\" -> \"Aiieaieaiai\"\n",
        "\n",
        "**Example:**\n",
        "\n",
        "        \"TO BE OR NOT TO BE\" -> \"OEOOOE\""
      ],
      "metadata": {
        "id": "NWVHqOU_blbm"
      }
    },
    {
      "cell_type": "markdown",
      "source": [
        "**One possible solution :**"
      ],
      "metadata": {
        "id": "tD2psP4DmtxF"
      }
    },
    {
      "cell_type": "code",
      "metadata": {
        "id": "Fe9kZrvklI0b",
        "colab": {
          "base_uri": "https://localhost:8080/"
        },
        "outputId": "5690468d-b6c6-4470-b2f5-64a02accf601"
      },
      "source": [
        "def all_vowels(string: str) -> str :\n",
        "    vowels = 'aeiou'\n",
        "    return \"\".join([s for s in string if s.lower() in vowels])\n",
        "\n",
        "print(f\"Antidisestablishmentarianism -> {all_vowels('Antidisestablishmentarianism')}\")\n",
        "print(f\"TO BE OR NOT TO BE -> {all_vowels('TO BE OR NOT TO BE')}\")"
      ],
      "execution_count": 2,
      "outputs": [
        {
          "output_type": "stream",
          "name": "stdout",
          "text": [
            "Antidisestablishmentarianism -> Aiieaieaiai\n",
            "TO BE OR NOT TO BE -> OEOOOE\n"
          ]
        }
      ]
    },
    {
      "cell_type": "markdown",
      "source": [
        "---"
      ],
      "metadata": {
        "id": "K9VKzEC3lCZs"
      }
    },
    {
      "cell_type": "markdown",
      "source": [
        "# Mission 5:\n",
        "\n",
        "Create a function that takes 2 numbers as parameters, and returns the result of a division operation.\n",
        "\n",
        "Test if the denominator is equal to 0 and if so, display a message that says:\n",
        "        \n",
        "            \"You can't divide by zero\"."
      ],
      "metadata": {
        "id": "57dHBMb_f3nB"
      }
    },
    {
      "cell_type": "markdown",
      "source": [
        "**One possible solution :**"
      ],
      "metadata": {
        "id": "4xjuY-S2lW1N"
      }
    },
    {
      "cell_type": "code",
      "metadata": {
        "id": "7b3JtuNClm4a",
        "colab": {
          "base_uri": "https://localhost:8080/"
        },
        "outputId": "967edb48-37ea-482d-e096-45ec7d2cbd21"
      },
      "source": [
        "def division(numerator: float, denominator: float) -> float :\n",
        "    try:\n",
        "        return numerator/denominator\n",
        "    except ZeroDivisionError as error:\n",
        "        print(\"You can't divide by zero\")\n",
        "\n",
        "print(division(10, 5.0))\n",
        "print(division (15, 0))"
      ],
      "execution_count": 3,
      "outputs": [
        {
          "output_type": "stream",
          "name": "stdout",
          "text": [
            "2.0\n",
            "You can't divide by zero\n",
            "None\n"
          ]
        }
      ]
    },
    {
      "cell_type": "markdown",
      "source": [
        "---"
      ],
      "metadata": {
        "id": "gzX5e0k0lBT8"
      }
    },
    {
      "cell_type": "markdown",
      "source": [
        "# Mission 6:\n",
        "\n",
        "First, choose two arithmetical operations (such as +, -, *, or /)\n",
        "\n",
        "Then, create a function that takes in 3 numbers as parameters and carries out those operations, displays a message indicating if the result is positive, negative or zero, and finally returns the result.\n",
        "If a division by zero is attempted, display an error message.\n",
        "\n",
        "\n",
        "**Example with multiplication and addition:**\n",
        "\n",
        "Calling with 0, 32, 2 will compute (0*32)+2, will display\n",
        "\n",
        "        \"Positive result\"\n",
        "and return 2\n",
        "\n",
        "**Example with division and addition:**\n",
        "\n",
        "Calling with 21, 0, 3 will try to compute (21/0)+2, will display\n",
        "\n",
        "        \"Divide-by-zero error\""
      ],
      "metadata": {
        "id": "HbXTkL_QgR4j"
      }
    },
    {
      "cell_type": "markdown",
      "source": [
        "**One possible solution :**"
      ],
      "metadata": {
        "id": "36tHdw0JlVyP"
      }
    },
    {
      "cell_type": "code",
      "metadata": {
        "id": "6hjrrDyUlN8o",
        "colab": {
          "base_uri": "https://localhost:8080/"
        },
        "outputId": "fdfdd326-89dc-4b78-f735-8023c64d33e7"
      },
      "source": [
        "def operation(num1: float, num2: float, num3: float) -> float :\n",
        "    result = num1 * num2 + num3\n",
        "    print(\"Positive result : \" if result > 0 else \"Negative result : \" if result < 0 else \"Result is Zero : \", end=\"\")\n",
        "    return result\n",
        "\n",
        "print(operation(2, -3, 6))\n",
        "print(operation(2, -3, 5))\n",
        "print(operation(2, 3, 6))"
      ],
      "execution_count": 5,
      "outputs": [
        {
          "output_type": "stream",
          "name": "stdout",
          "text": [
            "Result is Zero : 0\n",
            "Negative result : -1\n",
            "Positive result : 12\n"
          ]
        }
      ]
    },
    {
      "cell_type": "markdown",
      "source": [
        "---"
      ],
      "metadata": {
        "id": "ork2I3mWk_iN"
      }
    },
    {
      "cell_type": "markdown",
      "source": [
        "# Mission 7:\n",
        "\n",
        "Create a function that takes a number as a parameter that corresponds to gross salary and returns the net salary for executives.\n",
        "\n",
        "You can specify any amount of deductions, or base them on your country's example"
      ],
      "metadata": {
        "id": "gvWGex0gjruL"
      }
    },
    {
      "cell_type": "markdown",
      "source": [
        "**One possible solution :**"
      ],
      "metadata": {
        "id": "2fkbYpLUlUdm"
      }
    },
    {
      "cell_type": "code",
      "metadata": {
        "id": "r6DP6oTDmqfs",
        "colab": {
          "base_uri": "https://localhost:8080/"
        },
        "outputId": "77d7d185-92e0-4fe7-edb0-82d715d4ef3c"
      },
      "source": [
        "def net_salary(brut_salary: float, deduction=22) -> float :\n",
        "    return brut_salary*(1-deduction/100)\n",
        "\n",
        "\n",
        "brut_salary = 1700\n",
        "deduction = 23\n",
        "print(f\"The net salary for a brut salary of {brut_salary} is {net_salary(brut_salary, deduction)} when de deduction is {deduction}%.\")\n"
      ],
      "execution_count": 6,
      "outputs": [
        {
          "output_type": "stream",
          "name": "stdout",
          "text": [
            "The net salary for a brut salary of 1700 is 1309.0 when de deduction is 23%.\n"
          ]
        }
      ]
    },
    {
      "cell_type": "markdown",
      "source": [
        "---"
      ],
      "metadata": {
        "id": "tfiSVEv2k3KD"
      }
    },
    {
      "cell_type": "markdown",
      "source": [
        "# Mission 8:\n",
        "\n",
        "Create a function that can swap the values of any two variables, such as\n",
        "\n",
        "            if variable A = 1 and variable B = 2, after applying the function, variable A = 2 and B = 1\n"
      ],
      "metadata": {
        "id": "s5flc2PQkkJs"
      }
    },
    {
      "cell_type": "markdown",
      "source": [
        "**One possible solution :**"
      ],
      "metadata": {
        "id": "yH8Wc4Rzk1Fo"
      }
    },
    {
      "cell_type": "code",
      "metadata": {
        "id": "T57txpOLjVXv",
        "colab": {
          "base_uri": "https://localhost:8080/"
        },
        "outputId": "21d1c28a-1e6d-42e1-a7f4-53e0d64d8f9b"
      },
      "source": [
        "def swap(var_a, var_b):\n",
        "    return (var_b, var_a)\n",
        "\n",
        "var_a = \"text\"\n",
        "var_b = 1234\n",
        "var_a, var_b = swap(var_a, var_b)\n",
        "print(var_a, var_b)"
      ],
      "execution_count": 8,
      "outputs": [
        {
          "output_type": "stream",
          "name": "stdout",
          "text": [
            "1234 text\n"
          ]
        }
      ]
    }
  ]
}