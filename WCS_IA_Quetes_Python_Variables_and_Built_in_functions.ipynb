{
  "nbformat": 4,
  "nbformat_minor": 0,
  "metadata": {
    "colab": {
      "provenance": [],
      "include_colab_link": true
    },
    "kernelspec": {
      "name": "python3",
      "display_name": "Python 3"
    },
    "language_info": {
      "name": "python"
    }
  },
  "cells": [
    {
      "cell_type": "markdown",
      "metadata": {
        "id": "view-in-github",
        "colab_type": "text"
      },
      "source": [
        "<a href=\"https://colab.research.google.com/github/lugsantistebanji/WCS-IA/blob/main/WCS_IA_Quetes_Python_Variables_and_Built_in_functions.ipynb\" target=\"_parent\"><img src=\"https://colab.research.google.com/assets/colab-badge.svg\" alt=\"Open In Colab\"/></a>"
      ]
    },
    {
      "cell_type": "markdown",
      "source": [
        "# Type"
      ],
      "metadata": {
        "id": "p0IY6ccQKu9_"
      }
    },
    {
      "cell_type": "markdown",
      "source": [
        "1. Dans la cellule de code ci-dessous, quel est, pour chaque cellule, le type de chaque objet ?  \n",
        "`indice`: vous pouvez utiliser `type(x)` pour le révéler."
      ],
      "metadata": {
        "id": "chbM0tgeZpEf"
      }
    },
    {
      "cell_type": "markdown",
      "source": [
        "1.1 int -> Entier"
      ],
      "metadata": {
        "id": "gw9bORxUJxGm"
      }
    },
    {
      "cell_type": "code",
      "execution_count": 28,
      "metadata": {
        "id": "WjJmN0AxZBLw",
        "colab": {
          "base_uri": "https://localhost:8080/"
        },
        "outputId": "458d622a-ef6f-4f60-9fb6-2ef3bc6e5e45"
      },
      "outputs": [
        {
          "output_type": "stream",
          "name": "stdout",
          "text": [
            "<class 'int'>\n"
          ]
        }
      ],
      "source": [
        "count = 5\n",
        "print(type(count))\n"
      ]
    },
    {
      "cell_type": "markdown",
      "source": [
        "1.2 str -> chaîne de charactères"
      ],
      "metadata": {
        "id": "3IfX8iZxJyQ2"
      }
    },
    {
      "cell_type": "code",
      "source": [
        "greeting = \"Hello World\"\n",
        "print(type(greeting))"
      ],
      "metadata": {
        "id": "latNGJ8caLkY",
        "colab": {
          "base_uri": "https://localhost:8080/"
        },
        "outputId": "e694a009-4b00-4219-df95-0f115d6d7542"
      },
      "execution_count": 29,
      "outputs": [
        {
          "output_type": "stream",
          "name": "stdout",
          "text": [
            "<class 'str'>\n"
          ]
        }
      ]
    },
    {
      "cell_type": "markdown",
      "source": [
        "1.3 float -> numéro décimal"
      ],
      "metadata": {
        "id": "-Elw3kFRJzKd"
      }
    },
    {
      "cell_type": "code",
      "source": [
        "price = 2.5\n",
        "print(type(price))"
      ],
      "metadata": {
        "id": "tf7IgsXZa15e",
        "colab": {
          "base_uri": "https://localhost:8080/"
        },
        "outputId": "02407f0e-867b-4629-a1e9-dce5dcb350aa"
      },
      "execution_count": 30,
      "outputs": [
        {
          "output_type": "stream",
          "name": "stdout",
          "text": [
            "<class 'float'>\n"
          ]
        }
      ]
    },
    {
      "cell_type": "markdown",
      "source": [
        "1.4 list -> Liste"
      ],
      "metadata": {
        "id": "5CJ3Q9qfJ0xJ"
      }
    },
    {
      "cell_type": "code",
      "source": [
        "color_palette = [\"mintcream\", \"burlywood\", \"salmon\"]\n",
        "print(type(color_palette))"
      ],
      "metadata": {
        "id": "6YNM6DLHa50P",
        "colab": {
          "base_uri": "https://localhost:8080/"
        },
        "outputId": "69516346-e814-47b2-c281-f2504d31b2bb"
      },
      "execution_count": 31,
      "outputs": [
        {
          "output_type": "stream",
          "name": "stdout",
          "text": [
            "<class 'list'>\n"
          ]
        }
      ]
    },
    {
      "cell_type": "markdown",
      "source": [
        "1.5 tuple -> liste non modifiable"
      ],
      "metadata": {
        "id": "E3ro5cT-J1sV"
      }
    },
    {
      "cell_type": "code",
      "source": [
        "colors = (\"mintcream\", \"burlywood\", \"salmon\")\n",
        "print(type(colors))"
      ],
      "metadata": {
        "id": "wCaEFel6a-Fd",
        "colab": {
          "base_uri": "https://localhost:8080/"
        },
        "outputId": "7afebaea-d98b-4475-a479-2002b743bb75"
      },
      "execution_count": 32,
      "outputs": [
        {
          "output_type": "stream",
          "name": "stdout",
          "text": [
            "<class 'tuple'>\n"
          ]
        }
      ]
    },
    {
      "cell_type": "markdown",
      "source": [
        "1.6 dict -> Dictionaire ( key:value)"
      ],
      "metadata": {
        "id": "eGBMyBrjJ2xe"
      }
    },
    {
      "cell_type": "code",
      "source": [
        "person_info = {\"name\": \"Jules César\", \"Job\": \"Musician\", \"age\": 55}\n",
        "print(type(person_info))"
      ],
      "metadata": {
        "id": "gO0rMS0ubLkg",
        "colab": {
          "base_uri": "https://localhost:8080/"
        },
        "outputId": "b6aa7192-981c-4594-a5ca-e46cb8b3f750"
      },
      "execution_count": 33,
      "outputs": [
        {
          "output_type": "stream",
          "name": "stdout",
          "text": [
            "<class 'dict'>\n"
          ]
        }
      ]
    },
    {
      "cell_type": "markdown",
      "source": [
        "1.7 bool -> boolean ( deux valeurs : True ou False)"
      ],
      "metadata": {
        "id": "n2IIfrgNJ4Ln"
      }
    },
    {
      "cell_type": "code",
      "source": [
        "is_active = True\n",
        "print(type(is_active))"
      ],
      "metadata": {
        "id": "lpPCkWfWbY3N",
        "colab": {
          "base_uri": "https://localhost:8080/"
        },
        "outputId": "3b2dae76-75fc-4672-c333-70daa128db24"
      },
      "execution_count": 34,
      "outputs": [
        {
          "output_type": "stream",
          "name": "stdout",
          "text": [
            "<class 'bool'>\n"
          ]
        }
      ]
    },
    {
      "cell_type": "markdown",
      "source": [
        "2. Maintenant, vous allez devoir convertir des objets d'un certain type, en un autre type d'objet.  \n",
        "C'est parti !"
      ],
      "metadata": {
        "id": "J-YXtU1Yb2pi"
      }
    },
    {
      "cell_type": "markdown",
      "source": [
        "2.1 Convertissez count en float."
      ],
      "metadata": {
        "id": "yerUe3q7cMmR"
      }
    },
    {
      "cell_type": "code",
      "source": [
        "count = 5\n"
      ],
      "metadata": {
        "id": "yVs2Ry3NbpEW"
      },
      "execution_count": 35,
      "outputs": []
    },
    {
      "cell_type": "code",
      "source": [
        "count = float(count)\n",
        "print(count)"
      ],
      "metadata": {
        "colab": {
          "base_uri": "https://localhost:8080/"
        },
        "id": "peLoJU9HbKn3",
        "outputId": "e4acd9a5-e112-4cfd-f987-a103e8b47752"
      },
      "execution_count": 36,
      "outputs": [
        {
          "output_type": "stream",
          "name": "stdout",
          "text": [
            "5.0\n"
          ]
        }
      ]
    },
    {
      "cell_type": "markdown",
      "source": [
        "2.2 Convertissez price en int"
      ],
      "metadata": {
        "id": "q0LodnjUcPyl"
      }
    },
    {
      "cell_type": "code",
      "source": [
        "price = 5.4"
      ],
      "metadata": {
        "id": "0Ffo568UcJBg"
      },
      "execution_count": 37,
      "outputs": []
    },
    {
      "cell_type": "code",
      "source": [
        "price = int(price)\n",
        "print(price)"
      ],
      "metadata": {
        "colab": {
          "base_uri": "https://localhost:8080/"
        },
        "id": "9qhPbaY7bUxO",
        "outputId": "9443d3c9-d68d-4f8c-fdf2-37a8ad069d56"
      },
      "execution_count": 38,
      "outputs": [
        {
          "output_type": "stream",
          "name": "stdout",
          "text": [
            "5\n"
          ]
        }
      ]
    },
    {
      "cell_type": "markdown",
      "source": [
        "2.3 Convertissez price en int"
      ],
      "metadata": {
        "id": "--gnDHGLcYin"
      }
    },
    {
      "cell_type": "code",
      "source": [
        "price = 5.6\n"
      ],
      "metadata": {
        "id": "oi21CeBVcTLH"
      },
      "execution_count": 39,
      "outputs": []
    },
    {
      "cell_type": "code",
      "source": [
        "price = int(price)\n",
        "print(price)"
      ],
      "metadata": {
        "colab": {
          "base_uri": "https://localhost:8080/"
        },
        "id": "XVA3kPcKbbS2",
        "outputId": "cb3c7097-47d9-43a3-f725-4c456679384b"
      },
      "execution_count": 40,
      "outputs": [
        {
          "output_type": "stream",
          "name": "stdout",
          "text": [
            "5\n"
          ]
        }
      ]
    },
    {
      "cell_type": "markdown",
      "source": [
        "2.4 Que pouvez-vous remarquer ?"
      ],
      "metadata": {
        "id": "ZYsPxH7vcho9"
      }
    },
    {
      "cell_type": "markdown",
      "source": [
        "Réponse:\n",
        "\n",
        "Je peux remarquer que int(5.4) = int(5.6) = 5, c'est à dire que la fonction 'int' renvoie la partie entière du nombre."
      ],
      "metadata": {
        "id": "iRXIY01WLQna"
      }
    },
    {
      "cell_type": "markdown",
      "source": [
        "2.5 Trouvez le moyen d'arrondir temperature."
      ],
      "metadata": {
        "id": "YmPGqs_FcmZh"
      }
    },
    {
      "cell_type": "code",
      "source": [
        "temperature = 5.6\n",
        "temperature = round(temperature)\n",
        "print(temperature)\n",
        "print(type(temperature))\n"
      ],
      "metadata": {
        "id": "UUInqFe9cbMJ",
        "colab": {
          "base_uri": "https://localhost:8080/"
        },
        "outputId": "968eaa2c-9d03-4f05-a0fc-bb5203e35074"
      },
      "execution_count": 41,
      "outputs": [
        {
          "output_type": "stream",
          "name": "stdout",
          "text": [
            "6\n",
            "<class 'int'>\n"
          ]
        }
      ]
    },
    {
      "cell_type": "markdown",
      "source": [
        "2.6 Après avoir arrondi temperature, est-ce que c'est toujours un `float` ?  \n",
        "Réponse:\n",
        "\n",
        "La valeur est un 'int'. La fonction 'round' renvoie un 'int' si on lui passe un seul paramètre."
      ],
      "metadata": {
        "id": "OGJ4a9Abc7Jj"
      }
    },
    {
      "cell_type": "markdown",
      "source": [
        "2.7 Ci-dessous, est-ce que height est un `int` ?\n",
        "\n",
        "Réponse:\n",
        "\n",
        "Non, 'height' est un 'float' car il contient un point décimal à la définition."
      ],
      "metadata": {
        "id": "deL_WAeRdN8Y"
      }
    },
    {
      "cell_type": "code",
      "source": [
        "height = 6.0\n",
        "print(type(height))"
      ],
      "metadata": {
        "id": "BZqcem6pcvWh",
        "colab": {
          "base_uri": "https://localhost:8080/"
        },
        "outputId": "8a9b8a10-579b-4b19-afcb-eb85e445bc74"
      },
      "execution_count": 42,
      "outputs": [
        {
          "output_type": "stream",
          "name": "stdout",
          "text": [
            "<class 'float'>\n"
          ]
        }
      ]
    },
    {
      "cell_type": "markdown",
      "source": [
        "2.8 Arrondissez pi avec 3 valeurs décimales."
      ],
      "metadata": {
        "id": "AtfSIpVoda02"
      }
    },
    {
      "cell_type": "code",
      "source": [
        "pi = 3.14159265359\n",
        "pi = round(pi, 3)\n",
        "print(pi)\n"
      ],
      "metadata": {
        "id": "rqf7z-e6dUYW",
        "colab": {
          "base_uri": "https://localhost:8080/"
        },
        "outputId": "a1f18c35-cbcb-4639-ce42-6b06578a8125"
      },
      "execution_count": 43,
      "outputs": [
        {
          "output_type": "stream",
          "name": "stdout",
          "text": [
            "3.142\n"
          ]
        }
      ]
    },
    {
      "cell_type": "markdown",
      "source": [
        "# Built-in Function"
      ],
      "metadata": {
        "id": "JErtlPWEK1Tj"
      }
    },
    {
      "cell_type": "markdown",
      "source": [
        "3.1 Utilisez une [built-in function](https://docs.python.org/3/library/functions.html) pour compter le nombre de caractères dans l'objet de type `string` suivant:"
      ],
      "metadata": {
        "id": "omp-PFHNd9pe"
      }
    },
    {
      "cell_type": "code",
      "source": [
        "greeting = \"Hello World\"\n",
        "print(f\"Le texte contient {len(greeting)} caractères.\")"
      ],
      "metadata": {
        "id": "nZbmZIzOdpGy",
        "colab": {
          "base_uri": "https://localhost:8080/"
        },
        "outputId": "30629d6e-1dce-4dea-a061-c4e44c1e94dc"
      },
      "execution_count": 44,
      "outputs": [
        {
          "output_type": "stream",
          "name": "stdout",
          "text": [
            "Le texte contient 11 caractères.\n"
          ]
        }
      ]
    },
    {
      "cell_type": "markdown",
      "source": [
        "3.2 Utilisez une built-in function pour compter le nombre d'éléments dans l'objet de type `list` suivant:"
      ],
      "metadata": {
        "id": "oQvcgJFsegje"
      }
    },
    {
      "cell_type": "code",
      "source": [
        "mixed_data = [\"non\", \"pas\", 1, \"ni\", 2, \"ni\", 3, \"mais\", 7.2132]\n",
        "print(f\"La liste contient {len(mixed_data)} éléments\")\n"
      ],
      "metadata": {
        "id": "Xlu7vug7eT19",
        "colab": {
          "base_uri": "https://localhost:8080/"
        },
        "outputId": "e6d92628-554c-43a7-e3c0-263e2e3aed9b"
      },
      "execution_count": 45,
      "outputs": [
        {
          "output_type": "stream",
          "name": "stdout",
          "text": [
            "La liste contient 9 éléments\n"
          ]
        }
      ]
    },
    {
      "cell_type": "markdown",
      "source": [
        "3.3 Utilisez une built-in function sur une des deux variables pour que `resultat`  contienne une valeur positive."
      ],
      "metadata": {
        "id": "e_y4P_HfO6Sa"
      }
    },
    {
      "cell_type": "code",
      "source": [
        "positive_number = 4\n",
        "negative_number = -5\n",
        "\n",
        "resultat = positive_number + negative_number\n",
        "print(f\"resultat = {resultat}\")\n",
        "\n",
        "resultat_positive = positive_number + abs(negative_number)\n",
        "print(f\"resultat_positive = {resultat_positive}\")"
      ],
      "metadata": {
        "id": "EAiCfX-pO8ag",
        "colab": {
          "base_uri": "https://localhost:8080/"
        },
        "outputId": "dd795c08-c909-4130-a751-31c133bf2662"
      },
      "execution_count": 46,
      "outputs": [
        {
          "output_type": "stream",
          "name": "stdout",
          "text": [
            "resultat = -1\n",
            "resultat_positive = 9\n"
          ]
        }
      ]
    },
    {
      "cell_type": "markdown",
      "source": [
        "3.4 Utilisez une built-in function pour renvoyer la valeur minimum de la `list` suivante:"
      ],
      "metadata": {
        "id": "tpdiCu2TPvVP"
      }
    },
    {
      "cell_type": "code",
      "source": [
        "values = [3.2, 41, 2, 23, 7]\n",
        "print(f\"La valeur minimum dans la liste est {min(values)}\")\n"
      ],
      "metadata": {
        "id": "AipGfEYUP4CQ",
        "colab": {
          "base_uri": "https://localhost:8080/"
        },
        "outputId": "c4d9b848-1fd7-4bbb-c49f-3c71782ac87e"
      },
      "execution_count": 47,
      "outputs": [
        {
          "output_type": "stream",
          "name": "stdout",
          "text": [
            "La valeur minimum dans la liste est 2\n"
          ]
        }
      ]
    },
    {
      "cell_type": "markdown",
      "source": [
        "3.5 Utilisez une built-in function pour renvoyer la somme des valeurs de la `list` suivante:"
      ],
      "metadata": {
        "id": "T1wT0YOhQKhL"
      }
    },
    {
      "cell_type": "code",
      "source": [
        "values = [3.2, 41, 2, 23, 7]\n",
        "print(f\"La somme des valeurs de la liste est {sum(values)}\")"
      ],
      "metadata": {
        "id": "5uBfLsKyQjgz",
        "colab": {
          "base_uri": "https://localhost:8080/"
        },
        "outputId": "6bbd82a0-874d-4b67-861e-e8badf2d7e64"
      },
      "execution_count": 48,
      "outputs": [
        {
          "output_type": "stream",
          "name": "stdout",
          "text": [
            "La somme des valeurs de la liste est 76.2\n"
          ]
        }
      ]
    }
  ]
}