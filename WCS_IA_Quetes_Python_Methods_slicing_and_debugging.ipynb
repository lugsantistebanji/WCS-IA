{
  "nbformat": 4,
  "nbformat_minor": 0,
  "metadata": {
    "colab": {
      "provenance": [],
      "include_colab_link": true
    },
    "kernelspec": {
      "name": "python3",
      "display_name": "Python 3"
    },
    "language_info": {
      "name": "python"
    }
  },
  "cells": [
    {
      "cell_type": "markdown",
      "metadata": {
        "id": "view-in-github",
        "colab_type": "text"
      },
      "source": [
        "<a href=\"https://colab.research.google.com/github/lugsantistebanji/WCS-IA/blob/main/WCS_IA_Quetes_Python_Methods_slicing_and_debugging.ipynb\" target=\"_parent\"><img src=\"https://colab.research.google.com/assets/colab-badge.svg\" alt=\"Open In Colab\"/></a>"
      ]
    },
    {
      "cell_type": "markdown",
      "source": [
        "# Méthodes"
      ],
      "metadata": {
        "id": "2fIBM1WeK8hQ"
      }
    },
    {
      "cell_type": "markdown",
      "source": [
        "## `String`"
      ],
      "metadata": {
        "id": "wHK61RAvsWqf"
      }
    },
    {
      "cell_type": "markdown",
      "source": [
        "1.1 Utilisez une [méthode](https://runestone.academy/ns/books/published/py4e-int/strings/methods.html) Python qui permet de supprimer les espaces au début et à la fin du `string`suivant:"
      ],
      "metadata": {
        "id": "5pQ3lO0VA8pv"
      }
    },
    {
      "cell_type": "code",
      "source": [
        "greeting = \" Hello  World    \"\n",
        "print(repr(greeting))"
      ],
      "metadata": {
        "id": "Ndbz2h4JAmIJ",
        "colab": {
          "base_uri": "https://localhost:8080/"
        },
        "outputId": "006be500-7db3-420c-90b2-87b4d4f098c9"
      },
      "execution_count": 6,
      "outputs": [
        {
          "output_type": "stream",
          "name": "stdout",
          "text": [
            "' Hello  World    '\n"
          ]
        }
      ]
    },
    {
      "cell_type": "code",
      "source": [
        "greeting = greeting.strip()\n",
        "print(repr(greeting))"
      ],
      "metadata": {
        "colab": {
          "base_uri": "https://localhost:8080/"
        },
        "id": "vh1n8Ko7l4Nq",
        "outputId": "2a4c050c-f2b0-48e1-ccde-6d0f95563945"
      },
      "execution_count": 7,
      "outputs": [
        {
          "output_type": "stream",
          "name": "stdout",
          "text": [
            "'Hello  World'\n"
          ]
        }
      ]
    },
    {
      "cell_type": "markdown",
      "source": [
        "1.2 Utilisez une méthode Python qui permet de mettre en majuscules le `string` suivant:"
      ],
      "metadata": {
        "id": "Gq9puPLsGR4_"
      }
    },
    {
      "cell_type": "code",
      "source": [
        "greeting_message = \"Hi Denis ! Look at me, I'm a Vampire !\"\n",
        "print(greeting_message.upper())"
      ],
      "metadata": {
        "id": "VUPVZk9IBLXJ",
        "colab": {
          "base_uri": "https://localhost:8080/"
        },
        "outputId": "99e41109-22e9-4eb0-c105-1bde6b830681"
      },
      "execution_count": 8,
      "outputs": [
        {
          "output_type": "stream",
          "name": "stdout",
          "text": [
            "HI DENIS ! LOOK AT ME, I'M A VAMPIRE !\n"
          ]
        }
      ]
    },
    {
      "cell_type": "markdown",
      "source": [
        "1.3 Remplacez les caractères \"f\" par \"n\", et \"v\" par \"t\":"
      ],
      "metadata": {
        "id": "6KFS546UHhT5"
      }
    },
    {
      "cell_type": "code",
      "source": [
        "question = \"C'est une boffe situavion scribe ?\"\n",
        "print(question.replace(\"f\", \"n\").replace(\"v\", \"t\"))"
      ],
      "metadata": {
        "id": "jd6J6v84HJCd",
        "colab": {
          "base_uri": "https://localhost:8080/"
        },
        "outputId": "384a96e4-c2f0-4046-eca0-172e54085f99"
      },
      "execution_count": 9,
      "outputs": [
        {
          "output_type": "stream",
          "name": "stdout",
          "text": [
            "C'est une bonne situation scribe ?\n"
          ]
        }
      ]
    },
    {
      "cell_type": "markdown",
      "source": [
        "# Slicing"
      ],
      "metadata": {
        "id": "7fwx_-DuC9Eh"
      }
    },
    {
      "cell_type": "markdown",
      "source": [
        "2.1 Maintenant, récupérez la première lettre du `string` suivant:"
      ],
      "metadata": {
        "id": "rBikvZkAC99G"
      }
    },
    {
      "cell_type": "code",
      "source": [
        "greeting = \"Hello World\"\n",
        "print(greeting[0])"
      ],
      "metadata": {
        "id": "OstzYvLSDCTK",
        "colab": {
          "base_uri": "https://localhost:8080/"
        },
        "outputId": "24ce73cb-7565-4ed0-b619-bcf0d6c83a7a"
      },
      "execution_count": 11,
      "outputs": [
        {
          "output_type": "stream",
          "name": "stdout",
          "text": [
            "H\n"
          ]
        }
      ]
    },
    {
      "cell_type": "markdown",
      "source": [
        "2.2 Récupérez le premier élément de la `liste` suivante:"
      ],
      "metadata": {
        "id": "f69qj_X_DHkn"
      }
    },
    {
      "cell_type": "code",
      "source": [
        "colors = [\"mintcream\", \"burlywood\", \"salmon\"]\n",
        "print(colors[0])"
      ],
      "metadata": {
        "id": "-Y1AkD0vDKoO",
        "colab": {
          "base_uri": "https://localhost:8080/"
        },
        "outputId": "a7733766-55cd-46d6-d3f6-c30583fbd1d5"
      },
      "execution_count": 10,
      "outputs": [
        {
          "output_type": "stream",
          "name": "stdout",
          "text": [
            "mintcream\n"
          ]
        }
      ]
    },
    {
      "cell_type": "markdown",
      "source": [
        "2.3 Récupérez le premier élément du tuple suivant:"
      ],
      "metadata": {
        "id": "yyccxp7WDNTX"
      }
    },
    {
      "cell_type": "code",
      "source": [
        "color_palette = (\"burlywood\", \"salmon\", \"mintcream\")\n",
        "print(color_palette[0])"
      ],
      "metadata": {
        "id": "xNVvDcy_DPyr"
      },
      "execution_count": null,
      "outputs": []
    },
    {
      "cell_type": "markdown",
      "source": [
        "2.4 Récupérez le premier élément du dict suivant:"
      ],
      "metadata": {
        "id": "MtVLa5ZJDR9K"
      }
    },
    {
      "cell_type": "code",
      "source": [
        "person_info = {\"name\": \"Jules César\", \"Job\": \"Musician\", \"age\": 55}\n",
        "print(f\"- Une possible solution est: list(person_info.items())[0] = {list(person_info.items())[0]}\")\n",
        "print(f\"- Uniquement la valeur de la clé 'name': person_info.get('name') = {person_info.get('name')}\")\n"
      ],
      "metadata": {
        "id": "o_LVNAk4DU1p",
        "colab": {
          "base_uri": "https://localhost:8080/"
        },
        "outputId": "29b6a7a3-fc63-4387-b5ca-5dfb536919da"
      },
      "execution_count": 25,
      "outputs": [
        {
          "output_type": "stream",
          "name": "stdout",
          "text": [
            "- Une possible solution est: list(person_info.items())[0] = ('name', 'Jules César')\n",
            "- Uniquement la valeur de la clé 'name': person_info.get('name') = Jules César\n"
          ]
        }
      ]
    },
    {
      "cell_type": "markdown",
      "source": [
        "\n",
        "Pour un dict, on ne parle pas d'éléments, mais de clés 'keys\" et valeurs \"values\"."
      ],
      "metadata": {
        "id": "cz-FT7QIDWnx"
      }
    },
    {
      "cell_type": "markdown",
      "source": [
        "2.5 Récupérez la valeur de la clé name:"
      ],
      "metadata": {
        "id": "065WT9jhDbFV"
      }
    },
    {
      "cell_type": "code",
      "source": [
        "person_info = {\"name\": \"Jules César\", \"Job\": \"Musician\", \"age\": 55}\n",
        "print(f\"La valeur de la clé 'name' est {person_info['name']}\")"
      ],
      "metadata": {
        "id": "Osa85L8cDdRI",
        "colab": {
          "base_uri": "https://localhost:8080/"
        },
        "outputId": "53d64425-f14f-4d6f-cf8d-aa829d8f7e38"
      },
      "execution_count": 26,
      "outputs": [
        {
          "output_type": "stream",
          "name": "stdout",
          "text": [
            "La valeur de la clé 'name' est Jules César\n"
          ]
        }
      ]
    },
    {
      "cell_type": "markdown",
      "source": [
        "2.6 Récupérez la clé associée à la première valeur:"
      ],
      "metadata": {
        "id": "qqaDoItlDdxG"
      }
    },
    {
      "cell_type": "code",
      "source": [
        "person_info = {\"name\": \"Jules César\", \"Job\": \"Musician\", \"age\": 55}\n",
        "print(f\"La clé associé à la première valeur est '{list(person_info.keys())[0]}'\")"
      ],
      "metadata": {
        "id": "tJfcT2h6Dgie",
        "colab": {
          "base_uri": "https://localhost:8080/"
        },
        "outputId": "e5a268de-2d33-4c2c-8b32-d49c21a78ecf"
      },
      "execution_count": 32,
      "outputs": [
        {
          "output_type": "stream",
          "name": "stdout",
          "text": [
            "La clé associé à la première valeur est 'name'\n"
          ]
        }
      ]
    },
    {
      "cell_type": "markdown",
      "source": [
        "2.7 Maintenant, récupérez les caractères des indices 2 à 4 ('llo') inclus du string suivant :"
      ],
      "metadata": {
        "id": "tEuqgeI-Dk3N"
      }
    },
    {
      "cell_type": "code",
      "source": [
        "greeting = \"Hello World\"\n",
        "chars_2_to_4 = greeting[2:5]\n",
        "print(chars_2_to_4)"
      ],
      "metadata": {
        "id": "6Hc0Db9dDh_z",
        "colab": {
          "base_uri": "https://localhost:8080/"
        },
        "outputId": "f6f08a5e-b728-445e-b6d5-6b8230db99c2"
      },
      "execution_count": 34,
      "outputs": [
        {
          "output_type": "stream",
          "name": "stdout",
          "text": [
            "llo\n"
          ]
        }
      ]
    },
    {
      "cell_type": "markdown",
      "source": [
        "2.8 Récupérez les éléments aux indices 2 à 4 inclus [\"salmon\", ..., \"blanchedalmond\"] de la list suivante:"
      ],
      "metadata": {
        "id": "B9SUudviDvVW"
      }
    },
    {
      "cell_type": "code",
      "source": [
        "color_palette = [\"mintcream\", \"burlywood\", \"salmon\", \"aliceblue\", \"blanchedalmond\", \"cornflowerblue\", \"lavenderblush\"]\n",
        "elements_2_to_4 = color_palette[2:5]\n",
        "print(elements_2_to_4)"
      ],
      "metadata": {
        "id": "57U4hW0LDv8A",
        "colab": {
          "base_uri": "https://localhost:8080/"
        },
        "outputId": "43bf7db4-40a5-4f40-946c-ec8fdc026bf3"
      },
      "execution_count": 37,
      "outputs": [
        {
          "output_type": "stream",
          "name": "stdout",
          "text": [
            "['salmon', 'aliceblue', 'blanchedalmond']\n"
          ]
        }
      ]
    },
    {
      "cell_type": "markdown",
      "source": [
        "# Code debugging"
      ],
      "metadata": {
        "id": "CL5q7sJpLC5l"
      }
    },
    {
      "cell_type": "markdown",
      "source": [
        "3.1 Dans le code ci-dessous, remplacez \"...\" par la syntaxe qui convient pour que la phrase s'affiche en sortie:"
      ],
      "metadata": {
        "id": "tARLcBqkI6UK"
      }
    },
    {
      "cell_type": "code",
      "source": [
        "fruits = [\"apple\", \"banana\"]\n",
        "if \"apple\" ... fruits:\n",
        "  print(\"Yes, apple is a fruit!\")"
      ],
      "metadata": {
        "id": "g9i3_Yb-H0fG",
        "colab": {
          "base_uri": "https://localhost:8080/",
          "height": 108
        },
        "outputId": "fc1383ba-8b37-441a-8645-fd8b8d34d78c"
      },
      "execution_count": 40,
      "outputs": [
        {
          "output_type": "error",
          "ename": "SyntaxError",
          "evalue": "invalid syntax (<ipython-input-40-9a99b158604d>, line 2)",
          "traceback": [
            "\u001b[0;36m  File \u001b[0;32m\"<ipython-input-40-9a99b158604d>\"\u001b[0;36m, line \u001b[0;32m2\u001b[0m\n\u001b[0;31m    if \"apple\" ... fruits:\u001b[0m\n\u001b[0m               ^\u001b[0m\n\u001b[0;31mSyntaxError\u001b[0m\u001b[0;31m:\u001b[0m invalid syntax\n"
          ]
        }
      ]
    },
    {
      "cell_type": "markdown",
      "source": [
        "Une solution est:"
      ],
      "metadata": {
        "id": "xqeeb8Atrn5j"
      }
    },
    {
      "cell_type": "code",
      "source": [
        "fruits = [\"apple\", \"banana\"]\n",
        "if \"apple\" in fruits:\n",
        "  print(\"Yes, apple is a fruit!\")"
      ],
      "metadata": {
        "colab": {
          "base_uri": "https://localhost:8080/"
        },
        "id": "bRYX2eQarZ-U",
        "outputId": "5105b852-b441-4429-ba4f-1d949b34e932"
      },
      "execution_count": 41,
      "outputs": [
        {
          "output_type": "stream",
          "name": "stdout",
          "text": [
            "Yes, apple is a fruit!\n"
          ]
        }
      ]
    },
    {
      "cell_type": "markdown",
      "source": [
        "3.2 Dans le code ci-dessous, remplacez \"...\" par l'opérateur booléen `or` ou `and` qui convient pour que la phrase s'affiche en sortie:"
      ],
      "metadata": {
        "id": "54ZgZmseOmA7"
      }
    },
    {
      "cell_type": "code",
      "source": [
        "if 12 < 5 ... 3 == 3:\n",
        "  print(\"Here we go !\")"
      ],
      "metadata": {
        "id": "mBxDU3GlOno4"
      },
      "execution_count": null,
      "outputs": []
    },
    {
      "cell_type": "markdown",
      "source": [
        "Une solution est:"
      ],
      "metadata": {
        "id": "7jB9WQ8lr3oV"
      }
    },
    {
      "cell_type": "code",
      "source": [
        "if 12 < 5 or 3 == 3:\n",
        "  print(\"Here we go !\")"
      ],
      "metadata": {
        "colab": {
          "base_uri": "https://localhost:8080/"
        },
        "id": "zuhRm3Pcr2l_",
        "outputId": "cff225cf-6e73-44ba-93b5-59d8d45b4f73"
      },
      "execution_count": 42,
      "outputs": [
        {
          "output_type": "stream",
          "name": "stdout",
          "text": [
            "Here we go !\n"
          ]
        }
      ]
    },
    {
      "cell_type": "markdown",
      "source": [
        "3.3 Modifiez le code ci-dessous pour que la phrase s'affiche."
      ],
      "metadata": {
        "id": "IHdB-6tcLLPz"
      }
    },
    {
      "cell_type": "code",
      "source": [
        "if \"kiwi\".startswith(\"f\"):\n",
        "  print(\"Of course kiwi starts with a 'k'\")"
      ],
      "metadata": {
        "id": "ysiWc9tUImsc"
      },
      "execution_count": null,
      "outputs": []
    },
    {
      "cell_type": "markdown",
      "source": [
        "Une solution est:"
      ],
      "metadata": {
        "id": "JGf9lHFCsFIu"
      }
    },
    {
      "cell_type": "code",
      "source": [
        "if \"kiwi\".startswith(\"k\"):\n",
        "  print(\"Of course kiwi starts with a 'k'\")"
      ],
      "metadata": {
        "colab": {
          "base_uri": "https://localhost:8080/"
        },
        "id": "XnLMLNknsIXB",
        "outputId": "7506b7fb-436b-4c39-e497-f948e5283d5a"
      },
      "execution_count": 43,
      "outputs": [
        {
          "output_type": "stream",
          "name": "stdout",
          "text": [
            "Of course kiwi starts with a 'k'\n"
          ]
        }
      ]
    },
    {
      "cell_type": "markdown",
      "source": [
        "3.4 Modifiez le code ci-dessous pour que la phrase s'affiche.  \n",
        "Vous n'avez le droit que de modifier l'emplacement des variables `count_1`, `count_2` et `count_3`.  \n",
        "Aussi, vous pouvez ajoutez des parenthèses pour créer une exception aux priorités opératoires."
      ],
      "metadata": {
        "id": "o2_gf_VmLveE"
      }
    },
    {
      "cell_type": "code",
      "source": [
        "count_1 = 12\n",
        "count_2 = 4\n",
        "count_3 = 2\n",
        "\n",
        "if count_1 + count_3 / count_2 == 8:\n",
        "  print(\"You can call me 'The MasterMath'.\")"
      ],
      "metadata": {
        "id": "qx6t1A4ULlgB"
      },
      "execution_count": null,
      "outputs": []
    },
    {
      "cell_type": "markdown",
      "source": [
        "Une solution est:"
      ],
      "metadata": {
        "id": "xoCD64y_sT9b"
      }
    },
    {
      "cell_type": "code",
      "source": [
        "count_1 = 12\n",
        "count_2 = 4\n",
        "count_3 = 2\n",
        "\n",
        "if (count_1 + count_2) / count_3 == 8:\n",
        "  print(\"You can call me 'The MasterMath'.\")"
      ],
      "metadata": {
        "colab": {
          "base_uri": "https://localhost:8080/"
        },
        "id": "Ns5GpWB3sWVe",
        "outputId": "f5844700-2ec1-44a9-f4d8-3d0ccc9ca5e6"
      },
      "execution_count": 48,
      "outputs": [
        {
          "output_type": "stream",
          "name": "stdout",
          "text": [
            "You can call me 'The MasterMath'.\n"
          ]
        }
      ]
    },
    {
      "cell_type": "markdown",
      "source": [
        "3.5 Vous allez maintenant vous familiariser avec la division euclidienne.  \n",
        "Il y a ici deux termes à connaître:\n",
        "* Le reste\n",
        "* Le quotient  \n",
        "\n",
        "Faites vos recherches pour être à l'aise avec ces termes.\n",
        "\n",
        "Aussi, faites vos recherches pour savoir quel symbole permet d'afficher le reste ou le quotient, en python.  \n",
        "\n",
        "Une fois que c'est fait, vous pouvez faire l'exercice suivant :  \n",
        "Parmi ses variables, lesquels ont une valeur divisible par 2, donc un reste égale à 0 ?\n",
        "\n",
        "Pour répondre, vous allez devoir tester chacune des variable, et remplacer \"...\" par le symbole qui convient."
      ],
      "metadata": {
        "id": "swkZ_qKytmHQ"
      }
    },
    {
      "cell_type": "code",
      "source": [
        "count_1 = 3\n",
        "count_2 = 6\n",
        "count_3 = 7\n",
        "count_4 = 14\n",
        "count_5 = 12\n",
        "\n",
        "\n",
        "if nom_variable ... 2 == 0:\n",
        "  print(f\"On s'exerce ici avec la division euclidienne. Le reste de {nom_variable} divisé par 2 est égale à 0.\")"
      ],
      "metadata": {
        "id": "gvWHafdntbeC"
      },
      "execution_count": null,
      "outputs": []
    },
    {
      "cell_type": "markdown",
      "source": [
        "Une solution est:"
      ],
      "metadata": {
        "id": "Uz7guhKwuKji"
      }
    },
    {
      "cell_type": "code",
      "source": [
        "count_1 = 3\n",
        "count_2 = 6\n",
        "count_3 = 7\n",
        "count_4 = 14\n",
        "count_5 = 12\n",
        "\n",
        "variables = [count_1, count_2, count_3, count_4, count_5]\n",
        "\n",
        "for variable in variables:\n",
        "  if variable % 2 == 0:\n",
        "    print(f\"On s'exerce ici avec la division euclidienne. Le reste de {variable} divisé par 2 est égale à 0.\")"
      ],
      "metadata": {
        "colab": {
          "base_uri": "https://localhost:8080/"
        },
        "id": "A3Xy7wAyuNYn",
        "outputId": "635a5762-e45f-4508-aa41-605447756077"
      },
      "execution_count": 50,
      "outputs": [
        {
          "output_type": "stream",
          "name": "stdout",
          "text": [
            "On s'exerce ici avec la division euclidienne. Le reste de 6 divisé par 2 est égale à 0.\n",
            "On s'exerce ici avec la division euclidienne. Le reste de 14 divisé par 2 est égale à 0.\n",
            "On s'exerce ici avec la division euclidienne. Le reste de 12 divisé par 2 est égale à 0.\n"
          ]
        }
      ]
    },
    {
      "cell_type": "markdown",
      "source": [
        "3.6 Cette fois, on veut connaître les variables dont les valeurs ont un quotient supérieur à 5 lorsqu'on divise chaque valeur par 5.\n",
        "\n",
        "Remplacez \"...\" par le code qui convient."
      ],
      "metadata": {
        "id": "8d1__TwEwHyx"
      }
    },
    {
      "cell_type": "code",
      "source": [
        "count_1 = 34\n",
        "count_2 = 37\n",
        "count_3 = 24\n",
        "count_4 = 29\n",
        "count_5 = 31\n",
        "\n",
        "if nom_variable  ... > 5:\n",
        "  print(f\"On s'exerce ici avec la division euclidienne. Le quotient de {nom_variable} divisé par 5 est égale à {nom_variable // 5}.\")"
      ],
      "metadata": {
        "id": "iGAcOPkTuXhh"
      },
      "execution_count": null,
      "outputs": []
    },
    {
      "cell_type": "markdown",
      "source": [
        "Une solution est:"
      ],
      "metadata": {
        "id": "6RT54rCCu5xW"
      }
    },
    {
      "cell_type": "code",
      "source": [
        "count_1 = 34\n",
        "count_2 = 37\n",
        "count_3 = 24\n",
        "count_4 = 29\n",
        "count_5 = 31\n",
        "\n",
        "variables = [count_1, count_2, count_3, count_4, count_5]\n",
        "\n",
        "for variable in variables:\n",
        "  if variable > 5:\n",
        "    print(f\"On s'exerce ici avec la division euclidienne. Le quotient de {variable} divisé par 5 est égale à {variable // 5}.\")"
      ],
      "metadata": {
        "colab": {
          "base_uri": "https://localhost:8080/"
        },
        "id": "JqFqf6vhu79_",
        "outputId": "0411efda-6325-443a-f659-e3c5710cae44"
      },
      "execution_count": 51,
      "outputs": [
        {
          "output_type": "stream",
          "name": "stdout",
          "text": [
            "On s'exerce ici avec la division euclidienne. Le quotient de 34 divisé par 5 est égale à 6.\n",
            "On s'exerce ici avec la division euclidienne. Le quotient de 37 divisé par 5 est égale à 7.\n",
            "On s'exerce ici avec la division euclidienne. Le quotient de 24 divisé par 5 est égale à 4.\n",
            "On s'exerce ici avec la division euclidienne. Le quotient de 29 divisé par 5 est égale à 5.\n",
            "On s'exerce ici avec la division euclidienne. Le quotient de 31 divisé par 5 est égale à 6.\n"
          ]
        }
      ]
    }
  ]
}