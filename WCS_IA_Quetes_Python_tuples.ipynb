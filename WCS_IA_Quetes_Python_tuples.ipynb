{
  "nbformat": 4,
  "nbformat_minor": 0,
  "metadata": {
    "colab": {
      "provenance": [],
      "include_colab_link": true
    },
    "kernelspec": {
      "name": "python3",
      "display_name": "Python 3"
    }
  },
  "cells": [
    {
      "cell_type": "markdown",
      "metadata": {
        "id": "view-in-github",
        "colab_type": "text"
      },
      "source": [
        "<a href=\"https://colab.research.google.com/github/lugsantistebanji/WCS-IA/blob/main/WCS_IA_Quetes_Python_tuples.ipynb\" target=\"_parent\"><img src=\"https://colab.research.google.com/assets/colab-badge.svg\" alt=\"Open In Colab\"/></a>"
      ]
    },
    {
      "cell_type": "markdown",
      "metadata": {
        "id": "LoJw-LlCTnWF"
      },
      "source": [
        "# Mission 1\n",
        "\n",
        "Create a tuple of your choice containing 10 elements in this order:\n",
        "- 3 integers\n",
        "- 3 strings\n",
        "- 2 lists containing 3 items each\n",
        "- 2 dictionaries containing 3 items (3 key/value pairs) each\n"
      ]
    },
    {
      "cell_type": "markdown",
      "source": [
        "**One possible solution :**"
      ],
      "metadata": {
        "id": "2dzEYUgUobNx"
      }
    },
    {
      "cell_type": "code",
      "metadata": {
        "id": "C2Lk113KSPUO",
        "colab": {
          "base_uri": "https://localhost:8080/"
        },
        "outputId": "9f2c44e3-8134-4be5-b8fc-c7d228434f9d"
      },
      "source": [
        "my_tuple = (1, 2, 3, \"test1\", \"test2\", \"test3\", [\"item1\", \"item2\", \"item3\"], [1, 2 , 3], {\"key1\": \"value1\", \"key2\": \"value2\", \"key3\": \"value3\"}, {1: 3, 2: 1, 3: 2})\n",
        "print(my_tuple)"
      ],
      "execution_count": null,
      "outputs": [
        {
          "output_type": "stream",
          "name": "stdout",
          "text": [
            "(1, 2, 3, 'test1', 'test2', 'test3', ['item1', 'item2', 'item3'], [1, 2, 3], {'key1': 'value1', 'key2': 'value2', 'key3': 'value3'}, {1: 3, 2: 1, 3: 2})\n"
          ]
        }
      ]
    },
    {
      "cell_type": "markdown",
      "metadata": {
        "id": "cPQRTT3q6GB1"
      },
      "source": [
        "Now, access the second-to-last item in the second list."
      ]
    },
    {
      "cell_type": "code",
      "metadata": {
        "id": "V9LKho6U6HM8",
        "colab": {
          "base_uri": "https://localhost:8080/"
        },
        "outputId": "22a02b26-9e8d-4122-e4c6-69ce68682d5d"
      },
      "source": [
        "my_tuple = (1, 2, 3, \"test1\", \"test2\", \"test3\", [\"item1\", \"item2\", \"item3\"], [1, 2 , 3], {\"key1\": \"value1\", \"key2\": \"value2\", \"key3\": \"value3\"}, {1: 3, 2: 1, 3: 2})\n",
        "print(my_tuple[7][-2])"
      ],
      "execution_count": null,
      "outputs": [
        {
          "output_type": "stream",
          "name": "stdout",
          "text": [
            "2\n"
          ]
        }
      ]
    },
    {
      "cell_type": "markdown",
      "metadata": {
        "id": "HGoGFI9qxuzW"
      },
      "source": [
        "# Mission 2\n",
        "\n",
        "In the same tuple, access the last 4 elements using slicing."
      ]
    },
    {
      "cell_type": "markdown",
      "source": [
        "**One possible solution :**"
      ],
      "metadata": {
        "id": "6383i-nNoq3t"
      }
    },
    {
      "cell_type": "code",
      "metadata": {
        "id": "qk097m4Zx4mR",
        "colab": {
          "base_uri": "https://localhost:8080/"
        },
        "outputId": "1c4fefff-061c-4b0c-d49b-4e17a25b87be"
      },
      "source": [
        "my_tuple = (1, 2, 3, \"test1\", \"test2\", \"test3\", [\"item1\", \"item2\", \"item3\"], [1, 2 , 3], {\"key1\": \"value1\", \"key2\": \"value2\", \"key3\": \"value3\"}, {1: 3, 2: 1, 3: 2})\n",
        "print(my_tuple[-4:])"
      ],
      "execution_count": null,
      "outputs": [
        {
          "output_type": "stream",
          "name": "stdout",
          "text": [
            "(['item1', 'item2', 'item3'], [1, 2, 3], {'key1': 'value1', 'key2': 'value2', 'key3': 'value3'}, {1: 3, 2: 1, 3: 2})\n"
          ]
        }
      ]
    },
    {
      "cell_type": "markdown",
      "metadata": {
        "id": "iVHJFx3Px8mY"
      },
      "source": [
        "# Mission 3\n",
        "\n",
        "Change the value of the 4th element (the first string) of your tuple (since tuples are immutable, this means recreating a tuple where this element is changed)."
      ]
    },
    {
      "cell_type": "markdown",
      "source": [
        "**One possible solution :**"
      ],
      "metadata": {
        "id": "VjYEGJdJoryN"
      }
    },
    {
      "cell_type": "code",
      "metadata": {
        "id": "op3qyirV7tGZ",
        "colab": {
          "base_uri": "https://localhost:8080/"
        },
        "outputId": "d5dcce4f-dc75-4789-d4ca-50dca888f931"
      },
      "source": [
        "my_tuple = (1, 2, 3, \"test1\", \"test2\", \"test3\", [\"item1\", \"item2\", \"item3\"], [1, 2 , 3], {\"key1\": \"value1\", \"key2\": \"value2\", \"key3\": \"value3\"}, {1: 3, 2: 1, 3: 2})\n",
        "my_list = list(my_tuple)\n",
        "my_list[4] = \"new_string\"\n",
        "my_tuple = tuple(my_list)\n",
        "print(my_tuple)"
      ],
      "execution_count": null,
      "outputs": [
        {
          "output_type": "stream",
          "name": "stdout",
          "text": [
            "(1, 2, 3, 'test1', 'new_string', 'test3', ['item1', 'item2', 'item3'], [1, 2, 3], {'key1': 'value1', 'key2': 'value2', 'key3': 'value3'}, {1: 3, 2: 1, 3: 2})\n"
          ]
        }
      ]
    },
    {
      "cell_type": "markdown",
      "metadata": {
        "id": "Wp3_jhWS2Foi"
      },
      "source": [
        "# Mission 4\n",
        "\n",
        "Create 2 tuples of the same length that contain only integers.\n",
        "\n",
        "Then create a script that compares the sum of their elements and displays the tuple that has the highet total."
      ]
    },
    {
      "cell_type": "markdown",
      "source": [
        "**One possible solution :**"
      ],
      "metadata": {
        "id": "69yD4d0rotRV"
      }
    },
    {
      "cell_type": "code",
      "metadata": {
        "id": "dGMYxaMWx8RO",
        "colab": {
          "base_uri": "https://localhost:8080/"
        },
        "outputId": "2ded7816-dd27-4ffc-aaa0-ed807e24c235"
      },
      "source": [
        "import random as rd\n",
        "\n",
        "lenght_tuples = rd.randint(5, 20)\n",
        "tuple_1 = tuple([rd.randint(1, 100) for x in range(lenght_tuples)])\n",
        "tuple_2 = tuple([rd.randint(1, 100) for x in range(lenght_tuples)])\n",
        "\n",
        "def compare_tuples(tuple_1: tuple, tuple_2: tuple) -> None:\n",
        "    sum_t1 = sum(tuple_1)\n",
        "    sum_t2 = sum(tuple_2)\n",
        "    tuple_max = f\"Tuple 1: Total={sum_t1}\" if sum_t1 > sum_t2 else f\"Tuple 2: Total={sum_t2}\"\n",
        "    print(f\"- Tuple 1: {tuple_1}, Total={sum_t1}\")\n",
        "    print(f\"- Tuple 2: {tuple_2}, Total={sum_t2}\")\n",
        "    print()\n",
        "    print(tuple_max)\n",
        "\n",
        "compare_tuples(tuple_1, tuple_2)"
      ],
      "execution_count": 5,
      "outputs": [
        {
          "output_type": "stream",
          "name": "stdout",
          "text": [
            "- Tuple 1: (27, 70, 22, 63, 10, 5, 16, 14, 25, 94), Total=346\n",
            "- Tuple 2: (85, 94, 13, 93, 55, 16, 8, 78, 53, 10), Total=505\n",
            "\n",
            "Tuple 2: Total=505\n"
          ]
        }
      ]
    },
    {
      "cell_type": "markdown",
      "metadata": {
        "id": "Zmk8uviVzPBZ"
      },
      "source": [
        "# Mission 5\n",
        "\n",
        "Here's a tuple:\n",
        "\n",
        "`my_tuple = (\"data analyst\", \"data scientist\", \"data engineer\", \"data architect\")`\n",
        "\n",
        "Ask the user for a string, then for an integer position. Create an altered copy of `my_tuple` when the element at the given position is now the given string."
      ]
    },
    {
      "cell_type": "markdown",
      "source": [
        "**One possible solution :**"
      ],
      "metadata": {
        "id": "167A8CZmsKx9"
      }
    },
    {
      "cell_type": "code",
      "metadata": {
        "id": "0o-MuRyZ1_7u",
        "colab": {
          "base_uri": "https://localhost:8080/"
        },
        "outputId": "e2751950-7615-4a4e-ba5f-6d8be0c800b0"
      },
      "source": [
        "try:\n",
        "    my_tuple = (\"data analyst\", \"data scientist\", \"data engineer\", \"data architect\")\n",
        "    new_string = input(\"Enter a string: \")\n",
        "    position = int(input(f\"Enter the index of the element to change in the tuple. Index between 0 and {len(my_tuple) - 1 }, limits included: \"))\n",
        "\n",
        "    if position < 0 or position >= len(my_tuple):\n",
        "        raise IndexError(f\"The index of the element to change in the tuple must between 0 and {len(my_tuple) - 1 }\")\n",
        "\n",
        "    my_list = list(my_tuple)\n",
        "    my_list[position] = new_string\n",
        "    copy_my_tuple = tuple(my_list)\n",
        "    print(f\"\\n The copy altered is: {copy_my_tuple}\")\n",
        "\n",
        "except IndexError as error:\n",
        "    print(error)\n",
        "except ValueError as error:\n",
        "    print(\"You must enter a integer number\")"
      ],
      "execution_count": 6,
      "outputs": [
        {
          "output_type": "stream",
          "name": "stdout",
          "text": [
            "Enter a string: data miner\n",
            "Enter the index of the element to change in the tuple. Index between 0 and 3, limits included: 2\n",
            "\n",
            " The copy is: ('data analyst', 'data scientist', 'data miner', 'data architect')\n"
          ]
        }
      ]
    }
  ]
}