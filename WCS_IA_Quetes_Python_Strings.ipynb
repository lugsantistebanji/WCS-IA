{
  "nbformat": 4,
  "nbformat_minor": 0,
  "metadata": {
    "colab": {
      "provenance": [],
      "include_colab_link": true
    },
    "kernelspec": {
      "name": "python3",
      "display_name": "Python 3"
    }
  },
  "cells": [
    {
      "cell_type": "markdown",
      "metadata": {
        "id": "view-in-github",
        "colab_type": "text"
      },
      "source": [
        "<a href=\"https://colab.research.google.com/github/lugsantistebanji/WCS-IA/blob/main/WCS_IA_Quetes_Python_Strings.ipynb\" target=\"_parent\"><img src=\"https://colab.research.google.com/assets/colab-badge.svg\" alt=\"Open In Colab\"/></a>"
      ]
    },
    {
      "cell_type": "markdown",
      "metadata": {
        "id": "LoJw-LlCTnWF"
      },
      "source": [
        "# Mission 1\n",
        "\n",
        "Use the `len` method to display the length of the string named `s` below."
      ]
    },
    {
      "cell_type": "markdown",
      "source": [
        "**Une solution**"
      ],
      "metadata": {
        "id": "Or7g1h1cyQjg"
      }
    },
    {
      "cell_type": "code",
      "metadata": {
        "id": "oweHYwlm1EVo",
        "colab": {
          "base_uri": "https://localhost:8080/"
        },
        "outputId": "4a34faa0-dcb8-42b8-cc4f-4106d5cb2f5e"
      },
      "source": [
        "s = \"Taumata whakatangihanga koauau o tamatea turi pukaka piki maungah oronuku pokai whenuaki tanatahu \"\n",
        "print(len(s))"
      ],
      "execution_count": null,
      "outputs": [
        {
          "output_type": "stream",
          "name": "stdout",
          "text": [
            "98\n"
          ]
        }
      ]
    },
    {
      "cell_type": "markdown",
      "metadata": {
        "id": "wruMhTKTx-_T"
      },
      "source": [
        "Now, iterate on this string to count only non-space characters.\n",
        "\n",
        "Remember, using a `for` loop on a string will browse all the individual characters of it!"
      ]
    },
    {
      "cell_type": "markdown",
      "source": [
        "**Une solution**"
      ],
      "metadata": {
        "id": "4A6Eexgnyndi"
      }
    },
    {
      "cell_type": "code",
      "metadata": {
        "id": "ze_3CDrJx9re",
        "colab": {
          "base_uri": "https://localhost:8080/"
        },
        "outputId": "1f91d0ad-c7f0-4914-f5e1-bc6601efbf36"
      },
      "source": [
        "s = \"Taumata whakatangihanga koauau o tamatea turi pukaka piki maungah oronuku pokai whenuaki tanatahu \"\n",
        "total = 0\n",
        "\n",
        "for character in s:\n",
        "   if character != \" \":\n",
        "     total += 1\n",
        "\n",
        "print(total)"
      ],
      "execution_count": 1,
      "outputs": [
        {
          "output_type": "stream",
          "name": "stdout",
          "text": [
            "85\n"
          ]
        }
      ]
    },
    {
      "cell_type": "markdown",
      "source": [
        "**Une autre solution**"
      ],
      "metadata": {
        "id": "a5WxJcLtyp3w"
      }
    },
    {
      "cell_type": "code",
      "source": [
        "s = \"Taumata whakatangihanga koauau o tamatea turi pukaka piki maungah oronuku pokai whenuaki tanatahu \"\n",
        "total = len(s) - s.count(\" \")\n",
        "print(total)"
      ],
      "metadata": {
        "colab": {
          "base_uri": "https://localhost:8080/"
        },
        "id": "gQ5eW3f7ytJK",
        "outputId": "90dd8892-13cf-4b20-c2df-9056b3f9ffa6"
      },
      "execution_count": null,
      "outputs": [
        {
          "output_type": "stream",
          "name": "stdout",
          "text": [
            "85\n"
          ]
        }
      ]
    },
    {
      "cell_type": "markdown",
      "metadata": {
        "id": "2BSzzT3_DDOK"
      },
      "source": [
        "# Mission 2\n",
        "\n",
        "Ask the user for a string, then for a character (we assume user input follows the rules). Then, display the positions, **starting with 1**, of all occurrences of the character within the string.\n",
        "\n",
        "For example, for the word \"welcome\" and for the character \"e\", the script will display:\n",
        "```\n",
        "position: 2\n",
        "position: 7\n",
        "```"
      ]
    },
    {
      "cell_type": "markdown",
      "source": [
        "**Une solution**"
      ],
      "metadata": {
        "id": "A_8zkFaVH4mq"
      }
    },
    {
      "cell_type": "code",
      "metadata": {
        "id": "Fy1OmPSUXNaP",
        "colab": {
          "base_uri": "https://localhost:8080/"
        },
        "outputId": "f5128191-bca8-4600-fff4-7469e8cc4e94"
      },
      "source": [
        "try:\n",
        "    string = input(\"Enter a string: \")\n",
        "    character = input(\"Enter a character: \")\n",
        "\n",
        "    if len(character) != 1:\n",
        "      raise ValueError\n",
        "\n",
        "    for index, s in enumerate(string):\n",
        "        if character == s :\n",
        "            print(f\"position: {index + 1}\")\n",
        "\n",
        "except ValueError as error:\n",
        "    print(\"You must enter a character not a string\")"
      ],
      "execution_count": null,
      "outputs": [
        {
          "output_type": "stream",
          "name": "stdout",
          "text": [
            "Enter a string: welcome\n",
            "Enter a character: e\n",
            "position: 2\n",
            "position: 7\n"
          ]
        }
      ]
    },
    {
      "cell_type": "markdown",
      "metadata": {
        "id": "pLZi_mgzFvMP"
      },
      "source": [
        "# Mission 3\n",
        "\n",
        "Ask the user for a string, then for an integer. Then, display the string repeated as many times as the given integer.\n",
        "\n",
        "For example, `badger` and `4` will display `badgerbadgerbadgerbadger`"
      ]
    },
    {
      "cell_type": "markdown",
      "source": [
        "**Une solution**"
      ],
      "metadata": {
        "id": "ey_etCS6IErq"
      }
    },
    {
      "cell_type": "code",
      "metadata": {
        "id": "pN3_mD4YSPfb",
        "colab": {
          "base_uri": "https://localhost:8080/"
        },
        "outputId": "e40fa4ee-9236-42fc-8441-ad8f87f19d12"
      },
      "source": [
        "try:\n",
        "    string = input(\"Enter a string: \")\n",
        "    number = int(input(\"Enter a number: \"))\n",
        "\n",
        "    if number <= 0:\n",
        "        raise ValueError\n",
        "    print(string*number)\n",
        "\n",
        "except ValueError as error:\n",
        "    print(\"You must enter a positive integer number\")"
      ],
      "execution_count": null,
      "outputs": [
        {
          "output_type": "stream",
          "name": "stdout",
          "text": [
            "Enter a string: badger\n",
            "Enter a number: 4\n",
            "badgerbadgerbadgerbadger\n"
          ]
        }
      ]
    },
    {
      "cell_type": "markdown",
      "metadata": {
        "id": "GCvpkWzXXPTf"
      },
      "source": [
        "# Mission 4\n",
        "\n",
        "Diplay the following string without including the spaces at the beginning and end. There's a `string` method that does exactly that, look at the documentation!"
      ]
    },
    {
      "cell_type": "markdown",
      "source": [
        "**Une solution**"
      ],
      "metadata": {
        "id": "5RYXC0HfWoHX"
      }
    },
    {
      "cell_type": "code",
      "metadata": {
        "id": "KZT8AIPF0ery",
        "colab": {
          "base_uri": "https://localhost:8080/"
        },
        "outputId": "f23581e0-129f-43d1-e4df-347508caed29"
      },
      "source": [
        "s = \"   Data Analyst  \"\n",
        "print(repr(s.strip()))"
      ],
      "execution_count": null,
      "outputs": [
        {
          "output_type": "stream",
          "name": "stdout",
          "text": [
            "'Data Analyst'\n"
          ]
        }
      ]
    },
    {
      "cell_type": "markdown",
      "metadata": {
        "id": "geMLdrvAYHKx"
      },
      "source": [
        "# Mission 5\n",
        "\n",
        "Ask the user for a string, then for a character, then for another character.\n",
        "\n",
        "Then, display the first string where the occurences of the first character are replaced by the second one."
      ]
    },
    {
      "cell_type": "markdown",
      "source": [
        "**Une solution**"
      ],
      "metadata": {
        "id": "QkE30NNtWwoT"
      }
    },
    {
      "cell_type": "code",
      "metadata": {
        "id": "1-cenx3RSPpq",
        "colab": {
          "base_uri": "https://localhost:8080/"
        },
        "outputId": "d10b4149-8fbd-4a6a-ace4-9d279c8ff14d"
      },
      "source": [
        "try:\n",
        "    string = input(\"Enter a string: \")\n",
        "    o_character = input(\"Enter a character of string to replace: \")\n",
        "    r_character = input(\"Enter a character who replace the other character \")\n",
        "\n",
        "    if len(o_character) != 1 or len(r_character) != 1:\n",
        "        raise ValueError\n",
        "    print(string.replace(o_character, r_character))\n",
        "except ValueError as error:\n",
        "    print(\"You must enter a character, not a string.\")"
      ],
      "execution_count": null,
      "outputs": [
        {
          "output_type": "stream",
          "name": "stdout",
          "text": [
            "Enter a string: the new \n",
            "Enter a character of string to replace: teu\n",
            "Enter a character who replace the other character etu\n",
            "You must enter a character, not a string.\n"
          ]
        }
      ]
    },
    {
      "cell_type": "markdown",
      "metadata": {
        "id": "V8ZS3aECXvuZ"
      },
      "source": [
        "# Mission 6\n",
        "\n",
        "Ask the user for a string. Then, display the same string with all vowels converted to uppercase, and all consonants converted to lowercase."
      ]
    },
    {
      "cell_type": "markdown",
      "source": [
        "**Une solution**"
      ],
      "metadata": {
        "id": "kwVLGIeyW5VT"
      }
    },
    {
      "cell_type": "code",
      "metadata": {
        "id": "ph_j97PoSPmU",
        "colab": {
          "base_uri": "https://localhost:8080/"
        },
        "outputId": "fb5abc7e-1050-49fe-9fc0-157339fd1adf"
      },
      "source": [
        "string = input(\"Enter a string: \")\n",
        "vowels = \"aeiou\"\n",
        "\n",
        "new_string = \"\"\n",
        "\n",
        "for s in string:\n",
        "  if s.lower() in vowels:\n",
        "      new_string += s.upper()\n",
        "  elif s.isalpha():\n",
        "      new_string += s.lower()\n",
        "  else:\n",
        "      new_string += s\n",
        "\n",
        "print(new_string)"
      ],
      "execution_count": null,
      "outputs": [
        {
          "output_type": "stream",
          "name": "stdout",
          "text": [
            "Enter a string: This is a test\n",
            "thIs Is A tEst\n"
          ]
        }
      ]
    }
  ]
}