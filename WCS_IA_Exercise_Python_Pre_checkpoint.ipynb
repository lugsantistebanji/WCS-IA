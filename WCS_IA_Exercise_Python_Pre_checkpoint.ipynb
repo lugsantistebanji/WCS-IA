{
  "nbformat": 4,
  "nbformat_minor": 0,
  "metadata": {
    "colab": {
      "provenance": [],
      "authorship_tag": "ABX9TyMcJ6C6y9KNJIhxlQSx2cdx",
      "include_colab_link": true
    },
    "kernelspec": {
      "name": "python3",
      "display_name": "Python 3"
    },
    "language_info": {
      "name": "python"
    }
  },
  "cells": [
    {
      "cell_type": "markdown",
      "metadata": {
        "id": "view-in-github",
        "colab_type": "text"
      },
      "source": [
        "<a href=\"https://colab.research.google.com/github/lugsantistebanji/WCS-IA/blob/main/WCS_IA_Exercise_Python_Pre_checkpoint.ipynb\" target=\"_parent\"><img src=\"https://colab.research.google.com/assets/colab-badge.svg\" alt=\"Open In Colab\"/></a>"
      ]
    },
    {
      "cell_type": "markdown",
      "source": [
        "## Exercice 1 : Quelle équipe de super-héros ?\n",
        "\n",
        "### Contexte :\n",
        "Tu es responsable de la sélection des super-héros pour une mission. Selon leurspouvoirs, tu dois les répartir dans des équipes spécifiques.\n",
        "\n",
        "- Si le super-héros est \"fort\", il va dans l'équipe Hulk.\n",
        "\n",
        "- Si le super-héros est \"rapide\", il va dans l'équipe Flash.\n",
        "\n",
        "- Sinon, il va dans l'équipe Batman.\n",
        "\n",
        "### Exercice :\n",
        "\n",
        "Écris une fonction qui prend une description (\"fort\", \"rapide\" ou autre) et affiche dans quelle équipe le super-héros ira.\n",
        "\n"
      ],
      "metadata": {
        "id": "rJK1XatkKBY2"
      }
    },
    {
      "cell_type": "code",
      "source": [
        "from enum import Enum\n",
        "\n",
        "\n",
        "teams = {\"Hulk Team\":{\n",
        "           \"description\": \"Strong\",\n",
        "           \"heros\": [\"Hulk\"]\n",
        "           },\n",
        "         \"Flash Team\":{\n",
        "           \"description\": \"Speed\",\n",
        "           \"heros\": [\"Flash\"]\n",
        "            },\n",
        "         \"Batman Team\":{\n",
        "           \"description\": \"Rich\",\n",
        "           \"heros\": [\"Batman\"]\n",
        "           }\n",
        "        }\n",
        "\n",
        "default_team = \"Batman Team\"\n",
        "\n",
        "def get_futur_team(description: str):\n",
        "    for team, team_value in teams.items():\n",
        "        if team_value[\"description\"].lower() == description.lower().strip().strip():\n",
        "            return team\n",
        "        else:\n",
        "            return default_team"
      ],
      "metadata": {
        "colab": {
          "base_uri": "https://localhost:8080/"
        },
        "id": "K8ny8L_wLBX7",
        "outputId": "9e736934-1b3e-45cd-e4b1-52762748a8aa"
      },
      "execution_count": 13,
      "outputs": [
        {
          "output_type": "stream",
          "name": "stdout",
          "text": [
            "strong\n",
            "strong\n",
            "Hulk Team\n"
          ]
        }
      ]
    },
    {
      "cell_type": "markdown",
      "source": [
        "## Exercice 2 : Taux de conversion Pokémon\n",
        "\n",
        "### Contexte :\n",
        "\n",
        "Les Pokédollars ne fonctionnent pas dans le monde réel. Tu dois convertir un prix en Pokédollars en euros. Le taux actuel est 1 Pokédollar = 0.88 €.\n",
        "\n",
        "## Exercice :\n",
        "\n",
        "Écris une fonction qui prend une liste de prix en Pokédollars et retourne une\n",
        "nouvelle liste avec les prix convertis en euros, arrondis à 2 décimales.\n",
        "\n"
      ],
      "metadata": {
        "id": "Fgbe1njzK4V4"
      }
    },
    {
      "cell_type": "code",
      "source": [
        "pokedollar_to_dollar_rate = 0.88\n",
        "\n",
        "def get_dollars_from_pokedollars(pokedollar_list: list) -> list:\n",
        "    return [round(pokedollar * pokedollar_to_dollar_rate, 2) for pokedollar in pokedollar_list]\n",
        "\n",
        "\n",
        "pokedollar_list = [1, 2, 3, 4]\n",
        "print(get_dollars_from_pokedollars(pokedollar_list))\n"
      ],
      "metadata": {
        "colab": {
          "base_uri": "https://localhost:8080/"
        },
        "id": "VB0a6T9xQxud",
        "outputId": "3936bd25-e113-474d-e6cd-5004a283f5a7"
      },
      "execution_count": 17,
      "outputs": [
        {
          "output_type": "stream",
          "name": "stdout",
          "text": [
            "[0.88, 1.76, 2.64, 3.52]\n"
          ]
        }
      ]
    },
    {
      "cell_type": "markdown",
      "source": [
        "## Exercice 3 : Planète des chats\n",
        "\n",
        "## Contexte :\n",
        "\n",
        "Tu viens de découvrir une planète peuplée uniquement de chats. Ils utilisent des pièces spéciales pour leurs échanges monétaires. Voici les valeurs disponibles :\n",
        "\n",
        "- 1 petite pièce = 1 miaou.\n",
        "- 1 moyenne = 5 miaous.\n",
        "- 1 Grosse piece = 10 miaous.\n",
        "\n",
        "## Exercice :\n",
        "\n",
        "Écris une fonction qui prend un montant en miaous et calcule le minimum de\n",
        "pièces nécessaires pour rendre ce montant."
      ],
      "metadata": {
        "id": "YBSJeCsxK6s1"
      }
    },
    {
      "cell_type": "code",
      "source": [
        "pieces_to_miaou = {\"petite piece\": 1,\n",
        "                   \"moyenne\" : 5,\n",
        "                   \"Grosse piece\" : 10\n",
        "                   }\n",
        "\n",
        "def miaou_to_pieces(miaous: int) -> int:\n",
        "    result_conversion = {\"petite piece\": 0,\n",
        "                         \"moyenne\" : 0,\n",
        "                         \"Grosse piece\" : 0\n",
        "                         }\n",
        "\n",
        "    for name_piece, conversion in sorted(pieces_to_miaou.items(), key=lambda x: x[1], reverse=True):\n",
        "        total_pieces = miaous // conversion\n",
        "        miaous %= conversion\n",
        "        result_conversion[name_piece] = total_pieces\n",
        "\n",
        "    print(result_conversion)\n",
        "    return sum(nb for nb in result_conversion.values())\n",
        "\n",
        "\n",
        "print(miaou_to_pieces(14))"
      ],
      "metadata": {
        "colab": {
          "base_uri": "https://localhost:8080/"
        },
        "id": "muvR6PLLR5M7",
        "outputId": "fa8181fd-ba2f-4ca9-b6cb-9a08bfc8473b"
      },
      "execution_count": 31,
      "outputs": [
        {
          "output_type": "stream",
          "name": "stdout",
          "text": [
            "{'petite piece': 4, 'moyenne': 0, 'Grosse piece': 1}\n",
            "5\n"
          ]
        }
      ]
    }
  ]
}