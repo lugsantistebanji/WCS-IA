{
  "nbformat": 4,
  "nbformat_minor": 0,
  "metadata": {
    "colab": {
      "provenance": [],
      "authorship_tag": "ABX9TyO1lVinbwJLdy5/0gdNDXV7",
      "include_colab_link": true
    },
    "kernelspec": {
      "name": "python3",
      "display_name": "Python 3"
    },
    "language_info": {
      "name": "python"
    }
  },
  "cells": [
    {
      "cell_type": "markdown",
      "metadata": {
        "id": "view-in-github",
        "colab_type": "text"
      },
      "source": [
        "<a href=\"https://colab.research.google.com/github/lugsantistebanji/WCS-IA/blob/main/WCS_IA_Quetes_Scraping_Crawling.ipynb\" target=\"_parent\"><img src=\"https://colab.research.google.com/assets/colab-badge.svg\" alt=\"Open In Colab\"/></a>"
      ]
    },
    {
      "cell_type": "markdown",
      "source": [
        "# CRAWLING"
      ],
      "metadata": {
        "id": "BaYA5NKIwQsB"
      }
    },
    {
      "cell_type": "markdown",
      "source": [
        "## Introduction : qu'est-ce que le crawling ?\n",
        "\n",
        "Le crawling consiste à parcourir (en la \"scrapant\") une page web pour en recueillir les liens qu'elle contient, puis aller scraper l'ensemble de ces liens. Nous pourrions continuer ce crawling en allant ensuite dans l'ensemble des liens contenus dans les pages référencées, etc..."
      ],
      "metadata": {
        "id": "ob5duRW0xRm2"
      }
    },
    {
      "cell_type": "markdown",
      "source": [
        "## Les grandes étapes\n",
        "\n",
        "Le crawling s'effectue donc en deux étapes principales :\n",
        "\n",
        "- Tout d'abord il faut faire du scraping sur une première page, et stocker les liens (URL) qui nous intéressent ;\n",
        "\n",
        "- Ensuite, il faudra faire du scraping sur tous ces liens, et stocker les résultats.\n",
        "\n",
        "La difficulté sera de bien stocker tous les éléments intermédiaires (comme les URL par exemple, et les différents codes HTML ou \"soupes\"). Il n'y a pas de règles officielles pour cela. Certains préféreront les dictionnaires imbriqués (le format JSON), d'autres une vision tabulaire (avec des DataFrames). Utilisez la méthode avec laquelle vous êtes le plus à l'aise. Nous allons ici montrer un exemple en utilisant des DataFrames."
      ],
      "metadata": {
        "id": "yPmpTAGZxWAG"
      }
    },
    {
      "cell_type": "markdown",
      "source": [
        "## Application technique\n",
        "\n",
        "Prenons un exemple : nous souhaitons connaitre la durée moyenne des films de Christopher Nolan. Pour cela nous allons récupérer la liste des films de ce réalisateur, puis pour chacun des films nous irons sur la page correspondante pour obtenir la durée du film. A la fin, nous pourrons calculer la moyenne."
      ],
      "metadata": {
        "id": "oLWxVbWbxY9n"
      }
    },
    {
      "cell_type": "markdown",
      "source": [
        "## Récupération des URL\n",
        "\n",
        "Nous allons récupérer le code HTML de l'encadré correspondant aux films dont Christopher Nolan est réalisateur. Pour cela nous allons requêter la page Allociné, puis nous allons chercher le bloc correspondant à ces films. En effet nous voulons éviter de récupérer tous les autres liens présents dans cette page (qui pointent vers la page d'accueil, vers les contacts, etc...)."
      ],
      "metadata": {
        "id": "KGPfHzaUxbX8"
      }
    },
    {
      "cell_type": "code",
      "source": [
        "from bs4 import BeautifulSoup\n",
        "import requests\n",
        "import pandas as pd\n",
        "import re\n",
        "import time"
      ],
      "metadata": {
        "id": "-AmpbQ8Qxdi2"
      },
      "execution_count": 85,
      "outputs": []
    },
    {
      "cell_type": "code",
      "source": [
        "url_base = \"https://www.allocine.fr\"\n",
        "url = url_base + \"/personne/fichepersonne-30367/filmographie/\"\n",
        "navigator = 'Mozilla/5.0 (Macintosh; Intel Mac OS X 10_10_1)'\n",
        "html = requests.get(url, headers={'User-Agent': navigator})\n",
        "soup = BeautifulSoup(html.text, 'html.parser')"
      ],
      "metadata": {
        "id": "xs0Hq3hs0RE1"
      },
      "execution_count": 3,
      "outputs": []
    },
    {
      "cell_type": "code",
      "source": [
        "print(url)"
      ],
      "metadata": {
        "colab": {
          "base_uri": "https://localhost:8080/"
        },
        "id": "h8IESWDI1KuU",
        "outputId": "8bb9d330-2535-4ceb-e0c5-2bc29347f1d2"
      },
      "execution_count": 5,
      "outputs": [
        {
          "output_type": "stream",
          "name": "stdout",
          "text": [
            "https://www.allocine.fr/personne/fichepersonne-30367/filmographie/\n"
          ]
        }
      ]
    },
    {
      "cell_type": "code",
      "source": [
        "# Nous filtrons maintenant uniquement sur les films dont l'artiste est le réalisateur :\n",
        "\n",
        "soup_director = soup.find('section', {\"id\" : \"direction\"})"
      ],
      "metadata": {
        "id": "CmHn25XC093h"
      },
      "execution_count": 10,
      "outputs": []
    },
    {
      "cell_type": "code",
      "source": [
        "# Puis nous cherchons tous les liens contenus dans cet encadré :\n",
        "\n",
        "links = soup_director.find_all('a')"
      ],
      "metadata": {
        "id": "2KB3DHzF1CmM"
      },
      "execution_count": 15,
      "outputs": []
    },
    {
      "cell_type": "code",
      "source": [
        "links[0]"
      ],
      "metadata": {
        "colab": {
          "base_uri": "https://localhost:8080/"
        },
        "id": "mbQgh_sa242h",
        "outputId": "b71fe1d9-d5fd-4d19-ccda-8e3de4808b42"
      },
      "execution_count": 13,
      "outputs": [
        {
          "output_type": "execute_result",
          "data": {
            "text/plain": [
              "<a class=\"responsive-table-link\" href=\"/film/fichefilm_gen_cfilm=244186.html\" title=\"The Prisoner\">The Prisoner</a>"
            ]
          },
          "metadata": {},
          "execution_count": 13
        }
      ]
    },
    {
      "cell_type": "markdown",
      "source": [
        "__Title and Href of movies__\n"
      ],
      "metadata": {
        "id": "5SikUvEN-okl"
      }
    },
    {
      "cell_type": "code",
      "source": [
        "movies = [{'title': link['title'], 'href': link['href']} for link in links]"
      ],
      "metadata": {
        "colab": {
          "base_uri": "https://localhost:8080/"
        },
        "id": "EKv2asth3PBe",
        "outputId": "b5cf396b-7575-4468-cf91-007b10917c7e"
      },
      "execution_count": 20,
      "outputs": [
        {
          "output_type": "stream",
          "name": "stdout",
          "text": [
            "[{'title': 'The Prisoner', 'href': '/film/fichefilm_gen_cfilm=244186.html'}, {'title': 'The Odyssey', 'href': '/film/fichefilm_gen_cfilm=1000013045.html'}, {'title': 'Oppenheimer', 'href': '/film/fichefilm_gen_cfilm=296168.html'}, {'title': 'Tenet', 'href': '/film/fichefilm_gen_cfilm=251315.html'}, {'title': 'Dunkerque', 'href': '/film/fichefilm_gen_cfilm=240850.html'}, {'title': 'Quay', 'href': '/film/fichefilm_gen_cfilm=239766.html'}, {'title': 'Interstellar', 'href': '/film/fichefilm_gen_cfilm=114782.html'}, {'title': 'The Dark Knight Rises', 'href': '/film/fichefilm_gen_cfilm=132874.html'}, {'title': 'Inception', 'href': '/film/fichefilm_gen_cfilm=143692.html'}, {'title': 'The Dark Knight, Le Chevalier Noir', 'href': '/film/fichefilm_gen_cfilm=115362.html'}, {'title': 'Le Prestige', 'href': '/film/fichefilm_gen_cfilm=108998.html'}, {'title': 'Cinema 16 : European short films', 'href': '/film/fichefilm_gen_cfilm=218495.html'}, {'title': 'Batman Begins', 'href': '/film/fichefilm_gen_cfilm=51013.html'}, {'title': 'Cinema 16 : British Short Films', 'href': '/film/fichefilm_gen_cfilm=147906.html'}, {'title': 'Insomnia', 'href': '/film/fichefilm_gen_cfilm=32704.html'}, {'title': 'Memento', 'href': '/film/fichefilm_gen_cfilm=25744.html'}, {'title': 'Following, le suiveur', 'href': '/film/fichefilm_gen_cfilm=21632.html'}, {'title': 'Doodlebug', 'href': '/film/fichefilm_gen_cfilm=171007.html'}]\n"
          ]
        }
      ]
    },
    {
      "cell_type": "markdown",
      "source": [
        "---\n",
        "---"
      ],
      "metadata": {
        "id": "5iCYXEmSXv5k"
      }
    },
    {
      "cell_type": "markdown",
      "source": [
        "## Challenge\n",
        "\n"
      ],
      "metadata": {
        "id": "Y6mPNdcIXihL"
      }
    },
    {
      "cell_type": "markdown",
      "source": [
        "Essaye de calculer l'âge moyen des acteurs et actrices dans le film Interstellar."
      ],
      "metadata": {
        "id": "jX0SvcIuXnGh"
      }
    },
    {
      "cell_type": "markdown",
      "source": [
        "---"
      ],
      "metadata": {
        "id": "wV9E4WrcXyCH"
      }
    },
    {
      "cell_type": "markdown",
      "source": [
        "__Href of actors__"
      ],
      "metadata": {
        "id": "vEYGYkOr-1fa"
      }
    },
    {
      "cell_type": "code",
      "source": [
        "for movie in movies:\n",
        "    url_movie = url_base + movie['href']\n",
        "    html = requests.get(url_movie, headers={'User-Agent': navigator})\n",
        "    soup = BeautifulSoup(html.text, 'html.parser')\n",
        "    actors_link = soup.find(title=re.compile(\"Casting complet et équipe technique\"))\n",
        "    movie['href_casting'] = actors_link['href'] if actors_link is not None else None"
      ],
      "metadata": {
        "id": "k9GfSh-c-4_L"
      },
      "execution_count": 57,
      "outputs": []
    },
    {
      "cell_type": "markdown",
      "source": [
        "---"
      ],
      "metadata": {
        "id": "DW91-DqCX0An"
      }
    },
    {
      "cell_type": "markdown",
      "source": [
        "__Actors name and href__"
      ],
      "metadata": {
        "id": "9CDh4Bo1EZZ0"
      }
    },
    {
      "cell_type": "code",
      "source": [
        "for movie in movies:\n",
        "    if movie['href_casting']:\n",
        "        url_casting = url_base + movie['href_casting']\n",
        "        html = requests.get(url_casting, headers={'User-Agent': navigator})\n",
        "        soup = BeautifulSoup(html.text, 'html.parser')\n",
        "        actors = soup.find('section', {'class': 'casting-actor'}).find_all('a', {'class': 'meta-title-link'})\n",
        "        movie['actors'] = [{'name': actor.string, 'href':actor['href']} for actor in actors]\n",
        "    else:\n",
        "        movie['actors'] = []\n",
        "    time.sleep(2)"
      ],
      "metadata": {
        "id": "2RF7Zg5KEhQk"
      },
      "execution_count": 87,
      "outputs": []
    },
    {
      "cell_type": "markdown",
      "source": [
        "---"
      ],
      "metadata": {
        "id": "BPcgRRPJX0uO"
      }
    },
    {
      "cell_type": "markdown",
      "source": [
        "__Actors age__"
      ],
      "metadata": {
        "id": "Ej9fegsyKhGV"
      }
    },
    {
      "cell_type": "code",
      "source": [
        "for movie in movies:\n",
        "    time.sleep(3)\n",
        "    for actor in movie['actors']:\n",
        "        url_actor = url_base + actor['href']\n",
        "        html = requests.get(url_actor, headers={'User-Agent': navigator})\n",
        "        soup = BeautifulSoup(html.text, 'html.parser')\n",
        "        age_bloc = soup.find('div', {'class': 'person-card-overview'}).find(string=re.compile('Age'))\n",
        "        age = None\n",
        "        if age_bloc:\n",
        "            age = age_bloc.parent.parent.div.strong.string\n",
        "        actor['age'] = int(age) if age is not None else None\n",
        "        time.sleep(2)"
      ],
      "metadata": {
        "id": "sxpj-xRaKgiP"
      },
      "execution_count": 91,
      "outputs": []
    },
    {
      "cell_type": "markdown",
      "source": [
        "---"
      ],
      "metadata": {
        "id": "mCXpBkqzX141"
      }
    },
    {
      "cell_type": "markdown",
      "source": [
        "__Movies a DataFrame__"
      ],
      "metadata": {
        "id": "X8Owy0W3SA2Z"
      }
    },
    {
      "cell_type": "code",
      "source": [
        "df = pd.DataFrame(movies)"
      ],
      "metadata": {
        "id": "-KBiHpYRR_lj"
      },
      "execution_count": 92,
      "outputs": []
    },
    {
      "cell_type": "code",
      "source": [
        "df.head()"
      ],
      "metadata": {
        "colab": {
          "base_uri": "https://localhost:8080/",
          "height": 206
        },
        "id": "UMHj-8mRSQx7",
        "outputId": "9c71882c-8e9b-420b-e27f-7f131ede551f"
      },
      "execution_count": 93,
      "outputs": [
        {
          "output_type": "execute_result",
          "data": {
            "text/plain": [
              "          title                                       href  \\\n",
              "0  The Prisoner      /film/fichefilm_gen_cfilm=244186.html   \n",
              "1   The Odyssey  /film/fichefilm_gen_cfilm=1000013045.html   \n",
              "2   Oppenheimer      /film/fichefilm_gen_cfilm=296168.html   \n",
              "3         Tenet      /film/fichefilm_gen_cfilm=251315.html   \n",
              "4     Dunkerque      /film/fichefilm_gen_cfilm=240850.html   \n",
              "\n",
              "                          href_casting  \\\n",
              "0                                 None   \n",
              "1  /film/fichefilm-1000013045/casting/   \n",
              "2      /film/fichefilm-296168/casting/   \n",
              "3      /film/fichefilm-251315/casting/   \n",
              "4      /film/fichefilm-240850/casting/   \n",
              "\n",
              "                                              actors  \n",
              "0                                                 []  \n",
              "1  [{'name': 'Tom Holland', 'href': '/personne/fi...  \n",
              "2  [{'name': 'Cillian Murphy', 'href': '/personne...  \n",
              "3  [{'name': 'John David Washington', 'href': '/p...  \n",
              "4  [{'name': 'Fionn Whitehead', 'href': '/personn...  "
            ],
            "text/html": [
              "\n",
              "  <div id=\"df-28518992-43c7-48fd-a367-7791e06697c7\" class=\"colab-df-container\">\n",
              "    <div>\n",
              "<style scoped>\n",
              "    .dataframe tbody tr th:only-of-type {\n",
              "        vertical-align: middle;\n",
              "    }\n",
              "\n",
              "    .dataframe tbody tr th {\n",
              "        vertical-align: top;\n",
              "    }\n",
              "\n",
              "    .dataframe thead th {\n",
              "        text-align: right;\n",
              "    }\n",
              "</style>\n",
              "<table border=\"1\" class=\"dataframe\">\n",
              "  <thead>\n",
              "    <tr style=\"text-align: right;\">\n",
              "      <th></th>\n",
              "      <th>title</th>\n",
              "      <th>href</th>\n",
              "      <th>href_casting</th>\n",
              "      <th>actors</th>\n",
              "    </tr>\n",
              "  </thead>\n",
              "  <tbody>\n",
              "    <tr>\n",
              "      <th>0</th>\n",
              "      <td>The Prisoner</td>\n",
              "      <td>/film/fichefilm_gen_cfilm=244186.html</td>\n",
              "      <td>None</td>\n",
              "      <td>[]</td>\n",
              "    </tr>\n",
              "    <tr>\n",
              "      <th>1</th>\n",
              "      <td>The Odyssey</td>\n",
              "      <td>/film/fichefilm_gen_cfilm=1000013045.html</td>\n",
              "      <td>/film/fichefilm-1000013045/casting/</td>\n",
              "      <td>[{'name': 'Tom Holland', 'href': '/personne/fi...</td>\n",
              "    </tr>\n",
              "    <tr>\n",
              "      <th>2</th>\n",
              "      <td>Oppenheimer</td>\n",
              "      <td>/film/fichefilm_gen_cfilm=296168.html</td>\n",
              "      <td>/film/fichefilm-296168/casting/</td>\n",
              "      <td>[{'name': 'Cillian Murphy', 'href': '/personne...</td>\n",
              "    </tr>\n",
              "    <tr>\n",
              "      <th>3</th>\n",
              "      <td>Tenet</td>\n",
              "      <td>/film/fichefilm_gen_cfilm=251315.html</td>\n",
              "      <td>/film/fichefilm-251315/casting/</td>\n",
              "      <td>[{'name': 'John David Washington', 'href': '/p...</td>\n",
              "    </tr>\n",
              "    <tr>\n",
              "      <th>4</th>\n",
              "      <td>Dunkerque</td>\n",
              "      <td>/film/fichefilm_gen_cfilm=240850.html</td>\n",
              "      <td>/film/fichefilm-240850/casting/</td>\n",
              "      <td>[{'name': 'Fionn Whitehead', 'href': '/personn...</td>\n",
              "    </tr>\n",
              "  </tbody>\n",
              "</table>\n",
              "</div>\n",
              "    <div class=\"colab-df-buttons\">\n",
              "\n",
              "  <div class=\"colab-df-container\">\n",
              "    <button class=\"colab-df-convert\" onclick=\"convertToInteractive('df-28518992-43c7-48fd-a367-7791e06697c7')\"\n",
              "            title=\"Convert this dataframe to an interactive table.\"\n",
              "            style=\"display:none;\">\n",
              "\n",
              "  <svg xmlns=\"http://www.w3.org/2000/svg\" height=\"24px\" viewBox=\"0 -960 960 960\">\n",
              "    <path d=\"M120-120v-720h720v720H120Zm60-500h600v-160H180v160Zm220 220h160v-160H400v160Zm0 220h160v-160H400v160ZM180-400h160v-160H180v160Zm440 0h160v-160H620v160ZM180-180h160v-160H180v160Zm440 0h160v-160H620v160Z\"/>\n",
              "  </svg>\n",
              "    </button>\n",
              "\n",
              "  <style>\n",
              "    .colab-df-container {\n",
              "      display:flex;\n",
              "      gap: 12px;\n",
              "    }\n",
              "\n",
              "    .colab-df-convert {\n",
              "      background-color: #E8F0FE;\n",
              "      border: none;\n",
              "      border-radius: 50%;\n",
              "      cursor: pointer;\n",
              "      display: none;\n",
              "      fill: #1967D2;\n",
              "      height: 32px;\n",
              "      padding: 0 0 0 0;\n",
              "      width: 32px;\n",
              "    }\n",
              "\n",
              "    .colab-df-convert:hover {\n",
              "      background-color: #E2EBFA;\n",
              "      box-shadow: 0px 1px 2px rgba(60, 64, 67, 0.3), 0px 1px 3px 1px rgba(60, 64, 67, 0.15);\n",
              "      fill: #174EA6;\n",
              "    }\n",
              "\n",
              "    .colab-df-buttons div {\n",
              "      margin-bottom: 4px;\n",
              "    }\n",
              "\n",
              "    [theme=dark] .colab-df-convert {\n",
              "      background-color: #3B4455;\n",
              "      fill: #D2E3FC;\n",
              "    }\n",
              "\n",
              "    [theme=dark] .colab-df-convert:hover {\n",
              "      background-color: #434B5C;\n",
              "      box-shadow: 0px 1px 3px 1px rgba(0, 0, 0, 0.15);\n",
              "      filter: drop-shadow(0px 1px 2px rgba(0, 0, 0, 0.3));\n",
              "      fill: #FFFFFF;\n",
              "    }\n",
              "  </style>\n",
              "\n",
              "    <script>\n",
              "      const buttonEl =\n",
              "        document.querySelector('#df-28518992-43c7-48fd-a367-7791e06697c7 button.colab-df-convert');\n",
              "      buttonEl.style.display =\n",
              "        google.colab.kernel.accessAllowed ? 'block' : 'none';\n",
              "\n",
              "      async function convertToInteractive(key) {\n",
              "        const element = document.querySelector('#df-28518992-43c7-48fd-a367-7791e06697c7');\n",
              "        const dataTable =\n",
              "          await google.colab.kernel.invokeFunction('convertToInteractive',\n",
              "                                                    [key], {});\n",
              "        if (!dataTable) return;\n",
              "\n",
              "        const docLinkHtml = 'Like what you see? Visit the ' +\n",
              "          '<a target=\"_blank\" href=https://colab.research.google.com/notebooks/data_table.ipynb>data table notebook</a>'\n",
              "          + ' to learn more about interactive tables.';\n",
              "        element.innerHTML = '';\n",
              "        dataTable['output_type'] = 'display_data';\n",
              "        await google.colab.output.renderOutput(dataTable, element);\n",
              "        const docLink = document.createElement('div');\n",
              "        docLink.innerHTML = docLinkHtml;\n",
              "        element.appendChild(docLink);\n",
              "      }\n",
              "    </script>\n",
              "  </div>\n",
              "\n",
              "\n",
              "<div id=\"df-b09d09b0-6b89-4724-b445-8c25a3cae6b1\">\n",
              "  <button class=\"colab-df-quickchart\" onclick=\"quickchart('df-b09d09b0-6b89-4724-b445-8c25a3cae6b1')\"\n",
              "            title=\"Suggest charts\"\n",
              "            style=\"display:none;\">\n",
              "\n",
              "<svg xmlns=\"http://www.w3.org/2000/svg\" height=\"24px\"viewBox=\"0 0 24 24\"\n",
              "     width=\"24px\">\n",
              "    <g>\n",
              "        <path d=\"M19 3H5c-1.1 0-2 .9-2 2v14c0 1.1.9 2 2 2h14c1.1 0 2-.9 2-2V5c0-1.1-.9-2-2-2zM9 17H7v-7h2v7zm4 0h-2V7h2v10zm4 0h-2v-4h2v4z\"/>\n",
              "    </g>\n",
              "</svg>\n",
              "  </button>\n",
              "\n",
              "<style>\n",
              "  .colab-df-quickchart {\n",
              "      --bg-color: #E8F0FE;\n",
              "      --fill-color: #1967D2;\n",
              "      --hover-bg-color: #E2EBFA;\n",
              "      --hover-fill-color: #174EA6;\n",
              "      --disabled-fill-color: #AAA;\n",
              "      --disabled-bg-color: #DDD;\n",
              "  }\n",
              "\n",
              "  [theme=dark] .colab-df-quickchart {\n",
              "      --bg-color: #3B4455;\n",
              "      --fill-color: #D2E3FC;\n",
              "      --hover-bg-color: #434B5C;\n",
              "      --hover-fill-color: #FFFFFF;\n",
              "      --disabled-bg-color: #3B4455;\n",
              "      --disabled-fill-color: #666;\n",
              "  }\n",
              "\n",
              "  .colab-df-quickchart {\n",
              "    background-color: var(--bg-color);\n",
              "    border: none;\n",
              "    border-radius: 50%;\n",
              "    cursor: pointer;\n",
              "    display: none;\n",
              "    fill: var(--fill-color);\n",
              "    height: 32px;\n",
              "    padding: 0;\n",
              "    width: 32px;\n",
              "  }\n",
              "\n",
              "  .colab-df-quickchart:hover {\n",
              "    background-color: var(--hover-bg-color);\n",
              "    box-shadow: 0 1px 2px rgba(60, 64, 67, 0.3), 0 1px 3px 1px rgba(60, 64, 67, 0.15);\n",
              "    fill: var(--button-hover-fill-color);\n",
              "  }\n",
              "\n",
              "  .colab-df-quickchart-complete:disabled,\n",
              "  .colab-df-quickchart-complete:disabled:hover {\n",
              "    background-color: var(--disabled-bg-color);\n",
              "    fill: var(--disabled-fill-color);\n",
              "    box-shadow: none;\n",
              "  }\n",
              "\n",
              "  .colab-df-spinner {\n",
              "    border: 2px solid var(--fill-color);\n",
              "    border-color: transparent;\n",
              "    border-bottom-color: var(--fill-color);\n",
              "    animation:\n",
              "      spin 1s steps(1) infinite;\n",
              "  }\n",
              "\n",
              "  @keyframes spin {\n",
              "    0% {\n",
              "      border-color: transparent;\n",
              "      border-bottom-color: var(--fill-color);\n",
              "      border-left-color: var(--fill-color);\n",
              "    }\n",
              "    20% {\n",
              "      border-color: transparent;\n",
              "      border-left-color: var(--fill-color);\n",
              "      border-top-color: var(--fill-color);\n",
              "    }\n",
              "    30% {\n",
              "      border-color: transparent;\n",
              "      border-left-color: var(--fill-color);\n",
              "      border-top-color: var(--fill-color);\n",
              "      border-right-color: var(--fill-color);\n",
              "    }\n",
              "    40% {\n",
              "      border-color: transparent;\n",
              "      border-right-color: var(--fill-color);\n",
              "      border-top-color: var(--fill-color);\n",
              "    }\n",
              "    60% {\n",
              "      border-color: transparent;\n",
              "      border-right-color: var(--fill-color);\n",
              "    }\n",
              "    80% {\n",
              "      border-color: transparent;\n",
              "      border-right-color: var(--fill-color);\n",
              "      border-bottom-color: var(--fill-color);\n",
              "    }\n",
              "    90% {\n",
              "      border-color: transparent;\n",
              "      border-bottom-color: var(--fill-color);\n",
              "    }\n",
              "  }\n",
              "</style>\n",
              "\n",
              "  <script>\n",
              "    async function quickchart(key) {\n",
              "      const quickchartButtonEl =\n",
              "        document.querySelector('#' + key + ' button');\n",
              "      quickchartButtonEl.disabled = true;  // To prevent multiple clicks.\n",
              "      quickchartButtonEl.classList.add('colab-df-spinner');\n",
              "      try {\n",
              "        const charts = await google.colab.kernel.invokeFunction(\n",
              "            'suggestCharts', [key], {});\n",
              "      } catch (error) {\n",
              "        console.error('Error during call to suggestCharts:', error);\n",
              "      }\n",
              "      quickchartButtonEl.classList.remove('colab-df-spinner');\n",
              "      quickchartButtonEl.classList.add('colab-df-quickchart-complete');\n",
              "    }\n",
              "    (() => {\n",
              "      let quickchartButtonEl =\n",
              "        document.querySelector('#df-b09d09b0-6b89-4724-b445-8c25a3cae6b1 button');\n",
              "      quickchartButtonEl.style.display =\n",
              "        google.colab.kernel.accessAllowed ? 'block' : 'none';\n",
              "    })();\n",
              "  </script>\n",
              "</div>\n",
              "\n",
              "    </div>\n",
              "  </div>\n"
            ],
            "application/vnd.google.colaboratory.intrinsic+json": {
              "type": "dataframe",
              "variable_name": "df",
              "summary": "{\n  \"name\": \"df\",\n  \"rows\": 18,\n  \"fields\": [\n    {\n      \"column\": \"title\",\n      \"properties\": {\n        \"dtype\": \"string\",\n        \"num_unique_values\": 18,\n        \"samples\": [\n          \"The Prisoner\",\n          \"The Odyssey\",\n          \"Inception\"\n        ],\n        \"semantic_type\": \"\",\n        \"description\": \"\"\n      }\n    },\n    {\n      \"column\": \"href\",\n      \"properties\": {\n        \"dtype\": \"string\",\n        \"num_unique_values\": 18,\n        \"samples\": [\n          \"/film/fichefilm_gen_cfilm=244186.html\",\n          \"/film/fichefilm_gen_cfilm=1000013045.html\",\n          \"/film/fichefilm_gen_cfilm=143692.html\"\n        ],\n        \"semantic_type\": \"\",\n        \"description\": \"\"\n      }\n    },\n    {\n      \"column\": \"href_casting\",\n      \"properties\": {\n        \"dtype\": \"string\",\n        \"num_unique_values\": 15,\n        \"samples\": [\n          \"/film/fichefilm-51013/casting/\",\n          \"/film/fichefilm-32704/casting/\",\n          \"/film/fichefilm-1000013045/casting/\"\n        ],\n        \"semantic_type\": \"\",\n        \"description\": \"\"\n      }\n    },\n    {\n      \"column\": \"actors\",\n      \"properties\": {\n        \"dtype\": \"object\",\n        \"semantic_type\": \"\",\n        \"description\": \"\"\n      }\n    }\n  ]\n}"
            }
          },
          "metadata": {},
          "execution_count": 93
        }
      ]
    },
    {
      "cell_type": "markdown",
      "source": [
        "---"
      ],
      "metadata": {
        "id": "7yUQtOX6X47I"
      }
    },
    {
      "cell_type": "markdown",
      "source": [
        "__Average age of actors by movie__"
      ],
      "metadata": {
        "id": "5VvaXGe2U83j"
      }
    },
    {
      "cell_type": "code",
      "source": [
        "def avg_age_actors(actors_list: list) -> float:\n",
        "    total = 0\n",
        "    count = 0\n",
        "    for actor in actors_list:\n",
        "        if actor['age']:\n",
        "            total += actor['age']\n",
        "            count += 1\n",
        "\n",
        "    return round(total/count, 1) if count > 0 else None"
      ],
      "metadata": {
        "id": "W3mQnJS9TPZs"
      },
      "execution_count": 108,
      "outputs": []
    },
    {
      "cell_type": "code",
      "source": [
        "df['mean_age_actors'] = df['actors'].apply(avg_age_actors)"
      ],
      "metadata": {
        "id": "VT93LgDsUd3w"
      },
      "execution_count": 113,
      "outputs": []
    },
    {
      "cell_type": "code",
      "source": [
        "df.head()"
      ],
      "metadata": {
        "colab": {
          "base_uri": "https://localhost:8080/",
          "height": 206
        },
        "id": "MhKFslwsVeCm",
        "outputId": "0988f9c1-1ed2-4101-c7a6-2aaf23043904"
      },
      "execution_count": 114,
      "outputs": [
        {
          "output_type": "execute_result",
          "data": {
            "text/plain": [
              "          title                                       href  \\\n",
              "0  The Prisoner      /film/fichefilm_gen_cfilm=244186.html   \n",
              "1   The Odyssey  /film/fichefilm_gen_cfilm=1000013045.html   \n",
              "2   Oppenheimer      /film/fichefilm_gen_cfilm=296168.html   \n",
              "3         Tenet      /film/fichefilm_gen_cfilm=251315.html   \n",
              "4     Dunkerque      /film/fichefilm_gen_cfilm=240850.html   \n",
              "\n",
              "                          href_casting  \\\n",
              "0                                 None   \n",
              "1  /film/fichefilm-1000013045/casting/   \n",
              "2      /film/fichefilm-296168/casting/   \n",
              "3      /film/fichefilm-251315/casting/   \n",
              "4      /film/fichefilm-240850/casting/   \n",
              "\n",
              "                                              actors  mean_age_actors  \n",
              "0                                                 []              NaN  \n",
              "1  [{'name': 'Tom Holland', 'href': '/personne/fi...             41.0  \n",
              "2  [{'name': 'Cillian Murphy', 'href': '/personne...             46.1  \n",
              "3  [{'name': 'John David Washington', 'href': '/p...             44.1  \n",
              "4  [{'name': 'Fionn Whitehead', 'href': '/personn...             42.0  "
            ],
            "text/html": [
              "\n",
              "  <div id=\"df-0721c324-aea4-4923-88bb-1a6a198fe962\" class=\"colab-df-container\">\n",
              "    <div>\n",
              "<style scoped>\n",
              "    .dataframe tbody tr th:only-of-type {\n",
              "        vertical-align: middle;\n",
              "    }\n",
              "\n",
              "    .dataframe tbody tr th {\n",
              "        vertical-align: top;\n",
              "    }\n",
              "\n",
              "    .dataframe thead th {\n",
              "        text-align: right;\n",
              "    }\n",
              "</style>\n",
              "<table border=\"1\" class=\"dataframe\">\n",
              "  <thead>\n",
              "    <tr style=\"text-align: right;\">\n",
              "      <th></th>\n",
              "      <th>title</th>\n",
              "      <th>href</th>\n",
              "      <th>href_casting</th>\n",
              "      <th>actors</th>\n",
              "      <th>mean_age_actors</th>\n",
              "    </tr>\n",
              "  </thead>\n",
              "  <tbody>\n",
              "    <tr>\n",
              "      <th>0</th>\n",
              "      <td>The Prisoner</td>\n",
              "      <td>/film/fichefilm_gen_cfilm=244186.html</td>\n",
              "      <td>None</td>\n",
              "      <td>[]</td>\n",
              "      <td>NaN</td>\n",
              "    </tr>\n",
              "    <tr>\n",
              "      <th>1</th>\n",
              "      <td>The Odyssey</td>\n",
              "      <td>/film/fichefilm_gen_cfilm=1000013045.html</td>\n",
              "      <td>/film/fichefilm-1000013045/casting/</td>\n",
              "      <td>[{'name': 'Tom Holland', 'href': '/personne/fi...</td>\n",
              "      <td>41.0</td>\n",
              "    </tr>\n",
              "    <tr>\n",
              "      <th>2</th>\n",
              "      <td>Oppenheimer</td>\n",
              "      <td>/film/fichefilm_gen_cfilm=296168.html</td>\n",
              "      <td>/film/fichefilm-296168/casting/</td>\n",
              "      <td>[{'name': 'Cillian Murphy', 'href': '/personne...</td>\n",
              "      <td>46.1</td>\n",
              "    </tr>\n",
              "    <tr>\n",
              "      <th>3</th>\n",
              "      <td>Tenet</td>\n",
              "      <td>/film/fichefilm_gen_cfilm=251315.html</td>\n",
              "      <td>/film/fichefilm-251315/casting/</td>\n",
              "      <td>[{'name': 'John David Washington', 'href': '/p...</td>\n",
              "      <td>44.1</td>\n",
              "    </tr>\n",
              "    <tr>\n",
              "      <th>4</th>\n",
              "      <td>Dunkerque</td>\n",
              "      <td>/film/fichefilm_gen_cfilm=240850.html</td>\n",
              "      <td>/film/fichefilm-240850/casting/</td>\n",
              "      <td>[{'name': 'Fionn Whitehead', 'href': '/personn...</td>\n",
              "      <td>42.0</td>\n",
              "    </tr>\n",
              "  </tbody>\n",
              "</table>\n",
              "</div>\n",
              "    <div class=\"colab-df-buttons\">\n",
              "\n",
              "  <div class=\"colab-df-container\">\n",
              "    <button class=\"colab-df-convert\" onclick=\"convertToInteractive('df-0721c324-aea4-4923-88bb-1a6a198fe962')\"\n",
              "            title=\"Convert this dataframe to an interactive table.\"\n",
              "            style=\"display:none;\">\n",
              "\n",
              "  <svg xmlns=\"http://www.w3.org/2000/svg\" height=\"24px\" viewBox=\"0 -960 960 960\">\n",
              "    <path d=\"M120-120v-720h720v720H120Zm60-500h600v-160H180v160Zm220 220h160v-160H400v160Zm0 220h160v-160H400v160ZM180-400h160v-160H180v160Zm440 0h160v-160H620v160ZM180-180h160v-160H180v160Zm440 0h160v-160H620v160Z\"/>\n",
              "  </svg>\n",
              "    </button>\n",
              "\n",
              "  <style>\n",
              "    .colab-df-container {\n",
              "      display:flex;\n",
              "      gap: 12px;\n",
              "    }\n",
              "\n",
              "    .colab-df-convert {\n",
              "      background-color: #E8F0FE;\n",
              "      border: none;\n",
              "      border-radius: 50%;\n",
              "      cursor: pointer;\n",
              "      display: none;\n",
              "      fill: #1967D2;\n",
              "      height: 32px;\n",
              "      padding: 0 0 0 0;\n",
              "      width: 32px;\n",
              "    }\n",
              "\n",
              "    .colab-df-convert:hover {\n",
              "      background-color: #E2EBFA;\n",
              "      box-shadow: 0px 1px 2px rgba(60, 64, 67, 0.3), 0px 1px 3px 1px rgba(60, 64, 67, 0.15);\n",
              "      fill: #174EA6;\n",
              "    }\n",
              "\n",
              "    .colab-df-buttons div {\n",
              "      margin-bottom: 4px;\n",
              "    }\n",
              "\n",
              "    [theme=dark] .colab-df-convert {\n",
              "      background-color: #3B4455;\n",
              "      fill: #D2E3FC;\n",
              "    }\n",
              "\n",
              "    [theme=dark] .colab-df-convert:hover {\n",
              "      background-color: #434B5C;\n",
              "      box-shadow: 0px 1px 3px 1px rgba(0, 0, 0, 0.15);\n",
              "      filter: drop-shadow(0px 1px 2px rgba(0, 0, 0, 0.3));\n",
              "      fill: #FFFFFF;\n",
              "    }\n",
              "  </style>\n",
              "\n",
              "    <script>\n",
              "      const buttonEl =\n",
              "        document.querySelector('#df-0721c324-aea4-4923-88bb-1a6a198fe962 button.colab-df-convert');\n",
              "      buttonEl.style.display =\n",
              "        google.colab.kernel.accessAllowed ? 'block' : 'none';\n",
              "\n",
              "      async function convertToInteractive(key) {\n",
              "        const element = document.querySelector('#df-0721c324-aea4-4923-88bb-1a6a198fe962');\n",
              "        const dataTable =\n",
              "          await google.colab.kernel.invokeFunction('convertToInteractive',\n",
              "                                                    [key], {});\n",
              "        if (!dataTable) return;\n",
              "\n",
              "        const docLinkHtml = 'Like what you see? Visit the ' +\n",
              "          '<a target=\"_blank\" href=https://colab.research.google.com/notebooks/data_table.ipynb>data table notebook</a>'\n",
              "          + ' to learn more about interactive tables.';\n",
              "        element.innerHTML = '';\n",
              "        dataTable['output_type'] = 'display_data';\n",
              "        await google.colab.output.renderOutput(dataTable, element);\n",
              "        const docLink = document.createElement('div');\n",
              "        docLink.innerHTML = docLinkHtml;\n",
              "        element.appendChild(docLink);\n",
              "      }\n",
              "    </script>\n",
              "  </div>\n",
              "\n",
              "\n",
              "<div id=\"df-fe3775de-fc95-478e-9987-555b298c143a\">\n",
              "  <button class=\"colab-df-quickchart\" onclick=\"quickchart('df-fe3775de-fc95-478e-9987-555b298c143a')\"\n",
              "            title=\"Suggest charts\"\n",
              "            style=\"display:none;\">\n",
              "\n",
              "<svg xmlns=\"http://www.w3.org/2000/svg\" height=\"24px\"viewBox=\"0 0 24 24\"\n",
              "     width=\"24px\">\n",
              "    <g>\n",
              "        <path d=\"M19 3H5c-1.1 0-2 .9-2 2v14c0 1.1.9 2 2 2h14c1.1 0 2-.9 2-2V5c0-1.1-.9-2-2-2zM9 17H7v-7h2v7zm4 0h-2V7h2v10zm4 0h-2v-4h2v4z\"/>\n",
              "    </g>\n",
              "</svg>\n",
              "  </button>\n",
              "\n",
              "<style>\n",
              "  .colab-df-quickchart {\n",
              "      --bg-color: #E8F0FE;\n",
              "      --fill-color: #1967D2;\n",
              "      --hover-bg-color: #E2EBFA;\n",
              "      --hover-fill-color: #174EA6;\n",
              "      --disabled-fill-color: #AAA;\n",
              "      --disabled-bg-color: #DDD;\n",
              "  }\n",
              "\n",
              "  [theme=dark] .colab-df-quickchart {\n",
              "      --bg-color: #3B4455;\n",
              "      --fill-color: #D2E3FC;\n",
              "      --hover-bg-color: #434B5C;\n",
              "      --hover-fill-color: #FFFFFF;\n",
              "      --disabled-bg-color: #3B4455;\n",
              "      --disabled-fill-color: #666;\n",
              "  }\n",
              "\n",
              "  .colab-df-quickchart {\n",
              "    background-color: var(--bg-color);\n",
              "    border: none;\n",
              "    border-radius: 50%;\n",
              "    cursor: pointer;\n",
              "    display: none;\n",
              "    fill: var(--fill-color);\n",
              "    height: 32px;\n",
              "    padding: 0;\n",
              "    width: 32px;\n",
              "  }\n",
              "\n",
              "  .colab-df-quickchart:hover {\n",
              "    background-color: var(--hover-bg-color);\n",
              "    box-shadow: 0 1px 2px rgba(60, 64, 67, 0.3), 0 1px 3px 1px rgba(60, 64, 67, 0.15);\n",
              "    fill: var(--button-hover-fill-color);\n",
              "  }\n",
              "\n",
              "  .colab-df-quickchart-complete:disabled,\n",
              "  .colab-df-quickchart-complete:disabled:hover {\n",
              "    background-color: var(--disabled-bg-color);\n",
              "    fill: var(--disabled-fill-color);\n",
              "    box-shadow: none;\n",
              "  }\n",
              "\n",
              "  .colab-df-spinner {\n",
              "    border: 2px solid var(--fill-color);\n",
              "    border-color: transparent;\n",
              "    border-bottom-color: var(--fill-color);\n",
              "    animation:\n",
              "      spin 1s steps(1) infinite;\n",
              "  }\n",
              "\n",
              "  @keyframes spin {\n",
              "    0% {\n",
              "      border-color: transparent;\n",
              "      border-bottom-color: var(--fill-color);\n",
              "      border-left-color: var(--fill-color);\n",
              "    }\n",
              "    20% {\n",
              "      border-color: transparent;\n",
              "      border-left-color: var(--fill-color);\n",
              "      border-top-color: var(--fill-color);\n",
              "    }\n",
              "    30% {\n",
              "      border-color: transparent;\n",
              "      border-left-color: var(--fill-color);\n",
              "      border-top-color: var(--fill-color);\n",
              "      border-right-color: var(--fill-color);\n",
              "    }\n",
              "    40% {\n",
              "      border-color: transparent;\n",
              "      border-right-color: var(--fill-color);\n",
              "      border-top-color: var(--fill-color);\n",
              "    }\n",
              "    60% {\n",
              "      border-color: transparent;\n",
              "      border-right-color: var(--fill-color);\n",
              "    }\n",
              "    80% {\n",
              "      border-color: transparent;\n",
              "      border-right-color: var(--fill-color);\n",
              "      border-bottom-color: var(--fill-color);\n",
              "    }\n",
              "    90% {\n",
              "      border-color: transparent;\n",
              "      border-bottom-color: var(--fill-color);\n",
              "    }\n",
              "  }\n",
              "</style>\n",
              "\n",
              "  <script>\n",
              "    async function quickchart(key) {\n",
              "      const quickchartButtonEl =\n",
              "        document.querySelector('#' + key + ' button');\n",
              "      quickchartButtonEl.disabled = true;  // To prevent multiple clicks.\n",
              "      quickchartButtonEl.classList.add('colab-df-spinner');\n",
              "      try {\n",
              "        const charts = await google.colab.kernel.invokeFunction(\n",
              "            'suggestCharts', [key], {});\n",
              "      } catch (error) {\n",
              "        console.error('Error during call to suggestCharts:', error);\n",
              "      }\n",
              "      quickchartButtonEl.classList.remove('colab-df-spinner');\n",
              "      quickchartButtonEl.classList.add('colab-df-quickchart-complete');\n",
              "    }\n",
              "    (() => {\n",
              "      let quickchartButtonEl =\n",
              "        document.querySelector('#df-fe3775de-fc95-478e-9987-555b298c143a button');\n",
              "      quickchartButtonEl.style.display =\n",
              "        google.colab.kernel.accessAllowed ? 'block' : 'none';\n",
              "    })();\n",
              "  </script>\n",
              "</div>\n",
              "\n",
              "    </div>\n",
              "  </div>\n"
            ],
            "application/vnd.google.colaboratory.intrinsic+json": {
              "type": "dataframe",
              "variable_name": "df",
              "summary": "{\n  \"name\": \"df\",\n  \"rows\": 18,\n  \"fields\": [\n    {\n      \"column\": \"title\",\n      \"properties\": {\n        \"dtype\": \"string\",\n        \"num_unique_values\": 18,\n        \"samples\": [\n          \"The Prisoner\",\n          \"The Odyssey\",\n          \"Inception\"\n        ],\n        \"semantic_type\": \"\",\n        \"description\": \"\"\n      }\n    },\n    {\n      \"column\": \"href\",\n      \"properties\": {\n        \"dtype\": \"string\",\n        \"num_unique_values\": 18,\n        \"samples\": [\n          \"/film/fichefilm_gen_cfilm=244186.html\",\n          \"/film/fichefilm_gen_cfilm=1000013045.html\",\n          \"/film/fichefilm_gen_cfilm=143692.html\"\n        ],\n        \"semantic_type\": \"\",\n        \"description\": \"\"\n      }\n    },\n    {\n      \"column\": \"href_casting\",\n      \"properties\": {\n        \"dtype\": \"string\",\n        \"num_unique_values\": 15,\n        \"samples\": [\n          \"/film/fichefilm-51013/casting/\",\n          \"/film/fichefilm-32704/casting/\",\n          \"/film/fichefilm-1000013045/casting/\"\n        ],\n        \"semantic_type\": \"\",\n        \"description\": \"\"\n      }\n    },\n    {\n      \"column\": \"actors\",\n      \"properties\": {\n        \"dtype\": \"object\",\n        \"semantic_type\": \"\",\n        \"description\": \"\"\n      }\n    },\n    {\n      \"column\": \"mean_age_actors\",\n      \"properties\": {\n        \"dtype\": \"number\",\n        \"std\": 8.478562710803386,\n        \"min\": 41.0,\n        \"max\": 65.7,\n        \"num_unique_values\": 13,\n        \"samples\": [\n          61.4,\n          65.7,\n          41.0\n        ],\n        \"semantic_type\": \"\",\n        \"description\": \"\"\n      }\n    }\n  ]\n}"
            }
          },
          "metadata": {},
          "execution_count": 114
        }
      ]
    },
    {
      "cell_type": "code",
      "source": [
        "df.loc[~df['mean_age_actors'].isna()].plot.bar(x='title', y='mean_age_actors', legend=False, xlabel='Movie', ylabel='Age', title='Mean age of actors by movie', yticks=range(0, 70, 5), grid=True)"
      ],
      "metadata": {
        "colab": {
          "base_uri": "https://localhost:8080/",
          "height": 716
        },
        "id": "hxnUUv7GVjEC",
        "outputId": "1df42dd9-c7a1-4c64-ff9f-dad14518616b"
      },
      "execution_count": 125,
      "outputs": [
        {
          "output_type": "execute_result",
          "data": {
            "text/plain": [
              "<Axes: title={'center': 'Mean age of actors by movie'}, xlabel='Movie', ylabel='Age'>"
            ]
          },
          "metadata": {},
          "execution_count": 125
        },
        {
          "output_type": "display_data",
          "data": {
            "text/plain": [
              "<Figure size 640x480 with 1 Axes>"
            ],
            "image/png": "[encoded data removed]"
          },
          "metadata": {}
        }
      ]
    }
  ]
}