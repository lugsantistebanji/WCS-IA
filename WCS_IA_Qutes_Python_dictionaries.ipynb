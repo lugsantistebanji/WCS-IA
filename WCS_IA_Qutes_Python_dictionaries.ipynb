{
  "nbformat": 4,
  "nbformat_minor": 0,
  "metadata": {
    "colab": {
      "provenance": [],
      "include_colab_link": true
    },
    "kernelspec": {
      "name": "python3",
      "display_name": "Python 3"
    }
  },
  "cells": [
    {
      "cell_type": "markdown",
      "metadata": {
        "id": "view-in-github",
        "colab_type": "text"
      },
      "source": [
        "<a href=\"https://colab.research.google.com/github/lugsantistebanji/WCS-IA/blob/main/WCS_IA_Qutes_Python_dictionaries.ipynb\" target=\"_parent\"><img src=\"https://colab.research.google.com/assets/colab-badge.svg\" alt=\"Open In Colab\"/></a>"
      ]
    },
    {
      "cell_type": "markdown",
      "metadata": {
        "id": "LoJw-LlCTnWF"
      },
      "source": [
        "# Mission 1\n",
        "\n",
        "Below is a dictionary containing the number of French campuses that offer each kind of Wild Code School course.\n",
        "\n",
        "wildcodeschool = {\n",
        "   \"data_analyst\": 4,\n",
        "   \"data_scientist\": 2,\n",
        "   \"dev_web\": \"13\"\n",
        "}\n",
        "\n",
        "Find a way to only display the keys that have int values."
      ]
    },
    {
      "cell_type": "markdown",
      "source": [
        "**One possible solution :**"
      ],
      "metadata": {
        "id": "PpsMPTNOmIMC"
      }
    },
    {
      "cell_type": "code",
      "metadata": {
        "id": "C2Lk113KSPUO",
        "colab": {
          "base_uri": "https://localhost:8080/"
        },
        "outputId": "40fbf77c-4d33-4ac4-e81b-6be19f2768cc"
      },
      "source": [
        "wildcodeschool =\t{\n",
        "  \"data_analyst\": 4,\n",
        "  \"data_scientist\": 2,\n",
        "  \"dev_web\": \"13\"\n",
        "}\n",
        "\n",
        "for key, value in wildcodeschool.items():\n",
        "    if isinstance(value, int) :\n",
        "        print(key)"
      ],
      "execution_count": null,
      "outputs": [
        {
          "output_type": "stream",
          "name": "stdout",
          "text": [
            "data_analyst\n",
            "data_scientist\n"
          ]
        }
      ]
    },
    {
      "cell_type": "markdown",
      "metadata": {
        "id": "J3bsGIvAT049"
      },
      "source": [
        "# Mission 2\n",
        "\n",
        "For the same dictionary, find a way to display all the values that have a key that contains the letter \"e\"."
      ]
    },
    {
      "cell_type": "markdown",
      "source": [
        "**One possible solution :**"
      ],
      "metadata": {
        "id": "Pjwjn4mpmmZu"
      }
    },
    {
      "cell_type": "code",
      "metadata": {
        "id": "Fy1OmPSUXNaP",
        "colab": {
          "base_uri": "https://localhost:8080/"
        },
        "outputId": "799af5f1-883e-4fd4-e98d-4cdab15e5ce3"
      },
      "source": [
        "wildcodeschool =\t{\n",
        "  \"data_analyst\": 4,\n",
        "  \"data_scientist\": 2,\n",
        "  \"dev_web\": \"13\"\n",
        "}\n",
        "\n",
        "for key, value in wildcodeschool.items():\n",
        "    if 'e' in key.lower() :\n",
        "        print(value)"
      ],
      "execution_count": null,
      "outputs": [
        {
          "output_type": "stream",
          "name": "stdout",
          "text": [
            "2\n",
            "13\n"
          ]
        }
      ]
    },
    {
      "cell_type": "markdown",
      "metadata": {
        "id": "dVl36lvlWLdV"
      },
      "source": [
        "# Mission 3\n",
        "\n",
        "Within the same dictionary, change the type of the value of the \"dev_web\" key to be an int. Then add a new key-value pair which will be \"total_campus\" : 19, using a **dictionary method**."
      ]
    },
    {
      "cell_type": "markdown",
      "source": [
        "**One possible solution :**"
      ],
      "metadata": {
        "id": "df3d2DGhmoW8"
      }
    },
    {
      "cell_type": "code",
      "metadata": {
        "id": "pN3_mD4YSPfb",
        "colab": {
          "base_uri": "https://localhost:8080/"
        },
        "outputId": "9531f8be-37e8-478e-d0c0-7f49bf9cec38"
      },
      "source": [
        "wildcodeschool =\t{\n",
        "  \"data_analyst\": 4,\n",
        "  \"data_scientist\": 2,\n",
        "  \"dev_web\": \"13\"\n",
        "}\n",
        "\n",
        "wildcodeschool['dev_web'] = int(wildcodeschool['dev_web'])\n",
        "total_campus = sum(wildcodeschool.values())\n",
        "wildcodeschool.update({\"total_campus\": total_campus})\n",
        "print(wildcodeschool)"
      ],
      "execution_count": null,
      "outputs": [
        {
          "output_type": "stream",
          "name": "stdout",
          "text": [
            "{'data_analyst': 4, 'data_scientist': 2, 'dev_web': 13, 'total_campus': 19}\n"
          ]
        }
      ]
    },
    {
      "cell_type": "markdown",
      "metadata": {
        "id": "GCvpkWzXXPTf"
      },
      "source": [
        "# Mission 4\n",
        "\n",
        "Take the dictionary generated from mission 3. Delete the key value pair :\n",
        "- 'dev_web': 13 using a method\n",
        "- 'total_campus': 19 using another method"
      ]
    },
    {
      "cell_type": "markdown",
      "source": [
        "**One possible solution :**"
      ],
      "metadata": {
        "id": "xG4VMEqCmp3N"
      }
    },
    {
      "cell_type": "code",
      "metadata": {
        "id": "QjLMjogySPk_",
        "colab": {
          "base_uri": "https://localhost:8080/"
        },
        "outputId": "3f58c28e-8047-486a-b4fc-2353f391d6b0"
      },
      "source": [
        "wildcodeschool =\t{\n",
        "  \"data_analyst\": 4,\n",
        "  \"data_scientist\": 2,\n",
        "  \"dev_web\": 13,\n",
        "  \"total_campus\": 19\n",
        "}\n",
        "\n",
        "wildcodeschool.pop('dev_web')\n",
        "wildcodeschool.popitem()\n",
        "print(wildcodeschool)"
      ],
      "execution_count": null,
      "outputs": [
        {
          "output_type": "stream",
          "name": "stdout",
          "text": [
            "{'data_analyst': 4, 'data_scientist': 2}\n"
          ]
        }
      ]
    },
    {
      "cell_type": "markdown",
      "metadata": {
        "id": "V8ZS3aECXvuZ"
      },
      "source": [
        "# Mission 5\n",
        "\n",
        "Still within the dictionary generated from Mission 3, find a way to display the dictionary keys in alphabetical order."
      ]
    },
    {
      "cell_type": "markdown",
      "source": [
        "**One possible solution :**"
      ],
      "metadata": {
        "id": "I5bgaQn6mrj0"
      }
    },
    {
      "cell_type": "code",
      "metadata": {
        "id": "ph_j97PoSPmU",
        "colab": {
          "base_uri": "https://localhost:8080/"
        },
        "outputId": "2e2e1aee-7fae-4a3a-9892-7ca2845fb7ed"
      },
      "source": [
        "wildcodeschool =\t{\n",
        "  \"data_analyst\": 4,\n",
        "  \"data_scientist\": 2,\n",
        "  \"dev_web\": 13,\n",
        "  \"total_campus\": 19\n",
        "}\n",
        "\n",
        "print(sorted(wildcodeschool.keys()))"
      ],
      "execution_count": null,
      "outputs": [
        {
          "output_type": "stream",
          "name": "stdout",
          "text": [
            "['data_analyst', 'data_scientist', 'dev_web', 'total_campus']\n"
          ]
        }
      ]
    },
    {
      "cell_type": "markdown",
      "metadata": {
        "id": "geMLdrvAYHKx"
      },
      "source": [
        "# Mission 6\n",
        "\n",
        "Create a script that returns the same elements as the **values()** method, as a list.\n",
        "\n",
        "Example: for `{'a': 1, 'b': 2, 'c': 3}` it will create `[1, 2, 3]`"
      ]
    },
    {
      "cell_type": "markdown",
      "source": [
        "**One possible solution :**"
      ],
      "metadata": {
        "id": "odGTX5tRmsok"
      }
    },
    {
      "cell_type": "code",
      "metadata": {
        "id": "1-cenx3RSPpq",
        "colab": {
          "base_uri": "https://localhost:8080/"
        },
        "outputId": "5dcd7205-9995-46e3-e708-02e2c35a8710"
      },
      "source": [
        "def get_dict_values( dictionary: dict) -> list :\n",
        "    values = []\n",
        "    for key, value in dictionary.items():\n",
        "        values.append(value)\n",
        "    return values\n",
        "\n",
        "print(get_dict_values({'a': 1, 'b': 2, 'c': 3}))"
      ],
      "execution_count": null,
      "outputs": [
        {
          "output_type": "stream",
          "name": "stdout",
          "text": [
            "[1, 2, 3]\n"
          ]
        }
      ]
    }
  ]
}