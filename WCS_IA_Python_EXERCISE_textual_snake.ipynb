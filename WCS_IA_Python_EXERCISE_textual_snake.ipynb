{
  "nbformat": 4,
  "nbformat_minor": 0,
  "metadata": {
    "colab": {
      "provenance": [],
      "authorship_tag": "ABX9TyPyaWHfi8fa788yOfHRYXwZ",
      "include_colab_link": true
    },
    "kernelspec": {
      "name": "python3",
      "display_name": "Python 3"
    },
    "language_info": {
      "name": "python"
    }
  },
  "cells": [
    {
      "cell_type": "markdown",
      "metadata": {
        "id": "view-in-github",
        "colab_type": "text"
      },
      "source": [
        "<a href=\"https://colab.research.google.com/github/lugsantistebanji/WCS-IA/blob/main/WCS_IA_Python_EXERCISE_textual_snake.ipynb\" target=\"_parent\"><img src=\"https://colab.research.google.com/assets/colab-badge.svg\" alt=\"Open In Colab\"/></a>"
      ]
    },
    {
      "cell_type": "markdown",
      "source": [
        "## Sujet : Jeu \"Snake Textuel\" en Python\n",
        "\n",
        "**Objectif :**\n",
        "\n",
        "Créer un jeu Snake en mode texte. L'utilisateur contrôle un \"serpent\"\n",
        "représenté par des caractères * sur une grille de 10x10. Le serpent mange des\n",
        "\"pommes\" (représentées par @), et chaque pomme mangée fait grandir le serpent.\n",
        "Le jeu se termine si le serpent se cogne contre un mur ou s'il se mord la queue.\n",
        "\n",
        "**Instructions de base :**\n",
        "\n",
        "1. Grille de jeu : La grille de 10x10 affiche le serpent et la pomme. Les cases vides\n",
        "sont représentées par un point (.).\n",
        "\n",
        "2. Contrôle du serpent : L'utilisateur entre une direction :\n",
        "  - Z pour \"haut\",\n",
        "  - S pour \"bas\",\n",
        "  - Q pour \"gauche\",\n",
        "  - D pour \"droite\".\n",
        "\n",
        "3. Objectif du jeu : Manger des pommes sans se toucher ni toucher les bords de la grille.\n",
        "\n",
        "4. Gestion des erreurs d'entrée :\n",
        "- Si l’utilisateur entre une commande autre que Z,\n",
        "S, Q, ou D, le jeu affiche un message d'erreur et lui demande de réessayer.\n",
        "\n",
        "\n",
        "**Fonctions conseillées :**\n",
        "\n",
        "- afficher_grille() : Affiche la grille avec la position actuelle du serpent et de la pomme.\n",
        "- deplacer_serpent(direction) : Gère le déplacement du serpent et vérifie les\n",
        "collisions.\n",
        "- generer_pomme() : Place une nouvelle pomme dans une position aléatoire de la\n",
        "grille qui n’est pas occupée par le serpent.\n",
        "\n",
        "**Indice pour la gestion des erreurs :**\n",
        "\n",
        "- Utilisez un if pour vérifier si la direction est valide avant de déplacer le serpent.\n",
        "- Si la direction n'est pas dans [\"z\", \"q\", \"s\", \"d\"], affichez un message d'erreur.\n",
        "\n",
        "**Résultat attendu**\n",
        "\n",
        "L'utilisateur voit la grille avec le serpent et la pomme. En entrant Z, Q, S, ou D, le serpent se déplace dans la direction souhaitée. Le jeu continue jusqu'à ce que le serpent se cogne contre un mur ou son propre corps."
      ],
      "metadata": {
        "id": "dHns4Ucsh4PF"
      }
    },
    {
      "cell_type": "markdown",
      "source": [
        "**Une solution :**"
      ],
      "metadata": {
        "id": "QFxG3lsVjB4i"
      }
    },
    {
      "cell_type": "code",
      "execution_count": null,
      "metadata": {
        "id": "uy1EFhyAh2ut"
      },
      "outputs": [],
      "source": [
        "from typing import List, Tuple\n",
        "import random\n",
        "\n",
        "grid_size = 20\n",
        "snake_position = [(grid_size//2, grid_size//2)]\n",
        "symbol_body_snake = \"­¤\"\n",
        "symbol_head_snake = \"­\\u25a0­\"\n",
        "symbol_pomme = \"ø\"\n",
        "symbol_empty = \"\\u2e31\"\n",
        "moves = {'Z': (0, -1, 'up'), 'S': (0, 1, 'down'), 'Q': (-1, 0, 'left'), 'D': (1, 0, 'right')}\n",
        "\n",
        "def print_grid(grid_size: int, snake_position: List[Tuple], apple_position: Tuple[int, int]) -> None:\n",
        "   for y in range(grid_size):\n",
        "    for x in range(grid_size):\n",
        "      if (x,y) in snake_position:\n",
        "        symbol = symbol_head_snake if (x,y) == snake_position[-1] else symbol_body_snake\n",
        "      elif (x,y) == apple_position:\n",
        "        symbol = symbol_pomme\n",
        "      else:\n",
        "        symbol = symbol_empty\n",
        "\n",
        "      print(symbol, end=\"\")\n",
        "\n",
        "    print()\n",
        "\n",
        "def move_snake(snake_position: List[Tuple], direction: str, apple_position: Tuple[int,int], grid_size: int) -> bool:\n",
        "  new_position_x = snake_position[-1][0] + moves[direction][0]\n",
        "  new_position_y = snake_position[-1][1] + moves[direction][1]\n",
        "  new_position = (new_position_x, new_position_y)\n",
        "\n",
        "  if new_position in snake_position or  new_position_x < 0 or new_position_x >= grid_size  or new_position_y < 0 or new_position_y >= grid_size:\n",
        "    return False\n",
        "\n",
        "  if new_position != apple_position:\n",
        "    snake_position.pop(0)\n",
        "\n",
        "  snake_position.append(new_position)\n",
        "\n",
        "  return True\n",
        "\n",
        "def apple_position_generator(grid_size: int, snake_position: List[Tuple]) -> Tuple[int, int]:\n",
        "  while True:\n",
        "    x = random.randint(0, grid_size - 1)\n",
        "    y = random.randint(0, grid_size - 1)\n",
        "\n",
        "    if (x, y) not in snake_position:\n",
        "      return (x, y)\n",
        "\n",
        "def input_direction() -> str :\n",
        "  while True:\n",
        "    try:\n",
        "      direction = input(f\"Move the snake. Enter {', '.join(f'{key} for {moves[key][2]}' for key in moves.keys())} : \").strip().upper()\n",
        "\n",
        "      if direction in [key for key in moves.keys()]:\n",
        "        return direction\n",
        "      else:\n",
        "        raise ValueError\n",
        "    except ValueError:\n",
        "      print(\"You need enter a valid option.\")\n",
        "\n",
        "\n",
        "apple_position = apple_position_generator(grid_size, snake_position)\n",
        "\n",
        "while True:\n",
        "  print_grid(grid_size, snake_position, apple_position)\n",
        "  direction = input_direction()\n",
        "  is_moved = move_snake(snake_position, direction, apple_position, grid_size)\n",
        "\n",
        "  if not is_moved:\n",
        "    print(\"YOU LOST THE GAME\")\n",
        "    break\n",
        "  if apple_position in snake_position:\n",
        "    apple_position = apple_position_generator(grid_size, snake_position)"
      ]
    }
  ]
}