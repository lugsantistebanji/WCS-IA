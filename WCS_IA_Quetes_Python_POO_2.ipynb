{
  "nbformat": 4,
  "nbformat_minor": 0,
  "metadata": {
    "colab": {
      "provenance": [],
      "authorship_tag": "ABX9TyMasIQFQ8TU36k657S36qHO",
      "include_colab_link": true
    },
    "kernelspec": {
      "name": "python3",
      "display_name": "Python 3"
    },
    "language_info": {
      "name": "python"
    }
  },
  "cells": [
    {
      "cell_type": "markdown",
      "metadata": {
        "id": "view-in-github",
        "colab_type": "text"
      },
      "source": [
        "<a href=\"https://colab.research.google.com/github/lugsantistebanji/WCS-IA/blob/main/WCS_IA_Quetes_Python_POO_2.ipynb\" target=\"_parent\"><img src=\"https://colab.research.google.com/assets/colab-badge.svg\" alt=\"Open In Colab\"/></a>"
      ]
    },
    {
      "cell_type": "markdown",
      "source": [
        "#POO WITH PYTHON\n",
        "\n",
        "## Challenge\n",
        "\n",
        "Dans ce challenge tu vas créer ta 1ère classe dataAnalyst qui va simuler la vie d'un data analyst. Voici les caractéristiques de ta classe :\n",
        "\n",
        "**attributs :**\n",
        "\n",
        "- nom (str)\n",
        "- prenom (str)\n",
        "- age (int)\n",
        "- sexe (str)\n",
        "- formationPrecedente (str)\n",
        "- motivation (int valant 100 à l'instanciation)\n",
        "- progression (int valant 0 à l'instanciation)\n",
        "\n",
        "\n",
        "**méthodes :**\n",
        "- suivreFormation() : chaque fois qu'elle est utilisée, cette méthode diminue la motivation d'une valeur entière aléatoire (random) entre 5 et 25 et augmente la progression d'une valeur entière aléatoire entre 20 et 30 ;\n",
        "\n",
        "- bosserPlus() : chaque fois qu'elle est utilisée, cette méthode augmente la motivation et la progression d'une valeur entière aléatoire entre 10 et 30 ;\n",
        "\n",
        "- echouer() : chaque fois qu'elle est utilisée baisse la motivation d'une valeur entre 20 et 40 et augmente la progression d'une valeur entre 20 et 40 ;\n",
        "\n",
        "- reussir() : chaque fois qu'elle est utilisée, augmente la motivation d'une valeur entre 20 et 40 et augmente la progression d'une valeur random entre 10 et 20\n",
        "\n",
        "Instancie un objet dataAnalyst et indique un nom, un prenom, le sexe et la formationPrecedente. L'attribut motivation vaudra 100 au début et l'attribut progression vaudra 0.\n",
        "\n",
        "Le programme va automatiquement et aléatoirement lancer des méthodes et afficher le récapitulatif de l'état des attributs motivation et progression. Le programme s'arrête quand la motivation tombe à zéro et affiche `BRAVO TU AS GAGNÉ !!!` ou quand progression atteint 100 et affiche `BRAVO TU AS APPRIS !!!`."
      ],
      "metadata": {
        "id": "E3fYHL43JTvB"
      }
    },
    {
      "cell_type": "markdown",
      "source": [
        "## Solution"
      ],
      "metadata": {
        "id": "YTKkoxEt99rW"
      }
    },
    {
      "cell_type": "code",
      "source": [
        "import random\n",
        "\n",
        "class DataAnalyst:\n",
        "\n",
        "    def __init__(self,\n",
        "                 firstname: str,\n",
        "                 lastname: str,\n",
        "                 age: int,\n",
        "                 sexe: str,\n",
        "                 last_training: str,\n",
        "                 motivation: int=100,\n",
        "                 progress: int=0\n",
        "                 ) -> None:\n",
        "        self._firstname = firstname\n",
        "        self._lastname = lastname\n",
        "        self._age = age\n",
        "        self._sexe = sexe\n",
        "        self._last_training = last_training\n",
        "        self._motivation = motivation\n",
        "        self._progress = progress\n",
        "\n",
        "\n",
        "    def get_motivation(self) -> int:\n",
        "        return self._motivation\n",
        "\n",
        "\n",
        "    def get_progress(self) -> int:\n",
        "        return self._progress\n",
        "\n",
        "\n",
        "    def suivre_formation(self) -> None:\n",
        "        self._motivation -= random.randint(5, 25)\n",
        "        self._progress += random.randint(20, 30)\n",
        "\n",
        "\n",
        "    def bosser_plus(self) -> None:\n",
        "        value = random.randint(10, 30)\n",
        "        self._motivation += value\n",
        "        self._progress += value\n",
        "\n",
        "\n",
        "    def echouer(self) -> None:\n",
        "        self._motivation -= random.randint(20, 40)\n",
        "        self._progress += random.randint(20, 40)\n",
        "\n",
        "\n",
        "    def reussir(self) -> None:\n",
        "        self._motivation += random.randint(20, 40)\n",
        "        self._progress += random.randint(10, 20)\n",
        "\n",
        "\n",
        "def main():\n",
        "    data_analyst = DataAnalyst(\n",
        "                                \"Clark\",\n",
        "                                \"Kent\",\n",
        "                                34,\n",
        "                                \"male\",\n",
        "                                \"journalist\"\n",
        "                                )\n",
        "\n",
        "    methods = [method for method in dir(DataAnalyst) if not method.startswith(\"_\") and not method.startswith(\"get\")]\n",
        "\n",
        "    while True:\n",
        "        random_method = random.choice(methods)\n",
        "        getattr(data_analyst, random_method)()\n",
        "        print(random_method, data_analyst. get_motivation(), data_analyst.get_progress())\n",
        "\n",
        "        if data_analyst.get_motivation() <= 0:\n",
        "            print(\"BRAVO TU AS GAGNÉ !!!\")\n",
        "            break\n",
        "        if data_analyst.get_progress() >= 100:\n",
        "            print(\"BRAVO TU AS APPRIS !!!\")\n",
        "            break\n",
        "\n",
        "main()"
      ],
      "metadata": {
        "id": "SGftFvcFJTVf",
        "colab": {
          "base_uri": "https://localhost:8080/"
        },
        "outputId": "157d4f9e-86a4-4401-b99e-5061d1ee93c8"
      },
      "execution_count": 6,
      "outputs": [
        {
          "output_type": "stream",
          "name": "stdout",
          "text": [
            "reussir 140 19\n",
            "reussir 176 39\n",
            "reussir 213 59\n",
            "bosser_plus 224 70\n",
            "echouer 195 101\n",
            "BRAVO TU AS APPRIS !!!\n"
          ]
        }
      ]
    },
    {
      "cell_type": "code",
      "execution_count": null,
      "metadata": {
        "id": "ncPV2c1NJFK1"
      },
      "outputs": [],
      "source": []
    }
  ]
}