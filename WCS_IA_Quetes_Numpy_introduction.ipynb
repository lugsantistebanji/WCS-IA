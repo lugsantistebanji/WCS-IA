{
  "nbformat": 4,
  "nbformat_minor": 0,
  "metadata": {
    "colab": {
      "provenance": [],
      "include_colab_link": true
    },
    "kernelspec": {
      "name": "python3",
      "display_name": "Python 3"
    }
  },
  "cells": [
    {
      "cell_type": "markdown",
      "metadata": {
        "id": "view-in-github",
        "colab_type": "text"
      },
      "source": [
        "<a href=\"https://colab.research.google.com/github/lugsantistebanji/WCS-IA/blob/main/WCS_IA_Quetes_Numpy_introduction.ipynb\" target=\"_parent\"><img src=\"https://colab.research.google.com/assets/colab-badge.svg\" alt=\"Open In Colab\"/></a>"
      ]
    },
    {
      "cell_type": "markdown",
      "metadata": {
        "id": "s6odsFbLpgIh"
      },
      "source": [
        "# NumPy : Introduction\n",
        "\n",
        "NumPy allows you to manipulate data in the form of an array.\n",
        "\n",
        "Complete the missions below using NumPy."
      ]
    },
    {
      "cell_type": "markdown",
      "source": [
        "---"
      ],
      "metadata": {
        "id": "N-kIu2R1mT0H"
      }
    },
    {
      "cell_type": "markdown",
      "source": [
        "## Mission 1 :\n",
        "\n",
        "Display the version of NumPy you are running (as each library, you can use np.__version__)\n",
        "\n"
      ],
      "metadata": {
        "id": "-HtvG_B3mLJ6"
      }
    },
    {
      "cell_type": "code",
      "metadata": {
        "id": "sXzBVR4imVvO",
        "colab": {
          "base_uri": "https://localhost:8080/"
        },
        "outputId": "71316563-35f9-443b-fccf-e2f53039fa63"
      },
      "source": [
        "import numpy as np\n",
        "\n",
        "print(f\"The NumPy version is : {np.version.full_version}\")"
      ],
      "execution_count": 12,
      "outputs": [
        {
          "output_type": "stream",
          "name": "stdout",
          "text": [
            "The NumPy version is : 1.26.4\n"
          ]
        }
      ]
    },
    {
      "cell_type": "markdown",
      "source": [
        "---"
      ],
      "metadata": {
        "id": "LWx4ajnix2nx"
      }
    },
    {
      "cell_type": "markdown",
      "source": [
        "## Mission 2 :\n",
        "\n",
        "Create a NumPy array with a length of 3, that contains this 3 floats: 0.8, 0.6, 0.4\n",
        "\n",
        "**Expected result:**\n",
        "\n",
        "`array([0.8, 0.6, 0.4])`"
      ],
      "metadata": {
        "id": "9AeIwxNemY9H"
      }
    },
    {
      "cell_type": "code",
      "metadata": {
        "id": "vQGzQgU-phGc",
        "colab": {
          "base_uri": "https://localhost:8080/"
        },
        "outputId": "27891dc6-6f14-42e6-c92f-715397eb2559"
      },
      "source": [
        "import numpy as np\n",
        "\n",
        "new_np_array = np.array([0.8, 0.6, 0.4])\n",
        "\n",
        "print(type(new_np_array))\n",
        "print(len(new_np_array))\n",
        "print(new_np_array)"
      ],
      "execution_count": 15,
      "outputs": [
        {
          "output_type": "stream",
          "name": "stdout",
          "text": [
            "<class 'numpy.ndarray'>\n",
            "3\n",
            "[0.8 0.6 0.4]\n"
          ]
        }
      ]
    },
    {
      "cell_type": "markdown",
      "source": [
        "---"
      ],
      "metadata": {
        "id": "7oDPtMCAx4yZ"
      }
    },
    {
      "cell_type": "markdown",
      "source": [
        "## Mission 3 :\n",
        "\n",
        "Create a function that uses the `np.random.random()` function to return an array with 10 random elements, all of which must be greater than 0.25 and less than 1.0\n",
        "\n",
        "**Example of expected result:**\n",
        "\n",
        "`array([0.3897948 , 0.82850041, 0.5499838 , 0.81940137, 0.92175875, 0.89634373, 0.26821861, 0.72376496, 0.81098623, 0.28192741])`"
      ],
      "metadata": {
        "id": "ej26j1iBmkPC"
      }
    },
    {
      "cell_type": "code",
      "metadata": {
        "id": "66-o1bXYqPC_",
        "colab": {
          "base_uri": "https://localhost:8080/"
        },
        "outputId": "b0f22fd5-0c38-4dc2-d3b6-67d8bc11cf5f"
      },
      "source": [
        "import numpy as np\n",
        "\n",
        "np.random.random(10) * (0.75) + 0.25"
      ],
      "execution_count": 24,
      "outputs": [
        {
          "output_type": "execute_result",
          "data": {
            "text/plain": [
              "array([0.87151084, 0.40199936, 0.56564499, 0.92521271, 0.83166445,\n",
              "       0.94311172, 0.26268574, 0.4511305 , 0.73877839, 0.32180499])"
            ]
          },
          "metadata": {},
          "execution_count": 24
        }
      ]
    },
    {
      "cell_type": "markdown",
      "source": [
        "---"
      ],
      "metadata": {
        "id": "QCXG9NH0x561"
      }
    },
    {
      "cell_type": "markdown",
      "source": [
        "## Mission 4 :\n",
        "\n",
        "What does the `np.empty()` method do? Don't just copy the documentation, explain in your own words here:\n",
        "\n",
        "**The empty method in NumPy** `creates an uninitialized array with indeterminate values. In other words, it allocates memory space to store an array with a specific data type.`"
      ],
      "metadata": {
        "id": "00rO33plnJZG"
      }
    },
    {
      "cell_type": "code",
      "source": [],
      "metadata": {
        "id": "U05BQH9ivL_w"
      },
      "execution_count": null,
      "outputs": []
    },
    {
      "cell_type": "code",
      "source": [
        "import numpy as np\n",
        "\n",
        "empty_array = np.empty((3, 2))\n",
        "print(empty_array)"
      ],
      "metadata": {
        "colab": {
          "base_uri": "https://localhost:8080/"
        },
        "id": "h9R3F6XVsoAr",
        "outputId": "518470f4-5ab7-4179-b93d-9c924ecbc085"
      },
      "execution_count": 26,
      "outputs": [
        {
          "output_type": "stream",
          "name": "stdout",
          "text": [
            "[[4.97001418e-310 0.00000000e+000]\n",
            " [4.96905067e-310 6.52523503e-310]\n",
            " [7.34370885e+223 1.48776569e+195]]\n"
          ]
        }
      ]
    },
    {
      "cell_type": "markdown",
      "source": [
        "---"
      ],
      "metadata": {
        "id": "vpuTc0p_x7FF"
      }
    },
    {
      "cell_type": "markdown",
      "source": [
        "## Mission 5 :\n",
        "\n",
        "Create an array filled with only zeros. You can choose the length of this array."
      ],
      "metadata": {
        "id": "pUa4j3z8ndnu"
      }
    },
    {
      "cell_type": "code",
      "metadata": {
        "id": "q_BJsGjwqTQp",
        "colab": {
          "base_uri": "https://localhost:8080/"
        },
        "outputId": "9f8420bc-ba2d-449d-88f1-f924b02d3ead"
      },
      "source": [
        "import numpy as np\n",
        "\n",
        "zeros_array = np.zeros((6, 5))\n",
        "\n",
        "print(zeros_array)"
      ],
      "execution_count": 28,
      "outputs": [
        {
          "output_type": "stream",
          "name": "stdout",
          "text": [
            "[[0. 0. 0. 0. 0.]\n",
            " [0. 0. 0. 0. 0.]\n",
            " [0. 0. 0. 0. 0.]\n",
            " [0. 0. 0. 0. 0.]\n",
            " [0. 0. 0. 0. 0.]\n",
            " [0. 0. 0. 0. 0.]]\n"
          ]
        }
      ]
    },
    {
      "cell_type": "markdown",
      "source": [
        "---"
      ],
      "metadata": {
        "id": "rq5W23Ykx-BE"
      }
    },
    {
      "cell_type": "markdown",
      "source": [
        "## Mission 6 :\n",
        "\n",
        "Create an array filled with 10 random integers."
      ],
      "metadata": {
        "id": "1Vt4armAngPH"
      }
    },
    {
      "cell_type": "code",
      "metadata": {
        "id": "KhQZPyHhqUql",
        "colab": {
          "base_uri": "https://localhost:8080/"
        },
        "outputId": "d35f303b-1ccb-46c4-9939-98522eb3c459"
      },
      "source": [
        "import numpy as np\n",
        "\n",
        "int_array = np.random.randint(low=10, high=100, size=10)\n",
        "\n",
        "print(len(int_array))\n",
        "print(int_array)"
      ],
      "execution_count": 32,
      "outputs": [
        {
          "output_type": "stream",
          "name": "stdout",
          "text": [
            "10\n",
            "[43 87 68 36 63 29 46 26 37 62]\n"
          ]
        }
      ]
    },
    {
      "cell_type": "markdown",
      "source": [
        "---"
      ],
      "metadata": {
        "id": "NZVB58K9x_IX"
      }
    },
    {
      "cell_type": "markdown",
      "source": [
        "## Mission 7 :\n",
        "\n",
        "Create an array that contains 50 values randomly selected only from these numbers: 0, 1, 2, 3, 4, 5, 6, 7."
      ],
      "metadata": {
        "id": "SNEqZ1zdniWd"
      }
    },
    {
      "cell_type": "code",
      "metadata": {
        "id": "v3vqX26BqWTo",
        "colab": {
          "base_uri": "https://localhost:8080/"
        },
        "outputId": "f5a5f831-d096-4e2c-c036-81eda61347fa"
      },
      "source": [
        "import numpy as np\n",
        "\n",
        "a = np.arange(0, 8, 1)\n",
        "print(a)\n",
        "random_array = np.random.choice(a, 50)\n",
        "print(random_array)"
      ],
      "execution_count": 36,
      "outputs": [
        {
          "output_type": "stream",
          "name": "stdout",
          "text": [
            "[0 1 2 3 4 5 6 7]\n",
            "[0 2 1 4 1 5 7 4 0 3 2 7 5 2 2 1 2 0 1 3 4 7 3 4 7 0 4 5 7 1 2 4 6 6 4 3 6\n",
            " 2 6 1 7 3 4 3 0 5 7 4 7 7]\n"
          ]
        }
      ]
    }
  ]
}