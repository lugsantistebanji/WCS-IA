{
  "nbformat": 4,
  "nbformat_minor": 0,
  "metadata": {
    "colab": {
      "provenance": [],
      "include_colab_link": true
    },
    "kernelspec": {
      "name": "python3",
      "display_name": "Python 3"
    },
    "language_info": {
      "name": "python"
    }
  },
  "cells": [
    {
      "cell_type": "markdown",
      "metadata": {
        "id": "view-in-github",
        "colab_type": "text"
      },
      "source": [
        "<a href=\"https://colab.research.google.com/github/lugsantistebanji/WCS-IA/blob/main/WCS_IA_Quetes_Python_Sets.ipynb\" target=\"_parent\"><img src=\"https://colab.research.google.com/assets/colab-badge.svg\" alt=\"Open In Colab\"/></a>"
      ]
    },
    {
      "cell_type": "markdown",
      "source": [
        "There is another object type we haven't talked about: `set`  \n",
        "It looks like a `dictionary`, but it's not a dictionary.\n",
        "\n",
        "---"
      ],
      "metadata": {
        "id": "iOaZdJNUw9sA"
      }
    },
    {
      "cell_type": "code",
      "source": [
        "my_set = {\"apple\", \"kiwi\", \"pineapple\"}"
      ],
      "metadata": {
        "id": "HRsoiLZC5wmE"
      },
      "execution_count": null,
      "outputs": []
    },
    {
      "cell_type": "code",
      "source": [
        "type(my_set)"
      ],
      "metadata": {
        "colab": {
          "base_uri": "https://localhost:8080/"
        },
        "id": "-oEmyHpTwNe-",
        "outputId": "9fe9fbc8-824b-47c1-b9d4-dcedf1a2a05a"
      },
      "execution_count": null,
      "outputs": [
        {
          "output_type": "execute_result",
          "data": {
            "text/plain": [
              "set"
            ]
          },
          "metadata": {},
          "execution_count": 2
        }
      ]
    },
    {
      "cell_type": "markdown",
      "source": [
        "**Question :**\n",
        "ff\n",
        "Whfy isn't `my_set` an object from the `dict` class ?\n",
        "\n",
        "**Answer :**\n",
        "\n",
        "Because the elements in the `set` object aren't in the form of `key-value` pairs, as in dictionaries.\n"
      ],
      "metadata": {
        "id": "3SQwkD7TxRLa"
      }
    },
    {
      "cell_type": "markdown",
      "source": [
        "---\n",
        "---"
      ],
      "metadata": {
        "id": "IYSIv3moxkdx"
      }
    },
    {
      "cell_type": "markdown",
      "source": [
        "Another specificity from `set` object is that they cannot have two items with the same values.\n",
        "\n",
        "Execute the cells below."
      ],
      "metadata": {
        "id": "A4otkNd2x6Tk"
      }
    },
    {
      "cell_type": "code",
      "source": [
        "a_set = {\"banana\", \"lemon\", \"lemon\", \"cherry\", \"lemon\", \"strawberry\", \"lemon\" }"
      ],
      "metadata": {
        "id": "K-PLnHTuwwEz"
      },
      "execution_count": null,
      "outputs": []
    },
    {
      "cell_type": "code",
      "source": [
        "a_set"
      ],
      "metadata": {
        "colab": {
          "base_uri": "https://localhost:8080/"
        },
        "id": "kids3QsSyfkM",
        "outputId": "e9f6676d-3128-46da-ae24-58d37dd78fa7"
      },
      "execution_count": null,
      "outputs": [
        {
          "output_type": "execute_result",
          "data": {
            "text/plain": [
              "{'banana', 'cherry', 'lemon', 'strawberry'}"
            ]
          },
          "metadata": {},
          "execution_count": 28
        }
      ]
    },
    {
      "cell_type": "markdown",
      "source": [
        "---\n",
        "---"
      ],
      "metadata": {
        "id": "mcx0n5oAiJLg"
      }
    },
    {
      "cell_type": "markdown",
      "source": [
        "**Question :**\n",
        "\n",
        "How many items do the sets below have ?\n",
        "\n",
        "        To answer, you can use your knowledge or the `len()` function.\n",
        "\n",
        "**Answer :**\n",
        "\n",
        "The set contains nine items."
      ],
      "metadata": {
        "id": "__0F2pryyq5g"
      }
    },
    {
      "cell_type": "code",
      "source": [
        "this_set = {1, 2, 3, 1, 2, 4, 1, 4, 3, 5, 6, 8, 9, 8, 3, 7, 6, 8, 6, 8, 9}"
      ],
      "metadata": {
        "id": "UWbbfikQygNO"
      },
      "execution_count": null,
      "outputs": []
    },
    {
      "cell_type": "code",
      "source": [
        "print(f\"this_set contains {len(this_set)} elements.\")"
      ],
      "metadata": {
        "id": "Q62tigIg6Lf1",
        "colab": {
          "base_uri": "https://localhost:8080/"
        },
        "outputId": "cc9d2b06-b718-47ea-b286-a1ebd0eef653"
      },
      "execution_count": null,
      "outputs": [
        {
          "output_type": "stream",
          "name": "stdout",
          "text": [
            "this_set contains 9 elements.\n"
          ]
        }
      ]
    },
    {
      "cell_type": "markdown",
      "source": [
        "---"
      ],
      "metadata": {
        "id": "WFvZeV77imB6"
      }
    },
    {
      "cell_type": "markdown",
      "source": [
        "**Question :**\n",
        "\n",
        "Can a set contain elements with differents types ?\n",
        "\n",
        "**Answer :**"
      ],
      "metadata": {
        "id": "ES1OCVL9zaAK"
      }
    },
    {
      "cell_type": "code",
      "source": [
        "# try to make a set with objects with different types here:\n",
        "answer = {\"hey\", 2, True, 2.33}\n",
        "print(type(answer))\n",
        "for element in answer:\n",
        "    print(type(element))"
      ],
      "metadata": {
        "id": "fZ5t11yEzMHB",
        "colab": {
          "base_uri": "https://localhost:8080/"
        },
        "outputId": "43e1a48d-1b3d-431b-ba6a-74e622c9349d"
      },
      "execution_count": null,
      "outputs": [
        {
          "output_type": "stream",
          "name": "stdout",
          "text": [
            "<class 'set'>\n",
            "{True, 2, 2.33, 'hey'}\n"
          ]
        }
      ]
    },
    {
      "cell_type": "markdown",
      "source": [
        "---"
      ],
      "metadata": {
        "id": "moagMA9Wiua3"
      }
    },
    {
      "cell_type": "markdown",
      "source": [
        "**Question :**  \n",
        "\n",
        "Using the list below, there is a simple way to know the amount of unique values from this list.\n",
        "\n",
        "What is it ?\n",
        "\n",
        "**Answer :**"
      ],
      "metadata": {
        "id": "0LSXvAmxz5JM"
      }
    },
    {
      "cell_type": "code",
      "source": [
        "# Try to count the amount of unique values from this list, in one line of code.\n",
        "\n",
        "a_list = [1, 2, 3, 1, 2, 4, 1, 4, 3, 5, 6, 8, 9, 8, 3, 7, 6, 8, 6, 8, 9]\n",
        "amount_unique_values = len(set(a_list))\n",
        "print(f\" The aumount of unique values is : {amount_unique_values}\")"
      ],
      "metadata": {
        "id": "hojccL3Qz3nJ",
        "colab": {
          "base_uri": "https://localhost:8080/"
        },
        "outputId": "d29d4aee-0552-45e2-e3f6-6681263d920a"
      },
      "execution_count": null,
      "outputs": [
        {
          "output_type": "stream",
          "name": "stdout",
          "text": [
            " The aumount of unique values is : 9\n"
          ]
        }
      ]
    },
    {
      "cell_type": "markdown",
      "source": [
        "---\n",
        "---"
      ],
      "metadata": {
        "id": "ifiEMRIdiyD9"
      }
    },
    {
      "cell_type": "markdown",
      "source": [
        "There are four collection data types in the Python programming language:\n",
        "\n",
        "* `List` is a collection which is ordered and changeable. Allows duplicate members.\n",
        "* `Tuple` is a collection which is ordered and unchangeable. Allows duplicate members.\n",
        "* `Set` is a collection which is unordered, unchangeable, and unindexed. No duplicate members, but you can remove items and add new items.\n",
        "* `Dictionary` is a collection which is ordered and changeable. No duplicate members."
      ],
      "metadata": {
        "id": "GNHMN2z702c4"
      }
    },
    {
      "cell_type": "markdown",
      "source": [
        "---\n",
        "---"
      ],
      "metadata": {
        "id": "Rv-LlEh2i2Wh"
      }
    },
    {
      "cell_type": "markdown",
      "source": [
        "**Question :**   \n",
        "Find a way to access to the first value of `this_set`\n",
        "\n",
        "**Answer :**"
      ],
      "metadata": {
        "id": "RBT2xWlL1-3Y"
      }
    },
    {
      "cell_type": "code",
      "source": [
        "this_set = {1, 2, 3, 1, 2, 4, 1, 4, 3, 5, 6, 8, 9, 8, 3, 7, 6, 8, 6, 8, 9}\n",
        "print(this_set)\n",
        "print(f\"First value : {list(this_set)[0]}\")"
      ],
      "metadata": {
        "id": "SLr8_oFV6P2o",
        "colab": {
          "base_uri": "https://localhost:8080/"
        },
        "outputId": "550db75d-6811-4be0-8f82-6e19756cfc4b"
      },
      "execution_count": null,
      "outputs": [
        {
          "output_type": "stream",
          "name": "stdout",
          "text": [
            "{1, 2, 3, 4, 5, 6, 7, 8, 9}\n",
            "First value : 1\n"
          ]
        }
      ]
    },
    {
      "cell_type": "markdown",
      "source": [
        "---"
      ],
      "metadata": {
        "id": "UJHoCT6U2MhA"
      }
    },
    {
      "cell_type": "markdown",
      "source": [
        "**Question :**\n",
        "  \n",
        "Find a way to add a value that will be unique in `a_set`\n",
        "\n",
        "**Answer :**"
      ],
      "metadata": {
        "id": "wzNCOWt73F-i"
      }
    },
    {
      "cell_type": "code",
      "source": [
        "a_set = {\"banana\", \"lemon\", \"lemon\", \"cherry\", \"lemon\", \"strawberry\", \"lemon\" }\n",
        "print(f\"a_set = {a_set}\")\n",
        "new_value = \"apple\"\n",
        "print(f\"Adding the new value '{new_value}'\")\n",
        "a_set.add(new_value)\n",
        "print(f\"a_set = {a_set}\")"
      ],
      "metadata": {
        "colab": {
          "base_uri": "https://localhost:8080/"
        },
        "id": "ePwn6A1U13us",
        "outputId": "ab967e16-f6bb-4e0f-b913-5600e3a6a2f2"
      },
      "execution_count": null,
      "outputs": [
        {
          "output_type": "stream",
          "name": "stdout",
          "text": [
            "a_set = {'cherry', 'banana', 'strawberry', 'lemon'}\n",
            "Adding the new value 'apple'\n",
            "a_set = {'banana', 'apple', 'lemon', 'cherry', 'strawberry'}\n"
          ]
        }
      ]
    },
    {
      "cell_type": "markdown",
      "source": [
        "---"
      ],
      "metadata": {
        "id": "Kj9QZlZu5An8"
      }
    },
    {
      "cell_type": "markdown",
      "source": [
        "**Question :**\n",
        "\n",
        "Now, you have to add the value from `this_set` to `a_set`.\n",
        "\n",
        "**Answer :**\n",
        "\n"
      ],
      "metadata": {
        "id": "ROPmLE4d3fNm"
      }
    },
    {
      "cell_type": "code",
      "source": [
        "a_set = {\"banana\", \"lemon\", \"lemon\", \"cherry\", \"lemon\", \"strawberry\", \"lemon\" }\n",
        "this_set = {1, 2, 3, 1, 2, 4, 1, 4, 3, 5, 6, 8, 9, 8, 3, 7, 6, 8, 6, 8, 9}\n",
        "print(f\"a_set = {a_set}\")\n",
        "print(f\"this_set = {this_set}\")\n",
        "print(f\"Adding 'this_set to a_set'\")\n",
        "a_set.update(this_set)\n",
        "print(f\"a_set = {a_set}\")"
      ],
      "metadata": {
        "id": "yuIZSU-p6SkW",
        "colab": {
          "base_uri": "https://localhost:8080/"
        },
        "outputId": "7ff5b88f-b62e-4ce0-b35f-7dab06ab7407"
      },
      "execution_count": null,
      "outputs": [
        {
          "output_type": "stream",
          "name": "stdout",
          "text": [
            "a_set = {'strawberry', 'banana', 'cherry', 'lemon'}\n",
            "this_set = {1, 2, 3, 4, 5, 6, 7, 8, 9}\n",
            "Adding 'this_set to a_set'\n",
            "a_set = {1, 2, 3, 4, 'banana', 5, 6, 7, 8, 9, 'lemon', 'strawberry', 'cherry'}\n"
          ]
        }
      ]
    },
    {
      "cell_type": "markdown",
      "source": [
        "---"
      ],
      "metadata": {
        "id": "1Dnl-8195D2L"
      }
    },
    {
      "cell_type": "markdown",
      "source": [
        "**Question :**\n",
        "\n",
        "If you display a `set` object, it won't display with the same order you define it.\n",
        "\n",
        "What can you say about the order the element are display ?"
      ],
      "metadata": {
        "id": "8mjIqZuD3x7m"
      }
    },
    {
      "cell_type": "markdown",
      "source": [
        "**Answer :**\n",
        "\n",
        "The order in a `set` is determined by the Python version, but in general, a `set` is an unordered collection of elements.\n",
        "       \n"
      ],
      "metadata": {
        "id": "vZmfsNO64Kq_"
      }
    },
    {
      "cell_type": "markdown",
      "source": [
        "---"
      ],
      "metadata": {
        "id": "z5K51OIL5G_c"
      }
    },
    {
      "cell_type": "markdown",
      "source": [
        "**Question :**   \n",
        "\n",
        "Find a way to display the elements that exist in both sets."
      ],
      "metadata": {
        "id": "D8f0iGCV49Cb"
      }
    },
    {
      "cell_type": "code",
      "source": [
        "a_set = {\"banana\", \"grapes\", \"cherry\", \"pineapple\", \"kiwi\", \"strawberry\"}\n",
        "\n",
        "b_set = {\"lemon\", \"kiwi\", \"grapes\", \"blueberry\", \"watermelon\"}"
      ],
      "metadata": {
        "id": "D59WGohD3pb-"
      },
      "execution_count": null,
      "outputs": []
    },
    {
      "cell_type": "markdown",
      "source": [
        "**Answer:**"
      ],
      "metadata": {
        "id": "ylhdudum5Kre"
      }
    },
    {
      "cell_type": "code",
      "source": [
        "set_intersection = a_set.intersection(b_set)\n",
        "print(f\"a_set \\u22c2 b_set = set_intersection\")"
      ],
      "metadata": {
        "colab": {
          "base_uri": "https://localhost:8080/"
        },
        "id": "ap3HmDne5Ppv",
        "outputId": "58dc7edc-7c19-4dff-b230-e83528a5b175"
      },
      "execution_count": null,
      "outputs": [
        {
          "output_type": "stream",
          "name": "stdout",
          "text": [
            "a_set ⋂ b_set = set_intersection\n"
          ]
        }
      ]
    },
    {
      "cell_type": "markdown",
      "source": [
        "---\n",
        "---"
      ],
      "metadata": {
        "id": "AOj_c8Ne8-cP"
      }
    },
    {
      "cell_type": "markdown",
      "source": [
        "There is other methods for `set` objects, that you can find [here](https://www.w3schools.com/python/python_ref_set.asp)."
      ],
      "metadata": {
        "id": "ZgWrjjPP5bQP"
      }
    },
    {
      "cell_type": "markdown",
      "source": [
        "---\n",
        "---"
      ],
      "metadata": {
        "id": "yG_d6LGg9z6W"
      }
    }
  ]
}